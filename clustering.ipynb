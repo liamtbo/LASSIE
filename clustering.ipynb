{
 "cells": [
  {
   "cell_type": "code",
   "execution_count": null,
   "id": "5d25e20a",
   "metadata": {},
   "outputs": [],
   "source": [
    "import os\n",
    "import pandas as pd\n",
    "import matplotlib.pyplot as plt\n",
    "\n",
    "df_list = [] # used for plotting\n",
    "filename_list = []\n",
    "for filename in os.listdir(\"data/cleaned_data\"):\n",
    "    df = pd.read_csv(f\"data/cleaned_data/{filename}\")\n",
    "    filename_list.append(filename)\n",
    "    df_list.append(df)\n",
    "print(filename_list)"
   ]
  },
  {
   "cell_type": "code",
   "execution_count": null,
   "id": "3af118b1",
   "metadata": {},
   "outputs": [],
   "source": [
    "data_df = pd.read_csv(\"data/features.csv\")\n",
    "print(data_df)\n"
   ]
  },
  {
   "cell_type": "markdown",
   "id": "86b1f899",
   "metadata": {},
   "source": [
    "# Visualization Functions"
   ]
  },
  {
   "cell_type": "code",
   "execution_count": null,
   "id": "f3524b63",
   "metadata": {},
   "outputs": [],
   "source": [
    "from sklearn.decomposition import PCA\n",
    "\n",
    "label_color_map = {0: 'red', 1: 'gold', 2: 'blue', 3: 'green', 4: 'purple', 5: 'pink',\n",
    "        6: 'brown', 7: 'orange', 8: 'cyan', 9: 'magenta', 10: 'yellow',\n",
    "        11: 'lime', 12: 'teal', 13: 'navy', 14: 'maroon', 15: 'olive',\n",
    "        16: 'coral', 17: 'grey', 18: 'salmon', 19: 'turquoise'}\n",
    "\n",
    "size_fig = (4,3)\n",
    "\n",
    "def get_curve_idx_from_cluster_color(color, y_labels):\n",
    "    print(f\"Indexes of curves assigned to {color} cluster: \")\n",
    "    for i, label in enumerate(y_labels):\n",
    "        if label_color_map[label] == color:\n",
    "            print(filename_list[i])\n",
    "\n",
    "def visualize_clusters(representation_list, y_labels, graph_title=\"\", generate_plot_idx=-1, kmeans_centroids=False, use_pca=False, two_d=False, plot_all_curves_oneplot=False, cluster_i_overlay=False):\n",
    "    if generate_plot_idx != -1:\n",
    "        combined_columns = pd.concat(df_list)\n",
    "        plt.figure(figsize=size_fig)\n",
    "\n",
    "        plt.xlabel('Depth (m)')\n",
    "        plt.ylabel('Resistance (N)')\n",
    "        plt.title('Depth vs Resistance Curve')\n",
    "        plt.xlim([0, combined_columns[\"depth\"].max()])\n",
    "        plt.ylim([0, combined_columns[\"resistance\"].max()])\n",
    "        plt.plot(df_list[generate_plot_idx][\"depth\"], df_list[generate_plot_idx][\"resistance\"], c='black')\n",
    "    \n",
    "    if use_pca:\n",
    "        # calculate PCA\n",
    "        pca = PCA(n_components=2) # reduce data down to 2 dims\n",
    "        # print(f\"representation_list: {representation_list.values}\")\n",
    "        pca.fit(representation_list.values)\n",
    "        X_pca = pca.transform(representation_list.values)\n",
    "        # plot\n",
    "        plt.figure(figsize=size_fig)\n",
    "        plt.title(f\"{graph_title} Clustering Visualized with pca\")\n",
    "        colors = [label_color_map[label] for label in y_labels]\n",
    "        plt.scatter(X_pca[:,0], X_pca[:,1], c=colors, alpha=0)\n",
    "        for i in range(X_pca.shape[0]): # loops over every point\n",
    "            plt.text(X_pca[i,0], X_pca[i,1], str(i), c=label_color_map[y_labels[i]], fontsize=8)\n",
    "\n",
    "        # special cases per algorithm used\n",
    "        if graph_title.lower() == \"kmeans\" and kmeans_centroids.any():\n",
    "            centroids_pca = pca.transform(kmeans_centroids)\n",
    "            plt.scatter(centroids_pca[:,0], centroids_pca[:,1], c=\"Red\", marker=\"^\", s=180)\n",
    "        if graph_title.lower() == \"dbscan\":\n",
    "            plt.scatter([], [], c=label_color_map[max(y_labels)], label='Outliers')\n",
    "            plt.legend()\n",
    "\n",
    "        # plot\n",
    "        plt.savefig(f\"figures/{graph_title.lower()}/PCA\", bbox_inches='tight')\n",
    "        plt.show()\n",
    "        plt.close() # clear figure \n",
    "\n",
    "    if plot_all_curves_oneplot:\n",
    "        a = 0.3\n",
    "        combined_columns = pd.concat(df_list, axis=0, ignore_index=True)\n",
    "        plt.figure(figsize=size_fig)\n",
    "        for i, y in enumerate(y_labels):\n",
    "            df = df_list[i]\n",
    "            color = label_color_map.get(y, 'black')  # default to black if label not in map\n",
    "            plt.plot(df[\"depth\"], df[\"resistance\"], color=color, alpha=a)\n",
    "        plt.xlabel('Depth (m)')\n",
    "        plt.ylabel('Resistance (N)')\n",
    "        plt.title('Depth vs Resistance Curves')\n",
    "        plt.xlim([0, combined_columns[\"depth\"].max()])\n",
    "        plt.ylim([0, combined_columns[\"resistance\"].max()])\n",
    "        plt.savefig(f\"figures/{graph_title.lower()}/cluster_curves\", bbox_inches='tight')\n",
    "        plt.show()\n",
    "        plt.close() # clear figure \n",
    "\n",
    "    if cluster_i_overlay:\n",
    "        combined_columns = pd.concat(df_list, axis=0, ignore_index=True)\n",
    "        a = 1\n",
    "        # color_list = [\"Red\", \"Grey\", \"Blue\", \"Green\", \"Purple\", \"Pink\", \"Brown\"]\n",
    "        for i in range(max(y_labels)+1): # for each cluster, +1 bc clusters are 0 indexed too\n",
    "            plt.figure(figsize=size_fig)\n",
    "            plt.xlabel('Depth (m)')\n",
    "            plt.ylabel('Resistance (N)')\n",
    "            plt.xlim([0, combined_columns[\"depth\"].max()])\n",
    "            plt.ylim([0, combined_columns[\"resistance\"].max()])\n",
    "            plt.title(f'{label_color_map.get(i, 'black').capitalize()} Cluster: Depth vs Resistance Curves')\n",
    "            for j in range(len(y_labels)): # for each curve\n",
    "                if i == y_labels[j]: # if the curve is in cluster\n",
    "                    color = label_color_map.get(i, 'black')\n",
    "                    plt.plot(df_list[j][\"depth\"], df_list[j][\"resistance\"], color=color, alpha=a)\n",
    "            plt.savefig(f\"figures/{graph_title.lower()}/{color}_cluster\", bbox_inches='tight')\n",
    "            plt.show()\n",
    "            plt.close() # clear figure \n",
    "\n",
    "    if two_d and len(representation_list.columns) == 2:\n",
    "        x = representation_list.columns[0]\n",
    "        y = representation_list.columns[1]\n",
    "        plt.scatter(representation_list[x], representation_list[y], c=y_labels, cmap=\"coolwarm\")\n",
    "        plt.title(f\"{graph_title} Clustering: {x} and {y}\")\n",
    "        plt.xlabel(x)\n",
    "        plt.ylabel(y)\n",
    "        plt.show()\n",
    "        plt.close() # clear figure \n",
    "\n"
   ]
  },
  {
   "cell_type": "markdown",
   "id": "9e0f340a",
   "metadata": {},
   "source": [
    "# PCA Analysis"
   ]
  },
  {
   "cell_type": "code",
   "execution_count": null,
   "id": "b09615b9",
   "metadata": {},
   "outputs": [],
   "source": [
    "\n",
    "def pca_analysis(representation_list):\n",
    "    pca = PCA(n_components=len(representation_list.columns))\n",
    "    pca.fit(representation_list.values)\n",
    "\n",
    "    # plot scree plot\n",
    "    plt.figure(figsize=size_fig)\n",
    "    plt.title(\"Scree Plot\")\n",
    "    plt.xlabel(\"PC Number\")\n",
    "    plt.ylabel(\"Eigenvalue\")\n",
    "    plt.xticks(range(1, pca.n_components_+1))\n",
    "    plt.plot(range(1, pca.n_components_+1), pca.explained_variance_)\n",
    "    plt.show()\n",
    "\n",
    "    # principal component table\n",
    "    principle_components_table = pd.DataFrame({\n",
    "        \"PC\": range(1,pca.n_components_+1),\n",
    "        \"Eigenvalue\": pca.explained_variance_,\n",
    "        \"Proportion\": pca.explained_variance_ratio_\n",
    "    })\n",
    "    principle_components_table.set_index('PC', inplace=True)\n",
    "    principle_components_table[\"Cumulative\"] = principle_components_table[\"Proportion\"].cumsum()\n",
    "    print(principle_components_table)\n",
    "\n",
    "    loadings = pca.components_.T\n",
    "    pc_labels = [f'PC{i+1}' for i in range(loadings.shape[1])]\n",
    "    loadings_df = pd.DataFrame(loadings, index=representation_list.columns, columns=pc_labels)\n",
    "    print('\\n')\n",
    "    print(loadings_df)"
   ]
  },
  {
   "cell_type": "markdown",
   "id": "457c6ce7",
   "metadata": {},
   "source": [
    "# Clustering Just the Labled Data Points"
   ]
  },
  {
   "cell_type": "markdown",
   "id": "79986ff0",
   "metadata": {},
   "source": [
    "### Mask out the non-labled data points\n",
    "### Cluster the remaining labled data points based on type and give color\n",
    "### Plot"
   ]
  },
  {
   "cell_type": "code",
   "execution_count": null,
   "id": "5d17c841",
   "metadata": {},
   "outputs": [],
   "source": []
  },
  {
   "cell_type": "markdown",
   "id": "0e524b7e",
   "metadata": {},
   "source": [
    "# K-Means Clustering Implementation w/ k-means++ initialization for centroids"
   ]
  },
  {
   "cell_type": "code",
   "execution_count": null,
   "id": "f381ae1c",
   "metadata": {},
   "outputs": [],
   "source": [
    "from sklearn.cluster import KMeans\n",
    "import numpy as np\n",
    "\n",
    "inertias = []\n",
    "for k in range(1,11):\n",
    "    kmeans = KMeans(n_clusters=k, init=\"k-means++\", n_init=100).fit(features_df)\n",
    "    inertias.append(kmeans.inertia_)\n",
    "\n",
    "plt.figure(figsize=(3,2))\n",
    "plt.plot(range(1,11), inertias, marker='o')\n",
    "plt.title(\"K-Means: Elbow Method for Finding Optimal Number of Clusters\")\n",
    "plt.xlabel(\"Number of clusters\")\n",
    "plt.ylabel(\"Inertia\")\n",
    "plt.grid=True\n",
    "plt.show()"
   ]
  },
  {
   "cell_type": "markdown",
   "id": "3e6faa18",
   "metadata": {},
   "source": [
    "# K-Means Clustering\n",
    "- assumes\n",
    "    - spherical clusters (isotropic)\n",
    "    - similar size clusters (equal variance)\n",
    "    - features are on same scale\n",
    "    - clusters are linearly separable\n",
    "    - number of clusters (k) is known"
   ]
  },
  {
   "cell_type": "code",
   "execution_count": null,
   "id": "89d37aa0",
   "metadata": {},
   "outputs": [],
   "source": [
    "kmeans_elbow = 6\n",
    "kmeans = KMeans(n_clusters=kmeans_elbow, init=\"k-means++\", n_init=100).fit(features_df)\n",
    "print(f\"kmeans labels:\\n{kmeans.labels_}\")\n",
    "# print(f\"kmeans cluster centers: {kmeans.cluster_centers_}\")\n",
    "# pca_analysis(features_df)\n",
    "# visualize_clusters(features_df, kmeans.labels_, graph_title=\"KMeans\", kmeans_centroids=kmeans.cluster_centers_, use_pca=True, two_d=False, plot_all_curves_oneplot=True, cluster_i_overlay=True)"
   ]
  },
  {
   "cell_type": "markdown",
   "id": "fd1af36a",
   "metadata": {},
   "source": [
    "# Hierarchical Clustering"
   ]
  },
  {
   "cell_type": "code",
   "execution_count": null,
   "id": "6a8c2a69",
   "metadata": {},
   "outputs": [],
   "source": [
    "from sklearn.cluster import AgglomerativeClustering\n",
    "from scipy.cluster.hierarchy import dendrogram\n",
    "\n",
    "# if distance_threshold != None then n_clusters = None\n",
    "hierarchical = AgglomerativeClustering(distance_threshold=None, n_clusters=5)\n",
    "hierarchical.fit(features_df)\n",
    "linkage = \"Ward\"\n",
    "print(hierarchical.labels_)\n",
    "# get_curve_idx_from_cluster_color(\"green\", hierarchical.labels_)\n",
    "# visualize_clusters(features_df, hierarchical.labels_, graph_title=\"Hierarchical\", use_pca=True, plot_all_curves_oneplot=True, cluster_i_overlay=True)"
   ]
  },
  {
   "cell_type": "markdown",
   "id": "e8a4ee73",
   "metadata": {},
   "source": [
    "# Manual Clustering"
   ]
  },
  {
   "cell_type": "code",
   "execution_count": null,
   "id": "87edad7c",
   "metadata": {},
   "outputs": [],
   "source": [
    "label_color_map = {0: 'red', 1: 'gold', 2: 'blue', 3: 'green', 4: 'purple', 5: 'pink',\n",
    "        6: 'brown', 7: 'orange', 8: 'cyan', 9: 'magenta', 10: 'yellow',\n",
    "        11: 'lime', 12: 'teal', 13: 'navy', 14: 'maroon', 15: 'olive',\n",
    "        16: 'coral', 17: 'grey', 18: 'salmon', 19: 'turquoise', 20: 'black'}\n",
    "y_labels = [20]\n",
    "# visualize_clusters(features_df, )\n",
    "get_curve_idx_from_cluster_color(\"pink\", y_labels)\n",
    "visualize_clusters(features_df.iloc[:len(y_labels)], y_labels, generate_plot_idx=len(y_labels)-1, cluster_i_overlay=True)"
   ]
  },
  {
   "cell_type": "markdown",
   "id": "87fc085f",
   "metadata": {},
   "source": [
    "# DBSCAN"
   ]
  },
  {
   "cell_type": "code",
   "execution_count": null,
   "id": "6c4315b0",
   "metadata": {},
   "outputs": [],
   "source": [
    "from sklearn.cluster import DBSCAN\n",
    "\n",
    "# eps=0.7, min_samples=3 works very well\n",
    "dbscan = DBSCAN(eps=0.5, min_samples=2).fit(features_df)\n",
    "print(dbscan.labels_)\n",
    "cleaned_db_labels = [label if label != -1 else max(dbscan.labels_)+1 for label in dbscan.labels_]\n",
    "# get_curve_idx_from_cluster_color(\"yellow\", cleaned_db_labels)\n",
    "# visualize_clusters(features_df, y_labels = cleaned_db_labels, graph_title=\"DBSCAN\", use_pca=True, plot_all_curves_oneplot=True, cluster_i_overlay=True)"
   ]
  }
 ],
 "metadata": {
  "kernelspec": {
   "display_name": "env3.13",
   "language": "python",
   "name": "python3"
  },
  "language_info": {
   "codemirror_mode": {
    "name": "ipython",
    "version": 3
   },
   "file_extension": ".py",
   "mimetype": "text/x-python",
   "name": "python",
   "nbconvert_exporter": "python",
   "pygments_lexer": "ipython3",
   "version": "3.13.1"
  }
 },
 "nbformat": 4,
 "nbformat_minor": 5
}

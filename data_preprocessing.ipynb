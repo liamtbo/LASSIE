{
 "cells": [
  {
   "cell_type": "code",
   "execution_count": null,
   "id": "09af8589",
   "metadata": {},
   "outputs": [],
   "source": [
    "import os\n",
    "import pandas as pd\n",
    "\n",
    "df_list = []\n",
    "for filename in os.listdir(\"/home/frankwoods/Desktop/lassie/data/raw_data\"):\n",
    "    # creates dataframe holding entire csv\n",
    "    df = pd.read_csv(f\"/home/frankwoods/Desktop/lassie/data/raw_data/{filename}\")\n",
    "    # takes just the two important columns\n",
    "    df = df[['toeforce_y', 'toe_position_y']]\n",
    "    df.columns = [\"resistance\", \"depth\"] # rename columns\n",
    "    df_list.append(df)\n",
    "print(f\"example: {df_list[0]}\")"
   ]
  },
  {
   "cell_type": "markdown",
   "id": "b6f7588d",
   "metadata": {},
   "source": [
    "## Initial data visualization and summary"
   ]
  },
  {
   "cell_type": "code",
   "execution_count": null,
   "id": "0eb76101",
   "metadata": {},
   "outputs": [],
   "source": [
    "import seaborn as sns\n",
    "import matplotlib.pyplot as plt\n",
    "\n",
    "# ---- plot an example graph ----\n",
    "# Assume you have a DataFrame df with columns 'depth' and 'resistance'\n",
    "def visualize_data(df_list, graph=False, box_plots=False, histograms=False, graph_i=0):\n",
    "    if graph:\n",
    "        plt.figure(figsize=(8,5))         # Optional: set figure size\n",
    "        plt.plot(df_list[graph_i]['depth'], df_list[graph_i]['resistance'], marker='o', linestyle='-')\n",
    "        plt.xlabel('Depth')\n",
    "        plt.ylabel('Resistance')\n",
    "        plt.title('Resistance vs Depth')\n",
    "        plt.grid(True)                    \n",
    "        plt.show()\n",
    "\n",
    "    df_combined_row_wise = pd.concat(df_list, axis=0)\n",
    "    if box_plots:\n",
    "        # ---- resistance ----\n",
    "        sns.boxplot(x=df_combined_row_wise['resistance'])\n",
    "        plt.show()\n",
    "        resistance_series = df_combined_row_wise['resistance']\n",
    "        # ---- depth ----\n",
    "        sns.boxplot(x=df_combined_row_wise['depth'])\n",
    "        plt.show()\n",
    "    if histograms:\n",
    "        plt.hist(df_combined_row_wise[\"resistance\"], bins=30, density=True)\n",
    "        plt.title(\"Resistance Histogram\")\n",
    "        plt.show()\n",
    "\n",
    "        plt.hist(df_combined_row_wise[\"depth\"], bins=30, density=True)\n",
    "        plt.title(\"Depth Histogram\")\n",
    "        plt.show()\n",
    "\n",
    "\n",
    "visualize_data(df_list, True, True, False)"
   ]
  },
  {
   "cell_type": "markdown",
   "id": "9e1031de",
   "metadata": {},
   "source": [
    "## Inverse Depth, Remove Data of Before Leg Hits Ground, Remove Data of After Leg Hits Ground"
   ]
  },
  {
   "cell_type": "code",
   "execution_count": null,
   "id": "1e9a22e8",
   "metadata": {},
   "outputs": [],
   "source": [
    "# default normalization is non-robust to outliers\n",
    "from sklearn import preprocessing\n",
    "from tqdm import tqdm\n",
    "import numpy as np\n",
    "\n",
    "res_count = 0\n",
    "depth_count = 0\n",
    "res_total = 0\n",
    "depth_total = 0\n",
    "for i in range(len(df_list)):\n",
    "    res_condition = df_list[i][\"resistance\"] > 0\n",
    "    depth_condition = df_list[i][\"depth\"] > 0\n",
    "    res_count += res_condition.sum()\n",
    "    depth_count += depth_condition.sum()\n",
    "    res_total += df_list[i][\"resistance\"].size\n",
    "    depth_total += df_list[i][\"depth\"].size\n",
    "# print(f\"resistance count > 0: {res_count} / {res_total}\")\n",
    "# print(f\"depth count > 0: {depth_count} / {depth_total}\")\n",
    "\n",
    "# negate depth bc all init depth values are negative\n",
    "def clean_depth(df_i):\n",
    "    df_i[\"depth\"] = -df_i[\"depth\"]\n",
    "    # all depth values must be above 0, noise otherwise\n",
    "    df_i = df_i[df_i[\"depth\"] > 0]\n",
    "    return df_i\n",
    "\n",
    "# get the data starting from leg hitting ground, to the max depth\n",
    "def clean_resistance(df_i):\n",
    "    end_idx = df_i[df_i[\"depth\"] == df_i[\"depth\"].max()].index[0]\n",
    "    start_idx = 0\n",
    "    for i in range(end_idx + 1):\n",
    "        if df_i[\"resistance\"][i] < 0 and start_idx != end_idx:\n",
    "            start_idx = i + 1\n",
    "    return df_i.iloc[start_idx : end_idx + 1]\n",
    "\n",
    "df_list = df_list[:65] + df_list[67:] # removing bad data entry\n",
    "for i in range(len(df_list)):\n",
    "    df_i = df_list[i]\n",
    "    df_i = clean_depth(df_i)\n",
    "    df_i = clean_resistance(df_i)\n",
    "    # start every graph at 0\n",
    "    df_i[\"depth\"] = df_i[\"depth\"] - df_i[\"depth\"].iloc[0]\n",
    "    df_list[i] = df_i"
   ]
  },
  {
   "cell_type": "code",
   "execution_count": null,
   "id": "aedd7da0",
   "metadata": {},
   "outputs": [],
   "source": [
    "visualize_data(df_list, True, False, True)"
   ]
  },
  {
   "cell_type": "markdown",
   "id": "34533279",
   "metadata": {},
   "source": [
    "# Make range of depth uniform\n",
    "- truncate the data\n",
    "    1. cut every dataframe to global depth end min\n",
    "    2. cut every dataframe to some depth end\n",
    "- pad the data\n",
    "    1. linear regression extend a line to max global depth\n",
    "    2. fit a polynomial function"
   ]
  },
  {
   "cell_type": "code",
   "execution_count": null,
   "id": "7dd4891e",
   "metadata": {},
   "outputs": [],
   "source": [
    "\n",
    "# depth_global_max = find_global_min_max(df_list)\n",
    "min_of_all_df_depths = float('inf')\n",
    "df_ends_list = []\n",
    "for df in df_list:\n",
    "    df_max_depth = df[\"depth\"].max()\n",
    "    if min_of_all_df_depths > df_max_depth:\n",
    "        min_of_all_df_depths = df_max_depth\n",
    "    df_ends_list.append(df_max_depth)\n",
    "print(f\"global min depht: {min_of_all_df_depths}\")\n",
    "\n",
    "plt.hist(df_ends_list, bins=60, density=True)\n",
    "plt.title(\"max depth of each depth/resistance curve Histogram\")\n",
    "plt.show()\n"
   ]
  },
  {
   "cell_type": "markdown",
   "id": "a2fa3b70",
   "metadata": {},
   "source": [
    "# Truncating"
   ]
  },
  {
   "cell_type": "markdown",
   "id": "1983f69d",
   "metadata": {},
   "source": [
    "Truncating at 0.08 to catch most of the distribution data but at the expense of cutting data sequences with and end below 0.08"
   ]
  },
  {
   "cell_type": "code",
   "execution_count": null,
   "id": "4ac33c93",
   "metadata": {},
   "outputs": [],
   "source": [
    "# def truncate_df_list(df_list, trunc_level: float):\n",
    "#     truncated_list = []\n",
    "#     count = 0\n",
    "#     for df in df_list:\n",
    "#         max_depth = df[\"depth\"].max()\n",
    "#         if max_depth >= trunc_level:\n",
    "#             truncated_df = df[df[\"depth\"] <= trunc_level].copy()\n",
    "#             truncated_list.append(truncated_df)\n",
    "#         else:\n",
    "#             count += 1\n",
    "#     print(f\"After truncation {count} data objects were removed due to set trunc_level\")\n",
    "#     return truncated_list\n",
    "\n",
    "# # trunc_df_list = truncate_df_list(df_list, trunc_level=0.008)\n",
    "# df_combined_row_wise = pd.concat(trunc_df_list, axis=0)\n",
    "\n",
    "# # Optional: visualize combined depths\n",
    "# # this histogram is showing all depths, not just the end\n",
    "# plt.hist(df_combined_row_wise[\"depth\"], bins=20, density=True)\n",
    "# plt.title(\"Histogram of depth values (after truncation)\")\n",
    "# plt.xlabel(\"Depth\")\n",
    "# plt.ylabel(\"Density\")\n",
    "# plt.show()\n"
   ]
  },
  {
   "cell_type": "markdown",
   "id": "0bc653eb",
   "metadata": {},
   "source": [
    "# Interpolation\n",
    "Used to estimate values between data points to create a uniform vector of data intervals for each data object."
   ]
  },
  {
   "cell_type": "code",
   "execution_count": null,
   "id": "c92f6693",
   "metadata": {},
   "outputs": [],
   "source": [
    "# TODO interpolation requires ascending x-axis coords ... depth is not so will need to fix this if want to use\n",
    "# def interpolate(df_list, num_points):\n",
    "#     interp_df_list = []\n",
    "#     i = 0\n",
    "#     for df in df_list:\n",
    "#         is_ascending = np.all(np.diff(df[\"depth\"]) >= 0)\n",
    "#         if not is_ascending:\n",
    "#             i += 1\n",
    "#             print(f\"df {i} is not ascending\")\n",
    "#             continue\n",
    "#         x_intervals = np.linspace(0, len(df[\"depth\"]) - 1, num_points) # 100 points between 0 and trunc_level\n",
    "#         y_new = np.interp(x_intervals, df[\"depth\"], df[\"resistance\"])\n",
    "#         new_df = pd.DataFrame({'depth': x_intervals, 'resistance': y_new})\n",
    "#         interp_df_list.append(new_df)\n",
    "#         i += 1\n",
    "#     return interp_df_list\n",
    "\n",
    "# interpolated_df_list = interpolate(df_list, 100)\n",
    "# print(\"Before interpolation\")\n",
    "# visualize_data(df_list, graph=True, graph_i=16)\n",
    "# print(\"After interpolation\")\n",
    "# visualize_data(interpolated_df_list, graph=True, graph_i=16)"
   ]
  },
  {
   "cell_type": "markdown",
   "id": "9c9a4a27",
   "metadata": {},
   "source": [
    "# Normalize the data"
   ]
  },
  {
   "cell_type": "code",
   "execution_count": null,
   "id": "ae228f03",
   "metadata": {},
   "outputs": [],
   "source": [
    "# from sklearn.preprocessing import MinMaxScaler\n",
    "\n",
    "# def normalize(df_list):\n",
    "#     df_combined_row_wise = pd.concat(df_list, axis=0)\n",
    "#     scaler = MinMaxScaler()\n",
    "#     scaler.fit(df_combined_row_wise)\n",
    "#     normalized_df_list = []\n",
    "#     for df in df_list:\n",
    "#         normalized_df_list.append(pd.DataFrame(scaler.transform(df), columns=[\"depth\", \"resistance\"]))\n",
    "#     return normalized_df_list\n",
    "\n",
    "# normalized_df_list = normalize(interpolated_df_list)\n",
    "# visualize_data(normalized_df_list, graph=True, graph_i=16)"
   ]
  },
  {
   "cell_type": "markdown",
   "id": "c60f9580",
   "metadata": {},
   "source": [
    "# Final Visualization"
   ]
  },
  {
   "cell_type": "code",
   "execution_count": null,
   "id": "45ad4d09",
   "metadata": {},
   "outputs": [],
   "source": [
    "# visualize_data(trunc_df_list, True, False, True)\n",
    "def save_data_csv(final_df_list, save: bool):\n",
    "    if save:\n",
    "        for i in range(len(final_df_list)):\n",
    "            final_df_list[i].to_csv(f\"/home/frankwoods/Desktop/lassie/data/processed_data/resistance_depth_{i}.csv\")\n",
    "\n",
    "save_data_csv(df_list, False)"
   ]
  }
 ],
 "metadata": {
  "kernelspec": {
   "display_name": "env3.13",
   "language": "python",
   "name": "python3"
  },
  "language_info": {
   "codemirror_mode": {
    "name": "ipython",
    "version": 3
   },
   "file_extension": ".py",
   "mimetype": "text/x-python",
   "name": "python",
   "nbconvert_exporter": "python",
   "pygments_lexer": "ipython3",
   "version": "3.13.1"
  }
 },
 "nbformat": 4,
 "nbformat_minor": 5
}

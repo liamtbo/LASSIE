{
 "cells": [
  {
   "cell_type": "markdown",
   "id": "a24c9050",
   "metadata": {},
   "source": [
    "# README\n",
    "### Introduction\n",
    "- This jupityr notebook applies a series of transformations to the uncleaned data, with the goal of returning cleaned data \n",
    "\n",
    "### The only code block sections that likely require user input are the following:\n",
    "- Source and Destination Locations\n",
    "    - Simply update source and destination as desired\n",
    "- Start each depth-resistance curve when arm first contacts the ground\n",
    "    - remove_data_prior_to_ground(...) arguments: \n",
    "        - subrange_max_resistance\n",
    "            - An empty list is created and appends resistance subranges with each subrange seperated by resistance=0 value, and only if the subrange maximum resistance is above subrange_max_resistance * df['resistance'].max()\n",
    "        - spacing_between_ranges:\n",
    "            - Function remove_data_prior_to_ground(...) reverse iterates through the resistance subrange list, choosing the ground starts index when the next subrange is farther then spacing_between_ranges * len(dp['depth'])\n",
    "- Remove bad samples\n",
    "    - (optional) Create a list of indexes which correspond to badly sampled depth-resistance curves "
   ]
  },
  {
   "cell_type": "markdown",
   "id": "42bc7826",
   "metadata": {},
   "source": [
    "# Remove old data from folders and create data folders to save plots and cleaned data to"
   ]
  },
  {
   "cell_type": "code",
   "execution_count": null,
   "id": "9e126255",
   "metadata": {},
   "outputs": [],
   "source": [
    "import os\n",
    "import shutil\n",
    "\n",
    "clean_folder_names = ['data/uncleaned_plots', 'data/cleaned_data', 'data/cleaned_plots']\n",
    "def remove_old_data_from_folders(clean_folder_names):\n",
    "    for folder in clean_folder_names:\n",
    "        if os.path.exists(folder) and os.path.isdir(folder):\n",
    "            shutil.rmtree(folder)\n",
    "\n",
    "create_folder_names = ['data', 'data/uncleaned_plots', 'data/cleaned_data', 'data/cleaned_plots']\n",
    "def create_data_folders(create_folder_names):\n",
    "    for folder in create_folder_names:\n",
    "        if not os.path.exists(folder):\n",
    "            os.makedirs(folder)  # creates all intermediate directories if needed\n",
    "\n",
    "remove_old_data_from_folders(clean_folder_names)\n",
    "create_data_folders(create_folder_names)"
   ]
  },
  {
   "cell_type": "markdown",
   "id": "f1cb7f31",
   "metadata": {},
   "source": [
    "# Source and Destination Locations"
   ]
  },
  {
   "cell_type": "code",
   "execution_count": null,
   "id": "12693419",
   "metadata": {},
   "outputs": [],
   "source": [
    "# do you want to save the plots and cleaned data generated in this file to the path destinations below?\n",
    "save_data_bool = True\n",
    "\n",
    "# the source folder of the uncleaned csv data\n",
    "uncleaned_data_src = \"data/uncleaned_data\"\n",
    "\n",
    "# location for saving cleaned csv files\n",
    "save_cleaned_csv_dst = \"data/cleaned_data/resistance_depth_\"\n",
    "\n",
    "# location for saving uncleaned plots, in folder it'll look like: resistance_depth_1, resistance_depth_2, ...\n",
    "save_uncleaned_plots_dst = \"data/uncleaned_plots/resistance_depth_\"\n",
    "\n",
    "# location for saving cleaned plots\n",
    "save_cleaned_plots_dst = \"data/cleaned_plots/resistance_depth_\"\n",
    "\n",
    "# index of example depth-resistance curve to plot after each data transformation\n",
    "plot_idx = 15"
   ]
  },
  {
   "cell_type": "markdown",
   "id": "ec736926",
   "metadata": {},
   "source": [
    "# Read in white sands csv files and turn them into dataframes"
   ]
  },
  {
   "cell_type": "code",
   "execution_count": null,
   "id": "c8a35fb6",
   "metadata": {},
   "outputs": [],
   "source": [
    "import os\n",
    "import pandas as pd\n",
    "\n",
    "def get_data(data_src_folder_path):\n",
    "    df_list = []\n",
    "    for filename in os.listdir(data_src_folder_path):\n",
    "        df = pd.read_csv(f\"{data_src_folder_path}/{filename}\")\n",
    "        df = df[['toeforce_y', 'toe_position_y']] # takes just the two important columns\n",
    "        df.columns = [\"resistance\", \"depth\"] # rename columns\n",
    "        df_list.append(df)\n",
    "    return df_list\n",
    "\n",
    "df_list = get_data(uncleaned_data_src)\n",
    "print(f\"example: {df_list[0]}\")\n"
   ]
  },
  {
   "cell_type": "markdown",
   "id": "5918a46e",
   "metadata": {},
   "source": [
    "# Initial Data Visualization and Summary"
   ]
  },
  {
   "cell_type": "code",
   "execution_count": null,
   "id": "b9fd58a9",
   "metadata": {},
   "outputs": [],
   "source": [
    "\n",
    "\n",
    "import seaborn as sns\n",
    "import matplotlib.pyplot as plt\n",
    "\n",
    "# ---- plot an example graph ----\n",
    "# Assume you have a DataFrame df with columns 'depth' and 'resistance'\n",
    "def visualize_data(df_list, generate_plot_idx=0, save_plots_bool=False, \n",
    "                    save_plots_dst=\"\", generate_box_plots=False, generate_histograms=False):\n",
    "    if generate_plot_idx:\n",
    "        plt.figure(figsize=(6,4))         # Optional: set figure size\n",
    "        plt.plot(df_list[generate_plot_idx]['depth'], df_list[generate_plot_idx]['resistance'], marker='o', linestyle='-')\n",
    "        plt.xlabel('Depth')\n",
    "        plt.ylabel('Resistance')\n",
    "        plt.title('Resistance vs Depth')\n",
    "        plt.grid(True)                    \n",
    "        plt.show()\n",
    "    \n",
    "    if save_plots_bool and len(save_plots_dst) > 0:\n",
    "        combined_columnes = pd.concat(df_list, axis=0)\n",
    "        for i, df in enumerate(df_list):\n",
    "            plt.figure(figsize=(8,6))         # Optional: set figure size\n",
    "            plt.plot(df['depth'], df['resistance'], marker='o', linestyle='-')\n",
    "            plt.xlabel('Depth (m)')\n",
    "            plt.ylabel('Resistance (N)')\n",
    "            if \"uncleaned\" not in save_plots_dst:\n",
    "                plt.xlim([0, combined_columnes['depth'].max()])\n",
    "                plt.ylim([0, combined_columnes['resistance'].max()])\n",
    "            plt.title('Resistance vs Depth')\n",
    "            plt.grid(True)\n",
    "            plt.savefig(f\"{save_plots_dst}{i}\")\n",
    "            plt.close()\n",
    "\n",
    "    df_combined_row_wise = pd.concat(df_list, axis=0)\n",
    "    if generate_box_plots:\n",
    "        plt.figure(figsize=(3,2))         # Optional: set figure size\n",
    "        # ---- resistance ----\n",
    "        sns.boxplot(x=df_combined_row_wise['resistance'])\n",
    "        plt.show()\n",
    "        resistance_series = df_combined_row_wise['resistance']\n",
    "        # ---- depth ----\n",
    "        plt.figure(figsize=(3,2))         # Optional: set figure size\n",
    "        sns.boxplot(x=df_combined_row_wise['depth'])\n",
    "        plt.show()\n",
    "    if generate_histograms:\n",
    "        plt.hist(df_combined_row_wise[\"resistance\"], bins=30, density=True)\n",
    "        plt.title(\"Resistance Histogram\")\n",
    "        plt.show()\n",
    "\n",
    "        plt.hist(df_combined_row_wise[\"depth\"], bins=30, density=True)\n",
    "        plt.title(\"Depth Histogram\")\n",
    "        plt.show()\n",
    "\n",
    "\n",
    "visualize_data(df_list, generate_plot_idx=plot_idx, save_plots_bool=save_data_bool, \n",
    "                save_plots_dst=save_uncleaned_plots_dst)"
   ]
  },
  {
   "cell_type": "markdown",
   "id": "0e1c2e26",
   "metadata": {},
   "source": [
    "# Flip curve over y-axis"
   ]
  },
  {
   "cell_type": "code",
   "execution_count": null,
   "id": "931e9c1a",
   "metadata": {},
   "outputs": [],
   "source": [
    "def flip_over_y_axis(df_list):\n",
    "    cleaned_df_list = []\n",
    "    for df in df_list:\n",
    "        copy_df = df.copy()\n",
    "        copy_df['depth'] = -copy_df['depth']\n",
    "        # if data_file == \"mh23\":\n",
    "        #     copy_df['resistance'] = -copy_df['resistance']\n",
    "        cleaned_df_list.append(copy_df)\n",
    "    return cleaned_df_list\n",
    "\n",
    "df_list = flip_over_y_axis(df_list)\n",
    "visualize_data(df_list, generate_plot_idx=plot_idx)"
   ]
  },
  {
   "cell_type": "markdown",
   "id": "53de6ce1",
   "metadata": {},
   "source": [
    "# Remove all data points after the max depth"
   ]
  },
  {
   "cell_type": "code",
   "execution_count": null,
   "id": "189c7549",
   "metadata": {},
   "outputs": [],
   "source": [
    "def remove_points_after_max_depth(df_list):\n",
    "    cleaned_list = []\n",
    "    for i, df in enumerate(df_list):\n",
    "        end_idx = df[df[\"depth\"] == df[\"depth\"].max()].index[0]\n",
    "        cleaned_df = df.iloc[:end_idx+1]\n",
    "        cleaned_list.append(cleaned_df)\n",
    "    return cleaned_list\n",
    "\n",
    "df_list = remove_points_after_max_depth(df_list)\n",
    "visualize_data(df_list, generate_plot_idx=plot_idx)"
   ]
  },
  {
   "cell_type": "markdown",
   "id": "3aa5d6c9",
   "metadata": {},
   "source": [
    "# Remove all data points before min depth"
   ]
  },
  {
   "cell_type": "code",
   "execution_count": null,
   "id": "d6bea691",
   "metadata": {},
   "outputs": [],
   "source": [
    "def remove_points_before_min_depth(df_list):\n",
    "    cleaned_list = []\n",
    "    for i, df in enumerate(df_list):\n",
    "        min_idx = df[df[\"depth\"] == df[\"depth\"].min()].index[0]\n",
    "        cleaned_df = df.iloc[min_idx:]\n",
    "        cleaned_list.append(cleaned_df)\n",
    "    return cleaned_list\n",
    "\n",
    "df_list = remove_points_before_min_depth(df_list)\n",
    "visualize_data(df_list, generate_plot_idx=plot_idx)\n",
    "visualize_data(df_list, generate_plot_idx=plot_idx)"
   ]
  },
  {
   "cell_type": "markdown",
   "id": "dd34e788",
   "metadata": {},
   "source": [
    "# Make resistance = 0 for all resistance values < 0"
   ]
  },
  {
   "cell_type": "code",
   "execution_count": null,
   "id": "e9e43f85",
   "metadata": {},
   "outputs": [],
   "source": [
    "def make_resistance_min_equal_zero(df_list):\n",
    "    cleaned_df_list = []\n",
    "    for df in df_list:\n",
    "        copy_df = df.copy()\n",
    "        copy_df[\"resistance\"] = copy_df[\"resistance\"].clip(lower=0)\n",
    "        cleaned_df_list.append(copy_df)\n",
    "    return cleaned_df_list\n",
    "df_list = make_resistance_min_equal_zero(df_list)\n",
    "visualize_data(df_list, generate_plot_idx=plot_idx)"
   ]
  },
  {
   "cell_type": "markdown",
   "id": "ab2f6c51",
   "metadata": {},
   "source": [
    "# Make sure depth values are only increasing"
   ]
  },
  {
   "cell_type": "code",
   "execution_count": null,
   "id": "069d9859",
   "metadata": {},
   "outputs": [],
   "source": [
    "def num_dataframes_with_ascending_depth(df_list):\n",
    "    count = 0\n",
    "    for df in df_list:\n",
    "        if not (df['depth'].is_monotonic_increasing and df['depth'].is_unique): \n",
    "            count += 1\n",
    "    return count\n",
    "\n",
    "def only_increasing_depth(df_list):\n",
    "    cleaned_df_list = []\n",
    "    for df in df_list:\n",
    "        mask = [1]  # keep the first row\n",
    "        current_max_depth = df['depth'].iloc[0]\n",
    "        for i in range(1, len(df)):\n",
    "            if df['depth'].iloc[i] > current_max_depth:\n",
    "                current_max_depth = df['depth'].iloc[i]\n",
    "                mask.append(1)\n",
    "            else:\n",
    "                mask.append(0)\n",
    "        mask_series = pd.Series(mask, index=df.index)\n",
    "        cleaned_df_list.append(df.loc[mask_series.astype(bool)])\n",
    "\n",
    "    return cleaned_df_list\n",
    "\n",
    "# show before and after\n",
    "print(f\"Number of dataframes with non-ascending values: {num_dataframes_with_ascending_depth(df_list)}\")\n",
    "visualize_data(df_list, generate_plot_idx=plot_idx)\n",
    "df_list = only_increasing_depth(df_list)\n",
    "print(f\"Number of dataframes with non-ascending values: {num_dataframes_with_ascending_depth(df_list)}\")\n",
    "visualize_data(df_list, generate_plot_idx=plot_idx)"
   ]
  },
  {
   "cell_type": "markdown",
   "id": "f8e616be",
   "metadata": {},
   "source": [
    "# Start each depth-resistance curve when arm first contacts the ground\n",
    "- User doesn't need to interact with this code block, as these are supporting functions for a higher level function remove_data_prior_to_ground(...)\n",
    "- remove_data_prior_to_ground(...) is called and managed by user in code block after the one below"
   ]
  },
  {
   "cell_type": "code",
   "execution_count": null,
   "id": "85ba2a8d",
   "metadata": {},
   "outputs": [],
   "source": [
    "import pandas as pd\n",
    "\n",
    "def find_positive_subranges_of_resistance(df):\n",
    "    \"\"\"\n",
    "    - args: \n",
    "        - dp: depth-resistance dataframe\n",
    "    - returns:\n",
    "        - parallel arrays: df['resistance'] subranges seperated by 0-values & the maximum resistance within each subrange\n",
    "    - ex\n",
    "        - if df[\"resistance\"] = [0,1,2,1,0,1,2,3,4,5], this function would output ( [(0,3), (4,9)], [2, 5] ) \n",
    "        - first sub range is [0,1,2,1] with a max resistance of 2\n",
    "        - second sub range is [0,1,2,3,4,5] with a max resistance of 5\n",
    "    \"\"\"\n",
    "    ranges_above_zero_list = []\n",
    "    range_max_height_list = []\n",
    "\n",
    "    in_range = False\n",
    "    range_start_idx = None\n",
    "    range_max_resistance = 0\n",
    "\n",
    "    for i, res in enumerate(df[\"resistance\"]):\n",
    "        if res > 0:\n",
    "            if not in_range:\n",
    "                # starting a new range\n",
    "                in_range = True\n",
    "                if i > 0: range_start_idx = i - 1\n",
    "                else: range_start_idx = 0\n",
    "                range_max_resistance = res\n",
    "            else:\n",
    "                range_max_resistance = max(range_max_resistance, res)\n",
    "        elif in_range:\n",
    "            # end of a positive range\n",
    "            ranges_above_zero_list.append((range_start_idx, i - 1))\n",
    "            range_max_height_list.append(range_max_resistance)\n",
    "            in_range = False\n",
    "\n",
    "    # handle if last element was part of a range\n",
    "    if in_range:\n",
    "        ranges_above_zero_list.append((range_start_idx, len(df[\"resistance\"]) - 1))\n",
    "        range_max_height_list.append(range_max_resistance)\n",
    "\n",
    "    return ranges_above_zero_list, range_max_height_list\n",
    "\n",
    "def filter_subranges(subrange_list, subrange_max_resistance_list, subrange_max_resistance):\n",
    "    max_resistance_overall = max(subrange_max_resistance_list)\n",
    "    filtered_subranges = []\n",
    "    for i, pos_range in enumerate(subrange_list):\n",
    "        if subrange_max_resistance_list[i] > max_resistance_overall * subrange_max_resistance:\n",
    "             filtered_subranges.append(pos_range)\n",
    "    return filtered_subranges\n",
    "\n",
    "def get_ground_start_idx(df, subrange_max_resistance, spacing_between_ranges):\n",
    "    \"\"\"\n",
    "    - args\n",
    "        - dp: depth-resistance dataframe\n",
    "        - subrange_max_resistance (user defined threshold used for selecting resistance subranges above this value)\n",
    "        - spacing_between_ranges (user defined threshold for droping subranges with a max resistance)\n",
    "    - returns\n",
    "        - index where the robotic arm contacts the ground - i.e where the curve should start\n",
    "    \"\"\"\n",
    "    subrange_list, subrange_max_resistance_list = find_positive_subranges_of_resistance(df)\n",
    "\n",
    "    if len(subrange_list) < 1: return 0\n",
    "    \n",
    "    # removes subranes below subrange_max_resistance threshold\n",
    "    filtered_subranges = filter_subranges(subrange_list, subrange_max_resistance_list, subrange_max_resistance)\n",
    "\n",
    "    ground_start_idx = filtered_subranges[-1][0] # init ground_start_idx with start of largest curve (last subrange in range_list)\n",
    "    if len(filtered_subranges) < 2: return ground_start_idx\n",
    "\n",
    "    # reverse iterate over the filtered subranges and stop when the distance from subrange i to j is too high\n",
    "    for i in range(len(filtered_subranges)-2, -1, -1): \n",
    "        subrange_i_start_idx = df[\"depth\"].iloc[filtered_subranges[i][1]]\n",
    "        subrange_j_end_idx = df[\"depth\"].iloc[filtered_subranges[i+1][0]]\n",
    "        if subrange_j_end_idx - subrange_i_start_idx > spacing_between_ranges * len(df[\"depth\"]):\n",
    "            ground_start_idx = filtered_subranges[i+1][0]\n",
    "            break # found our final ground_start_idx\n",
    "        else:\n",
    "            ground_start_idx = filtered_subranges[i][0]\n",
    "    return ground_start_idx\n",
    "\n",
    "def remove_data_prior_to_ground(df_list, subrange_max_resistance, spacing_between_ranges):\n",
    "    \"\"\"\n",
    "    - args\n",
    "        - dp: depth-resistance dataframe\n",
    "        - range_max_res (user defined threshold used for dropping resistance subranges with a max resistance below this value)\n",
    "        - spacing_between_ranges (user defined threshold for dropping subranges that have a distance from one another higher then desired)\n",
    "    - returns\n",
    "        - dataframe with all data prior to first contact with ground removed and adjusted to start at 0\n",
    "    \"\"\"\n",
    "    cleaned_df_list = []\n",
    "    for df in df_list:\n",
    "        copy_df = df.copy()\n",
    "        start_idx = get_ground_start_idx(copy_df, subrange_max_resistance, spacing_between_ranges)\n",
    "        copy_df = copy_df.iloc[start_idx:]\n",
    "        # copy_df = start_curve_at_ground(copy_df, subrange_max_resistance, spacing_between_ranges)\n",
    "        copy_df[\"depth\"] = copy_df[\"depth\"] - copy_df['depth'].iloc[0]\n",
    "        cleaned_df_list.append(copy_df)\n",
    "    return cleaned_df_list\n",
    "\n"
   ]
  },
  {
   "cell_type": "markdown",
   "id": "f4e3eb09",
   "metadata": {},
   "source": [
    "### Quick Overview\n",
    "- def remove_data_prior_to_ground(df_list, subrange_max_resistance, spacing_between_subranges)\n",
    "    - args\n",
    "        - dp: depth-resistance dataframe\n",
    "        - subrange_max_resistance\n",
    "            - user defined threshold used for dropping resistance subranges with a max resistance below this value\n",
    "            - higher (lower) value means only subranges with high (lower) maximum threshold are considered as the start of the curve\n",
    "        - spacing_between_ranges \n",
    "            - user defined threshold for dropping subranges that have a distance from one another higher then desired\n",
    "            - higher (lower) value means allowed distances between subranges can be higher (lower)\n",
    "    - returns\n",
    "        - dataframe with all data prior to first contact with ground removed and adjusted to start at 0"
   ]
  },
  {
   "cell_type": "code",
   "execution_count": null,
   "id": "58bda235",
   "metadata": {},
   "outputs": [],
   "source": [
    "\n",
    "df_list = remove_data_prior_to_ground(df_list, subrange_max_resistance=0.1, spacing_between_ranges=0.00001)\n",
    "visualize_data(df_list, generate_plot_idx=plot_idx)"
   ]
  },
  {
   "cell_type": "markdown",
   "id": "64235acf",
   "metadata": {},
   "source": [
    "# Interpolation to uniformly resample points from curve"
   ]
  },
  {
   "cell_type": "code",
   "execution_count": null,
   "id": "923e8323",
   "metadata": {},
   "outputs": [],
   "source": [
    "import numpy as np\n",
    "def interpolate(df_list, num_points):\n",
    "    interp_df_list = []\n",
    "    for df in df_list:\n",
    "        x_intervals = np.linspace(0, df['depth'].max(), num_points, endpoint=True) # 100 points between 0 and trunc_level\n",
    "        y_new = np.interp(x_intervals, df[\"depth\"], df[\"resistance\"])\n",
    "        new_df = pd.DataFrame({'depth': x_intervals, 'resistance': y_new})\n",
    "        interp_df_list.append(new_df)\n",
    "    return interp_df_list\n",
    "\n",
    "print(\"Before interpolation\")\n",
    "visualize_data(df_list, generate_plot_idx=plot_idx)\n",
    "df_list = interpolate(df_list, 500)\n",
    "print(\"After interpolation\")\n",
    "visualize_data(df_list, generate_plot_idx=plot_idx)"
   ]
  },
  {
   "cell_type": "markdown",
   "id": "67481cc8",
   "metadata": {},
   "source": [
    "# Remove bad samples"
   ]
  },
  {
   "cell_type": "code",
   "execution_count": null,
   "id": "4398a74c",
   "metadata": {},
   "outputs": [],
   "source": [
    "# remove_list = {\n",
    "#     \"ws23\": [66], # 66 bad sample,\n",
    "#     \"mh23\": [0, 14, 19, 23, 26, 35, 36, 37, 38, 39, 45, 46, 47, 49, 50, 53, 58, 65, 74, 79]\n",
    "# }\n",
    "\n",
    "# list of depth-resistance plots indices to remove from cleaned data set (bad samples, ect...)\n",
    "remove_list = [66]\n",
    "\n",
    "def remove_bad_samples(df_list, remove_list):\n",
    "    cleaned_samples_list = []\n",
    "    for i, df in enumerate(df_list):\n",
    "        if i not in remove_list:\n",
    "            cleaned_samples_list.append(df)\n",
    "    return cleaned_samples_list\n",
    "\n",
    "print(f\"df_list length: {len(df_list)}\")\n",
    "df_list = remove_bad_samples(df_list, remove_list)\n",
    "print(\"bad samples removed\")\n",
    "print(f\"df_list length: {len(df_list)}\")"
   ]
  },
  {
   "cell_type": "markdown",
   "id": "ddd79af8",
   "metadata": {},
   "source": [
    "# Save photos of all cleaned curves"
   ]
  },
  {
   "cell_type": "code",
   "execution_count": null,
   "id": "5610a5d1",
   "metadata": {},
   "outputs": [],
   "source": [
    "visualize_data(df_list, generate_plot_idx=plot_idx, save_plots_bool=save_data_bool, \n",
    "                save_plots_dst=save_cleaned_plots_dst)"
   ]
  },
  {
   "cell_type": "markdown",
   "id": "d50d9605",
   "metadata": {},
   "source": [
    "# Save the cleaned csv files"
   ]
  },
  {
   "cell_type": "code",
   "execution_count": null,
   "id": "35723e60",
   "metadata": {},
   "outputs": [],
   "source": [
    "def save_data_csv(final_df_list, save_to_folder_path, save: bool):\n",
    "    if save:\n",
    "        for i in range(len(final_df_list)):\n",
    "            final_df_list[i].to_csv(f\"{save_to_folder_path}{i}.csv\")\n",
    "\n",
    "save_data_csv(df_list, save_to_folder_path=save_cleaned_csv_dst, save=save_data_bool)"
   ]
  }
 ],
 "metadata": {
  "kernelspec": {
   "display_name": "env3.13",
   "language": "python",
   "name": "python3"
  },
  "language_info": {
   "codemirror_mode": {
    "name": "ipython",
    "version": 3
   },
   "file_extension": ".py",
   "mimetype": "text/x-python",
   "name": "python",
   "nbconvert_exporter": "python",
   "pygments_lexer": "ipython3",
   "version": "3.13.1"
  }
 },
 "nbformat": 4,
 "nbformat_minor": 5
}

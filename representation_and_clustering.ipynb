{
 "cells": [
  {
   "cell_type": "code",
   "execution_count": null,
   "id": "5d25e20a",
   "metadata": {},
   "outputs": [],
   "source": [
    "import os\n",
    "import pandas as pd\n",
    "import matplotlib.pyplot as plt\n",
    "\n",
    "df_list = []\n",
    "filename_list = []\n",
    "for filename in os.listdir(\"/home/frankwoods/Desktop/lassie/data/processed_data\"):\n",
    "    df = pd.read_csv(f\"/home/frankwoods/Desktop/lassie/data/processed_data/{filename}\")\n",
    "    filename_list.append(filename)\n",
    "    df_list.append(df)\n",
    "print(filename_list)"
   ]
  },
  {
   "cell_type": "code",
   "execution_count": null,
   "id": "13b4f942",
   "metadata": {},
   "outputs": [],
   "source": [
    "\n",
    "def extract_features(df):\n",
    "    res = df[\"resistance\"]\n",
    "    dep = df[\"depth\"]\n",
    "    return pd.DataFrame([{\n",
    "        \"res_mean\": res.mean(),\n",
    "        \"res_max\": res.max(),\n",
    "        \"slope\": res.max() / dep.max(),\n",
    "        \"depth_max\": dep.max(),\n",
    "        # \"skew\": res.skew(), # measure of right or left skew\n",
    "        # \"kurtosis\": res.kurtosis(), # measure of tailness\n",
    "    }])\n",
    "\n",
    "# shape (n,m) where n is number of df and m is extracted feaetures\n",
    "representation_list = []\n",
    "for df in df_list:\n",
    "    representation_list.append(extract_features(df))\n",
    "print(f\"example: {representation_list[0]}\")\n"
   ]
  },
  {
   "cell_type": "markdown",
   "id": "88a831a9",
   "metadata": {},
   "source": [
    "# Visualize Extracted Features"
   ]
  },
  {
   "cell_type": "code",
   "execution_count": null,
   "id": "0a1ba7d5",
   "metadata": {},
   "outputs": [],
   "source": [
    "representation_df  = pd.concat(representation_list, axis=0, ignore_index=True)\n",
    "# print(representation_df)\n",
    "for col in representation_df.columns:\n",
    "    plt.hist(representation_df[col], bins=60, density=True)\n",
    "    plt.title(f\"Extracted Feature {col} Global Histogram\")\n",
    "    plt.show()\n"
   ]
  },
  {
   "cell_type": "markdown",
   "id": "3e52a5db",
   "metadata": {},
   "source": [
    "# Scale Features"
   ]
  },
  {
   "cell_type": "code",
   "execution_count": null,
   "id": "35451635",
   "metadata": {},
   "outputs": [],
   "source": [
    "from sklearn.preprocessing import StandardScaler\n",
    "import numpy as np\n",
    "\n",
    "def transform_features(df):\n",
    "    df = df.copy()  # avoid modifying original\n",
    "    # Apply cube root to 'slope'\n",
    "    if \"slope\" in df.columns: df['slope'] = np.log(df['slope'])\n",
    "    # if \"skew\" in df.columns: df[\"skew\"] = df[\"skew\"] ** 1.1\n",
    "    # if \"kurtosis\" in df.columns: df[\"kurtosis\"] = np.sqrt(df[\"kurtosis\"]) \n",
    "    # Standardize\n",
    "    scaler = StandardScaler()\n",
    "    df[df.columns] = scaler.fit_transform(df[df.columns])\n",
    "    return df\n",
    "\n",
    "scaled_representations = transform_features(representation_df)\n",
    "\n",
    "# for col in scaled_representations.columns:\n",
    "#     plt.hist(scaled_representations[col], bins=60, density=True)\n",
    "#     plt.title(f\"Scaled Extracted Feature {col} Global Histogram\")\n",
    "#     plt.show()\n"
   ]
  },
  {
   "cell_type": "markdown",
   "id": "14552736",
   "metadata": {},
   "source": [
    "## K-Means Clustering Implementation w/ k-means++ init for centroids"
   ]
  },
  {
   "cell_type": "code",
   "execution_count": null,
   "id": "f381ae1c",
   "metadata": {},
   "outputs": [],
   "source": [
    "from sklearn.cluster import KMeans\n",
    "import numpy as np\n",
    "\n",
    "inertias = []\n",
    "for k in range(1,11):\n",
    "    kmeans = KMeans(n_clusters=k, init=\"k-means++\", n_init=100).fit(scaled_representations)\n",
    "    inertias.append(kmeans.inertia_)\n",
    "\n",
    "plt.figure(figsize=(5,4))\n",
    "plt.plot(range(1,11), inertias, marker='o')\n",
    "plt.title(\"K-Means: Elbow Method for Finding Optimal Number of Clusters\")\n",
    "plt.xlabel(\"Number of clusters\")\n",
    "plt.ylabel(\"Inertia\")\n",
    "plt.grid=True\n",
    "plt.show()\n",
    "\n",
    "# print(kmeans.labels_)\n",
    "\n",
    "# kmeans.predict # for predicting which cluster a data point belongs too"
   ]
  },
  {
   "cell_type": "markdown",
   "id": "86b1f899",
   "metadata": {},
   "source": [
    "# Visualization Functions"
   ]
  },
  {
   "cell_type": "code",
   "execution_count": null,
   "id": "f3524b63",
   "metadata": {},
   "outputs": [],
   "source": [
    "from sklearn.decomposition import PCA\n",
    "from sklearn.manifold import TSNE\n",
    "\n",
    "def visualize_clusters(representation_list, y_labels, graph_title=\"\", use_pca=False, use_sne=False, two_d=False, overlay_plot=False):\n",
    "    if use_pca:\n",
    "        pca = PCA(n_components=2) # reduce data down to 2 dims\n",
    "        X_pca = pca.fit_transform(representation_list) # learns directions of max vairance, projects onto 2D\n",
    "        # print(y_labels)\n",
    "        plt.title(f\"{graph_title} Clustering Visualized with pca\")\n",
    "        # x_pca: x_dim, x_pca: y_dim, c: color points based on clusters, cmap: color map\n",
    "        # X_pca[:,0] -> 0th index of every row, X_pca[:,1] -> 1st index of every row\n",
    "        label_color_map = {\n",
    "            0: 'red',\n",
    "            1: 'grey',\n",
    "            2: 'blue',\n",
    "            3: \"yellow\",\n",
    "            4: \"green\",\n",
    "        }\n",
    "        colors = [label_color_map[label] for label in y_labels]\n",
    "        plt.scatter(X_pca[:,0], X_pca[:,1], c=colors)\n",
    "        # plt.scatter(X_pca[:,0], X_pca[:,1], c=y_labels, cmap='coolwarm')\n",
    "        plt.show()\n",
    "    # if overlay_plot:\n",
    "    #     for i in range(len(y_labels)):\n",
    "\n",
    "    if len(representation_list.columns) == 2 and two_d:\n",
    "        x = representation_list.columns[0]\n",
    "        y = representation_list.columns[1]\n",
    "        plt.scatter(representation_list[x], representation_list[y], c=y_labels, cmap=\"coolwarm\")\n",
    "        plt.title(f\"{graph_title} Clustering: {x} and {y}\")\n",
    "        plt.xlabel(x)\n",
    "        plt.ylabel(y)\n",
    "        plt.show()\n",
    "\n",
    "\n",
    "def display_curve(df_list, graph_i):\n",
    "    plt.figure(figsize=(8,5))       \n",
    "    plt.plot(df_list[graph_i]['depth'], df_list[graph_i]['resistance'], marker='o', linestyle='-')\n",
    "    plt.xlabel('Depth')\n",
    "    plt.ylabel('Resistance')\n",
    "    plt.title('Resistance vs Depth')\n",
    "    plt.show()\n",
    "\n",
    "# display max 2 graphs per label\n",
    "def visualize_cluster_curves(df_list, y_labels, max_num_graphs_per_cluster=2):\n",
    "    # Index list\n",
    "    df_list_i = list(range(len(df_list)))\n",
    "\n",
    "    # Sort y_labels and indices together\n",
    "    y_labels_sorted, df_list_sorted = zip(*sorted(zip(y_labels, df_list_i)))\n",
    "    y_labels_sorted = list(y_labels_sorted)\n",
    "    df_list_sorted = list(df_list_sorted)\n",
    "\n",
    "    displayed_count = {}  # Track how many times we've displayed each label\n",
    "\n",
    "    for i in range(len(y_labels_sorted)):\n",
    "        label = y_labels_sorted[i]\n",
    "        index = df_list_sorted[i]\n",
    "\n",
    "        # Display at most 2 curves per label\n",
    "        if displayed_count.get(label, 0) < max_num_graphs_per_cluster:\n",
    "            print(f\"y_label: {label}\")\n",
    "            display_curve(df_list, index)\n",
    "            displayed_count[label] = displayed_count.get(label, 0) + 1\n"
   ]
  },
  {
   "cell_type": "markdown",
   "id": "3e6faa18",
   "metadata": {},
   "source": [
    "# K-Means Clustering\n",
    "- assumes\n",
    "    - spherical clusters (isotropic)\n",
    "    - similar size clusters (equal variance)\n",
    "    - features are on same scale\n",
    "    - clusters are linearly separable\n",
    "    - number of clusters (k) is known"
   ]
  },
  {
   "cell_type": "code",
   "execution_count": null,
   "id": "89d37aa0",
   "metadata": {},
   "outputs": [],
   "source": [
    "kmeans_elbow = 3\n",
    "kmeans = KMeans(n_clusters=kmeans_elbow, init=\"k-means++\", n_init=100).fit(scaled_representations)\n",
    "print(f\"kmeans labels:\\n{kmeans.labels_}\")\n",
    "visualize_clusters(scaled_representations, kmeans.labels_, graph_title=\"KMeans\", use_pca=True, use_sne=False, two_d=True)\n",
    "# visualize_cluster_curves(df_list, kmeans.labels_, max_num_graphs_per_cluster=2)"
   ]
  },
  {
   "cell_type": "code",
   "execution_count": null,
   "id": "0457b6e3",
   "metadata": {},
   "outputs": [],
   "source": [
    "\n",
    "def plot(df_list, graph_i):\n",
    "    \n",
    "    plt.figure(figsize=(8,5))         # Optional: set figure size    \n",
    "    plt.plot(df_list[graph_i]['depth'], df_list[graph_i]['resistance'], marker='o', linestyle='-')\n",
    "    plt.xlabel('Depth')\n",
    "    plt.ylabel('Resistance')\n",
    "    plt.title('Resistance vs Depth')\n",
    "    concat_df_list = pd.concat(df_list, axis=0, ignore_index=True)\n",
    "    plt.xlim(0, concat_df_list[\"depth\"].max())\n",
    "    plt.ylim(0, concat_df_list[\"resistance\"].max())\n",
    "    # plt.grid(True)                    \n",
    "    plt.show()\n",
    "\n",
    "print(\"0:\")\n",
    "plot(df_list, 1)\n",
    "print(\"1:\")\n",
    "plot(df_list, 10)\n",
    "print(\"2:\")\n",
    "plot(df_list, 0)\n",
    "\n",
    "# d = {}\n",
    "# print(len(filename_list) == len(df_list))\n",
    "# for i in range(len(filename_list)):\n",
    "#     d[filename_list[i]] = kmeans.labels_[i]\n",
    "# for key, value in d:\n",
    "    "
   ]
  },
  {
   "cell_type": "markdown",
   "id": "31caa0de",
   "metadata": {},
   "source": [
    "# DBSCAN\n",
    "- assumes\n",
    "    - clusters are dense regions seperated by low-density areas\n",
    "    - two parameters define density (eps, min_samples)\n",
    "    - Does not require number of clusters (k)\n",
    "    - Clusters may vary in shape and size"
   ]
  },
  {
   "cell_type": "code",
   "execution_count": null,
   "id": "439329d5",
   "metadata": {},
   "outputs": [],
   "source": [
    "from sklearn.cluster import DBSCAN\n",
    "dbscan = DBSCAN(eps=0.5, min_samples=4).fit(scaled_representations)\n",
    "print(dbscan.labels_)\n",
    "# visualize_clusters(scaled_representations, dbscan.labels_, graph_title=\"DBSCAN\", use_pca=True, use_sne=False, two_d=True)"
   ]
  },
  {
   "cell_type": "markdown",
   "id": "fd1af36a",
   "metadata": {},
   "source": [
    "# Hierarchical Clustering"
   ]
  },
  {
   "cell_type": "code",
   "execution_count": null,
   "id": "6a8c2a69",
   "metadata": {},
   "outputs": [],
   "source": [
    "from sklearn.cluster import AgglomerativeClustering\n",
    "from scipy.cluster.hierarchy import dendrogram\n",
    "\n",
    "def plot_dendrogram(model, **kwargs):\n",
    "    # Create linkage matrix and then plot the dendrogram\n",
    "\n",
    "    # create the counts of samples under each node\n",
    "    counts = np.zeros(model.children_.shape[0])\n",
    "    n_samples = len(model.labels_)\n",
    "    for i, merge in enumerate(model.children_):\n",
    "        current_count = 0\n",
    "        for child_idx in merge:\n",
    "            if child_idx < n_samples:\n",
    "                current_count += 1  # leaf node\n",
    "            else:\n",
    "                current_count += counts[child_idx - n_samples]\n",
    "        counts[i] = current_count\n",
    "\n",
    "    linkage_matrix = np.column_stack(\n",
    "        [model.children_, model.distances_, counts]\n",
    "    ).astype(float)\n",
    "\n",
    "    # Plot the corresponding dendrogram\n",
    "    dendrogram(linkage_matrix, **kwargs)\n",
    "\n",
    "# if distance_threshold != None then n_clusters = None\n",
    "hierarchical = AgglomerativeClustering(distance_threshold=None, n_clusters=5)\n",
    "hierarchical.fit(scaled_representations)\n",
    "linkage = \"Ward\"\n",
    "print(hierarchical.labels_)\n",
    "visualize_clusters(scaled_representations, hierarchical.labels_, graph_title=\"Hierarchical\", use_pca=True)\n",
    "\n",
    "# plt.title(\"Hierarchical Clustering Dendrogram\")\n",
    "# plot the top three levels of the dendrogram\n",
    "# plot_dendrogram(hierarchical, truncate_mode=\"level\", p=5)\n",
    "# plt.xlabel(\"Number of points in node (or index of point if no parenthesis).\")\n",
    "# plt.show()"
   ]
  },
  {
   "cell_type": "code",
   "execution_count": null,
   "id": "4fd97cef",
   "metadata": {},
   "outputs": [],
   "source": [
    "plot(df_list, 0)\n",
    "plot(df_list, 3)\n",
    "plot(df_list, 10)\n",
    "plot(df_list, 6)\n",
    "plot(df_list, 1)\n"
   ]
  }
 ],
 "metadata": {
  "kernelspec": {
   "display_name": "env3.13",
   "language": "python",
   "name": "python3"
  },
  "language_info": {
   "codemirror_mode": {
    "name": "ipython",
    "version": 3
   },
   "file_extension": ".py",
   "mimetype": "text/x-python",
   "name": "python",
   "nbconvert_exporter": "python",
   "pygments_lexer": "ipython3",
   "version": "3.13.1"
  }
 },
 "nbformat": 4,
 "nbformat_minor": 5
}

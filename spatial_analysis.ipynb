{
 "cells": [
  {
   "cell_type": "code",
   "execution_count": null,
   "id": "cc3122df",
   "metadata": {},
   "outputs": [],
   "source": [
    "# unique coloring mappings for categories\n",
    "label_color_map = {0: 'red', 1: 'gold', 2: 'blue', 3: 'green', 4: 'purple', 5: 'pink',\n",
    "        6: 'brown', 7: 'orange', 8: 'cyan', 9: 'magenta', 10: 'turquoise',\n",
    "        11: 'lime', 12: 'teal', 13: 'navy', 14: 'maroon', 15: 'olive',\n",
    "        16: 'coral', 17: 'grey', 18: 'salmon', 19: 'yellow'}\n",
    "\n",
    "unique_transects = ['L1_T1', 'L2_T1', 'L3_T1']\n",
    "\n",
    "transect_dict = group_data_by_transect(unique_transects, data_features_df)\n",
    "\n",
    "plot_transect_subplots(depth_resist_curve_df_list, transect_dict, filename_to_depth_resist)"
   ]
  }
 ],
 "metadata": {
  "language_info": {
   "name": "python"
  }
 },
 "nbformat": 4,
 "nbformat_minor": 5
}

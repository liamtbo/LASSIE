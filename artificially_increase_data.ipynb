{
 "cells": [
  {
   "cell_type": "code",
   "execution_count": null,
   "id": "3725d215",
   "metadata": {},
   "outputs": [],
   "source": [
    "import pandas as pd\n",
    "import os\n",
    "import plotting\n",
    "import importlib\n",
    "importlib.reload(plotting)\n",
    "pd.options.display.max_rows = 4000\n",
    "import numpy as np"
   ]
  },
  {
   "cell_type": "code",
   "execution_count": null,
   "id": "e99c9112",
   "metadata": {},
   "outputs": [],
   "source": [
    "def load_data(data_src):\n",
    "    curve_data = [] # used for plotting\n",
    "    filename_list = []\n",
    "    for filename in os.listdir(data_src):\n",
    "        df = pd.read_csv(f\"{data_src}/{filename}\")\n",
    "        curve_data.append(df)\n",
    "        filename_list.append(filename)\n",
    "    return curve_data, filename_list\n",
    "\n",
    "data_src = \"data/cleaned_data\"\n",
    "curve_data, filename_list = load_data(data_src)\n",
    "filename_to_depth_resist = dict(zip(filename_list, curve_data))"
   ]
  },
  {
   "cell_type": "code",
   "execution_count": null,
   "id": "7d6c2020",
   "metadata": {},
   "outputs": [],
   "source": [
    "ylabel_name = 'marions_ylabels_esd_removed'\n",
    "data_features = pd.read_csv(\"data/optimal_features.csv\")\n",
    "\n",
    "clustering_features = plotting.extract_numerical_features(data_features)"
   ]
  },
  {
   "cell_type": "code",
   "execution_count": null,
   "id": "c14efd55",
   "metadata": {},
   "outputs": [],
   "source": [
    "\n",
    "# ylabel_name = 'marions_ylabels_deduction'\n",
    "ylabel_to_cluster_num = {'Outlier':-1, 'ES-B':0, 'ES-BW':1, 'ES-S':2, 'ES-S-Plates':3, 'ES-D':4, 'LS':5, 'F':6, 'LS/F':7, 'ES-DB':8, 'ES': 9}\n",
    "data_features[f'{ylabel_name}_nums'] = data_features[ylabel_name].map(ylabel_to_cluster_num)\n",
    "marions_labeled_data = data_features[data_features[ylabel_name].notna()].copy() # removes NaN's which correspond to non-labled data"
   ]
  },
  {
   "cell_type": "markdown",
   "id": "37d04123",
   "metadata": {},
   "source": [
    "Plan:\n",
    "- not enough data to create distributions to sample a resistance for each depth\n",
    "- shouldn't do avg points +- random change bc this won't build off previous points\n",
    "- should do avg diff between prev point and current += random change\n",
    "    - reason: build out from previous changes"
   ]
  }
 ],
 "metadata": {
  "language_info": {
   "name": "python"
  }
 },
 "nbformat": 4,
 "nbformat_minor": 5
}

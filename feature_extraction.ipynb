{
 "cells": [
  {
   "cell_type": "code",
   "execution_count": 1,
   "id": "5d25e20a",
   "metadata": {},
   "outputs": [],
   "source": [
    "import os\n",
    "import pandas as pd\n",
    "\n",
    "df_list = []\n",
    "for filename in os.listdir(\"/home/frankwoods/Desktop/LASSIE/data/processed_data\"):\n",
    "    df = pd.read_csv(f\"/home/frankwoods/Desktop/LASSIE/data/processed_data/{filename}\")\n",
    "    df_list.append(df)"
   ]
  },
  {
   "cell_type": "code",
   "execution_count": 2,
   "id": "13b4f942",
   "metadata": {},
   "outputs": [
    {
     "name": "stdout",
     "output_type": "stream",
     "text": [
      "example: [np.float64(0.4520394440288466), 1.0233022541224384, -1.408923406090115, 1.847360675764647, np.float64(-0.16549723162043514), np.float64(-1.256713369077682), np.float64(0.6389808074123098), np.float64(0.001096199608874025)]\n"
     ]
    }
   ],
   "source": [
    "def extract_features(df):\n",
    "    res = df[\"resistance\"]\n",
    "    return [\n",
    "        res.mean(),\n",
    "        res.std(),\n",
    "        res.min(),\n",
    "        res.max(),\n",
    "        res.skew(),\n",
    "        res.kurtosis(),\n",
    "        (res > 0).mean(),  # proportion positive\n",
    "        res.diff().abs().mean(),  # smoothness\n",
    "        # Add more if desired\n",
    "    ]\n",
    "\n",
    "# shape (n,m) where n is number of df and m is extracted feaetures\n",
    "extracted_features_list = []\n",
    "for df in df_list:\n",
    "    extracted_features_list.append(extract_features(df))\n",
    "print(f\"example: {extracted_features_list[0]}\")\n",
    "    "
   ]
  },
  {
   "cell_type": "markdown",
   "id": "14552736",
   "metadata": {},
   "source": [
    "## K-Means Clustering Implementation w/ k-means++ init for centroids"
   ]
  },
  {
   "cell_type": "code",
   "execution_count": null,
   "id": "f381ae1c",
   "metadata": {},
   "outputs": [
    {
     "name": "stdout",
     "output_type": "stream",
     "text": [
      "[ 4.52039444e-01  1.02330225e+00 -1.40892341e+00  1.84736068e+00\n",
      " -1.65497232e-01 -1.25671337e+00  6.38980807e-01  1.09619961e-03]\n",
      "(8,)\n",
      "[1.55189365 2.84088781 2.29637928 0.84718753 0.66313609 2.05866626\n",
      " 0.50141761 1.1773274 ]\n"
     ]
    }
   ],
   "source": []
  }
 ],
 "metadata": {
  "kernelspec": {
   "display_name": "env3.13",
   "language": "python",
   "name": "python3"
  },
  "language_info": {
   "codemirror_mode": {
    "name": "ipython",
    "version": 3
   },
   "file_extension": ".py",
   "mimetype": "text/x-python",
   "name": "python",
   "nbconvert_exporter": "python",
   "pygments_lexer": "ipython3",
   "version": "3.13.1"
  }
 },
 "nbformat": 4,
 "nbformat_minor": 5
}

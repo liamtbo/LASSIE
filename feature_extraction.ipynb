{
 "cells": [
  {
   "cell_type": "code",
   "execution_count": null,
   "id": "5d25e20a",
   "metadata": {},
   "outputs": [],
   "source": [
    "import os\n",
    "import pandas as pd\n",
    "import matplotlib.pyplot as plt\n",
    "\n",
    "df_list = []\n",
    "filename_list = []\n",
    "for filename in os.listdir(\"data/cleaned_data\"):\n",
    "    df = pd.read_csv(f\"data/cleaned_data/{filename}\")\n",
    "    filename_list.append(filename)\n",
    "    df_list.append(df)\n",
    "print(filename_list)"
   ]
  },
  {
   "cell_type": "markdown",
   "id": "a799fdbd",
   "metadata": {},
   "source": [
    "# Extract Feature: Peaks & Troughs"
   ]
  },
  {
   "cell_type": "code",
   "execution_count": null,
   "id": "44024a0e",
   "metadata": {},
   "outputs": [],
   "source": [
    "from scipy.signal import find_peaks\n",
    "import matplotlib.pyplot as plt\n",
    "\n",
    "def plot_peaks_troughs(df, peaks=[], troughs=[]):\n",
    "    plt.figure(figsize=(4,3))         # Optional: set figure size\n",
    "    # Plot the resistance curve\n",
    "    plt.plot(df[\"depth\"], df[\"resistance\"])\n",
    "    # Plot the peaks\n",
    "    plt.plot(df[\"depth\"].iloc[peaks], df[\"resistance\"].iloc[peaks], 'ro', label=\"Peaks\")\n",
    "    # Plot the peaks\n",
    "    plt.plot(df[\"depth\"].iloc[troughs], df[\"resistance\"].iloc[troughs], 'bo', label=\"Troughs\")\n",
    "    plt.xlabel(\"Depth\")\n",
    "    plt.ylabel(\"Resistance\")\n",
    "    plt.title(\"Depth vs Resistance with Peaks\")\n",
    "    plt.legend()\n",
    "    plt.show()\n",
    "\n",
    "def remove_peak_if_close_to_end(peaks, df):\n",
    "    len_depth = len(df['depth'])\n",
    "    cleaned_peaks = []\n",
    "    for peak in peaks:\n",
    "        if peak < len_depth * 0.6: cleaned_peaks.append(int(peak))\n",
    "    return cleaned_peaks\n",
    "\n",
    "def make_peak_bool(peaks):\n",
    "    if len(peaks) > 0: return 1\n",
    "    else: return 0\n",
    "\n",
    "def get_yield_force(df):\n",
    "    # Find peaks in the resistance data\n",
    "    # distance -> req minimal horiz dis in samples between neighboring peaks \n",
    "    # # this is an excellent combination\n",
    "    # peaks, _ = find_peaks(df[\"resistance\"], height=0, distance=10, width=5)\n",
    "    # peaks, _ = find_peaks(df[\"resistance\"], distance=len(df[\"resistance\"])*0.5, width=30)\n",
    "    peaks, _ = find_peaks(df[\"resistance\"], distance=100, width=20)\n",
    "    \n",
    "    peaks = remove_peak_if_close_to_end(peaks, df)\n",
    "    troughs, _ = find_peaks(-df[\"resistance\"], distance=200, width=20)    \n",
    "    # plot_peaks_troughs(df, peaks, troughs)\n",
    "    return peaks, troughs\n"
   ]
  },
  {
   "cell_type": "markdown",
   "id": "e6915d25",
   "metadata": {},
   "source": [
    "# Choose Features"
   ]
  },
  {
   "cell_type": "code",
   "execution_count": null,
   "id": "13b4f942",
   "metadata": {},
   "outputs": [],
   "source": [
    "\n",
    "def extract_simple_features(df):\n",
    "    res = df[\"resistance\"]\n",
    "    dep = df[\"depth\"]\n",
    "    peaks = find_peaks(df[\"resistance\"], distance=30)[0]\n",
    "    return pd.DataFrame([{\n",
    "        # \"res_mean\": res.mean(),\n",
    "        # \"peaks_value\": peaks[0] if len(peaks) > 0 else 0,\n",
    "        \"overall_slope\": res.max() / dep.max(),\n",
    "        \"overall_depth\": dep.max(),\n",
    "        \"overall_resistance\": res.max(),\n",
    "        # \"num_peaks\": len(peaks),\n",
    "        # \"heterogeneity\": heterogeneity(df, surface_fraction=0.2)\n",
    "    }])\n",
    "\n",
    "# shape (n,m) where n is number of df and m is extracted feaetures\n",
    "representation_list = []\n",
    "for i, df in enumerate(df_list):\n",
    "    print(filename_list[i])\n",
    "    extracted_simple_features = extract_simple_features(df)\n",
    "    representation_list.append(extracted_simple_features)\n",
    "print(f\"example: {representation_list[0]}\")\n"
   ]
  },
  {
   "cell_type": "markdown",
   "id": "edde5356",
   "metadata": {},
   "source": [
    "# Correlation Matrix"
   ]
  },
  {
   "cell_type": "code",
   "execution_count": null,
   "id": "6d2b264f",
   "metadata": {},
   "outputs": [],
   "source": [
    "representation_df  = pd.concat(representation_list, axis=0, ignore_index=True)\n",
    "corr_matrix = representation_df.corr()\n",
    "print(corr_matrix)"
   ]
  },
  {
   "cell_type": "markdown",
   "id": "88a831a9",
   "metadata": {},
   "source": [
    "# Visualize Extracted Features Histograms"
   ]
  },
  {
   "cell_type": "code",
   "execution_count": null,
   "id": "0a1ba7d5",
   "metadata": {},
   "outputs": [],
   "source": [
    "# representation_df  = pd.concat(representation_list, axis=0, ignore_index=True)\n",
    "# # print(representation_df)\n",
    "def plot_feature_dist(representation_df):\n",
    "    for col in representation_df.columns:\n",
    "        plt.figure(figsize=(4,3))\n",
    "        plt.hist(representation_df[col], bins=60, density=True)\n",
    "        plt.title(f\"Extracted Feature {col} Global Histogram\")\n",
    "        plt.show()\n",
    "plot_feature_dist(representation_df)"
   ]
  },
  {
   "cell_type": "markdown",
   "id": "3e52a5db",
   "metadata": {},
   "source": [
    "# Scale Features"
   ]
  },
  {
   "cell_type": "code",
   "execution_count": null,
   "id": "35451635",
   "metadata": {},
   "outputs": [],
   "source": [
    "from sklearn.preprocessing import StandardScaler\n",
    "import numpy as np\n",
    "\n",
    "def transform_features(df):\n",
    "    df = df.copy()  # avoid modifying original\n",
    "    # Apply cube root to 'slope'\n",
    "    if \"overall_slope\" in df.columns: df['overall_slope'] = np.log(df['overall_slope'])\n",
    "    if \"peaks\" in df.columns: df['peaks'] = np.log(df['peaks'] + 1)\n",
    "    if \"peaks_value\" in df.columns: df[\"peaks_value\"] = np.log(df['peaks_value'])\n",
    "    # if \"yield_force\" in df.columns: df['yield_force'] = df[\"yield_force\"]\n",
    "    # if \"skew\" in df.columns: df[\"skew\"] = df[\"skew\"] ** 1.1\n",
    "    # if \"kurtosis\" in df.columns: df[\"kurtosis\"] = np.sqrt(df[\"kurtosis\"]) \n",
    "    # Standardize\n",
    "    scaler = StandardScaler()\n",
    "    df[df.columns] = scaler.fit_transform(df[df.columns])\n",
    "    return df\n",
    "\n",
    "scaled_representations = transform_features(representation_df)\n",
    "print(scaled_representations[:5])\n",
    "plot_feature_dist(scaled_representations)\n"
   ]
  },
  {
   "cell_type": "markdown",
   "id": "e73a2c3f",
   "metadata": {},
   "source": [
    "# Save representation"
   ]
  },
  {
   "cell_type": "code",
   "execution_count": null,
   "id": "248dd816",
   "metadata": {},
   "outputs": [],
   "source": [
    "scaled_representations.to_csv(f\"data/features.csv\", index=False)"
   ]
  }
 ],
 "metadata": {
  "kernelspec": {
   "display_name": "env3.13",
   "language": "python",
   "name": "python3"
  },
  "language_info": {
   "codemirror_mode": {
    "name": "ipython",
    "version": 3
   },
   "file_extension": ".py",
   "mimetype": "text/x-python",
   "name": "python",
   "nbconvert_exporter": "python",
   "pygments_lexer": "ipython3",
   "version": "3.13.1"
  }
 },
 "nbformat": 4,
 "nbformat_minor": 5
}

{
 "cells": [
  {
   "cell_type": "code",
   "execution_count": 1,
   "id": "1f705e26",
   "metadata": {},
   "outputs": [],
   "source": [
    "import os\n",
    "import pandas as pd\n",
    "import matplotlib.pyplot as plt\n",
    "from typing import List, Tuple\n",
    "import numpy as np\n",
    "from scipy.signal import find_peaks\n",
    "from sklearn.preprocessing import StandardScaler"
   ]
  },
  {
   "cell_type": "code",
   "execution_count": 2,
   "id": "5d25e20a",
   "metadata": {},
   "outputs": [
    {
     "name": "stdout",
     "output_type": "stream",
     "text": [
      "['WS23_L3_T1_P_16.csv', 'WS23_L2_T2_P_3.csv', 'WS23_L2_T1_P_4.csv', 'WS23_L1_T1_P_17.csv', 'WS23_L2_T2_P_2.csv', 'WS23_L1_T1_P_8.csv', 'WS23_L1_T1_P_21.csv', 'WS23_L1_T1_P_16.csv', 'WS23_L3_T1_P_11.csv', 'WS23_L3_T1_P_25.csv', 'WS23_L1_T1_P_5.csv', 'WS23_L3_T1_P_9.csv', 'WS23_L2_T1_P_14.csv', 'WS23_L2_T1_P_12.csv', 'WS23_L2_T2_P_4.csv', 'WS23_L2_T1_P_9.csv', 'WS23_L2_T1_P_13.csv', 'WS23_L1_T1_P_23.csv', 'WS23_L1_T1_P_14.csv', 'WS23_L2_T1_P_6.csv', 'WS23_L2_T1_P_16.csv', 'WS23_L2_T2_P_0.csv', 'WS23_L2_T1_P_2.csv', 'WS23_L1_T1_P_7.csv', 'WS23_L1_T1_P_11.csv', 'WS23_L3_T1_P_17.csv', 'WS23_L3_T1_P_4.csv', 'WS23_L2_T1_P_5.csv', 'WS23_L1_T1_P_12.csv', 'WS23_L3_T1_P_29.csv', 'WS23_L2_T1_P_8.csv', 'WS23_L1_T1_P_6.csv', 'WS23_L3_T1_P_33.csv', 'WS23_L2_T1_P_10.csv', 'WS23_L3_T1_P_32.csv', 'WS23_L3_T1_P_6.csv', 'WS23_L1_T1_P_4.csv', 'WS23_L3_T1_P_15.csv', 'WS23_L1_T1_P_15.csv', 'WS23_L3_T1_P_1.csv', 'WS23_L1_T1_P_9.csv', 'WS23_L3_T1_P_0.csv', 'WS23_L1_T1_P_3.csv', 'WS23_L3_T1_P_13.csv', 'WS23_L2_T1_P_1.csv', 'WS23_L1_T1_P_22.csv', 'WS23_L3_T1_P_3.csv', 'WS23_L2_T1_P_3.csv', 'WS23_L3_T1_P_22.csv', 'WS23_L3_T1_P_2.csv', 'WS23_L3_T1_P_8.csv', 'WS23_L2_T2_P_1.csv', 'WS23_L1_T1_P_10.csv', 'WS23_L3_T1_P_5.csv', 'WS23_L2_T1_P_15.csv', 'WS23_L3_T1_P_14.csv', 'WS23_L3_T1_P_12.csv', 'WS23_L3_T1_P_24.csv', 'WS23_L3_T1_P_27.csv', 'WS23_L1_T1_P_0.csv', 'WS23_L1_T1_P_13.csv', 'WS23_L1_T1_P_20.csv', 'WS23_L3_T1_P_23.csv', 'WS23_L3_T1_P_7.csv', 'WS23_L1_T1_P_19.csv', 'WS23_L3_T1_P_18.csv', 'WS23_L3_T1_P_19.csv', 'WS23_L3_T1_P_20.csv', 'WS23_L2_T1_P_17.csv', 'WS23_L1_T1_P_1.csv', 'WS23_L1_T1_P_2.csv', 'WS23_L3_T1_P_21.csv', 'WS23_L2_T1_P_11.csv', 'WS23_L3_T1_P_31.csv', 'WS23_L3_T1_P_10.csv', 'WS23_L1_T1_P_18.csv', 'WS23_L3_T1_P_26.csv', 'WS23_L2_T1_P_7.csv']\n"
     ]
    }
   ],
   "source": [
    "df_list = []\n",
    "filename_list = []\n",
    "for filename in os.listdir(\"data/cleaned_data\"):\n",
    "    df = pd.read_csv(f\"data/cleaned_data/{filename}\")\n",
    "    filename_list.append(filename)\n",
    "    df_list.append(df)\n",
    "print(filename_list)"
   ]
  },
  {
   "cell_type": "markdown",
   "id": "bcb52604",
   "metadata": {},
   "source": [
    "# Find Force-Drop"
   ]
  },
  {
   "cell_type": "code",
   "execution_count": 3,
   "id": "4204db47",
   "metadata": {},
   "outputs": [],
   "source": [
    "def find_force_drop_subranges(df: pd.DataFrame, percent_of_max_resistance: float):\n",
    "    down_moves_subrange_list = []\n",
    "    resistance_max = df['resistance'].max()\n",
    "    min_drop_size = resistance_max * percent_of_max_resistance\n",
    "    curr_peak_idx = 0\n",
    "    curr_trough_idx = 0\n",
    "    in_drop_subrange = 0 # bool\n",
    "\n",
    "    for idx in range(1, len(df['resistance'])):\n",
    "        curr_peak = df['resistance'].iloc[curr_peak_idx]\n",
    "        curr_trough = df['resistance'].iloc[curr_trough_idx]\n",
    "        curr_resistance = df['resistance'].iloc[idx]\n",
    "\n",
    "        if curr_resistance >= curr_peak and in_drop_subrange:\n",
    "            in_drop_subrange = 0\n",
    "            down_moves_subrange_list.append((curr_peak_idx, curr_trough_idx))\n",
    "\n",
    "        if curr_resistance >= curr_peak:\n",
    "            curr_peak_idx = idx\n",
    "            curr_trough_idx = idx\n",
    "        elif curr_peak - curr_resistance >= min_drop_size and curr_resistance < curr_trough: \n",
    "            in_drop_subrange = 1\n",
    "            curr_trough_idx = idx\n",
    "    \n",
    "    if in_drop_subrange: down_moves_subrange_list.append((curr_peak_idx, curr_trough_idx)) \n",
    "            \n",
    "    return down_moves_subrange_list\n",
    "\n",
    "def find_largest_force_drop(df: pd.DataFrame, subrange_list: List[Tuple]):\n",
    "    curr_max_val = 0\n",
    "    curr_max_level = 0\n",
    "    for subrange_start, subrange_end in subrange_list:\n",
    "        subrange_diff = df['resistance'].iloc[subrange_start] - df['resistance'].iloc[subrange_end]\n",
    "        if subrange_diff > curr_max_val: \n",
    "            curr_max_val = subrange_diff\n",
    "            curr_max_level = df['resistance'].iloc[subrange_start]\n",
    "    return curr_max_val, curr_max_level\n",
    "\n",
    "def plot(df_list: List[pd.DataFrame], plot_idx_range: List[int], title: str = 'Depth vs Resistance'):\n",
    "    for idx in plot_idx_range:\n",
    "        print(f\"plot idx: {idx}\")\n",
    "\n",
    "        df = df_list[idx]\n",
    "        percent = 0.1\n",
    "        subranges = find_force_drop_subranges(df, percent)\n",
    "        print(f\"max_resistance: {df['resistance'].max()}\")\n",
    "        print(f\"subranges: {[(float(df['resistance'].iloc[start]), float(df['resistance'].iloc[end])) for start, end in subranges]}\")\n",
    "        # print(f\"\")\n",
    "        \n",
    "        plt.figure(figsize=(5, 3))\n",
    "        \n",
    "        # Plot subrange start/end points\n",
    "        for start_idx, end_idx in subranges:\n",
    "            plt.plot(df['depth'].iloc[start_idx], df['resistance'].iloc[start_idx], marker='v', color='green')\n",
    "            plt.plot(df['depth'].iloc[end_idx], df['resistance'].iloc[end_idx], marker='^', color='red')\n",
    "        \n",
    "        # Plot full depth vs resistance line\n",
    "        plt.plot(df['depth'], df['resistance'],linestyle='-')\n",
    "        plt.xlabel('Depth (m)')\n",
    "        plt.ylabel('Resistance (N)')\n",
    "        plt.title(f\"{title} - Plot {idx}\")\n",
    "        plt.grid(True)\n",
    "        plt.tight_layout()\n",
    "        plt.show()\n",
    "\n",
    "# plot(df_list, plot_idx_range=range(len(df_list)))"
   ]
  },
  {
   "cell_type": "markdown",
   "id": "e61908bd",
   "metadata": {},
   "source": [
    "# Find Curve Shape"
   ]
  },
  {
   "cell_type": "code",
   "execution_count": 4,
   "id": "916e5f70",
   "metadata": {},
   "outputs": [],
   "source": [
    "def find_curve_shape(df):\n",
    "    x = df['depth'].to_numpy()\n",
    "    y = df['resistance'].to_numpy()\n",
    "    # create evenly spaces points\n",
    "    chord = np.linspace(df['resistance'].iloc[0], df['resistance'].iloc[-1], num=len(df['depth']))\n",
    "    y_diff = y - chord # makes chord the x-axis, any y_points above chord are pos, below are neg\n",
    "    return np.trapezoid(y=y_diff, x=x)"
   ]
  },
  {
   "cell_type": "markdown",
   "id": "e6915d25",
   "metadata": {},
   "source": [
    "# Choose Features"
   ]
  },
  {
   "cell_type": "code",
   "execution_count": 5,
   "id": "13b4f942",
   "metadata": {},
   "outputs": [
    {
     "name": "stdout",
     "output_type": "stream",
     "text": [
      "example:    overall_slope  num_peaks  largest_force_drop  curve_shape\n",
      "0    2325.013184          0                   0     0.033168\n"
     ]
    }
   ],
   "source": [
    "def extract_simple_features(df):\n",
    "    res = df[\"resistance\"]\n",
    "    dep = df[\"depth\"]\n",
    "\n",
    "    return pd.DataFrame({\n",
    "        \"overall_slope\": [res.max() / dep.max()],\n",
    "        # \"max_depth\": [dep.max()],\n",
    "        # \"max_resistance\": [res.max()],\n",
    "        \"num_peaks\": len(find_force_drop_subranges(df,0.1)),\n",
    "        \"largest_force_drop\": find_largest_force_drop(df, find_force_drop_subranges(df, 0.05))[0],\n",
    "        \"curve_shape\": find_curve_shape(df),\n",
    "        # \"largest_force_drop_level\": find_largest_force_drop(df, find_force_drop_subranges(df, 0.15))[1]\n",
    "    })\n",
    "\n",
    "# shape (n,m) where n is number of df and m is extracted feaetures\n",
    "representation_list = []\n",
    "for i, df in enumerate(df_list):\n",
    "    extracted_simple_features = extract_simple_features(df)\n",
    "    representation_list.append(extracted_simple_features)\n",
    "print(f\"example: {representation_list[0]}\")"
   ]
  },
  {
   "cell_type": "markdown",
   "id": "edde5356",
   "metadata": {},
   "source": [
    "# Correlation Matrix"
   ]
  },
  {
   "cell_type": "code",
   "execution_count": 6,
   "id": "6d2b264f",
   "metadata": {},
   "outputs": [
    {
     "name": "stdout",
     "output_type": "stream",
     "text": [
      "                    overall_slope  num_peaks  largest_force_drop  curve_shape\n",
      "overall_slope            1.000000  -0.324186           -0.316209     0.047448\n",
      "num_peaks               -0.324186   1.000000            0.432386     0.096808\n",
      "largest_force_drop      -0.316209   0.432386            1.000000    -0.096915\n",
      "curve_shape              0.047448   0.096808           -0.096915     1.000000\n"
     ]
    }
   ],
   "source": [
    "representation_df = pd.concat(representation_list, axis=0, ignore_index=True)\n",
    "corr_matrix = representation_df.corr()\n",
    "print(corr_matrix)"
   ]
  },
  {
   "cell_type": "markdown",
   "id": "88a831a9",
   "metadata": {},
   "source": [
    "# Visualize Extracted Features Histograms"
   ]
  },
  {
   "cell_type": "code",
   "execution_count": 7,
   "id": "596d13d7",
   "metadata": {},
   "outputs": [
    {
     "data": {
      "image/png": "[encoded data removed]",
      "text/plain": [
       "<Figure size 1000x600 with 4 Axes>"
      ]
     },
     "metadata": {},
     "output_type": "display_data"
    }
   ],
   "source": [
    "import math\n",
    "\n",
    "def find_plot_dimensions(n):\n",
    "    for i in range(int(math.sqrt(n)), 0, -1):\n",
    "        if n % i == 0:\n",
    "            # prime\n",
    "            if i == 1 or n % i == 1: return find_plot_dimensions(n+1)\n",
    "            else: return i, n // i\n",
    "\n",
    "def plot_feature_dist(representation_df):\n",
    "    # for col in representation_df.columns:\n",
    "    x, y = find_plot_dimensions(len(representation_df.columns))\n",
    "    fig, axs = plt.subplots(x,y,figsize=(10,6))\n",
    "    fig.suptitle('Feature Histograms')\n",
    "    for i, ax in enumerate(axs.flatten()):\n",
    "        if i > len(representation_df.columns)-1: break\n",
    "        col = representation_df.columns[i]\n",
    "        ax.hist(representation_df[col], bins=60, density=True)\n",
    "        ax.set_title(f\"{col.title()} Histogram\", fontsize=8)\n",
    "    plt.tight_layout()\n",
    "    plt.show()\n",
    "\n",
    "plot_feature_dist(representation_df)"
   ]
  },
  {
   "cell_type": "markdown",
   "id": "3e52a5db",
   "metadata": {},
   "source": [
    "# Scale Features"
   ]
  },
  {
   "cell_type": "code",
   "execution_count": 8,
   "id": "35451635",
   "metadata": {},
   "outputs": [
    {
     "name": "stdout",
     "output_type": "stream",
     "text": [
      "   overall_slope  num_peaks  largest_force_drop  curve_shape\n",
      "0       0.388325  -0.604250           -0.851451     0.729832\n",
      "1       0.375944  -0.604250            0.503095    -0.659030\n",
      "2      -0.379583  -0.604250            0.133209    -0.863595\n",
      "3       2.157799  -0.604250           -0.851451     0.328081\n",
      "4      -0.574417   1.109622            0.957454     0.685768\n"
     ]
    },
    {
     "data": {
      "image/png": "[encoded data removed]",
      "text/plain": [
       "<Figure size 1000x600 with 4 Axes>"
      ]
     },
     "metadata": {},
     "output_type": "display_data"
    }
   ],
   "source": [
    "def transform_features(df):\n",
    "    df = df.copy()  # avoid modifying original\n",
    "    # Apply cube root to 'slope'\n",
    "    if \"overall_slope\" in df.columns: df['overall_slope'] = np.log(df['overall_slope'])\n",
    "    if \"peaks\" in df.columns: df['peaks'] = np.log(df['peaks'] + 1)\n",
    "    if \"peaks_value\" in df.columns: df[\"peaks_value\"] = np.log(df['peaks_value'])\n",
    "    if 'force_drop' in df.columns: df['force_drop'] = np.log(df['force_drop'] + 1)\n",
    "    if 'largest_force_drop_level' in df.columns: df['largest_force_drop_level'] = np.log(df['largest_force_drop_level'] + 1)\n",
    "    # Standardize\n",
    "    scaler = StandardScaler()\n",
    "    df[df.columns] = scaler.fit_transform(df[df.columns])\n",
    "    return df\n",
    "\n",
    "scaled_representations = transform_features(representation_df)\n",
    "print(scaled_representations[:5])\n",
    "plot_feature_dist(scaled_representations)\n"
   ]
  },
  {
   "cell_type": "markdown",
   "id": "e99ccaf3",
   "metadata": {},
   "source": [
    "# Add Meta-Data"
   ]
  },
  {
   "cell_type": "markdown",
   "id": "c09d712d",
   "metadata": {},
   "source": [
    "### Add FeiFei's y_labels"
   ]
  },
  {
   "cell_type": "code",
   "execution_count": 9,
   "id": "4198f9c7",
   "metadata": {},
   "outputs": [],
   "source": [
    "scaled_representations['filenames'] = filename_list\n",
    "\n",
    "feifeis_filename_to_labels = {'WS23_L2_T1_P_3.csv': 'biotic crust', 'WS23_L2_T1_P_4.csv': 'biotic crust', 'WS23_L2_T1_P_6.csv': 'biotic crust', \n",
    "    'WS23_L2_T1_P_7.csv': 'biotic crust with surface nodules', 'WS23_L2_T1_P_8.csv': 'biotic crust with surface nodules', \n",
    "    'WS23_L2_T1_P_11.csv': 'strata', 'WS23_L2_T1_P_12.csv': 'strata', 'WS23_L2_T1_P_13.csv': 'crusty ripple', \n",
    "    'WS23_L2_T1_P_14.csv': 'strata', 'WS23_L2_T1_P_15.csv': 'strata', 'WS23_L2_T1_P_16.csv': 'abiotic crust on top of strata', \n",
    "    'WS23_L3_T1_P_1.csv': 'abiotic crust', 'WS23_L3_T1_P_3.csv': 'strong biotic crust', 'WS23_L3_T1_P_4.csv': 'abiotic crust', \n",
    "    'WS23_L3_T1_P_5.csv': 'abiotic crust', 'WS23_L3_T1_P_6.csv': 'abiotic crust', 'WS23_L3_T1_P_7.csv': 'abiotic crust', \n",
    "    'WS23_L3_T1_P_8.csv': 'abiotic crust', 'WS23_L3_T1_P_9.csv': 'strata', 'WS23_L3_T1_P_10.csv': 'crusty ripple', \n",
    "    'WS23_L3_T1_P_11.csv': 'crusty ripple', 'WS23_L3_T1_P_12.csv': 'crusty ripple', 'WS23_L3_T1_P_13.csv': 'crusty ripple', \n",
    "    'WS23_L3_T1_P_15.csv': 'crusty ripple', 'WS23_L3_T1_P_16.csv': 'crusty ripple', 'WS23_L3_T1_P_17.csv': 'crusty ripple', \n",
    "    'WS23_L3_T1_P_18.csv': 'crusty ripple', 'WS23_L3_T1_P_19.csv': 'abiotic crust with surface nodule', \n",
    "    'WS23_L3_T1_P_20.csv': 'crusty ripple', 'WS23_L3_T1_P_21.csv': 'crusty ripple', 'WS23_L3_T1_P_22.csv': 'strata', \n",
    "    'WS23_L3_T1_P_23.csv': 'strata with loose sand on top'}\n",
    "\n",
    "scaled_representations['feifeis_ylabels'] = scaled_representations['filenames'].map(feifeis_filename_to_labels)"
   ]
  },
  {
   "cell_type": "markdown",
   "id": "9a8219d7",
   "metadata": {},
   "source": [
    "### Add Liam's y_labels "
   ]
  },
  {
   "cell_type": "code",
   "execution_count": 10,
   "id": "870d3c6f",
   "metadata": {},
   "outputs": [],
   "source": [
    "liams_filenames_to_ylabels = {'WS23_L3_T1_P_16.csv': 0, 'WS23_L1_T1_P_8.csv': 0, 'WS23_L3_T1_P_11.csv': 0, 'WS23_L2_T1_P_14.csv': 0, 'WS23_L1_T1_P_23.csv': 0, \n",
    "                       'WS23_L2_T2_P_0.csv': 0, 'WS23_L1_T1_P_7.csv': 0, 'WS23_L1_T1_P_12.csv': 0, 'WS23_L3_T1_P_33.csv': 0, 'WS23_L2_T1_P_10.csv': 0, \n",
    "                       'WS23_L1_T1_P_4.csv': 0, 'WS23_L1_T1_P_3.csv': 0, 'WS23_L3_T1_P_13.csv': 0, 'WS23_L1_T1_P_22.csv': 0, 'WS23_L1_T1_P_10.csv': 0, \n",
    "                       'WS23_L3_T1_P_12.csv': 0, 'WS23_L1_T1_P_13.csv': 0, 'WS23_L3_T1_P_20.csv': 0, 'WS23_L3_T1_P_31.csv': 0, 'WS23_L2_T1_P_4.csv': 1, \n",
    "                       'WS23_L2_T2_P_2.csv': 1, 'WS23_L2_T2_P_4.csv': 1, 'WS23_L1_T1_P_15.csv': 1, 'WS23_L3_T1_P_3.csv': 1, 'WS23_L3_T1_P_18.csv': 1, \n",
    "                       'WS23_L1_T1_P_17.csv': 2, 'WS23_L3_T1_P_9.csv': 2, 'WS23_L2_T1_P_12.csv': 2, 'WS23_L1_T1_P_11.csv': 2, 'WS23_L3_T1_P_22.csv': 2, \n",
    "                       'WS23_L2_T1_P_15.csv': 2, 'WS23_L1_T1_P_20.csv': 2, 'WS23_L2_T1_P_11.csv': 2, 'WS23_L1_T1_P_18.csv': 2, 'WS23_L1_T1_P_21.csv': 3, \n",
    "                       'WS23_L1_T1_P_9.csv': 3, 'WS23_L3_T1_P_23.csv': 3, 'WS23_L1_T1_P_16.csv': 4, 'WS23_L1_T1_P_14.csv': 4, 'WS23_L3_T1_P_15.csv': 4, \n",
    "                       'WS23_L3_T1_P_25.csv': 5, 'WS23_L1_T1_P_5.csv': 5, 'WS23_L3_T1_P_27.csv': 5, 'WS23_L1_T1_P_1.csv': 5, 'WS23_L3_T1_P_26.csv': 5, \n",
    "                       'WS23_L2_T1_P_9.csv': 6, 'WS23_L3_T1_P_2.csv': 6, 'WS23_L2_T2_P_1.csv': 6, 'WS23_L3_T1_P_30.csv': 6, 'WS23_L2_T1_P_0.csv': 6, \n",
    "                       'WS23_L2_T1_P_13.csv': 7, 'WS23_L3_T1_P_17.csv': 7, 'WS23_L3_T1_P_21.csv': 7, 'WS23_L2_T1_P_6.csv': 8, 'WS23_L3_T1_P_29.csv': 8, \n",
    "                       'WS23_L2_T1_P_8.csv': 8, 'WS23_L3_T1_P_6.csv': 8, 'WS23_L3_T1_P_0.csv': 8, 'WS23_L2_T1_P_3.csv': 8, 'WS23_L3_T1_P_5.csv': 8, \n",
    "                       'WS23_L3_T1_P_24.csv': 8, 'WS23_L1_T1_P_0.csv': 8, 'WS23_L1_T1_P_19.csv': 8, 'WS23_L3_T1_P_19.csv': 8, 'WS23_L2_T1_P_17.csv': 8, \n",
    "                       'WS23_L1_T1_P_2.csv': 8, 'WS23_L2_T1_P_7.csv': 8, 'WS23_L2_T2_P_3.csv': 9, 'WS23_L2_T1_P_16.csv': 9, 'WS23_L3_T1_P_4.csv': 9, \n",
    "                       'WS23_L1_T1_P_6.csv': 9, 'WS23_L3_T1_P_8.csv': 9, 'WS23_L3_T1_P_7.csv': 9, 'WS23_L2_T1_P_2.csv': 10, 'WS23_L2_T1_P_5.csv': 10, \n",
    "                       'WS23_L3_T1_P_32.csv': 10, 'WS23_L3_T1_P_1.csv': 10, 'WS23_L2_T1_P_1.csv': 10, 'WS23_L3_T1_P_14.csv': 11, 'WS23_L3_T1_P_10.csv': 11}\n",
    "\n",
    "scaled_representations['liams_ylabels'] = scaled_representations['filenames'].map(liams_filenames_to_ylabels)"
   ]
  },
  {
   "cell_type": "markdown",
   "id": "049cd125",
   "metadata": {},
   "source": [
    "### Add Marion's y_labels"
   ]
  },
  {
   "cell_type": "code",
   "execution_count": 11,
   "id": "2f898978",
   "metadata": {},
   "outputs": [],
   "source": [
    "marions_filenames_to_ylabels = {\n",
    "    \"WS23_L3_T1_P_0.csv\": 'LS', \"WS23_L3_T1_P_1.csv\": 'ES-B', \"WS23_L3_T1_P_2.csv\": 'ES-B', \"WS23_L3_T1_P_3.csv\": 'ES-S',\n",
    "    \"WS23_L3_T1_P_4.csv\": 'ES-B', \"WS23_L3_T1_P_5.csv\": 'ES-Bw', \"WS23_L3_T1_P_6.csv\": 'ES-Bw', \"WS23_L3_T1_P_7.csv\": 'ES-Bw',\n",
    "    \"WS23_L3_T1_P_8.csv\": 'ES-Bw', \"WS23_L3_T1_P_9.csv\": 'F', \"WS23_L3_T1_P_10.csv\": 'ES-D', \"WS23_L3_T1_P_11.csv\": 'ES',\n",
    "    \"WS23_L3_T1_P_12.csv\": 'F', \"WS23_L3_T1_P_13.csv\": 'F', \"WS23_L3_T1_P_14.csv\": 'ES-D', \"WS23_L3_T1_P_15.csv\": 'ES-D',\n",
    "    \"WS23_L3_T1_P_16.csv\": 'ES-B', \"WS23_L3_T1_P_17.csv\": 'ES', \"WS23_L3_T1_P_18.csv\": 'ES-S', \"WS23_L3_T1_P_19.csv\": 'ES-S',\n",
    "    \"WS23_L3_T1_P_20.csv\": 'LS/F', \"WS23_L3_T1_P_21.csv\": 'ES', \"WS23_L3_T1_P_22.csv\": 'ES', \"WS23_L3_T1_P_23.csv\": 'LS'\n",
    "}\n",
    "\n",
    "scaled_representations['marions_ylabels'] = scaled_representations['filenames'].map(marions_filenames_to_ylabels)"
   ]
  },
  {
   "cell_type": "markdown",
   "id": "f77b7e2d",
   "metadata": {},
   "source": [
    "### Add feet from dune"
   ]
  },
  {
   "cell_type": "code",
   "execution_count": 12,
   "id": "7888daf8",
   "metadata": {},
   "outputs": [
    {
     "name": "stdout",
     "output_type": "stream",
     "text": [
      "    overall_slope  num_peaks  largest_force_drop  curve_shape  \\\n",
      "0        0.388325  -0.604250           -0.851451     0.729832   \n",
      "1        0.375944  -0.604250            0.503095    -0.659030   \n",
      "2       -0.379583  -0.604250            0.133209    -0.863595   \n",
      "3        2.157799  -0.604250           -0.851451     0.328081   \n",
      "4       -0.574417   1.109622            0.957454     0.685768   \n",
      "..            ...        ...                 ...          ...   \n",
      "73       0.806681  -0.604250           -0.851451     0.422459   \n",
      "74      -0.061308   1.109622            1.093174    -0.790776   \n",
      "75       2.453609  -0.604250           -0.851451     0.165543   \n",
      "76      -0.374962  -0.604250           -0.570790    -0.084772   \n",
      "77      -1.858353   2.823494           -0.012681    -0.194692   \n",
      "\n",
      "              filenames                    feifeis_ylabels  liams_ylabels  \\\n",
      "0   WS23_L3_T1_P_16.csv                      crusty ripple              0   \n",
      "1    WS23_L2_T2_P_3.csv                                NaN              9   \n",
      "2    WS23_L2_T1_P_4.csv                       biotic crust              1   \n",
      "3   WS23_L1_T1_P_17.csv                                NaN              2   \n",
      "4    WS23_L2_T2_P_2.csv                                NaN              1   \n",
      "..                  ...                                ...            ...   \n",
      "73  WS23_L3_T1_P_31.csv                                NaN              0   \n",
      "74  WS23_L3_T1_P_10.csv                      crusty ripple             11   \n",
      "75  WS23_L1_T1_P_18.csv                                NaN              2   \n",
      "76  WS23_L3_T1_P_26.csv                                NaN              5   \n",
      "77   WS23_L2_T1_P_7.csv  biotic crust with surface nodules              8   \n",
      "\n",
      "   marions_ylabels  distances  \n",
      "0             ES-B      317.0  \n",
      "1              NaN       20.0  \n",
      "2              NaN       16.0  \n",
      "3              NaN      152.0  \n",
      "4              NaN       11.0  \n",
      "..             ...        ...  \n",
      "73             NaN        NaN  \n",
      "74            ES-D      188.0  \n",
      "75             NaN      153.0  \n",
      "76             NaN        NaN  \n",
      "77             NaN       64.0  \n",
      "\n",
      "[78 rows x 9 columns]\n"
     ]
    }
   ],
   "source": [
    "filenames_list = ['WS23_L1_T1_P_0.csv', 'WS23_L1_T1_P_1.csv', 'WS23_L1_T1_P_2.csv', 'WS23_L1_T1_P_3.csv', 'WS23_L1_T1_P_4.csv', 'WS23_L1_T1_P_5.csv', 'WS23_L1_T1_P_6.csv', 'WS23_L1_T1_P_7.csv', 'WS23_L1_T1_P_8.csv', 'WS23_L1_T1_P_9.csv', 'WS23_L1_T1_P_10.csv', 'WS23_L1_T1_P_11.csv', 'WS23_L1_T1_P_12.csv', 'WS23_L1_T1_P_13.csv', 'WS23_L1_T1_P_14.csv', 'WS23_L1_T1_P_15.csv', 'WS23_L1_T1_P_16.csv', 'WS23_L1_T1_P_17.csv', 'WS23_L1_T1_P_18.csv', 'WS23_L1_T1_P_19.csv', 'WS23_L2_T1_P_0.csv', 'WS23_L2_T1_P_1.csv', 'WS23_L2_T1_P_2.csv', 'WS23_L2_T1_P_3.csv', 'WS23_L2_T1_P_4.csv', 'WS23_L2_T1_P_5.csv', 'WS23_L2_T1_P_6.csv', 'WS23_L2_T1_P_7.csv', 'WS23_L2_T1_P_8.csv', 'WS23_L2_T1_P_9.csv', 'WS23_L2_T1_P_10.csv', 'WS23_L2_T1_P_11.csv', 'WS23_L2_T1_P_12.csv', 'WS23_L2_T1_P_13.csv', 'WS23_L2_T1_P_14.csv', 'WS23_L2_T1_P_15.csv', 'WS23_L2_T1_P_16.csv', 'WS23_L2_T1_P_17.csv', 'WS23_L2_T2_P_0.csv', 'WS23_L2_T2_P_1.csv', 'WS23_L2_T2_P_2.csv', 'WS23_L2_T2_P_3.csv', 'WS23_L2_T2_P_4.csv', 'WS23_L3_T1_P_0.csv', 'WS23_L3_T1_P_1.csv', 'WS23_L3_T1_P_2.csv', 'WS23_L3_T1_P_3.csv', 'WS23_L3_T1_P_4.csv', 'WS23_L3_T1_P_5.csv', 'WS23_L3_T1_P_6.csv', 'WS23_L3_T1_P_7.csv', 'WS23_L3_T1_P_8.csv', 'WS23_L3_T1_P_9.csv', 'WS23_L3_T1_P_10.csv', 'WS23_L3_T1_P_11.csv', 'WS23_L3_T1_P_12.csv', 'WS23_L3_T1_P_13.csv', 'WS23_L3_T1_P_14.csv', 'WS23_L3_T1_P_15.csv', 'WS23_L3_T1_P_16.csv', 'WS23_L3_T1_P_17.csv', 'WS23_L3_T1_P_18.csv', 'WS23_L3_T1_P_19.csv', 'WS23_L3_T1_P_20.csv', 'WS23_L3_T1_P_21.csv', 'WS23_L3_T1_P_22.csv', 'WS23_L3_T1_P_23.csv']\n",
    "distances_list = [0, 3, 5.5, 10.5, 12, 14, 38, 41.5, 44, 47, 51, 90, 93, 96, 102, 107, 151, 152, 153, 170, 3.25, 0, 6, 13, 16, 19, 24, 64, 67, 72, 75, 87, 88, 88, 91, 95, 112, 116, 0, 4, 11, 20, 27, 0, 10, 16, 19, 40, 49, 98, 160, 161, 187, 188, 229, 253, 254, 255, 308, 317, 318, 353, 357, 363, 369, 384, 389]\n",
    "\n",
    "filenames_to_distances = dict(zip(filenames_list, distances_list))\n",
    "scaled_representations['distances'] = scaled_representations['filenames'].map(filenames_to_distances)\n",
    "print(scaled_representations)"
   ]
  },
  {
   "cell_type": "markdown",
   "id": "e73a2c3f",
   "metadata": {},
   "source": [
    "# Save representation"
   ]
  },
  {
   "cell_type": "code",
   "execution_count": 13,
   "id": "248dd816",
   "metadata": {},
   "outputs": [
    {
     "name": "stdout",
     "output_type": "stream",
     "text": [
      "    overall_slope  num_peaks  largest_force_drop  curve_shape  \\\n",
      "0        0.388325  -0.604250           -0.851451     0.729832   \n",
      "1        0.375944  -0.604250            0.503095    -0.659030   \n",
      "2       -0.379583  -0.604250            0.133209    -0.863595   \n",
      "3        2.157799  -0.604250           -0.851451     0.328081   \n",
      "4       -0.574417   1.109622            0.957454     0.685768   \n",
      "..            ...        ...                 ...          ...   \n",
      "73       0.806681  -0.604250           -0.851451     0.422459   \n",
      "74      -0.061308   1.109622            1.093174    -0.790776   \n",
      "75       2.453609  -0.604250           -0.851451     0.165543   \n",
      "76      -0.374962  -0.604250           -0.570790    -0.084772   \n",
      "77      -1.858353   2.823494           -0.012681    -0.194692   \n",
      "\n",
      "              filenames                    feifeis_ylabels  liams_ylabels  \\\n",
      "0   WS23_L3_T1_P_16.csv                      crusty ripple              0   \n",
      "1    WS23_L2_T2_P_3.csv                                NaN              9   \n",
      "2    WS23_L2_T1_P_4.csv                       biotic crust              1   \n",
      "3   WS23_L1_T1_P_17.csv                                NaN              2   \n",
      "4    WS23_L2_T2_P_2.csv                                NaN              1   \n",
      "..                  ...                                ...            ...   \n",
      "73  WS23_L3_T1_P_31.csv                                NaN              0   \n",
      "74  WS23_L3_T1_P_10.csv                      crusty ripple             11   \n",
      "75  WS23_L1_T1_P_18.csv                                NaN              2   \n",
      "76  WS23_L3_T1_P_26.csv                                NaN              5   \n",
      "77   WS23_L2_T1_P_7.csv  biotic crust with surface nodules              8   \n",
      "\n",
      "   marions_ylabels  distances  \n",
      "0             ES-B      317.0  \n",
      "1              NaN       20.0  \n",
      "2              NaN       16.0  \n",
      "3              NaN      152.0  \n",
      "4              NaN       11.0  \n",
      "..             ...        ...  \n",
      "73             NaN        NaN  \n",
      "74            ES-D      188.0  \n",
      "75             NaN      153.0  \n",
      "76             NaN        NaN  \n",
      "77             NaN       64.0  \n",
      "\n",
      "[78 rows x 9 columns]\n"
     ]
    }
   ],
   "source": [
    "scaled_representations.to_csv(f\"data/features.csv\", index=False)\n",
    "print(scaled_representations)"
   ]
  }
 ],
 "metadata": {
  "kernelspec": {
   "display_name": "env3.13",
   "language": "python",
   "name": "python3"
  },
  "language_info": {
   "codemirror_mode": {
    "name": "ipython",
    "version": 3
   },
   "file_extension": ".py",
   "mimetype": "text/x-python",
   "name": "python",
   "nbconvert_exporter": "python",
   "pygments_lexer": "ipython3",
   "version": "3.13.1"
  }
 },
 "nbformat": 4,
 "nbformat_minor": 5
}

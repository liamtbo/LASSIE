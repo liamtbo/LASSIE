{
 "cells": [
  {
   "cell_type": "code",
   "execution_count": 198,
   "id": "38dc9f62",
   "metadata": {},
   "outputs": [],
   "source": [
    "import pandas as pd\n",
    "import os\n",
    "import plotting\n",
    "import importlib\n",
    "importlib.reload(plotting)\n",
    "import math\n",
    "from typing import List\n",
    "pd.options.display.max_rows = 4000"
   ]
  },
  {
   "cell_type": "code",
   "execution_count": 199,
   "id": "28145bf8",
   "metadata": {},
   "outputs": [],
   "source": [
    "def load_data(data_src):\n",
    "    curve_data = [] # used for plotting\n",
    "    filename_list = []\n",
    "    for filename in os.listdir(data_src):\n",
    "        df = pd.read_csv(f\"{data_src}/{filename}\")\n",
    "        curve_data.append(df)\n",
    "        filename_list.append(filename)\n",
    "    return curve_data, filename_list\n",
    "\n",
    "data_src = \"data/cleaned_data\"\n",
    "curve_data, filename_list = load_data(data_src)\n",
    "filename_to_depth_resist = dict(zip(filename_list, curve_data))"
   ]
  },
  {
   "cell_type": "code",
   "execution_count": 200,
   "id": "ddf10886",
   "metadata": {},
   "outputs": [
    {
     "name": "stdout",
     "output_type": "stream",
     "text": [
      "marions_labeled_data: \n",
      "   max_depth  max_resistance  num_peaks  largest_force_drop  curve_shape  \\\n",
      "0  -0.406696        0.739042  -0.696539           -0.667883     0.729832   \n",
      "2   0.562019       -0.214852  -0.696539            0.019005    -0.863595   \n",
      "8  -0.706037        0.819788  -0.696539           -0.892456     0.958138   \n",
      "\n",
      "             filenames marions_ylabels marions_ylabels_deduction  \n",
      "0  WS23_L3_T1_P_16.csv            ES-B                      ES-B  \n",
      "2   WS23_L2_T1_P_4.csv              LS                        LS  \n",
      "8  WS23_L3_T1_P_11.csv              ES                        ES  \n"
     ]
    }
   ],
   "source": [
    "data_features = pd.read_csv(\"data/features.csv\")\n",
    "data_features = plotting.extract_needed_cols(data_features, remove_cols=['feifeis_ylabels', 'liams_ylabels', 'distances'])\n",
    "clustering_features = plotting.extract_numerical_features(data_features)\n",
    "\n",
    "\n",
    "ylabel_name = 'marions_ylabels'\n",
    "# ylabel_name = 'marions_ylabels_deduction'\n",
    "ylabel_to_cluster_num = {'ES-B':0, 'ES-BW':1, 'ES-S':2, 'ES-S-Plates':3, 'ES-D':4, 'LS':5, 'F':6, 'LS/F':7, 'ES-DB':8, 'ES': 9}\n",
    "marions_labeled_data = data_features[data_features[ylabel_name].notna()].copy() # removes NaN's which correspond to non-labled data\n",
    "print(f'marions_labeled_data: \\n{marions_labeled_data[:3]}')"
   ]
  },
  {
   "cell_type": "code",
   "execution_count": 201,
   "id": "b223ccc1",
   "metadata": {},
   "outputs": [
    {
     "name": "stdout",
     "output_type": "stream",
     "text": [
      "label_centroids:    max_depth  max_resistance  num_peaks  largest_force_drop  curve_shape  \\\n",
      "0   0.483674       -0.667625   0.758579            1.222541    -0.242044   \n",
      "1   1.073232       -0.741647   0.997133            1.350072    -1.201000   \n",
      "2   0.213622       -0.005907  -0.158188           -0.453253     0.611964   \n",
      "\n",
      "  marions_ylabels  marions_ylabels_nums  \n",
      "0            ES-B                     0  \n",
      "1           ES-BW                     1  \n",
      "2            ES-S                     2  \n"
     ]
    }
   ],
   "source": [
    "def find_labels_centroids(labeled_data: pd.DataFrame, ylabel_to_cluster_num:dict[str,int], ylabel_name:str) -> pd.DataFrame:\n",
    "    labeled_data = labeled_data.copy()\n",
    "    numerical_data = plotting.extract_numerical_features(labeled_data)\n",
    "    label_centroids = []\n",
    "    for label, label_num in ylabel_to_cluster_num.items():\n",
    "        if label not in labeled_data[ylabel_name].values: continue\n",
    "        label_data = numerical_data[labeled_data[ylabel_name] == label]\n",
    "        label_centroid = label_data.mean(axis=0).tolist() # drop cols for mean calculation\n",
    "        label_centroid.extend([label, label_num]) # append these onto the end\n",
    "        label_centroids.append(label_centroid)\n",
    "    return_cols = numerical_data.columns.tolist()\n",
    "    return_cols.extend([ylabel_name, f'{ylabel_name}_nums'])\n",
    "    return pd.DataFrame(data=label_centroids, columns=return_cols)\n",
    "\n",
    "label_centroids = find_labels_centroids(marions_labeled_data, ylabel_to_cluster_num, ylabel_name)\n",
    "print(f'label_centroids: {label_centroids[:3]}')"
   ]
  },
  {
   "cell_type": "code",
   "execution_count": 202,
   "id": "ffbe018c",
   "metadata": {},
   "outputs": [
    {
     "name": "stdout",
     "output_type": "stream",
     "text": [
      "pseudo_labeled_data: \n",
      "   max_depth  max_resistance  num_peaks  largest_force_drop  curve_shape  \\\n",
      "0  -0.406696        0.739042  -0.696539           -0.667883     0.729832   \n",
      "1  -0.422131        0.660764  -0.696539            0.422346    -0.659030   \n",
      "2   0.562019       -0.214852  -0.696539            0.019005    -0.863595   \n",
      "\n",
      "  pseudo_marions_ylabels  pseudo_marions_ylabels_nums            filenames  \\\n",
      "0                      F                            6  WS23_L3_T1_P_16.csv   \n",
      "1                      F                            6   WS23_L2_T2_P_3.csv   \n",
      "2                     LS                            5   WS23_L2_T1_P_4.csv   \n",
      "\n",
      "  marions_ylabels marions_ylabels_deduction  \n",
      "0            ES-B                      ES-B  \n",
      "1             NaN                       NaN  \n",
      "2              LS                        LS  \n"
     ]
    }
   ],
   "source": [
    "def euclidean_distance(x: pd.Series, y: pd.Series) -> float:\n",
    "    return math.sqrt(((y - x) ** 2).sum())\n",
    "\n",
    "def find_closest_centroid(unlabeled_data:pd.DataFrame, marions_centroids:pd.DataFrame, ylabel_name) -> pd.DataFrame:\n",
    "    unlabeled_num_data = plotting.extract_numerical_features(unlabeled_data) # returns a new object\n",
    "    unlabeled_non_num_data = unlabeled_data.drop(unlabeled_num_data.columns, axis=1)\n",
    "    \n",
    "    pseudo_label_list = []\n",
    "    pseudo_label_num_list = []\n",
    "    unlabeled_num_data = unlabeled_num_data.copy()\n",
    "    for i, depth_res_curve in unlabeled_num_data.iterrows():\n",
    "        min_distance = float('inf')\n",
    "        min_distance_label = ''\n",
    "        min_distance_label_num = 0\n",
    "        for j, marions_label_centroid in marions_centroids.iterrows():\n",
    "            curve_to_label_mean_distance = euclidean_distance(depth_res_curve, marions_label_centroid)\n",
    "            if curve_to_label_mean_distance < min_distance:\n",
    "                min_distance = curve_to_label_mean_distance\n",
    "                min_distance_label = marions_label_centroid[ylabel_name]\n",
    "                min_distance_label_num = marions_label_centroid[f'{ylabel_name}_nums']\n",
    "        pseudo_label_list.append(min_distance_label)\n",
    "        pseudo_label_num_list.append(min_distance_label_num)\n",
    "    unlabeled_num_data[f'pseudo_{ylabel_name}'] = pseudo_label_list\n",
    "    unlabeled_num_data[f'pseudo_{ylabel_name}_nums'] = pseudo_label_num_list\n",
    "\n",
    "    return pd.concat([unlabeled_num_data, unlabeled_non_num_data], axis=1)\n",
    "\n",
    "pseudo_labeled_data = find_closest_centroid(data_features, label_centroids, ylabel_name)\n",
    "print(f'pseudo_labeled_data: \\n{pseudo_labeled_data[:3]}')"
   ]
  },
  {
   "cell_type": "code",
   "execution_count": 203,
   "id": "28a6dbf4",
   "metadata": {},
   "outputs": [
    {
     "name": "stdout",
     "output_type": "stream",
     "text": [
      "WS23_L3_T1_P_16.csv changed label ES-B -> F\n",
      "WS23_L3_T1_P_11.csv changed label ES -> F\n",
      "WS23_L2_T1_P_12.csv changed label ES-S -> LS/F\n",
      "WS23_L2_T1_P_9.csv changed label ES-S -> LS\n",
      "WS23_L2_T1_P_13.csv changed label ES-D -> ES\n",
      "WS23_L2_T1_P_6.csv changed label ES-D -> LS\n",
      "WS23_L2_T1_P_2.csv changed label LS -> ES-D\n",
      "WS23_L2_T1_P_10.csv changed label ES-D -> F\n",
      "WS23_L3_T1_P_15.csv changed label ES-D -> ES-S\n",
      "WS23_L3_T1_P_1.csv changed label ES-B -> ES-S-Plates\n",
      "WS23_L3_T1_P_0.csv changed label LS -> ES-S-Plates\n",
      "WS23_L3_T1_P_13.csv changed label F -> ES-D\n",
      "WS23_L2_T1_P_1.csv changed label LS -> ES-S-Plates\n",
      "WS23_L3_T1_P_3.csv changed label ES-S -> ES-S-Plates\n",
      "WS23_L2_T1_P_3.csv changed label ES-D -> ES-S-Plates\n",
      "WS23_L3_T1_P_22.csv changed label ES -> F\n",
      "WS23_L3_T1_P_2.csv changed label ES-B -> ES-DB\n",
      "WS23_L3_T1_P_5.csv changed label ES-B -> ES-BW\n",
      "WS23_L2_T1_P_15.csv changed label ES-D -> F\n",
      "WS23_L3_T1_P_14.csv changed label ES-D -> ES-BW\n",
      "WS23_L3_T1_P_23.csv changed label LS -> LS/F\n",
      "WS23_L3_T1_P_7.csv changed label ES-B -> ES-BW\n",
      "WS23_L2_T1_P_17.csv changed label ES-S -> ES-S-Plates\n",
      "WS23_L3_T1_P_21.csv changed label ES -> ES-DB\n",
      "WS23_L2_T1_P_11.csv changed label ES-D -> F\n",
      "WS23_L3_T1_P_10.csv changed label ES-D -> ES-DB\n",
      "WS23_L2_T1_P_7.csv changed label ES-D -> ES-BW\n",
      "changed_ylabel_idxs: [0, 8, 13, 15, 16, 19, 22, 33, 37, 39, 41, 43, 44, 46, 47, 48, 49, 53, 54, 55, 62, 63, 68, 71, 72, 74, 77]\n"
     ]
    }
   ],
   "source": [
    "def find_changed_ylabel_data(labeled_data:pd.DataFrame, pseudo_labeled_data:pd.DataFrame, ylabel_name:str):\n",
    "    ylabel_idxs = labeled_data.index # idxs of labeled data points\n",
    "    pseudo_labels_of_labeled_data = pseudo_labeled_data.loc[ylabel_idxs]\n",
    "    diff_mask = (labeled_data[ylabel_name] != pseudo_labels_of_labeled_data[f'pseudo_{ylabel_name}'])\n",
    "    changed_label_idxs = labeled_data[diff_mask].index.tolist()\n",
    "    for i in changed_label_idxs:\n",
    "        print(f'{labeled_data['filenames'].loc[i]} changed label {labeled_data[f'{ylabel_name}'].loc[i]} -> {pseudo_labeled_data[f'pseudo_{ylabel_name}'].loc[i]}')\n",
    "    return changed_label_idxs\n",
    "\n",
    "changed_ylabel_idxs = find_changed_ylabel_data(marions_labeled_data, pseudo_labeled_data, ylabel_name)\n",
    "print(f'changed_ylabel_idxs: {changed_ylabel_idxs}')"
   ]
  },
  {
   "cell_type": "markdown",
   "id": "88b40798",
   "metadata": {},
   "source": [
    "# Plot Labeled Data Only"
   ]
  },
  {
   "cell_type": "code",
   "execution_count": 204,
   "id": "5a7c2330",
   "metadata": {},
   "outputs": [
    {
     "data": {
      "image/png": "[encoded data removed]",
      "text/plain": [
       "<Figure size 1400x600 with 10 Axes>"
      ]
     },
     "metadata": {},
     "output_type": "display_data"
    },
    {
     "data": {
      "application/vnd.plotly.v1+json": {
       "config": {
        "plotlyServerURL": "https://plot.ly"
       },
       "data": [
        {
         "mode": "text",
         "name": "Data Points",
         "text": [
          "0",
          "2",
          "8",
          "11",
          "12",
          "13",
          "15",
          "16",
          "19",
          "20",
          "22",
          "25",
          "26",
          "27",
          "30",
          "33",
          "35",
          "37",
          "39",
          "41",
          "43",
          "44",
          "46",
          "47",
          "48",
          "49",
          "50",
          "53",
          "54",
          "55",
          "56",
          "62",
          "63",
          "65",
          "66",
          "67",
          "68",
          "71",
          "72",
          "74",
          "77"
         ],
         "textfont": {
          "color": [
           "red",
           "pink",
           "magenta",
           "turquoise",
           "blue",
           "blue",
           "blue",
           "purple",
           "purple",
           "lime",
           "pink",
           "magenta",
           "red",
           "purple",
           "lime",
           "purple",
           "gold",
           "purple",
           "red",
           "pink",
           "turquoise",
           "pink",
           "blue",
           "purple",
           "magenta",
           "red",
           "gold",
           "red",
           "purple",
           "purple",
           "turquoise",
           "pink",
           "red",
           "green",
           "green",
           "orange",
           "blue",
           "magenta",
           "purple",
           "purple",
           "purple"
          ],
          "size": 8
         },
         "type": "scatter3d",
         "x": {
          "bdata": "E07NlEQt+b+GkuIMdsXJvy5QyNYNF/6/1NQcEGHyA8ArBKndYWD4v8B1IXRKpQLAah8r6M3W5b8sUpBgPuX8v9RXflXBD+4/RIbhhHHSxj8j4BegXnrhv3evxO7o3/q/nm/EBoBK6T8yRYguAgbXP7zDkeia1AtANKxBHS0C+r/GIPcdMWwFQIo1ro/bzPW/m1ZyVFLn+D/UjGDVfR4HQCBHWUShc4C/VuLFr6cE3T+knhoWZlbzP6bIt/XB3vE/WsJ0lCj5BcAYOBUOajoEQM6BJGzzhOc/AIpCA5rEAkCOyMJqXTkBwGCgmMImdfA//Wbd7FzW/7+fOOOPNyHxv0HNTkjMufM/2MP6tzFcyz+p3JHtNbr6P3Ffzq+VgP+/uk6t9+Dy7j9stm1nRWjLP3RkWzxGkgXAw0fPkuUp8D9OWOKDufAFQA==",
          "dtype": "f8"
         },
         "y": {
          "bdata": "TQRW5Ezt6j82NNTx/WPcv1k0nQ4i2fA/cpDLGI+qwz/MauOMVIrxP1MxALpMJ+K/ghMZuFzr2b8olZ51KA/jv2la/hYsI+Q/cfYBd0VMAcA6Uif0KIrPv1ebkcVrGLs/wxctdIXF8L9f2vriFOjdP4xPUsWF0uc//ClN7Z7M4D88DhND97TUP31UqAp3kPw/2VFKhSdm5D+N0GoUy7vlP8Y6B+lxCdy/hJN+iC/I5z/ssh8A+4oJQG0M+Br/rABAMO2hSVeR1D/Ap1dAHH/kv8Q1ZiBgMgbAGxcj+W+d679h4jo9f4ngP137qPJl5wHAb6pL5hhS0z+uM+bMRF4BwOPCrysiKPq/oeDGYZix9D+dOHpCuR3oP4f7+5vsZ+e/5vdf/3E+8D9y3f7qITz8vzWIOJ2m77Y/r+BnAgJn87+lDZn5AajiPw==",
          "dtype": "f8"
         },
         "z": {
          "bdata": "erSevGhktL/Z+3kM593xv8wXPCoIxKA/HWBf8RYJub8EDouel+GxvyBFM5606dy/L1ZaHROV+r8E7XO68KDxP9deuAIlQQLA9woMcfiF9z86jtHFF/Livx16uYiCd+k/MeoZ+OD/7z8DdC4aBjLKP6OOhjiTSeY/BzOEzVEa07+DWD13A4vkv8dKe3a+bOQ/NuIONmOu4j9wswSEMRvyv1wVBYvk+d8/b55u3waF8T+V9OFK8K76P7Xs2bwh+OC/ccW3pjSHyz93I3AKnUj0P5eZidXlc8o/AGAAosF77r/O9q8a2+bFvwIvR52Ne66/YBapQFfcv78eTDKeWo3+v+MrH39ussA/w+Kc5q9W8j/g1pA19lzhv2H2KloTdum/n3XeoMon77+iE7fiLX3/P+j9xmDjh6g/XSe91BGm6j8AgvGcEOXxvw==",
          "dtype": "f8"
         }
        },
        {
         "marker": {
          "color": [
           "red",
           "gold",
           "blue",
           "green",
           "purple",
           "pink",
           "turquoise",
           "orange",
           "lime",
           "magenta"
          ],
          "size": 4,
          "symbol": "diamond"
         },
         "mode": "markers",
         "type": "scatter3d",
         "x": {
          "bdata": "oe0AXTBZ8j85QQD5bU37P7L6DCBsON6/JjWRJLwl7j/e8yf2fHbMv2TfuF2mhdM/Z5aKGgL0979xX86vlYD/vyPc3wDCQf0/YzNi0A9f+L8=",
          "dtype": "f8"
         },
         "y": {
          "bdata": "Agrcr3fh3L/90wM4wZvzv5n3ZM2yues/eP6BgTpg8D8e7IBEzKfOP+1WQbhAatK/EFMvzuDTdz+H+/ub7Gfnvx3FWgtIr+a/W1CANo00sr8=",
          "dtype": "f8"
         },
         "z": {
          "bdata": "6jcUY+7L1D875LUDFNzLv6hLF53YDtO/pu6ol2lQ0z+GrbEbRQTDv6JBERQwZOe/SkpZU2Grtz9h9ipaE3bpvySppwZhVfE/DlWe/voX6D8=",
          "dtype": "f8"
         }
        },
        {
         "marker": {
          "color": "black",
          "size": 5
         },
         "mode": "markers",
         "name": "Origin",
         "showlegend": false,
         "type": "scatter3d",
         "x": [
          0
         ],
         "y": [
          0
         ],
         "z": [
          0
         ]
        },
        {
         "line": {
          "width": 4
         },
         "mode": "lines+text",
         "name": "max_depth",
         "textposition": "top center",
         "type": "scatter3d",
         "x": [
          0,
          2.8588233085564347
         ],
         "y": [
          0,
          1.0223654095427808
         ],
         "z": [
          0,
          -1.881291742303076
         ]
        },
        {
         "line": {
          "width": 4
         },
         "mode": "lines+text",
         "name": "max_resistance",
         "textposition": "top center",
         "type": "scatter3d",
         "x": [
          0,
          -2.719483925240816
         ],
         "y": [
          0,
          -0.9233036210913094
         ],
         "z": [
          0,
          1.7205479919318412
         ]
        },
        {
         "line": {
          "width": 4
         },
         "mode": "lines+text",
         "name": "num_peaks",
         "textposition": "top center",
         "type": "scatter3d",
         "x": [
          0,
          2.373933957801007
         ],
         "y": [
          0,
          -0.48192835384044846
         ],
         "z": [
          0,
          1.8264583020458973
         ]
        },
        {
         "line": {
          "width": 4
         },
         "mode": "lines+text",
         "name": "largest_force_drop",
         "textposition": "top center",
         "type": "scatter3d",
         "x": [
          0,
          1.945700994523491
         ],
         "y": [
          0,
          -1.9784246598834712
         ],
         "z": [
          0,
          3.0653279116486503
         ]
        },
        {
         "line": {
          "width": 4
         },
         "mode": "lines+text",
         "name": "curve_shape",
         "textposition": "top center",
         "type": "scatter3d",
         "x": [
          0,
          -0.10110229829617491
         ],
         "y": [
          0,
          4.353832830918032
         ],
         "z": [
          0,
          2.401722476215131
         ]
        }
       ],
       "layout": {
        "autosize": true,
        "scene": {
         "xaxis": {
          "range": [
           -4,
           4
          ],
          "title": {
           "font": {
            "size": 11
           },
           "text": "PC1 (0.51 var.)"
          }
         },
         "yaxis": {
          "range": [
           -4,
           4
          ],
          "title": {
           "font": {
            "size": 11
           },
           "text": "PC2 (0.25 var.)"
          }
         },
         "zaxis": {
          "range": [
           -4,
           4
          ],
          "title": {
           "font": {
            "size": 11
           },
           "text": "PC3 (0.16 var.)"
          }
         }
        },
        "template": {
         "data": {
          "bar": [
           {
            "error_x": {
             "color": "#2a3f5f"
            },
            "error_y": {
             "color": "#2a3f5f"
            },
            "marker": {
             "line": {
              "color": "#E5ECF6",
              "width": 0.5
             },
             "pattern": {
              "fillmode": "overlay",
              "size": 10,
              "solidity": 0.2
             }
            },
            "type": "bar"
           }
          ],
          "barpolar": [
           {
            "marker": {
             "line": {
              "color": "#E5ECF6",
              "width": 0.5
             },
             "pattern": {
              "fillmode": "overlay",
              "size": 10,
              "solidity": 0.2
             }
            },
            "type": "barpolar"
           }
          ],
          "carpet": [
           {
            "aaxis": {
             "endlinecolor": "#2a3f5f",
             "gridcolor": "white",
             "linecolor": "white",
             "minorgridcolor": "white",
             "startlinecolor": "#2a3f5f"
            },
            "baxis": {
             "endlinecolor": "#2a3f5f",
             "gridcolor": "white",
             "linecolor": "white",
             "minorgridcolor": "white",
             "startlinecolor": "#2a3f5f"
            },
            "type": "carpet"
           }
          ],
          "choropleth": [
           {
            "colorbar": {
             "outlinewidth": 0,
             "ticks": ""
            },
            "type": "choropleth"
           }
          ],
          "contour": [
           {
            "colorbar": {
             "outlinewidth": 0,
             "ticks": ""
            },
            "colorscale": [
             [
              0,
              "#0d0887"
             ],
             [
              0.1111111111111111,
              "#46039f"
             ],
             [
              0.2222222222222222,
              "#7201a8"
             ],
             [
              0.3333333333333333,
              "#9c179e"
             ],
             [
              0.4444444444444444,
              "#bd3786"
             ],
             [
              0.5555555555555556,
              "#d8576b"
             ],
             [
              0.6666666666666666,
              "#ed7953"
             ],
             [
              0.7777777777777778,
              "#fb9f3a"
             ],
             [
              0.8888888888888888,
              "#fdca26"
             ],
             [
              1,
              "#f0f921"
             ]
            ],
            "type": "contour"
           }
          ],
          "contourcarpet": [
           {
            "colorbar": {
             "outlinewidth": 0,
             "ticks": ""
            },
            "type": "contourcarpet"
           }
          ],
          "heatmap": [
           {
            "colorbar": {
             "outlinewidth": 0,
             "ticks": ""
            },
            "colorscale": [
             [
              0,
              "#0d0887"
             ],
             [
              0.1111111111111111,
              "#46039f"
             ],
             [
              0.2222222222222222,
              "#7201a8"
             ],
             [
              0.3333333333333333,
              "#9c179e"
             ],
             [
              0.4444444444444444,
              "#bd3786"
             ],
             [
              0.5555555555555556,
              "#d8576b"
             ],
             [
              0.6666666666666666,
              "#ed7953"
             ],
             [
              0.7777777777777778,
              "#fb9f3a"
             ],
             [
              0.8888888888888888,
              "#fdca26"
             ],
             [
              1,
              "#f0f921"
             ]
            ],
            "type": "heatmap"
           }
          ],
          "histogram": [
           {
            "marker": {
             "pattern": {
              "fillmode": "overlay",
              "size": 10,
              "solidity": 0.2
             }
            },
            "type": "histogram"
           }
          ],
          "histogram2d": [
           {
            "colorbar": {
             "outlinewidth": 0,
             "ticks": ""
            },
            "colorscale": [
             [
              0,
              "#0d0887"
             ],
             [
              0.1111111111111111,
              "#46039f"
             ],
             [
              0.2222222222222222,
              "#7201a8"
             ],
             [
              0.3333333333333333,
              "#9c179e"
             ],
             [
              0.4444444444444444,
              "#bd3786"
             ],
             [
              0.5555555555555556,
              "#d8576b"
             ],
             [
              0.6666666666666666,
              "#ed7953"
             ],
             [
              0.7777777777777778,
              "#fb9f3a"
             ],
             [
              0.8888888888888888,
              "#fdca26"
             ],
             [
              1,
              "#f0f921"
             ]
            ],
            "type": "histogram2d"
           }
          ],
          "histogram2dcontour": [
           {
            "colorbar": {
             "outlinewidth": 0,
             "ticks": ""
            },
            "colorscale": [
             [
              0,
              "#0d0887"
             ],
             [
              0.1111111111111111,
              "#46039f"
             ],
             [
              0.2222222222222222,
              "#7201a8"
             ],
             [
              0.3333333333333333,
              "#9c179e"
             ],
             [
              0.4444444444444444,
              "#bd3786"
             ],
             [
              0.5555555555555556,
              "#d8576b"
             ],
             [
              0.6666666666666666,
              "#ed7953"
             ],
             [
              0.7777777777777778,
              "#fb9f3a"
             ],
             [
              0.8888888888888888,
              "#fdca26"
             ],
             [
              1,
              "#f0f921"
             ]
            ],
            "type": "histogram2dcontour"
           }
          ],
          "mesh3d": [
           {
            "colorbar": {
             "outlinewidth": 0,
             "ticks": ""
            },
            "type": "mesh3d"
           }
          ],
          "parcoords": [
           {
            "line": {
             "colorbar": {
              "outlinewidth": 0,
              "ticks": ""
             }
            },
            "type": "parcoords"
           }
          ],
          "pie": [
           {
            "automargin": true,
            "type": "pie"
           }
          ],
          "scatter": [
           {
            "fillpattern": {
             "fillmode": "overlay",
             "size": 10,
             "solidity": 0.2
            },
            "type": "scatter"
           }
          ],
          "scatter3d": [
           {
            "line": {
             "colorbar": {
              "outlinewidth": 0,
              "ticks": ""
             }
            },
            "marker": {
             "colorbar": {
              "outlinewidth": 0,
              "ticks": ""
             }
            },
            "type": "scatter3d"
           }
          ],
          "scattercarpet": [
           {
            "marker": {
             "colorbar": {
              "outlinewidth": 0,
              "ticks": ""
             }
            },
            "type": "scattercarpet"
           }
          ],
          "scattergeo": [
           {
            "marker": {
             "colorbar": {
              "outlinewidth": 0,
              "ticks": ""
             }
            },
            "type": "scattergeo"
           }
          ],
          "scattergl": [
           {
            "marker": {
             "colorbar": {
              "outlinewidth": 0,
              "ticks": ""
             }
            },
            "type": "scattergl"
           }
          ],
          "scattermap": [
           {
            "marker": {
             "colorbar": {
              "outlinewidth": 0,
              "ticks": ""
             }
            },
            "type": "scattermap"
           }
          ],
          "scattermapbox": [
           {
            "marker": {
             "colorbar": {
              "outlinewidth": 0,
              "ticks": ""
             }
            },
            "type": "scattermapbox"
           }
          ],
          "scatterpolar": [
           {
            "marker": {
             "colorbar": {
              "outlinewidth": 0,
              "ticks": ""
             }
            },
            "type": "scatterpolar"
           }
          ],
          "scatterpolargl": [
           {
            "marker": {
             "colorbar": {
              "outlinewidth": 0,
              "ticks": ""
             }
            },
            "type": "scatterpolargl"
           }
          ],
          "scatterternary": [
           {
            "marker": {
             "colorbar": {
              "outlinewidth": 0,
              "ticks": ""
             }
            },
            "type": "scatterternary"
           }
          ],
          "surface": [
           {
            "colorbar": {
             "outlinewidth": 0,
             "ticks": ""
            },
            "colorscale": [
             [
              0,
              "#0d0887"
             ],
             [
              0.1111111111111111,
              "#46039f"
             ],
             [
              0.2222222222222222,
              "#7201a8"
             ],
             [
              0.3333333333333333,
              "#9c179e"
             ],
             [
              0.4444444444444444,
              "#bd3786"
             ],
             [
              0.5555555555555556,
              "#d8576b"
             ],
             [
              0.6666666666666666,
              "#ed7953"
             ],
             [
              0.7777777777777778,
              "#fb9f3a"
             ],
             [
              0.8888888888888888,
              "#fdca26"
             ],
             [
              1,
              "#f0f921"
             ]
            ],
            "type": "surface"
           }
          ],
          "table": [
           {
            "cells": {
             "fill": {
              "color": "#EBF0F8"
             },
             "line": {
              "color": "white"
             }
            },
            "header": {
             "fill": {
              "color": "#C8D4E3"
             },
             "line": {
              "color": "white"
             }
            },
            "type": "table"
           }
          ]
         },
         "layout": {
          "annotationdefaults": {
           "arrowcolor": "#2a3f5f",
           "arrowhead": 0,
           "arrowwidth": 1
          },
          "autotypenumbers": "strict",
          "coloraxis": {
           "colorbar": {
            "outlinewidth": 0,
            "ticks": ""
           }
          },
          "colorscale": {
           "diverging": [
            [
             0,
             "#8e0152"
            ],
            [
             0.1,
             "#c51b7d"
            ],
            [
             0.2,
             "#de77ae"
            ],
            [
             0.3,
             "#f1b6da"
            ],
            [
             0.4,
             "#fde0ef"
            ],
            [
             0.5,
             "#f7f7f7"
            ],
            [
             0.6,
             "#e6f5d0"
            ],
            [
             0.7,
             "#b8e186"
            ],
            [
             0.8,
             "#7fbc41"
            ],
            [
             0.9,
             "#4d9221"
            ],
            [
             1,
             "#276419"
            ]
           ],
           "sequential": [
            [
             0,
             "#0d0887"
            ],
            [
             0.1111111111111111,
             "#46039f"
            ],
            [
             0.2222222222222222,
             "#7201a8"
            ],
            [
             0.3333333333333333,
             "#9c179e"
            ],
            [
             0.4444444444444444,
             "#bd3786"
            ],
            [
             0.5555555555555556,
             "#d8576b"
            ],
            [
             0.6666666666666666,
             "#ed7953"
            ],
            [
             0.7777777777777778,
             "#fb9f3a"
            ],
            [
             0.8888888888888888,
             "#fdca26"
            ],
            [
             1,
             "#f0f921"
            ]
           ],
           "sequentialminus": [
            [
             0,
             "#0d0887"
            ],
            [
             0.1111111111111111,
             "#46039f"
            ],
            [
             0.2222222222222222,
             "#7201a8"
            ],
            [
             0.3333333333333333,
             "#9c179e"
            ],
            [
             0.4444444444444444,
             "#bd3786"
            ],
            [
             0.5555555555555556,
             "#d8576b"
            ],
            [
             0.6666666666666666,
             "#ed7953"
            ],
            [
             0.7777777777777778,
             "#fb9f3a"
            ],
            [
             0.8888888888888888,
             "#fdca26"
            ],
            [
             1,
             "#f0f921"
            ]
           ]
          },
          "colorway": [
           "#636efa",
           "#EF553B",
           "#00cc96",
           "#ab63fa",
           "#FFA15A",
           "#19d3f3",
           "#FF6692",
           "#B6E880",
           "#FF97FF",
           "#FECB52"
          ],
          "font": {
           "color": "#2a3f5f"
          },
          "geo": {
           "bgcolor": "white",
           "lakecolor": "white",
           "landcolor": "#E5ECF6",
           "showlakes": true,
           "showland": true,
           "subunitcolor": "white"
          },
          "hoverlabel": {
           "align": "left"
          },
          "hovermode": "closest",
          "mapbox": {
           "style": "light"
          },
          "paper_bgcolor": "white",
          "plot_bgcolor": "#E5ECF6",
          "polar": {
           "angularaxis": {
            "gridcolor": "white",
            "linecolor": "white",
            "ticks": ""
           },
           "bgcolor": "#E5ECF6",
           "radialaxis": {
            "gridcolor": "white",
            "linecolor": "white",
            "ticks": ""
           }
          },
          "scene": {
           "xaxis": {
            "backgroundcolor": "#E5ECF6",
            "gridcolor": "white",
            "gridwidth": 2,
            "linecolor": "white",
            "showbackground": true,
            "ticks": "",
            "zerolinecolor": "white"
           },
           "yaxis": {
            "backgroundcolor": "#E5ECF6",
            "gridcolor": "white",
            "gridwidth": 2,
            "linecolor": "white",
            "showbackground": true,
            "ticks": "",
            "zerolinecolor": "white"
           },
           "zaxis": {
            "backgroundcolor": "#E5ECF6",
            "gridcolor": "white",
            "gridwidth": 2,
            "linecolor": "white",
            "showbackground": true,
            "ticks": "",
            "zerolinecolor": "white"
           }
          },
          "shapedefaults": {
           "line": {
            "color": "#2a3f5f"
           }
          },
          "ternary": {
           "aaxis": {
            "gridcolor": "white",
            "linecolor": "white",
            "ticks": ""
           },
           "baxis": {
            "gridcolor": "white",
            "linecolor": "white",
            "ticks": ""
           },
           "bgcolor": "#E5ECF6",
           "caxis": {
            "gridcolor": "white",
            "linecolor": "white",
            "ticks": ""
           }
          },
          "title": {
           "x": 0.05
          },
          "xaxis": {
           "automargin": true,
           "gridcolor": "white",
           "linecolor": "white",
           "ticks": "",
           "title": {
            "standoff": 15
           },
           "zerolinecolor": "white",
           "zerolinewidth": 2
          },
          "yaxis": {
           "automargin": true,
           "gridcolor": "white",
           "linecolor": "white",
           "ticks": "",
           "title": {
            "standoff": 15
           },
           "zerolinecolor": "white",
           "zerolinewidth": 2
          }
         }
        },
        "title": {
         "text": "3D PCA Scatter Plot"
        }
       }
      }
     },
     "metadata": {},
     "output_type": "display_data"
    }
   ],
   "source": [
    "marions_labeled_data[f'{ylabel_name}_nums'] = marions_labeled_data[ylabel_name].map(ylabel_to_cluster_num)\n",
    "# plotting.get_curve_idx_from_cluster_color('purple', marions_labeled_data[f'{ylabel_name}_nums'], marions_labeled_data.index, data_features)\n",
    "\n",
    "plotting.plot_clusters_seperately(marions_labeled_data[f'{ylabel_name}_nums'], curve_data, ylabel_name,\n",
    "                                  cluster_category_names=list(ylabel_to_cluster_num.keys()),\n",
    "                                  bold_idxs=marions_labeled_data.index.tolist()) \n",
    "plotting.plot_pca(marions_labeled_data, marions_labeled_data[f'{ylabel_name}_nums'], graph_title=\"Clustering Labeled Data\", num_pc=3, ylabel_name=ylabel_name, centroids=label_centroids)"
   ]
  },
  {
   "cell_type": "markdown",
   "id": "9e8f6973",
   "metadata": {},
   "source": [
    "# Plot Corrected Labeling"
   ]
  },
  {
   "cell_type": "code",
   "execution_count": 205,
   "id": "6d79d33d",
   "metadata": {},
   "outputs": [],
   "source": [
    "# def correct_pseudo_ylabels_to_actual(pseudo_labeled_data:pd.DataFrame, actual_labeled_data:pd.DataFrame, ylabel_name, changed_ylabel_idxs):\n",
    "#     corrected_pseudo_labeled_data = pseudo_labeled_data.copy()\n",
    "#     corrected_pseudo_labeled_data.loc[changed_ylabel_idxs, f'pseudo_{ylabel_name}'] = actual_labeled_data[ylabel_name]\n",
    "#     corrected_pseudo_labeled_data.loc[changed_ylabel_idxs, f'pseudo_{ylabel_name}_nums'] = actual_labeled_data[f'{ylabel_name}_nums']\n",
    "#     return corrected_pseudo_labeled_data\n",
    "\n",
    "# corrected_pseudo_labeled_data = correct_pseudo_ylabels_to_actual(pseudo_labeled_data, marions_labeled_data, ylabel_name, changed_ylabel_idxs)\n",
    "\n",
    "# plotting.plot_clusters_seperately(corrected_pseudo_labeled_data[f'pseudo_{ylabel_name}_nums'], \n",
    "#                                   curve_data, ylabel_name, cluster_category_names=list(ylabel_to_cluster_num.keys()), \n",
    "#                                   pseudo_corrections=marions_labeled_data)\n",
    "# plotting.plot_pca(corrected_pseudo_labeled_data, corrected_pseudo_labeled_data[f'pseudo_{ylabel_name}_nums'], graph_title=\"Clustering Corrected Pseudo Labeled Data\", num_pc=3, ylabel_name=ylabel_name, centroids=label_centroids)\n"
   ]
  },
  {
   "cell_type": "markdown",
   "id": "c6833aba",
   "metadata": {},
   "source": [
    "# Plot Un-corrected Labeling"
   ]
  },
  {
   "cell_type": "code",
   "execution_count": 206,
   "id": "16b1a04d",
   "metadata": {},
   "outputs": [],
   "source": [
    "\n",
    "# plotting.plot_clusters_seperately(pseudo_labeled_data[f'pseudo_{ylabel_name}_nums'],\n",
    "#                                   curve_data, ylabel_name, cluster_category_names=list(ylabel_to_cluster_num.keys()),\n",
    "#                                   pseudo_corrections=marions_labeled_data)\n",
    "# plotting.plot_clusters_seperately(pseudo_labeled_data[f'pseudo_{ylabel_name}_nums'],\n",
    "#                                   curve_data, ylabel_name, cluster_category_names=list(ylabel_to_cluster_num.keys()),)\n",
    "# plotting.plot_clusters_seperately(pseudo_labeled_data[f'pseudo_{ylabel_name}_nums'],\n",
    "#                                   curve_data, ylabel_name, cluster_category_names=list(ylabel_to_cluster_num.keys()),\n",
    "#                                   bold_idxs=marions_labeled_data.index)\n",
    "# plotting.plot_pca(pseudo_labeled_data, pseudo_labeled_data[f'pseudo_{ylabel_name}_nums'], graph_title=\"Clustering Un-corrected Pseudo Labeled Data\", num_pc=3, ylabel_name=ylabel_name, centroids=label_centroids)\n"
   ]
  },
  {
   "cell_type": "markdown",
   "id": "c4c5a5a0",
   "metadata": {},
   "source": [
    "# Clustering data with ES-D removed (Corrected)"
   ]
  },
  {
   "cell_type": "code",
   "execution_count": 207,
   "id": "0be52c13",
   "metadata": {},
   "outputs": [
    {
     "name": "stdout",
     "output_type": "stream",
     "text": [
      "Uncorrected\n",
      "WS23_L3_T1_P_16.csv changed label ES-B -> F\n",
      "WS23_L3_T1_P_11.csv changed label ES -> F\n",
      "WS23_L2_T1_P_12.csv changed label ES-S -> LS/F\n",
      "WS23_L2_T1_P_9.csv changed label ES-S -> LS\n",
      "WS23_L3_T1_P_1.csv changed label ES-B -> ES-S-Plates\n",
      "WS23_L3_T1_P_0.csv changed label LS -> ES-S-Plates\n",
      "WS23_L3_T1_P_13.csv changed label F -> LS\n",
      "WS23_L2_T1_P_1.csv changed label LS -> ES-S-Plates\n",
      "WS23_L3_T1_P_3.csv changed label ES-S -> ES-S-Plates\n",
      "WS23_L3_T1_P_22.csv changed label ES -> F\n",
      "WS23_L3_T1_P_2.csv changed label ES-B -> ES-DB\n",
      "WS23_L3_T1_P_5.csv changed label ES-B -> ES-BW\n",
      "WS23_L3_T1_P_23.csv changed label LS -> LS/F\n",
      "WS23_L3_T1_P_7.csv changed label ES-B -> ES-BW\n",
      "WS23_L2_T1_P_17.csv changed label ES-S -> ES-S-Plates\n",
      "WS23_L3_T1_P_21.csv changed label ES -> ES-DB\n"
     ]
    },
    {
     "data": {
      "image/png": "[encoded data removed]",
      "text/plain": [
       "<Figure size 800x800 with 9 Axes>"
      ]
     },
     "metadata": {},
     "output_type": "display_data"
    },
    {
     "data": {
      "application/vnd.plotly.v1+json": {
       "config": {
        "plotlyServerURL": "https://plot.ly"
       },
       "data": [
        {
         "mode": "text",
         "name": "Data Points",
         "text": [
          "0",
          "1",
          "2",
          "3",
          "4",
          "5",
          "6",
          "7",
          "8",
          "9",
          "10",
          "11",
          "12",
          "13",
          "14",
          "15",
          "16",
          "17",
          "18",
          "19",
          "20",
          "21",
          "22",
          "23",
          "24",
          "25",
          "26",
          "27",
          "28",
          "29",
          "30",
          "31",
          "32",
          "33",
          "34",
          "35",
          "36",
          "37",
          "38",
          "39",
          "40",
          "41",
          "42",
          "43",
          "44",
          "45",
          "46",
          "47",
          "48",
          "49",
          "50",
          "51",
          "52",
          "53",
          "54",
          "55",
          "56",
          "57",
          "58",
          "59",
          "60",
          "61",
          "62",
          "63",
          "64",
          "65",
          "66",
          "67",
          "68",
          "69",
          "70",
          "71",
          "72",
          "73",
          "74",
          "75",
          "76",
          "77"
         ],
         "textfont": {
          "color": [
           "turquoise",
           "turquoise",
           "pink",
           "turquoise",
           "green",
           "turquoise",
           "orange",
           "turquoise",
           "turquoise",
           "pink",
           "pink",
           "turquoise",
           "blue",
           "orange",
           "green",
           "pink",
           "magenta",
           "turquoise",
           "blue",
           "pink",
           "lime",
           "turquoise",
           "pink",
           "turquoise",
           "turquoise",
           "magenta",
           "red",
           "green",
           "blue",
           "pink",
           "lime",
           "red",
           "turquoise",
           "turquoise",
           "red",
           "gold",
           "turquoise",
           "blue",
           "blue",
           "green",
           "orange",
           "green",
           "blue",
           "pink",
           "green",
           "orange",
           "green",
           "green",
           "turquoise",
           "lime",
           "gold",
           "lime",
           "orange",
           "gold",
           "turquoise",
           "gold",
           "turquoise",
           "pink",
           "pink",
           "green",
           "blue",
           "turquoise",
           "orange",
           "gold",
           "green",
           "green",
           "green",
           "orange",
           "green",
           "pink",
           "pink",
           "lime",
           "turquoise",
           "turquoise",
           "lime",
           "turquoise",
           "blue",
           "gold"
          ],
          "size": 8
         },
         "type": "scatter3d",
         "x": {
          "bdata": "iBThj+2787+jCCLk77/ov0BPeXTH+rM/cEG+aqF6AsDffpSEKtf7Pxu4aCJjlu6/C58+mhwp8792wUHxPFj8v61BtfKAfPi//VfWuwsg2L9x/m2zKBHOv8Pu1R++HwHAKEzxcfXr8r8lmLNzDuv/v+rGeiHiZPQ/5D4SVFHE2b+WAZCUIDn3vwlGOxpz5P2/NrcFf0SQ8b98WrVPK+vyP8OiJJsDFeM/ZbX8zud057/RPlpEQ7TPv8pDXjwQZee/1d7f6WA7AcCBqdngxzn1vwPtpaseMPI/NgMgJY2o5j9aYPafRl7cvyr+JBGNrfo/Ec9nQB9tDkAwSWkmgafsP5Gdo9/7k+u/gPLdDxOr9L+6/nD1m8TwP0inTBDx+QdAnCON/wRS9b8WuZxnnxPwvxjKp/Sffce/pHJhmDhL/z/6XBayIdLpv1ziKvDjEgpAe56ANfYO67/L50N4dwHXP3NRe7ybReo/OMT4ydFi+r9I5/Bekfj5PyzT9BWJ9PY/uspKYXMNA8B2a/QocwkHQMQHZwGf5/A/HPSCZ74/8z9hBnzxDOr3vwqboTAdDQVA8EcMPsPw/L8aJAWfrVP1P4gz8YaGWfq/UrIfcmAc5D8xGRmMyb6zv0hSZg3V4A5A/yKti/N97b8KuFF7HjcCwLJ9N975tum/XmQLmP6a+D+xYHYwfcTyPwoNmlaGFeM/Na2UaIH2/z8Ut3Lm2V/6v88B/vAHW/Q/KD8dJWByqT/gJwtFkCv8P32aZGNHbuQ/9EDWHDC0AsDspStRpRj4v/cYTqUwhPY/OWAOAEK3AsB7sOmJibHTv0UOFp64oAhA",
          "dtype": "f8"
         },
         "y": {
          "bdata": "cpM8TMpR6D/B5OoBR0rsv/rgJW0W7uK/wjfKB4jNzj/XrDZ2VpXYP2mssclL4Ka/uSAulS5M+b9sXZm+FPH7P6ANRK8BY+8/5pIJGKfy0r+979KCy1W0P5OIUmBI37Y/oUe63zU08D+mUEJbbMLkv5mllp1jG/A/VmBXLgHx4b9R/D4Bskjkv0rVIDpxVdQ/YitIXfgY/j+tE9l1HdzaP8O+rEdIPgHAsxZ+ql8lwL8MpXK7lJzXv/5V1WYGxdK/f61D4Xhmlj/nrNdLNTStPw0kmVwvxfG/TM6p/MK42D/djcewIV21vw8jHwY1r+U//6304SxS5D8nuVK1TP7zvyvO0+REW8u/LsDgN27g2z98fs3u4xnDP2aXLwlxZsg/jhBtVjiC6T8NCRoE25f7P1ndd9ab1+g/e8WnpUyk4j9Ta+7Go+ziv+BGOBJrJ+I/bPwCunF52j8uBRsX5oLfv+zMowoFJuY/lA06iKKX1b8KcM8QwFgJQJG6XNeRRv8/oxvHHRZl0T8vAxkzitfmv4sLdyh85AbAz/lb9v5s9L9jBS5+w93pvxuIHTiPTPC/c8bAn3Hc2z/nsDx7sMYCwMz3Ysh19cw/eHrJiwSww78z4O7WmlPJv/TyWzxZHO8/wfHTHtac4z/4+tFrzQKfP7y+xMgQpALA6s+KYFjn+79pbSa8EurpP/1DSGoACPQ/+LzfhxM/5D/voP5Pc5vqvydTBvjf8es/L30DJ+Tvgr9zcvfwyiXCP4VgS+1i6/u/19OUR2yBoD+b6jJiFFXLP10gvUsp4vO/5vlwE5yzuD/mYFfBJe7VPw4ta64o4tw/",
          "dtype": "f8"
         },
         "z": {
          "bdata": "2pDwbzuFwj92Fx4IkBjIP6jRxz1/P+u/s2VqaKAz1D9WABwNSV7rP1PHoukUTdS/C7srOnbc87+JpWYX4I/mPwx7W3d398w/P25Fdwgv8L9TfbvX0Pr1v5l2XQvsA8M/hiIj1nEpvT9r21ih287Hv4H19o1k3PI/sZ5R/UZu9r+4Lkzdutz2P2Zo3/83x64/ZRIaFBVG6T99jyM/868AwIMPACOq8Po/rbU+/WrR07+BWuYO69zUv0Kh8BPDN9O/b3guAGFltD9gZVKCx7DxPxH6GmCHnvM/gWFKa37y1z+//pRd/17BP+uWQUV4V/m/HQDjej++6T8wazri2K7hPypHbhTd/NG/yBUx4zzStL/ZxUlTXaLyP/xLqUqwFeG/vKMcwrDK1D/0dJ6b4EvqP0152y79TeS/Wa8hO8V+3D8LVqx4uRvqv3oUVEVYcfK/LkjwHOd8wb/8199Tis/mP9IuwI6DSfQ/WUp0sNqguL/Jx36bin36PwlwiLZqJNu/FaHugl7I2z/TlFFAHmj0P/UOmZ/PNOA/7JR4sxX8AkCpCu2OLM7hv4ZX1ufYyOi/7Zj3u0t5s79gxYcKqm/MP/IHHtbLYL0/5bJbhowP/79oYyojp4n4v47yMD1aH8W/Ovag5Dv1wr9p9Ks5iWbFP7souyWTNvm/Lp9I31Gc2D+uAylkgajuv4vojSA0TfQ/OyDoJSdX27+oOyQmzmLgvxp2H358seq/5MI8iEmI+L9m3tMcJsHwvwdrHJjjgQFAF1cvvGnh0D+g/Hv9CX3gP7CfnVlkGfA/GKcahXI4zj/fkszWPSfzv1bhJ3oeq/C/",
          "dtype": "f8"
         }
        },
        {
         "marker": {
          "color": [
           "red",
           "gold",
           "blue",
           "green",
           "pink",
           "turquoise",
           "orange",
           "lime",
           "magenta"
          ],
          "size": 4,
          "symbol": "diamond"
         },
         "mode": "markers",
         "type": "scatter3d",
         "x": {
          "bdata": "v/Tkf0HB9z+VFYBI4DYAQErekHcxh8G/3dnwSaLA9D9I/ke/fuLjP1+yLvg2SPK/FLdy5tlf+r/he5gTMJkBQNmMHPmCZvK/",
          "dtype": "f8"
         },
         "y": {
          "bdata": "Z/DzMfBN4b8VEuQXFV71v7eWbOOSm+g/eCI4Loon7j8OcaJTrv/ZvwMTjUeYK66/76D+T3Ob6r+FJl8eelPov5RVY4/r27u/",
          "dtype": "f8"
         },
         "z": {
          "bdata": "QVsRlhnR3D/AoAdiFRyMvyzFeL9ktMC/98AnrtTu2j8kn15MJ+LgvxVPp4sU09Q/qDskJs5i4L/Lxzjw5OfzP4opGaHKou8/",
          "dtype": "f8"
         }
        },
        {
         "marker": {
          "color": "black",
          "size": 5
         },
         "mode": "markers",
         "name": "Origin",
         "showlegend": false,
         "type": "scatter3d",
         "x": [
          0
         ],
         "y": [
          0
         ],
         "z": [
          0
         ]
        },
        {
         "line": {
          "width": 4
         },
         "mode": "lines+text",
         "name": "max_depth",
         "textposition": "top center",
         "type": "scatter3d",
         "x": [
          0,
          2.7857476976236653
         ],
         "y": [
          0,
          0.9337477106817603
         ],
         "z": [
          0,
          -1.402406708160614
         ]
        },
        {
         "line": {
          "width": 4
         },
         "mode": "lines+text",
         "name": "max_resistance",
         "textposition": "top center",
         "type": "scatter3d",
         "x": [
          0,
          -2.6222712995596114
         ],
         "y": [
          0,
          -0.7721174546745093
         ],
         "z": [
          0,
          2.4018339850833934
         ]
        },
        {
         "line": {
          "width": 4
         },
         "mode": "lines+text",
         "name": "num_peaks",
         "textposition": "top center",
         "type": "scatter3d",
         "x": [
          0,
          2.567412583411209
         ],
         "y": [
          0,
          -0.32117349783196275
         ],
         "z": [
          0,
          1.6102734873386368
         ]
        },
        {
         "line": {
          "width": 4
         },
         "mode": "lines+text",
         "name": "largest_force_drop",
         "textposition": "top center",
         "type": "scatter3d",
         "x": [
          0,
          1.9420307773143932
         ],
         "y": [
          0,
          -1.924078944417331
         ],
         "z": [
          0,
          3.1424168565298665
         ]
        },
        {
         "line": {
          "width": 4
         },
         "mode": "lines+text",
         "name": "curve_shape",
         "textposition": "top center",
         "type": "scatter3d",
         "x": [
          0,
          -0.01456307645446699
         ],
         "y": [
          0,
          4.441476967059922
         ],
         "z": [
          0,
          2.1901334499924334
         ]
        }
       ],
       "layout": {
        "autosize": true,
        "scene": {
         "xaxis": {
          "range": [
           -4,
           4
          ],
          "title": {
           "font": {
            "size": 11
           },
           "text": "PC1 (0.52 var.)"
          }
         },
         "yaxis": {
          "range": [
           -4,
           4
          ],
          "title": {
           "font": {
            "size": 11
           },
           "text": "PC2 (0.21 var.)"
          }
         },
         "zaxis": {
          "range": [
           -4,
           4
          ],
          "title": {
           "font": {
            "size": 11
           },
           "text": "PC3 (0.18 var.)"
          }
         }
        },
        "template": {
         "data": {
          "bar": [
           {
            "error_x": {
             "color": "#2a3f5f"
            },
            "error_y": {
             "color": "#2a3f5f"
            },
            "marker": {
             "line": {
              "color": "#E5ECF6",
              "width": 0.5
             },
             "pattern": {
              "fillmode": "overlay",
              "size": 10,
              "solidity": 0.2
             }
            },
            "type": "bar"
           }
          ],
          "barpolar": [
           {
            "marker": {
             "line": {
              "color": "#E5ECF6",
              "width": 0.5
             },
             "pattern": {
              "fillmode": "overlay",
              "size": 10,
              "solidity": 0.2
             }
            },
            "type": "barpolar"
           }
          ],
          "carpet": [
           {
            "aaxis": {
             "endlinecolor": "#2a3f5f",
             "gridcolor": "white",
             "linecolor": "white",
             "minorgridcolor": "white",
             "startlinecolor": "#2a3f5f"
            },
            "baxis": {
             "endlinecolor": "#2a3f5f",
             "gridcolor": "white",
             "linecolor": "white",
             "minorgridcolor": "white",
             "startlinecolor": "#2a3f5f"
            },
            "type": "carpet"
           }
          ],
          "choropleth": [
           {
            "colorbar": {
             "outlinewidth": 0,
             "ticks": ""
            },
            "type": "choropleth"
           }
          ],
          "contour": [
           {
            "colorbar": {
             "outlinewidth": 0,
             "ticks": ""
            },
            "colorscale": [
             [
              0,
              "#0d0887"
             ],
             [
              0.1111111111111111,
              "#46039f"
             ],
             [
              0.2222222222222222,
              "#7201a8"
             ],
             [
              0.3333333333333333,
              "#9c179e"
             ],
             [
              0.4444444444444444,
              "#bd3786"
             ],
             [
              0.5555555555555556,
              "#d8576b"
             ],
             [
              0.6666666666666666,
              "#ed7953"
             ],
             [
              0.7777777777777778,
              "#fb9f3a"
             ],
             [
              0.8888888888888888,
              "#fdca26"
             ],
             [
              1,
              "#f0f921"
             ]
            ],
            "type": "contour"
           }
          ],
          "contourcarpet": [
           {
            "colorbar": {
             "outlinewidth": 0,
             "ticks": ""
            },
            "type": "contourcarpet"
           }
          ],
          "heatmap": [
           {
            "colorbar": {
             "outlinewidth": 0,
             "ticks": ""
            },
            "colorscale": [
             [
              0,
              "#0d0887"
             ],
             [
              0.1111111111111111,
              "#46039f"
             ],
             [
              0.2222222222222222,
              "#7201a8"
             ],
             [
              0.3333333333333333,
              "#9c179e"
             ],
             [
              0.4444444444444444,
              "#bd3786"
             ],
             [
              0.5555555555555556,
              "#d8576b"
             ],
             [
              0.6666666666666666,
              "#ed7953"
             ],
             [
              0.7777777777777778,
              "#fb9f3a"
             ],
             [
              0.8888888888888888,
              "#fdca26"
             ],
             [
              1,
              "#f0f921"
             ]
            ],
            "type": "heatmap"
           }
          ],
          "histogram": [
           {
            "marker": {
             "pattern": {
              "fillmode": "overlay",
              "size": 10,
              "solidity": 0.2
             }
            },
            "type": "histogram"
           }
          ],
          "histogram2d": [
           {
            "colorbar": {
             "outlinewidth": 0,
             "ticks": ""
            },
            "colorscale": [
             [
              0,
              "#0d0887"
             ],
             [
              0.1111111111111111,
              "#46039f"
             ],
             [
              0.2222222222222222,
              "#7201a8"
             ],
             [
              0.3333333333333333,
              "#9c179e"
             ],
             [
              0.4444444444444444,
              "#bd3786"
             ],
             [
              0.5555555555555556,
              "#d8576b"
             ],
             [
              0.6666666666666666,
              "#ed7953"
             ],
             [
              0.7777777777777778,
              "#fb9f3a"
             ],
             [
              0.8888888888888888,
              "#fdca26"
             ],
             [
              1,
              "#f0f921"
             ]
            ],
            "type": "histogram2d"
           }
          ],
          "histogram2dcontour": [
           {
            "colorbar": {
             "outlinewidth": 0,
             "ticks": ""
            },
            "colorscale": [
             [
              0,
              "#0d0887"
             ],
             [
              0.1111111111111111,
              "#46039f"
             ],
             [
              0.2222222222222222,
              "#7201a8"
             ],
             [
              0.3333333333333333,
              "#9c179e"
             ],
             [
              0.4444444444444444,
              "#bd3786"
             ],
             [
              0.5555555555555556,
              "#d8576b"
             ],
             [
              0.6666666666666666,
              "#ed7953"
             ],
             [
              0.7777777777777778,
              "#fb9f3a"
             ],
             [
              0.8888888888888888,
              "#fdca26"
             ],
             [
              1,
              "#f0f921"
             ]
            ],
            "type": "histogram2dcontour"
           }
          ],
          "mesh3d": [
           {
            "colorbar": {
             "outlinewidth": 0,
             "ticks": ""
            },
            "type": "mesh3d"
           }
          ],
          "parcoords": [
           {
            "line": {
             "colorbar": {
              "outlinewidth": 0,
              "ticks": ""
             }
            },
            "type": "parcoords"
           }
          ],
          "pie": [
           {
            "automargin": true,
            "type": "pie"
           }
          ],
          "scatter": [
           {
            "fillpattern": {
             "fillmode": "overlay",
             "size": 10,
             "solidity": 0.2
            },
            "type": "scatter"
           }
          ],
          "scatter3d": [
           {
            "line": {
             "colorbar": {
              "outlinewidth": 0,
              "ticks": ""
             }
            },
            "marker": {
             "colorbar": {
              "outlinewidth": 0,
              "ticks": ""
             }
            },
            "type": "scatter3d"
           }
          ],
          "scattercarpet": [
           {
            "marker": {
             "colorbar": {
              "outlinewidth": 0,
              "ticks": ""
             }
            },
            "type": "scattercarpet"
           }
          ],
          "scattergeo": [
           {
            "marker": {
             "colorbar": {
              "outlinewidth": 0,
              "ticks": ""
             }
            },
            "type": "scattergeo"
           }
          ],
          "scattergl": [
           {
            "marker": {
             "colorbar": {
              "outlinewidth": 0,
              "ticks": ""
             }
            },
            "type": "scattergl"
           }
          ],
          "scattermap": [
           {
            "marker": {
             "colorbar": {
              "outlinewidth": 0,
              "ticks": ""
             }
            },
            "type": "scattermap"
           }
          ],
          "scattermapbox": [
           {
            "marker": {
             "colorbar": {
              "outlinewidth": 0,
              "ticks": ""
             }
            },
            "type": "scattermapbox"
           }
          ],
          "scatterpolar": [
           {
            "marker": {
             "colorbar": {
              "outlinewidth": 0,
              "ticks": ""
             }
            },
            "type": "scatterpolar"
           }
          ],
          "scatterpolargl": [
           {
            "marker": {
             "colorbar": {
              "outlinewidth": 0,
              "ticks": ""
             }
            },
            "type": "scatterpolargl"
           }
          ],
          "scatterternary": [
           {
            "marker": {
             "colorbar": {
              "outlinewidth": 0,
              "ticks": ""
             }
            },
            "type": "scatterternary"
           }
          ],
          "surface": [
           {
            "colorbar": {
             "outlinewidth": 0,
             "ticks": ""
            },
            "colorscale": [
             [
              0,
              "#0d0887"
             ],
             [
              0.1111111111111111,
              "#46039f"
             ],
             [
              0.2222222222222222,
              "#7201a8"
             ],
             [
              0.3333333333333333,
              "#9c179e"
             ],
             [
              0.4444444444444444,
              "#bd3786"
             ],
             [
              0.5555555555555556,
              "#d8576b"
             ],
             [
              0.6666666666666666,
              "#ed7953"
             ],
             [
              0.7777777777777778,
              "#fb9f3a"
             ],
             [
              0.8888888888888888,
              "#fdca26"
             ],
             [
              1,
              "#f0f921"
             ]
            ],
            "type": "surface"
           }
          ],
          "table": [
           {
            "cells": {
             "fill": {
              "color": "#EBF0F8"
             },
             "line": {
              "color": "white"
             }
            },
            "header": {
             "fill": {
              "color": "#C8D4E3"
             },
             "line": {
              "color": "white"
             }
            },
            "type": "table"
           }
          ]
         },
         "layout": {
          "annotationdefaults": {
           "arrowcolor": "#2a3f5f",
           "arrowhead": 0,
           "arrowwidth": 1
          },
          "autotypenumbers": "strict",
          "coloraxis": {
           "colorbar": {
            "outlinewidth": 0,
            "ticks": ""
           }
          },
          "colorscale": {
           "diverging": [
            [
             0,
             "#8e0152"
            ],
            [
             0.1,
             "#c51b7d"
            ],
            [
             0.2,
             "#de77ae"
            ],
            [
             0.3,
             "#f1b6da"
            ],
            [
             0.4,
             "#fde0ef"
            ],
            [
             0.5,
             "#f7f7f7"
            ],
            [
             0.6,
             "#e6f5d0"
            ],
            [
             0.7,
             "#b8e186"
            ],
            [
             0.8,
             "#7fbc41"
            ],
            [
             0.9,
             "#4d9221"
            ],
            [
             1,
             "#276419"
            ]
           ],
           "sequential": [
            [
             0,
             "#0d0887"
            ],
            [
             0.1111111111111111,
             "#46039f"
            ],
            [
             0.2222222222222222,
             "#7201a8"
            ],
            [
             0.3333333333333333,
             "#9c179e"
            ],
            [
             0.4444444444444444,
             "#bd3786"
            ],
            [
             0.5555555555555556,
             "#d8576b"
            ],
            [
             0.6666666666666666,
             "#ed7953"
            ],
            [
             0.7777777777777778,
             "#fb9f3a"
            ],
            [
             0.8888888888888888,
             "#fdca26"
            ],
            [
             1,
             "#f0f921"
            ]
           ],
           "sequentialminus": [
            [
             0,
             "#0d0887"
            ],
            [
             0.1111111111111111,
             "#46039f"
            ],
            [
             0.2222222222222222,
             "#7201a8"
            ],
            [
             0.3333333333333333,
             "#9c179e"
            ],
            [
             0.4444444444444444,
             "#bd3786"
            ],
            [
             0.5555555555555556,
             "#d8576b"
            ],
            [
             0.6666666666666666,
             "#ed7953"
            ],
            [
             0.7777777777777778,
             "#fb9f3a"
            ],
            [
             0.8888888888888888,
             "#fdca26"
            ],
            [
             1,
             "#f0f921"
            ]
           ]
          },
          "colorway": [
           "#636efa",
           "#EF553B",
           "#00cc96",
           "#ab63fa",
           "#FFA15A",
           "#19d3f3",
           "#FF6692",
           "#B6E880",
           "#FF97FF",
           "#FECB52"
          ],
          "font": {
           "color": "#2a3f5f"
          },
          "geo": {
           "bgcolor": "white",
           "lakecolor": "white",
           "landcolor": "#E5ECF6",
           "showlakes": true,
           "showland": true,
           "subunitcolor": "white"
          },
          "hoverlabel": {
           "align": "left"
          },
          "hovermode": "closest",
          "mapbox": {
           "style": "light"
          },
          "paper_bgcolor": "white",
          "plot_bgcolor": "#E5ECF6",
          "polar": {
           "angularaxis": {
            "gridcolor": "white",
            "linecolor": "white",
            "ticks": ""
           },
           "bgcolor": "#E5ECF6",
           "radialaxis": {
            "gridcolor": "white",
            "linecolor": "white",
            "ticks": ""
           }
          },
          "scene": {
           "xaxis": {
            "backgroundcolor": "#E5ECF6",
            "gridcolor": "white",
            "gridwidth": 2,
            "linecolor": "white",
            "showbackground": true,
            "ticks": "",
            "zerolinecolor": "white"
           },
           "yaxis": {
            "backgroundcolor": "#E5ECF6",
            "gridcolor": "white",
            "gridwidth": 2,
            "linecolor": "white",
            "showbackground": true,
            "ticks": "",
            "zerolinecolor": "white"
           },
           "zaxis": {
            "backgroundcolor": "#E5ECF6",
            "gridcolor": "white",
            "gridwidth": 2,
            "linecolor": "white",
            "showbackground": true,
            "ticks": "",
            "zerolinecolor": "white"
           }
          },
          "shapedefaults": {
           "line": {
            "color": "#2a3f5f"
           }
          },
          "ternary": {
           "aaxis": {
            "gridcolor": "white",
            "linecolor": "white",
            "ticks": ""
           },
           "baxis": {
            "gridcolor": "white",
            "linecolor": "white",
            "ticks": ""
           },
           "bgcolor": "#E5ECF6",
           "caxis": {
            "gridcolor": "white",
            "linecolor": "white",
            "ticks": ""
           }
          },
          "title": {
           "x": 0.05
          },
          "xaxis": {
           "automargin": true,
           "gridcolor": "white",
           "linecolor": "white",
           "ticks": "",
           "title": {
            "standoff": 15
           },
           "zerolinecolor": "white",
           "zerolinewidth": 2
          },
          "yaxis": {
           "automargin": true,
           "gridcolor": "white",
           "linecolor": "white",
           "ticks": "",
           "title": {
            "standoff": 15
           },
           "zerolinecolor": "white",
           "zerolinewidth": 2
          }
         }
        },
        "title": {
         "text": "3D PCA Scatter Plot"
        }
       }
      }
     },
     "metadata": {},
     "output_type": "display_data"
    },
    {
     "name": "stdout",
     "output_type": "stream",
     "text": [
      "    Eigenvalue  Proportion  Cumulative\n",
      "PC                                    \n",
      "1     2.621357    0.517550    0.517550\n",
      "2     1.056719    0.208634    0.726184\n",
      "3     0.910921    0.179848    0.906033\n",
      "4     0.357477    0.070579    0.976612\n",
      "5     0.118461    0.023388    1.000000\n",
      "\n",
      "\n",
      "                         PC1       PC2       PC3       PC4       PC5\n",
      "max_depth           0.557150  0.186750 -0.280481 -0.306974  0.694123\n",
      "max_resistance     -0.524454 -0.154423  0.480367  0.060074  0.683184\n",
      "num_peaks           0.513483 -0.064235  0.322055  0.788322  0.083896\n",
      "largest_force_drop  0.388406 -0.384816  0.628483 -0.521429 -0.184872\n",
      "curve_shape        -0.002913  0.888295  0.438027 -0.093902 -0.101183\n"
     ]
    }
   ],
   "source": [
    "# should labels be fixed or not\n",
    "labeled_data_esd_removed = marions_labeled_data[marions_labeled_data[ylabel_name] != 'ES-D'].copy()\n",
    "marions_labeled_data_esd_removed = marions_labeled_data[marions_labeled_data[ylabel_name] != 'ES-D']\n",
    "\n",
    "# print('Labeled data only')\n",
    "# plotting.plot_clusters_seperately(labeled_data_esd_removed[f'{ylabel_name}_nums'], curve_data, ylabel_name, bold_idxs=labeled_data_esd_removed.index.tolist(), cluster_category_names=list(ylabel_to_cluster_num.keys()))\n",
    "\n",
    "# print('ES-D' in labeled_data_esd_removed['marions_ylabels_2'].values)\n",
    "label_centroids_esd_removed = find_labels_centroids(labeled_data_esd_removed, ylabel_to_cluster_num, ylabel_name)\n",
    "pseudo_data_esd_removed = find_closest_centroid(data_features, label_centroids_esd_removed, ylabel_name)\n",
    "\n",
    "# print('Corrected')\n",
    "# print(print('ES-D' in pseudo_data_esd_removed['pseudo_marions_ylabels_2'].values))\n",
    "# changed_ylabel_idxs = find_changed_ylabel_data(labeled_data_esd_removed, pseudo_data_esd_removed, ylabel_name)\n",
    "# corrected_pseudo_data_esd_removed = correct_pseudo_ylabels_to_actual(pseudo_data_esd_removed, marions_labeled_data, ylabel_name, changed_ylabel_idxs)\n",
    "# print(corrected_pseudo_data_esd_removed)\n",
    "# plotting.plot_clusters_seperately(corrected_pseudo_data_esd_removed[f'pseudo_{ylabel_name}_nums'], curve_data, ylabel_name, cluster_category_names=list(ylabel_to_cluster_num.keys()), pseudo_corrections=labeled_data_esd_removed)\n",
    "# print(label_centroids_esd_removed)\n",
    "# plotting.plot_pca(corrected_pseudo_data_esd_removed, corrected_pseudo_data_esd_removed[f'pseudo_{ylabel_name}_nums'], 3, graph_title=\"\", ylabel_name=ylabel_name, centroids=label_centroids_esd_removed)\n",
    "\n",
    "print('Uncorrected')\n",
    "find_changed_ylabel_data(marions_labeled_data_esd_removed, pseudo_data_esd_removed, ylabel_name)\n",
    "# print(pseudo_data_esd_removed[['filenames', f'pseudo_{ylabel_name}']])\n",
    "# print(pseudo_data_esd_removed.loc[marions_labeled_data_esd_removed.index][['filenames', f'pseudo_{ylabel_name}']])\n",
    "\n",
    "\n",
    "# plotting.get_curve_idx_from_cluster_color('pink', pseudo_data_esd_removed[f'pseudo_{ylabel_name}_nums'], pseudo_data_esd_removed.index, data_features)\n",
    "# plotting.get_curve_idx_from_cluster_color('orange', pseudo_data_esd_removed[f'pseudo_{ylabel_name}_nums'], pseudo_data_esd_removed.index, data_features)\n",
    "# # print(pseudo_data_esd_removed[:3])\n",
    "# indicies = pseudo_data_esd_removed[pseudo_data_esd_removed['filenames'].isin(['WS23_L3_T1_P_23.csv','WS23_L3_T1_P_25.csv'])].index\n",
    "# plotting.plot_specific_curves([indicies.tolist()[0]], curve_data, data_features, color='pink')\n",
    "# plotting.plot_specific_curves([indicies.tolist()[1]], curve_data, data_features, color='orange')\n",
    "\n",
    "\n",
    "plotting.plot_clusters_seperately(pseudo_data_esd_removed[f'pseudo_{ylabel_name}_nums'], curve_data, ylabel_name, cluster_category_names=list(ylabel_to_cluster_num.keys()), bold_idxs=marions_labeled_data_esd_removed.index)\n",
    "# print(label_centroids_esd_removed)\n",
    "plotting.plot_pca(pseudo_data_esd_removed, pseudo_data_esd_removed[f'pseudo_{ylabel_name}_nums'], 3, graph_title=\"\", ylabel_name=ylabel_name, centroids=label_centroids_esd_removed,\n",
    "                only_plot_cluster_labels=[])\n",
    "plotting.pca_analysis(pseudo_data_esd_removed)\n",
    "ylabel_to_cluster_num = {'ES-B':0, 'ES-BW':1, 'ES-S':2, 'ES-S-Plates':3, 'ES-D':4, 'LS':5, 'F':6, 'LS/F':7, 'ES-DB':8, 'ES': 9}\n",
    "\n"
   ]
  }
 ],
 "metadata": {
  "kernelspec": {
   "display_name": "env3.13",
   "language": "python",
   "name": "python3"
  },
  "language_info": {
   "codemirror_mode": {
    "name": "ipython",
    "version": 3
   },
   "file_extension": ".py",
   "mimetype": "text/x-python",
   "name": "python",
   "nbconvert_exporter": "python",
   "pygments_lexer": "ipython3",
   "version": "3.13.1"
  }
 },
 "nbformat": 4,
 "nbformat_minor": 5
}

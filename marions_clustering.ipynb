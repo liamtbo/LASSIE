{
 "cells": [
  {
   "cell_type": "code",
   "execution_count": 177,
   "id": "38dc9f62",
   "metadata": {},
   "outputs": [],
   "source": [
    "import pandas as pd\n",
    "import os\n",
    "import plotting\n",
    "import importlib\n",
    "importlib.reload(plotting)\n",
    "import math\n",
    "from typing import List\n",
    "pd.options.display.max_rows = 4000"
   ]
  },
  {
   "cell_type": "code",
   "execution_count": 178,
   "id": "28145bf8",
   "metadata": {},
   "outputs": [],
   "source": [
    "def load_data(data_src):\n",
    "    curve_data = [] # used for plotting\n",
    "    filename_list = []\n",
    "    for filename in os.listdir(data_src):\n",
    "        df = pd.read_csv(f\"{data_src}/{filename}\")\n",
    "        curve_data.append(df)\n",
    "        filename_list.append(filename)\n",
    "    return curve_data, filename_list\n",
    "\n",
    "data_src = \"data/cleaned_data\"\n",
    "curve_data, filename_list = load_data(data_src)\n",
    "filename_to_depth_resist = dict(zip(filename_list, curve_data))"
   ]
  },
  {
   "cell_type": "code",
   "execution_count": 179,
   "id": "ddf10886",
   "metadata": {},
   "outputs": [
    {
     "name": "stdout",
     "output_type": "stream",
     "text": [
      "marions_labeled_data: \n",
      "   max_resistance  num_peaks  largest_force_drop  curve_shape  \\\n",
      "0        0.739042  -0.696539           -0.667883     0.729832   \n",
      "2       -0.214852  -0.696539            0.019005    -0.863595   \n",
      "8        0.819788  -0.696539           -0.892456     0.958138   \n",
      "\n",
      "             filenames marions_ylabels marions_ylabels_deduction  \n",
      "0  WS23_L3_T1_P_16.csv            ES-B                      ES-B  \n",
      "2   WS23_L2_T1_P_4.csv              LS                        LS  \n",
      "8  WS23_L3_T1_P_11.csv              ES                        ES  \n"
     ]
    }
   ],
   "source": [
    "data_features = pd.read_csv(\"data/features.csv\")\n",
    "data_features = plotting.extract_needed_cols(data_features, remove_cols=['feifeis_ylabels', 'liams_ylabels', 'distances'])\n",
    "clustering_features = plotting.extract_numerical_features(data_features)\n",
    "\n",
    "\n",
    "ylabel_name = 'marions_ylabels'\n",
    "# ylabel_name = 'marions_ylabels_deduction'\n",
    "ylabel_to_cluster_num = {'ES-B':0, 'ES-BW':1, 'ES-S':2, 'ES-S-Plates':3, 'ES-D':4, 'LS':5, 'F':6, 'LS/F':7, 'ES-DB':8, 'ES': 9}\n",
    "marions_labeled_data = data_features[data_features[ylabel_name].notna()].copy() # removes NaN's which correspond to non-labled data\n",
    "print(f'marions_labeled_data: \\n{marions_labeled_data[:3]}')"
   ]
  },
  {
   "cell_type": "code",
   "execution_count": 180,
   "id": "b223ccc1",
   "metadata": {},
   "outputs": [
    {
     "name": "stdout",
     "output_type": "stream",
     "text": [
      "label_centroids:    max_resistance  num_peaks  largest_force_drop  curve_shape marions_ylabels  \\\n",
      "0       -0.667625   0.758579            1.222541    -0.242044            ES-B   \n",
      "1       -0.741647   0.997133            1.350072    -1.201000           ES-BW   \n",
      "2       -0.005907  -0.158188           -0.453253     0.611964            ES-S   \n",
      "\n",
      "   marions_ylabels_nums  \n",
      "0                     0  \n",
      "1                     1  \n",
      "2                     2  \n"
     ]
    }
   ],
   "source": [
    "def find_labels_centroids(labeled_data: pd.DataFrame, ylabel_to_cluster_num:dict[str,int], ylabel_name:str) -> pd.DataFrame:\n",
    "    labeled_data = labeled_data.copy()\n",
    "    numerical_data = plotting.extract_numerical_features(labeled_data)\n",
    "    label_centroids = []\n",
    "    for label, label_num in ylabel_to_cluster_num.items():\n",
    "        if label not in labeled_data[ylabel_name].values: continue\n",
    "        label_data = numerical_data[labeled_data[ylabel_name] == label]\n",
    "        label_centroid = label_data.mean(axis=0).tolist() # drop cols for mean calculation\n",
    "        label_centroid.extend([label, label_num]) # append these onto the end\n",
    "        label_centroids.append(label_centroid)\n",
    "    return_cols = numerical_data.columns.tolist()\n",
    "    return_cols.extend([ylabel_name, f'{ylabel_name}_nums'])\n",
    "    return pd.DataFrame(data=label_centroids, columns=return_cols)\n",
    "\n",
    "label_centroids = find_labels_centroids(marions_labeled_data, ylabel_to_cluster_num, ylabel_name)\n",
    "print(f'label_centroids: {label_centroids[:3]}')"
   ]
  },
  {
   "cell_type": "code",
   "execution_count": 181,
   "id": "ffbe018c",
   "metadata": {},
   "outputs": [
    {
     "name": "stdout",
     "output_type": "stream",
     "text": [
      "pseudo_labeled_data: \n",
      "   max_resistance  num_peaks  largest_force_drop  curve_shape  \\\n",
      "0        0.739042  -0.696539           -0.667883     0.729832   \n",
      "1        0.660764  -0.696539            0.422346    -0.659030   \n",
      "2       -0.214852  -0.696539            0.019005    -0.863595   \n",
      "\n",
      "  pseudo_marions_ylabels  pseudo_marions_ylabels_nums            filenames  \\\n",
      "0                      F                            6  WS23_L3_T1_P_16.csv   \n",
      "1                      F                            6   WS23_L2_T2_P_3.csv   \n",
      "2                     LS                            5   WS23_L2_T1_P_4.csv   \n",
      "\n",
      "  marions_ylabels marions_ylabels_deduction  \n",
      "0            ES-B                      ES-B  \n",
      "1             NaN                       NaN  \n",
      "2              LS                        LS  \n"
     ]
    }
   ],
   "source": [
    "def euclidean_distance(x: pd.Series, y: pd.Series) -> float:\n",
    "    return math.sqrt(((y - x) ** 2).sum())\n",
    "\n",
    "def find_closest_centroid(unlabeled_data:pd.DataFrame, marions_centroids:pd.DataFrame, ylabel_name) -> pd.DataFrame:\n",
    "    unlabeled_num_data = plotting.extract_numerical_features(unlabeled_data) # returns a new object\n",
    "    unlabeled_non_num_data = unlabeled_data.drop(unlabeled_num_data.columns, axis=1)\n",
    "    \n",
    "    pseudo_label_list = []\n",
    "    pseudo_label_num_list = []\n",
    "    unlabeled_num_data = unlabeled_num_data.copy()\n",
    "    for i, depth_res_curve in unlabeled_num_data.iterrows():\n",
    "        min_distance = float('inf')\n",
    "        min_distance_label = ''\n",
    "        min_distance_label_num = 0\n",
    "        for j, marions_label_centroid in marions_centroids.iterrows():\n",
    "            curve_to_label_mean_distance = euclidean_distance(depth_res_curve, marions_label_centroid)\n",
    "            if curve_to_label_mean_distance < min_distance:\n",
    "                min_distance = curve_to_label_mean_distance\n",
    "                min_distance_label = marions_label_centroid[ylabel_name]\n",
    "                min_distance_label_num = marions_label_centroid[f'{ylabel_name}_nums']\n",
    "        pseudo_label_list.append(min_distance_label)\n",
    "        pseudo_label_num_list.append(min_distance_label_num)\n",
    "    unlabeled_num_data[f'pseudo_{ylabel_name}'] = pseudo_label_list\n",
    "    unlabeled_num_data[f'pseudo_{ylabel_name}_nums'] = pseudo_label_num_list\n",
    "\n",
    "    return pd.concat([unlabeled_num_data, unlabeled_non_num_data], axis=1)\n",
    "\n",
    "pseudo_labeled_data = find_closest_centroid(data_features, label_centroids, ylabel_name)\n",
    "print(f'pseudo_labeled_data: \\n{pseudo_labeled_data[:3]}')"
   ]
  },
  {
   "cell_type": "code",
   "execution_count": 182,
   "id": "28a6dbf4",
   "metadata": {},
   "outputs": [
    {
     "name": "stdout",
     "output_type": "stream",
     "text": [
      "WS23_L3_T1_P_16.csv changed label ES-B -> F\n",
      "WS23_L3_T1_P_11.csv changed label ES -> ES-S\n",
      "WS23_L2_T1_P_12.csv changed label ES-S -> LS/F\n",
      "WS23_L2_T1_P_9.csv changed label ES-S -> LS/F\n",
      "WS23_L2_T1_P_13.csv changed label ES-D -> ES\n",
      "WS23_L2_T1_P_6.csv changed label ES-D -> LS\n",
      "WS23_L2_T1_P_2.csv changed label LS -> ES-D\n",
      "WS23_L2_T1_P_10.csv changed label ES-D -> F\n",
      "WS23_L3_T1_P_6.csv changed label ES-BW -> ES-B\n",
      "WS23_L3_T1_P_15.csv changed label ES-D -> ES-S\n",
      "WS23_L3_T1_P_1.csv changed label ES-B -> ES-S-Plates\n",
      "WS23_L3_T1_P_0.csv changed label LS -> ES-S-Plates\n",
      "WS23_L3_T1_P_13.csv changed label F -> ES-D\n",
      "WS23_L2_T1_P_1.csv changed label LS -> ES-S-Plates\n",
      "WS23_L3_T1_P_3.csv changed label ES-S -> ES-S-Plates\n",
      "WS23_L2_T1_P_3.csv changed label ES-D -> ES-S-Plates\n",
      "WS23_L3_T1_P_22.csv changed label ES -> F\n",
      "WS23_L3_T1_P_2.csv changed label ES-B -> ES-DB\n",
      "WS23_L3_T1_P_5.csv changed label ES-B -> ES-BW\n",
      "WS23_L2_T1_P_15.csv changed label ES-D -> ES-S\n",
      "WS23_L3_T1_P_14.csv changed label ES-D -> ES-BW\n",
      "WS23_L3_T1_P_23.csv changed label LS -> LS/F\n",
      "WS23_L3_T1_P_7.csv changed label ES-B -> ES-BW\n",
      "WS23_L3_T1_P_21.csv changed label ES -> ES-DB\n",
      "WS23_L2_T1_P_11.csv changed label ES-D -> F\n",
      "WS23_L3_T1_P_10.csv changed label ES-D -> ES-DB\n",
      "WS23_L2_T1_P_7.csv changed label ES-D -> ES-B\n",
      "changed_ylabel_idxs: [0, 8, 13, 15, 16, 19, 22, 33, 35, 37, 39, 41, 43, 44, 46, 47, 48, 49, 53, 54, 55, 62, 63, 71, 72, 74, 77]\n"
     ]
    }
   ],
   "source": [
    "def find_changed_ylabel_data(labeled_data:pd.DataFrame, pseudo_labeled_data:pd.DataFrame, ylabel_name:str):\n",
    "    ylabel_idxs = labeled_data.index # idxs of labeled data points\n",
    "    pseudo_labels_of_labeled_data = pseudo_labeled_data.loc[ylabel_idxs]\n",
    "    diff_mask = (labeled_data[ylabel_name] != pseudo_labels_of_labeled_data[f'pseudo_{ylabel_name}'])\n",
    "    changed_label_idxs = labeled_data[diff_mask].index.tolist()\n",
    "    for i in changed_label_idxs:\n",
    "        print(f'{labeled_data['filenames'].loc[i]} changed label {labeled_data[f'{ylabel_name}'].loc[i]} -> {pseudo_labeled_data[f'pseudo_{ylabel_name}'].loc[i]}')\n",
    "    return changed_label_idxs\n",
    "\n",
    "changed_ylabel_idxs = find_changed_ylabel_data(marions_labeled_data, pseudo_labeled_data, ylabel_name)\n",
    "print(f'changed_ylabel_idxs: {changed_ylabel_idxs}')"
   ]
  },
  {
   "cell_type": "markdown",
   "id": "88b40798",
   "metadata": {},
   "source": [
    "# Plot Labeled Data Only"
   ]
  },
  {
   "cell_type": "code",
   "execution_count": 183,
   "id": "5a7c2330",
   "metadata": {},
   "outputs": [
    {
     "data": {
      "image/png": "[encoded data removed]",
      "text/plain": [
       "<Figure size 1400x600 with 10 Axes>"
      ]
     },
     "metadata": {},
     "output_type": "display_data"
    },
    {
     "data": {
      "application/vnd.plotly.v1+json": {
       "config": {
        "plotlyServerURL": "https://plot.ly"
       },
       "data": [
        {
         "mode": "text",
         "name": "Data Points",
         "text": [
          "0",
          "2",
          "8",
          "11",
          "12",
          "13",
          "15",
          "16",
          "19",
          "20",
          "22",
          "25",
          "26",
          "27",
          "30",
          "33",
          "35",
          "37",
          "39",
          "41",
          "43",
          "44",
          "46",
          "47",
          "48",
          "49",
          "50",
          "53",
          "54",
          "55",
          "56",
          "62",
          "63",
          "65",
          "66",
          "67",
          "68",
          "71",
          "72",
          "74",
          "77"
         ],
         "textfont": {
          "color": [
           "red",
           "pink",
           "magenta",
           "turquoise",
           "blue",
           "blue",
           "blue",
           "purple",
           "purple",
           "lime",
           "pink",
           "magenta",
           "red",
           "purple",
           "lime",
           "purple",
           "gold",
           "purple",
           "red",
           "pink",
           "turquoise",
           "pink",
           "blue",
           "purple",
           "magenta",
           "red",
           "gold",
           "red",
           "purple",
           "purple",
           "turquoise",
           "pink",
           "red",
           "green",
           "green",
           "orange",
           "blue",
           "magenta",
           "purple",
           "purple",
           "purple"
          ],
          "size": 8
         },
         "type": "scatter3d",
         "x": {
          "bdata": "NCYO8Tbn+b+O50uW+Abfvzrx3tZnOP2/dlFHOWc/AMDWdA0t85b5v356DT8sCfy/1YZ1bs1s779eMxDtURXxv6K+pKC3vdO/lo6acGZb9z/Ywfspclblv7zlWufOL/W/7n3TkOBF8z/4ZNcOJXDDPxK8xekdVwRAwvtCzS4S+b90aqlNEIz8PzgrWITHQPm/tN1Ljtp6/D9s4wGF88j/PzAEwMjhntE/FCaE4+8a1j8Wcia+yPfbP4j0d6P7nrS/lVSzNk0QAcBwVT5GlNEGQFJ68SADRvg/GLBPymWi/D9ehceqwxf6v1rvCEVwO/c/zrV+YnSs+7/Q4LZxJLDnv+7Lpn2iN/c/NPBeoMtfsj8ZQkvT9EPsP3puGCZiAfm/aPMHGN5dsj+0bgFnTvj2P4uZJRTMTwDALOxx2Ivc+D+i7kFxHtb6Pw==",
          "dtype": "f8"
         },
         "y": {
          "bdata": "jRJX0srF3j9XpkpqAwbrv2cCGLmEnOY/CBzXM2ONzL+1cQkFeEfoP+ZaKGWqc+6/j5BfpITV779010DMfKLiv17jRne/LKy/Txzmgbam9r8Sm+7Rlfbhv6w/YGdTcp6/NP0LooVA478ukWWtnnHgP1IY13YOKvQ/QE2vBKiUwz/nlUGpd+jdPzCfGfud9/g/B3i0Jv8n9T+FXBcGcPzrPyVJ9G5snNC/syNu7XUE8D9Aqlmj+L8MQOzLm3lPYP0/rDZp3Ky3lD96MRchdAbSP8dcUUndMgPASAwEQIvh6L+LMXKoWp3SP3c/IgKGjv+/bPEudGfhqb8yIDZZwq8FwDEz8iq+oPW/uApVNyST+D/aKp1y/hLoP1fBNaE93fK/Jmf5RHG15z+hrbxs5lPuv25lO/4Zwcu/RRHtaG7X5L8kcudSbAvkPw==",
          "dtype": "f8"
         },
         "z": {
          "bdata": "FmpWrZaGvD9YrMWbTnfiv2qzP5DVkLY/fG3Z6RMtrj+A8xSbvNFmP3S3Y0PCuci/f7UoWxqS8r9QiIxJXSr4P5fvoPfLEvy/joW+Zh7P8D/unNsHATq/vxuJNRff6vI/9BiYjL438T/xRDsbdGbCPxx2gg5ssOI/MBvvm3TLvr8axEBCqaTpv6xsQjMo1OU/U3tuUsyk57+lHM1YHQAAwKpHqUUjkts/OlWbytih7z9ykoB1FG3rP0ML4u2TB+K/UV0wokHOzj9gUBfu9H3kPwHg2hnG1+A/3nGeuD+j6L8uHulzHHjbvyhOGUJ9adQ/6jzGfE+xsT+MIpb9B03zvzj3WUSaXN0/sKR4kDqE6j9t/glvserlvzylXRjE5dq/qtFmNF8E7b/i0IGkB0L5Pz5zz4kdsbQ/YkUp2Twg2z92W7Yze7/3vw==",
          "dtype": "f8"
         }
        },
        {
         "marker": {
          "color": [
           "red",
           "gold",
           "blue",
           "green",
           "purple",
           "pink",
           "turquoise",
           "orange",
           "lime",
           "magenta"
          ],
          "size": 4,
          "symbol": "diamond"
         },
         "mode": "markers",
         "type": "scatter3d",
         "x": {
          "bdata": "DrrA1cjj8z9ick23CWn6P86ihDqveui/ICBXR+6P3j8VYUgB3v7Tv7g4Fbt5iLY/5cdJdoOW8r96bhgmYgH5v6+BCZFoAgBAtohPYkHI7r8=",
          "dtype": "f8"
         },
         "y": {
          "bdata": "bdLF6+mRu78UVFKonOvuvxQeLSnsI+Q/EtBRuFFO8j/2TWtinnzBPx4MDIBPr9y/jCOZT4e/xr9XwTWhPd3yv+kfeFhA5bO/A8f4z20KsL8=",
          "dtype": "f8"
         },
         "z": {
          "bdata": "/ZNhTVmYwD8xyMtQxpnBv3Q0Yh0M7tG/Dpm6hSRmsj+mZrh4Lb27v6+z59wLq+K/YVi5FhHYxz88pV0YxOXav5vA/21UJ+o/brCAJN636D8=",
          "dtype": "f8"
         }
        },
        {
         "marker": {
          "color": "black",
          "size": 5
         },
         "mode": "markers",
         "name": "Origin",
         "showlegend": false,
         "type": "scatter3d",
         "x": [
          0
         ],
         "y": [
          0
         ],
         "z": [
          0
         ]
        },
        {
         "line": {
          "width": 4
         },
         "mode": "lines+text",
         "name": "max_resistance",
         "textposition": "top center",
         "type": "scatter3d",
         "x": [
          0,
          -2.5522622324151167
         ],
         "y": [
          0,
          -1.421117161490519
         ],
         "z": [
          0,
          3.364912456880992
         ]
        },
        {
         "line": {
          "width": 4
         },
         "mode": "lines+text",
         "name": "num_peaks",
         "textposition": "top center",
         "type": "scatter3d",
         "x": [
          0,
          3.0701196571351175
         ],
         "y": [
          0,
          0.7512649682939079
         ],
         "z": [
          0,
          0.034759000196411434
         ]
        },
        {
         "line": {
          "width": 4
         },
         "mode": "lines+text",
         "name": "largest_force_drop",
         "textposition": "top center",
         "type": "scatter3d",
         "x": [
          0,
          2.9079131989652147
         ],
         "y": [
          0,
          -0.7925942524944856
         ],
         "z": [
          0,
          3.340710354972611
         ]
        },
        {
         "line": {
          "width": 4
         },
         "mode": "lines+text",
         "name": "curve_shape",
         "textposition": "top center",
         "type": "scatter3d",
         "x": [
          0,
          -0.7774082679929796
         ],
         "y": [
          0,
          4.667742635540676
         ],
         "z": [
          0,
          1.5861306042098964
         ]
        }
       ],
       "layout": {
        "autosize": true,
        "scene": {
         "xaxis": {
          "range": [
           -4,
           4
          ],
          "title": {
           "font": {
            "size": 11
           },
           "text": "PC1 (0.47 var.)"
          }
         },
         "yaxis": {
          "range": [
           -4,
           4
          ],
          "title": {
           "font": {
            "size": 11
           },
           "text": "PC2 (0.30 var.)"
          }
         },
         "zaxis": {
          "range": [
           -4,
           4
          ],
          "title": {
           "font": {
            "size": 11
           },
           "text": "PC3 (0.15 var.)"
          }
         }
        },
        "template": {
         "data": {
          "bar": [
           {
            "error_x": {
             "color": "#2a3f5f"
            },
            "error_y": {
             "color": "#2a3f5f"
            },
            "marker": {
             "line": {
              "color": "#E5ECF6",
              "width": 0.5
             },
             "pattern": {
              "fillmode": "overlay",
              "size": 10,
              "solidity": 0.2
             }
            },
            "type": "bar"
           }
          ],
          "barpolar": [
           {
            "marker": {
             "line": {
              "color": "#E5ECF6",
              "width": 0.5
             },
             "pattern": {
              "fillmode": "overlay",
              "size": 10,
              "solidity": 0.2
             }
            },
            "type": "barpolar"
           }
          ],
          "carpet": [
           {
            "aaxis": {
             "endlinecolor": "#2a3f5f",
             "gridcolor": "white",
             "linecolor": "white",
             "minorgridcolor": "white",
             "startlinecolor": "#2a3f5f"
            },
            "baxis": {
             "endlinecolor": "#2a3f5f",
             "gridcolor": "white",
             "linecolor": "white",
             "minorgridcolor": "white",
             "startlinecolor": "#2a3f5f"
            },
            "type": "carpet"
           }
          ],
          "choropleth": [
           {
            "colorbar": {
             "outlinewidth": 0,
             "ticks": ""
            },
            "type": "choropleth"
           }
          ],
          "contour": [
           {
            "colorbar": {
             "outlinewidth": 0,
             "ticks": ""
            },
            "colorscale": [
             [
              0,
              "#0d0887"
             ],
             [
              0.1111111111111111,
              "#46039f"
             ],
             [
              0.2222222222222222,
              "#7201a8"
             ],
             [
              0.3333333333333333,
              "#9c179e"
             ],
             [
              0.4444444444444444,
              "#bd3786"
             ],
             [
              0.5555555555555556,
              "#d8576b"
             ],
             [
              0.6666666666666666,
              "#ed7953"
             ],
             [
              0.7777777777777778,
              "#fb9f3a"
             ],
             [
              0.8888888888888888,
              "#fdca26"
             ],
             [
              1,
              "#f0f921"
             ]
            ],
            "type": "contour"
           }
          ],
          "contourcarpet": [
           {
            "colorbar": {
             "outlinewidth": 0,
             "ticks": ""
            },
            "type": "contourcarpet"
           }
          ],
          "heatmap": [
           {
            "colorbar": {
             "outlinewidth": 0,
             "ticks": ""
            },
            "colorscale": [
             [
              0,
              "#0d0887"
             ],
             [
              0.1111111111111111,
              "#46039f"
             ],
             [
              0.2222222222222222,
              "#7201a8"
             ],
             [
              0.3333333333333333,
              "#9c179e"
             ],
             [
              0.4444444444444444,
              "#bd3786"
             ],
             [
              0.5555555555555556,
              "#d8576b"
             ],
             [
              0.6666666666666666,
              "#ed7953"
             ],
             [
              0.7777777777777778,
              "#fb9f3a"
             ],
             [
              0.8888888888888888,
              "#fdca26"
             ],
             [
              1,
              "#f0f921"
             ]
            ],
            "type": "heatmap"
           }
          ],
          "histogram": [
           {
            "marker": {
             "pattern": {
              "fillmode": "overlay",
              "size": 10,
              "solidity": 0.2
             }
            },
            "type": "histogram"
           }
          ],
          "histogram2d": [
           {
            "colorbar": {
             "outlinewidth": 0,
             "ticks": ""
            },
            "colorscale": [
             [
              0,
              "#0d0887"
             ],
             [
              0.1111111111111111,
              "#46039f"
             ],
             [
              0.2222222222222222,
              "#7201a8"
             ],
             [
              0.3333333333333333,
              "#9c179e"
             ],
             [
              0.4444444444444444,
              "#bd3786"
             ],
             [
              0.5555555555555556,
              "#d8576b"
             ],
             [
              0.6666666666666666,
              "#ed7953"
             ],
             [
              0.7777777777777778,
              "#fb9f3a"
             ],
             [
              0.8888888888888888,
              "#fdca26"
             ],
             [
              1,
              "#f0f921"
             ]
            ],
            "type": "histogram2d"
           }
          ],
          "histogram2dcontour": [
           {
            "colorbar": {
             "outlinewidth": 0,
             "ticks": ""
            },
            "colorscale": [
             [
              0,
              "#0d0887"
             ],
             [
              0.1111111111111111,
              "#46039f"
             ],
             [
              0.2222222222222222,
              "#7201a8"
             ],
             [
              0.3333333333333333,
              "#9c179e"
             ],
             [
              0.4444444444444444,
              "#bd3786"
             ],
             [
              0.5555555555555556,
              "#d8576b"
             ],
             [
              0.6666666666666666,
              "#ed7953"
             ],
             [
              0.7777777777777778,
              "#fb9f3a"
             ],
             [
              0.8888888888888888,
              "#fdca26"
             ],
             [
              1,
              "#f0f921"
             ]
            ],
            "type": "histogram2dcontour"
           }
          ],
          "mesh3d": [
           {
            "colorbar": {
             "outlinewidth": 0,
             "ticks": ""
            },
            "type": "mesh3d"
           }
          ],
          "parcoords": [
           {
            "line": {
             "colorbar": {
              "outlinewidth": 0,
              "ticks": ""
             }
            },
            "type": "parcoords"
           }
          ],
          "pie": [
           {
            "automargin": true,
            "type": "pie"
           }
          ],
          "scatter": [
           {
            "fillpattern": {
             "fillmode": "overlay",
             "size": 10,
             "solidity": 0.2
            },
            "type": "scatter"
           }
          ],
          "scatter3d": [
           {
            "line": {
             "colorbar": {
              "outlinewidth": 0,
              "ticks": ""
             }
            },
            "marker": {
             "colorbar": {
              "outlinewidth": 0,
              "ticks": ""
             }
            },
            "type": "scatter3d"
           }
          ],
          "scattercarpet": [
           {
            "marker": {
             "colorbar": {
              "outlinewidth": 0,
              "ticks": ""
             }
            },
            "type": "scattercarpet"
           }
          ],
          "scattergeo": [
           {
            "marker": {
             "colorbar": {
              "outlinewidth": 0,
              "ticks": ""
             }
            },
            "type": "scattergeo"
           }
          ],
          "scattergl": [
           {
            "marker": {
             "colorbar": {
              "outlinewidth": 0,
              "ticks": ""
             }
            },
            "type": "scattergl"
           }
          ],
          "scattermap": [
           {
            "marker": {
             "colorbar": {
              "outlinewidth": 0,
              "ticks": ""
             }
            },
            "type": "scattermap"
           }
          ],
          "scattermapbox": [
           {
            "marker": {
             "colorbar": {
              "outlinewidth": 0,
              "ticks": ""
             }
            },
            "type": "scattermapbox"
           }
          ],
          "scatterpolar": [
           {
            "marker": {
             "colorbar": {
              "outlinewidth": 0,
              "ticks": ""
             }
            },
            "type": "scatterpolar"
           }
          ],
          "scatterpolargl": [
           {
            "marker": {
             "colorbar": {
              "outlinewidth": 0,
              "ticks": ""
             }
            },
            "type": "scatterpolargl"
           }
          ],
          "scatterternary": [
           {
            "marker": {
             "colorbar": {
              "outlinewidth": 0,
              "ticks": ""
             }
            },
            "type": "scatterternary"
           }
          ],
          "surface": [
           {
            "colorbar": {
             "outlinewidth": 0,
             "ticks": ""
            },
            "colorscale": [
             [
              0,
              "#0d0887"
             ],
             [
              0.1111111111111111,
              "#46039f"
             ],
             [
              0.2222222222222222,
              "#7201a8"
             ],
             [
              0.3333333333333333,
              "#9c179e"
             ],
             [
              0.4444444444444444,
              "#bd3786"
             ],
             [
              0.5555555555555556,
              "#d8576b"
             ],
             [
              0.6666666666666666,
              "#ed7953"
             ],
             [
              0.7777777777777778,
              "#fb9f3a"
             ],
             [
              0.8888888888888888,
              "#fdca26"
             ],
             [
              1,
              "#f0f921"
             ]
            ],
            "type": "surface"
           }
          ],
          "table": [
           {
            "cells": {
             "fill": {
              "color": "#EBF0F8"
             },
             "line": {
              "color": "white"
             }
            },
            "header": {
             "fill": {
              "color": "#C8D4E3"
             },
             "line": {
              "color": "white"
             }
            },
            "type": "table"
           }
          ]
         },
         "layout": {
          "annotationdefaults": {
           "arrowcolor": "#2a3f5f",
           "arrowhead": 0,
           "arrowwidth": 1
          },
          "autotypenumbers": "strict",
          "coloraxis": {
           "colorbar": {
            "outlinewidth": 0,
            "ticks": ""
           }
          },
          "colorscale": {
           "diverging": [
            [
             0,
             "#8e0152"
            ],
            [
             0.1,
             "#c51b7d"
            ],
            [
             0.2,
             "#de77ae"
            ],
            [
             0.3,
             "#f1b6da"
            ],
            [
             0.4,
             "#fde0ef"
            ],
            [
             0.5,
             "#f7f7f7"
            ],
            [
             0.6,
             "#e6f5d0"
            ],
            [
             0.7,
             "#b8e186"
            ],
            [
             0.8,
             "#7fbc41"
            ],
            [
             0.9,
             "#4d9221"
            ],
            [
             1,
             "#276419"
            ]
           ],
           "sequential": [
            [
             0,
             "#0d0887"
            ],
            [
             0.1111111111111111,
             "#46039f"
            ],
            [
             0.2222222222222222,
             "#7201a8"
            ],
            [
             0.3333333333333333,
             "#9c179e"
            ],
            [
             0.4444444444444444,
             "#bd3786"
            ],
            [
             0.5555555555555556,
             "#d8576b"
            ],
            [
             0.6666666666666666,
             "#ed7953"
            ],
            [
             0.7777777777777778,
             "#fb9f3a"
            ],
            [
             0.8888888888888888,
             "#fdca26"
            ],
            [
             1,
             "#f0f921"
            ]
           ],
           "sequentialminus": [
            [
             0,
             "#0d0887"
            ],
            [
             0.1111111111111111,
             "#46039f"
            ],
            [
             0.2222222222222222,
             "#7201a8"
            ],
            [
             0.3333333333333333,
             "#9c179e"
            ],
            [
             0.4444444444444444,
             "#bd3786"
            ],
            [
             0.5555555555555556,
             "#d8576b"
            ],
            [
             0.6666666666666666,
             "#ed7953"
            ],
            [
             0.7777777777777778,
             "#fb9f3a"
            ],
            [
             0.8888888888888888,
             "#fdca26"
            ],
            [
             1,
             "#f0f921"
            ]
           ]
          },
          "colorway": [
           "#636efa",
           "#EF553B",
           "#00cc96",
           "#ab63fa",
           "#FFA15A",
           "#19d3f3",
           "#FF6692",
           "#B6E880",
           "#FF97FF",
           "#FECB52"
          ],
          "font": {
           "color": "#2a3f5f"
          },
          "geo": {
           "bgcolor": "white",
           "lakecolor": "white",
           "landcolor": "#E5ECF6",
           "showlakes": true,
           "showland": true,
           "subunitcolor": "white"
          },
          "hoverlabel": {
           "align": "left"
          },
          "hovermode": "closest",
          "mapbox": {
           "style": "light"
          },
          "paper_bgcolor": "white",
          "plot_bgcolor": "#E5ECF6",
          "polar": {
           "angularaxis": {
            "gridcolor": "white",
            "linecolor": "white",
            "ticks": ""
           },
           "bgcolor": "#E5ECF6",
           "radialaxis": {
            "gridcolor": "white",
            "linecolor": "white",
            "ticks": ""
           }
          },
          "scene": {
           "xaxis": {
            "backgroundcolor": "#E5ECF6",
            "gridcolor": "white",
            "gridwidth": 2,
            "linecolor": "white",
            "showbackground": true,
            "ticks": "",
            "zerolinecolor": "white"
           },
           "yaxis": {
            "backgroundcolor": "#E5ECF6",
            "gridcolor": "white",
            "gridwidth": 2,
            "linecolor": "white",
            "showbackground": true,
            "ticks": "",
            "zerolinecolor": "white"
           },
           "zaxis": {
            "backgroundcolor": "#E5ECF6",
            "gridcolor": "white",
            "gridwidth": 2,
            "linecolor": "white",
            "showbackground": true,
            "ticks": "",
            "zerolinecolor": "white"
           }
          },
          "shapedefaults": {
           "line": {
            "color": "#2a3f5f"
           }
          },
          "ternary": {
           "aaxis": {
            "gridcolor": "white",
            "linecolor": "white",
            "ticks": ""
           },
           "baxis": {
            "gridcolor": "white",
            "linecolor": "white",
            "ticks": ""
           },
           "bgcolor": "#E5ECF6",
           "caxis": {
            "gridcolor": "white",
            "linecolor": "white",
            "ticks": ""
           }
          },
          "title": {
           "x": 0.05
          },
          "xaxis": {
           "automargin": true,
           "gridcolor": "white",
           "linecolor": "white",
           "ticks": "",
           "title": {
            "standoff": 15
           },
           "zerolinecolor": "white",
           "zerolinewidth": 2
          },
          "yaxis": {
           "automargin": true,
           "gridcolor": "white",
           "linecolor": "white",
           "ticks": "",
           "title": {
            "standoff": 15
           },
           "zerolinecolor": "white",
           "zerolinewidth": 2
          }
         }
        },
        "title": {
         "text": "3D PCA Scatter Plot"
        }
       }
      }
     },
     "metadata": {},
     "output_type": "display_data"
    }
   ],
   "source": [
    "marions_labeled_data[f'{ylabel_name}_nums'] = marions_labeled_data[ylabel_name].map(ylabel_to_cluster_num)\n",
    "# plotting.get_curve_idx_from_cluster_color('purple', marions_labeled_data[f'{ylabel_name}_nums'], marions_labeled_data.index, data_features)\n",
    "\n",
    "plotting.plot_clusters_seperately(marions_labeled_data[f'{ylabel_name}_nums'], curve_data, ylabel_name,\n",
    "                                  cluster_category_names=list(ylabel_to_cluster_num.keys()),\n",
    "                                  bold_idxs=marions_labeled_data.index.tolist()) \n",
    "plotting.plot_pca(marions_labeled_data, marions_labeled_data[f'{ylabel_name}_nums'], graph_title=\"Clustering Labeled Data\", num_pc=3, ylabel_name=ylabel_name, centroids=label_centroids)"
   ]
  },
  {
   "cell_type": "markdown",
   "id": "9e8f6973",
   "metadata": {},
   "source": [
    "# Plot Corrected Labeling"
   ]
  },
  {
   "cell_type": "code",
   "execution_count": 184,
   "id": "6d79d33d",
   "metadata": {},
   "outputs": [],
   "source": [
    "# def correct_pseudo_ylabels_to_actual(pseudo_labeled_data:pd.DataFrame, actual_labeled_data:pd.DataFrame, ylabel_name, changed_ylabel_idxs):\n",
    "#     corrected_pseudo_labeled_data = pseudo_labeled_data.copy()\n",
    "#     corrected_pseudo_labeled_data.loc[changed_ylabel_idxs, f'pseudo_{ylabel_name}'] = actual_labeled_data[ylabel_name]\n",
    "#     corrected_pseudo_labeled_data.loc[changed_ylabel_idxs, f'pseudo_{ylabel_name}_nums'] = actual_labeled_data[f'{ylabel_name}_nums']\n",
    "#     return corrected_pseudo_labeled_data\n",
    "\n",
    "# corrected_pseudo_labeled_data = correct_pseudo_ylabels_to_actual(pseudo_labeled_data, marions_labeled_data, ylabel_name, changed_ylabel_idxs)\n",
    "\n",
    "# plotting.plot_clusters_seperately(corrected_pseudo_labeled_data[f'pseudo_{ylabel_name}_nums'], \n",
    "#                                   curve_data, ylabel_name, cluster_category_names=list(ylabel_to_cluster_num.keys()), \n",
    "#                                   pseudo_corrections=marions_labeled_data)\n",
    "# plotting.plot_pca(corrected_pseudo_labeled_data, corrected_pseudo_labeled_data[f'pseudo_{ylabel_name}_nums'], graph_title=\"Clustering Corrected Pseudo Labeled Data\", num_pc=3, ylabel_name=ylabel_name, centroids=label_centroids)\n"
   ]
  },
  {
   "cell_type": "markdown",
   "id": "c6833aba",
   "metadata": {},
   "source": [
    "# Plot Un-corrected Labeling"
   ]
  },
  {
   "cell_type": "code",
   "execution_count": 185,
   "id": "16b1a04d",
   "metadata": {},
   "outputs": [],
   "source": [
    "\n",
    "# plotting.plot_clusters_seperately(pseudo_labeled_data[f'pseudo_{ylabel_name}_nums'],\n",
    "#                                   curve_data, ylabel_name, cluster_category_names=list(ylabel_to_cluster_num.keys()),\n",
    "#                                   pseudo_corrections=marions_labeled_data)\n",
    "# plotting.plot_clusters_seperately(pseudo_labeled_data[f'pseudo_{ylabel_name}_nums'],\n",
    "#                                   curve_data, ylabel_name, cluster_category_names=list(ylabel_to_cluster_num.keys()),)\n",
    "# plotting.plot_clusters_seperately(pseudo_labeled_data[f'pseudo_{ylabel_name}_nums'],\n",
    "#                                   curve_data, ylabel_name, cluster_category_names=list(ylabel_to_cluster_num.keys()),\n",
    "#                                   bold_idxs=marions_labeled_data.index)\n",
    "# plotting.plot_pca(pseudo_labeled_data, pseudo_labeled_data[f'pseudo_{ylabel_name}_nums'], graph_title=\"Clustering Un-corrected Pseudo Labeled Data\", num_pc=3, ylabel_name=ylabel_name, centroids=label_centroids)\n"
   ]
  },
  {
   "cell_type": "markdown",
   "id": "c4c5a5a0",
   "metadata": {},
   "source": [
    "# Clustering data with ES-D removed (Corrected)"
   ]
  },
  {
   "cell_type": "code",
   "execution_count": 186,
   "id": "0be52c13",
   "metadata": {},
   "outputs": [
    {
     "name": "stdout",
     "output_type": "stream",
     "text": [
      "Uncorrected\n"
     ]
    },
    {
     "data": {
      "image/png": "[encoded data removed]",
      "text/plain": [
       "<Figure size 800x800 with 9 Axes>"
      ]
     },
     "metadata": {},
     "output_type": "display_data"
    },
    {
     "data": {
      "application/vnd.plotly.v1+json": {
       "config": {
        "plotlyServerURL": "https://plot.ly"
       },
       "data": [
        {
         "mode": "text",
         "name": "Data Points",
         "text": [
          "0",
          "1",
          "2",
          "3",
          "4",
          "5",
          "6",
          "7",
          "8",
          "9",
          "10",
          "11",
          "12",
          "13",
          "14",
          "15",
          "16",
          "17",
          "18",
          "19",
          "20",
          "21",
          "22",
          "23",
          "24",
          "25",
          "26",
          "27",
          "28",
          "29",
          "30",
          "31",
          "32",
          "33",
          "34",
          "35",
          "36",
          "37",
          "38",
          "39",
          "40",
          "41",
          "42",
          "43",
          "44",
          "45",
          "46",
          "47",
          "48",
          "49",
          "50",
          "51",
          "52",
          "53",
          "54",
          "55",
          "56",
          "57",
          "58",
          "59",
          "60",
          "61",
          "62",
          "63",
          "64",
          "65",
          "66",
          "67",
          "68",
          "69",
          "70",
          "71",
          "72",
          "73",
          "74",
          "75",
          "76",
          "77"
         ],
         "textfont": {
          "color": [
           "turquoise",
           "turquoise",
           "pink",
           "turquoise",
           "green",
           "turquoise",
           "orange",
           "blue",
           "blue",
           "pink",
           "pink",
           "turquoise",
           "blue",
           "orange",
           "green",
           "orange",
           "magenta",
           "turquoise",
           "blue",
           "pink",
           "lime",
           "turquoise",
           "pink",
           "turquoise",
           "turquoise",
           "magenta",
           "red",
           "green",
           "turquoise",
           "pink",
           "lime",
           "gold",
           "turquoise",
           "turquoise",
           "green",
           "red",
           "blue",
           "blue",
           "blue",
           "green",
           "pink",
           "green",
           "blue",
           "pink",
           "green",
           "orange",
           "green",
           "green",
           "turquoise",
           "lime",
           "gold",
           "lime",
           "orange",
           "gold",
           "blue",
           "gold",
           "turquoise",
           "pink",
           "pink",
           "green",
           "blue",
           "turquoise",
           "orange",
           "gold",
           "blue",
           "green",
           "green",
           "orange",
           "blue",
           "pink",
           "pink",
           "lime",
           "turquoise",
           "turquoise",
           "lime",
           "turquoise",
           "blue",
           "red"
          ],
          "size": 8
         },
         "type": "scatter3d",
         "x": {
          "bdata": "tW9IDonm87+grfmmHezgv2qJMZHXX9K/rWQseD/T+r9byoGzNnj6P3qNOqOb1+6/ikPtXDbw7b9s8CCvm6r6vyAwYsAUvva/1oyZ56ae0L+g5sjbP7HTv4vWaud5a/u/q3AUCbAo87/NmIWWTlL4v9wxsluO8PA/gWvL4rEv6b8pFehAMeLpv25ZGp41pfq/wEAyxdHD8r+dENenXg+nv3LrSQkOoPo/X6wl+S0H57+MqHNdj5XbvzspHB8GtOe/cvJ9Z9Ws+r93QWrTVgzwv6S1CjezA/c/KhyvwXCo4D/20y6H547dv5mSwGInW+Q/A9KPfWyJB0ANqwwwjY71P9QtR5Bifuy/Zaav3bCn878vVxAFyEfxP1zdC1olAQFAUyWGAAK/8r9M8XmGUXTxv7Wl9As/vuW/A3ybFiH2AUA3TwQN7uHjv9Q7BCwCVgNADyYCikmL7L/V7wykY3ziP/J4iUR5eug/2r3mRbxO9b9FdVu401ryP//Kk+AyLNo/gMNDqc+U/L+Bt96RLT4JQMk650gI8fg/ddkGrcb4/j9GBL9nCV/0v5fKHLMXr/8/P86O8EZ09L8SRENIHG34P42huPqWeva/LQ9xitSZqb8lilVQa3nLv52GPL06EApA1yo/bGpx8L9zuSOOMsb6vzs5hytCSue/CfD48ade+T/0kPVncm7gP29eg/4s3OE/958GliI89D+OCpTVucn1v0gT7fzqfNw/nWSJKSFOwb9Rjzduc5z2Pxi2wRUF+Po/5mhE7+2H+78Ya0KVx/Pyv6M/NGwHPv0/YaF2FEGk+r9T2yRziYTEv6r1luOldwBA",
          "dtype": "f8"
         },
         "y": {
          "bdata": "o6JlyqgJ5T++FRNIiK/qv5GefY53k+2/4+8XraqC0T9Fv4fOPtLoP2QJKUGtIc6/M//Nuowz/7+ctyG/oz78PyT8ZgSQ6Ow/zfPtsmGW4r8xzmUaQHbWv06aHBOS8aE/4ewhpend7D8rw6wo1zfovxIegIDoHvY/5dXGulqO8b/RrZrj0UnJv9z1+rGYT8k/3NixYf31/j8gijc48hHavygXpmOcW/S/py78sYVJ0r+C3E+sm0Phv19ngIgMGN2/1ziNLWOPob/YAoHHRivUP7z3EoZqueG/LGoCDH4e4D8LbL5IXjy6vxnXiBMhL7k/RR4MvdV07z+/PdaS4EHrv6TabQYq59i/st8BE4ug0j/LQwVxXLHiP9EKiEy9/7g//GH+pfQS6T9alAzVUrn8PxMqct2K+do/VsyDN7nz7z9rvIUTF+jqv7RGwCm+f9Y/HMyiBwoG0T8psvWRYGLHv0hYmdjwmvE/1HUiLfP1278xZX/GQ+wMQNzn+fFiffo/gL1JamFm1D/sUhc71z+ZP/rK6mHvagPA6Oyl2D4X0b/KMNQKGqbwvzqhi16EPvK/5nIggC0n2D/loIIHYYEAwODKPLHS5MM/gzhhlk2B6r/p+jHjeX/lv/K66k/xkfI/ZyjJ7vPR2z8yYGO0fF2UPyxIYs4zXwbAjVE+s1Mn97914ykNqpLdPync+n4QM/o/QQwPg8UA4D9GLLhu18Hwv3aJBAccmOA/YFTmMm4q378y+bd6uduuv2DaSTgFcue/2ihkJpC3pz897kFiLojSP6VwHGMJU+W/j187ugtbvj8ItzgRicqMP0D1jHsy/sc/",
          "dtype": "f8"
         },
         "z": {
          "bdata": "YGinBWQrxj86676farHkP9I9y8bi79K/D1U1sFn6zz/eZm2wpMDVP3H9uotzbKW/8s9e6f1L4r8NR0eYXTLXP0oSne2z270/0aHb8bR877+loYH5ptb2v39l8UUJtdI/fatem62IgT9veSYhdOvGP4D70xU5tOc/5Y7SvzK/6b8Wxz715Zr7PyAiDTMdCc4/NivKqin+2T8b4uk8ROv5v6dBCU1Fqvk/qaoNVQ/0sb+d/NefEf+5Pzd09v/4/aU/xnvP4cJLyD8CrkW9I+j0P/psrVGvBvU/tMl2DMAYzD/WIQJxP1jYPy2g0cPXp/i/rEdplXbI2z8ulN3cpqDfP/h9RGm86rM/D+GeU+rqhj+lUTvvK/HtP5X4H+LlIua/mFsgv3Diyz+fxiSNNy/gPwDrE6VWTOC/9VUVP1W85r/6D0bJConiv+QvFwubr/y/sEWNC7tfpr86rBaHSg7mP51MkMW+/+0/WBBYFV3tyT/f3S+1wozWP3SAtB1xtOi/oaXJYwND2z/B1Dv29JLmP5se05C2QfI/UmbyygXpAUAdb9JqvCamv0yhTr/zCt6/R5shPSQr1L9nt2lIeWTqP+TiL91txM8/kj7EHqtU+b+2KcKcxD/3v3kYQCOr5/S/xW1BYaors7+psb1dMszJPxIxGzc2VOC/oPjd/RBU6j+RDwBe8U3yv74uWEbDY+Y/cqhh/29K5L/GIwixogp/vzvRdxrYTOy/A2gOeIVx+L+bnKy9tXP3v7kUmL+sEABAzAaPLHAG1D8brChMeTjjPyfPo0ideuo/W8dJo67lyD/kew7PI8z4v4UEAm1vHPW/",
          "dtype": "f8"
         }
        },
        {
         "marker": {
          "color": [
           "red",
           "gold",
           "blue",
           "green",
           "pink",
           "turquoise",
           "orange",
           "lime",
           "magenta"
          ],
          "size": 4,
          "symbol": "diamond"
         },
         "mode": "markers",
         "type": "scatter3d",
         "x": {
          "bdata": "mmZ32utt+D/Ben9+qXn9P4Jquno6eti/L09IFTkq7T+f1RmHnjjWP8qqaLWUGuu/jgqU1bnJ9b/eYxrBuWwCQIE/pxObM+S/",
          "dtype": "f8"
         },
         "y": {
          "bdata": "03eYniYpz7+kioZ38aLyvwfsYW5OXeQ/JTFBoLkZ8T/4J6fvOfnhv52b2quNPGU/Riy4btfB8L8VIIAUxoTCv/GBAuVev8k/",
          "dtype": "f8"
         },
         "z": {
          "bdata": "nfO1KHqU0z9BiQx/DsHMP7h5L2chas2/WzK0N5rKoD8HWw4W5ffTv8yP58DxO9o/xiMIsaIKf7/JyTF5MU7wPwAJIar82+4/",
          "dtype": "f8"
         }
        },
        {
         "marker": {
          "color": "black",
          "size": 5
         },
         "mode": "markers",
         "name": "Origin",
         "showlegend": false,
         "type": "scatter3d",
         "x": [
          0
         ],
         "y": [
          0
         ],
         "z": [
          0
         ]
        },
        {
         "line": {
          "width": 4
         },
         "mode": "lines+text",
         "name": "max_resistance",
         "textposition": "top center",
         "type": "scatter3d",
         "x": [
          0,
          -2.586581694927342
         ],
         "y": [
          0,
          -0.3493084224334459
         ],
         "z": [
          0,
          3.7372341657649137
         ]
        },
        {
         "line": {
          "width": 4
         },
         "mode": "lines+text",
         "name": "num_peaks",
         "textposition": "top center",
         "type": "scatter3d",
         "x": [
          0,
          3.264198782175178
         ],
         "y": [
          0,
          0.6397473092167417
         ],
         "z": [
          0,
          0.2723222017277474
         ]
        },
        {
         "line": {
          "width": 4
         },
         "mode": "lines+text",
         "name": "largest_force_drop",
         "textposition": "top center",
         "type": "scatter3d",
         "x": [
          0,
          2.753838147205822
         ],
         "y": [
          0,
          -0.6115255378633462
         ],
         "z": [
          0,
          3.2489118536722743
         ]
        },
        {
         "line": {
          "width": 4
         },
         "mode": "lines+text",
         "name": "curve_shape",
         "textposition": "top center",
         "type": "scatter3d",
         "x": [
          0,
          -0.2664149111947331
         ],
         "y": [
          0,
          4.908639681511361
         ],
         "z": [
          0,
          0.63521112691244
         ]
        }
       ],
       "layout": {
        "autosize": true,
        "scene": {
         "xaxis": {
          "range": [
           -4,
           4
          ],
          "title": {
           "font": {
            "size": 11
           },
           "text": "PC1 (0.47 var.)"
          }
         },
         "yaxis": {
          "range": [
           -4,
           4
          ],
          "title": {
           "font": {
            "size": 11
           },
           "text": "PC2 (0.25 var.)"
          }
         },
         "zaxis": {
          "range": [
           -4,
           4
          ],
          "title": {
           "font": {
            "size": 11
           },
           "text": "PC3 (0.19 var.)"
          }
         }
        },
        "template": {
         "data": {
          "bar": [
           {
            "error_x": {
             "color": "#2a3f5f"
            },
            "error_y": {
             "color": "#2a3f5f"
            },
            "marker": {
             "line": {
              "color": "#E5ECF6",
              "width": 0.5
             },
             "pattern": {
              "fillmode": "overlay",
              "size": 10,
              "solidity": 0.2
             }
            },
            "type": "bar"
           }
          ],
          "barpolar": [
           {
            "marker": {
             "line": {
              "color": "#E5ECF6",
              "width": 0.5
             },
             "pattern": {
              "fillmode": "overlay",
              "size": 10,
              "solidity": 0.2
             }
            },
            "type": "barpolar"
           }
          ],
          "carpet": [
           {
            "aaxis": {
             "endlinecolor": "#2a3f5f",
             "gridcolor": "white",
             "linecolor": "white",
             "minorgridcolor": "white",
             "startlinecolor": "#2a3f5f"
            },
            "baxis": {
             "endlinecolor": "#2a3f5f",
             "gridcolor": "white",
             "linecolor": "white",
             "minorgridcolor": "white",
             "startlinecolor": "#2a3f5f"
            },
            "type": "carpet"
           }
          ],
          "choropleth": [
           {
            "colorbar": {
             "outlinewidth": 0,
             "ticks": ""
            },
            "type": "choropleth"
           }
          ],
          "contour": [
           {
            "colorbar": {
             "outlinewidth": 0,
             "ticks": ""
            },
            "colorscale": [
             [
              0,
              "#0d0887"
             ],
             [
              0.1111111111111111,
              "#46039f"
             ],
             [
              0.2222222222222222,
              "#7201a8"
             ],
             [
              0.3333333333333333,
              "#9c179e"
             ],
             [
              0.4444444444444444,
              "#bd3786"
             ],
             [
              0.5555555555555556,
              "#d8576b"
             ],
             [
              0.6666666666666666,
              "#ed7953"
             ],
             [
              0.7777777777777778,
              "#fb9f3a"
             ],
             [
              0.8888888888888888,
              "#fdca26"
             ],
             [
              1,
              "#f0f921"
             ]
            ],
            "type": "contour"
           }
          ],
          "contourcarpet": [
           {
            "colorbar": {
             "outlinewidth": 0,
             "ticks": ""
            },
            "type": "contourcarpet"
           }
          ],
          "heatmap": [
           {
            "colorbar": {
             "outlinewidth": 0,
             "ticks": ""
            },
            "colorscale": [
             [
              0,
              "#0d0887"
             ],
             [
              0.1111111111111111,
              "#46039f"
             ],
             [
              0.2222222222222222,
              "#7201a8"
             ],
             [
              0.3333333333333333,
              "#9c179e"
             ],
             [
              0.4444444444444444,
              "#bd3786"
             ],
             [
              0.5555555555555556,
              "#d8576b"
             ],
             [
              0.6666666666666666,
              "#ed7953"
             ],
             [
              0.7777777777777778,
              "#fb9f3a"
             ],
             [
              0.8888888888888888,
              "#fdca26"
             ],
             [
              1,
              "#f0f921"
             ]
            ],
            "type": "heatmap"
           }
          ],
          "histogram": [
           {
            "marker": {
             "pattern": {
              "fillmode": "overlay",
              "size": 10,
              "solidity": 0.2
             }
            },
            "type": "histogram"
           }
          ],
          "histogram2d": [
           {
            "colorbar": {
             "outlinewidth": 0,
             "ticks": ""
            },
            "colorscale": [
             [
              0,
              "#0d0887"
             ],
             [
              0.1111111111111111,
              "#46039f"
             ],
             [
              0.2222222222222222,
              "#7201a8"
             ],
             [
              0.3333333333333333,
              "#9c179e"
             ],
             [
              0.4444444444444444,
              "#bd3786"
             ],
             [
              0.5555555555555556,
              "#d8576b"
             ],
             [
              0.6666666666666666,
              "#ed7953"
             ],
             [
              0.7777777777777778,
              "#fb9f3a"
             ],
             [
              0.8888888888888888,
              "#fdca26"
             ],
             [
              1,
              "#f0f921"
             ]
            ],
            "type": "histogram2d"
           }
          ],
          "histogram2dcontour": [
           {
            "colorbar": {
             "outlinewidth": 0,
             "ticks": ""
            },
            "colorscale": [
             [
              0,
              "#0d0887"
             ],
             [
              0.1111111111111111,
              "#46039f"
             ],
             [
              0.2222222222222222,
              "#7201a8"
             ],
             [
              0.3333333333333333,
              "#9c179e"
             ],
             [
              0.4444444444444444,
              "#bd3786"
             ],
             [
              0.5555555555555556,
              "#d8576b"
             ],
             [
              0.6666666666666666,
              "#ed7953"
             ],
             [
              0.7777777777777778,
              "#fb9f3a"
             ],
             [
              0.8888888888888888,
              "#fdca26"
             ],
             [
              1,
              "#f0f921"
             ]
            ],
            "type": "histogram2dcontour"
           }
          ],
          "mesh3d": [
           {
            "colorbar": {
             "outlinewidth": 0,
             "ticks": ""
            },
            "type": "mesh3d"
           }
          ],
          "parcoords": [
           {
            "line": {
             "colorbar": {
              "outlinewidth": 0,
              "ticks": ""
             }
            },
            "type": "parcoords"
           }
          ],
          "pie": [
           {
            "automargin": true,
            "type": "pie"
           }
          ],
          "scatter": [
           {
            "fillpattern": {
             "fillmode": "overlay",
             "size": 10,
             "solidity": 0.2
            },
            "type": "scatter"
           }
          ],
          "scatter3d": [
           {
            "line": {
             "colorbar": {
              "outlinewidth": 0,
              "ticks": ""
             }
            },
            "marker": {
             "colorbar": {
              "outlinewidth": 0,
              "ticks": ""
             }
            },
            "type": "scatter3d"
           }
          ],
          "scattercarpet": [
           {
            "marker": {
             "colorbar": {
              "outlinewidth": 0,
              "ticks": ""
             }
            },
            "type": "scattercarpet"
           }
          ],
          "scattergeo": [
           {
            "marker": {
             "colorbar": {
              "outlinewidth": 0,
              "ticks": ""
             }
            },
            "type": "scattergeo"
           }
          ],
          "scattergl": [
           {
            "marker": {
             "colorbar": {
              "outlinewidth": 0,
              "ticks": ""
             }
            },
            "type": "scattergl"
           }
          ],
          "scattermap": [
           {
            "marker": {
             "colorbar": {
              "outlinewidth": 0,
              "ticks": ""
             }
            },
            "type": "scattermap"
           }
          ],
          "scattermapbox": [
           {
            "marker": {
             "colorbar": {
              "outlinewidth": 0,
              "ticks": ""
             }
            },
            "type": "scattermapbox"
           }
          ],
          "scatterpolar": [
           {
            "marker": {
             "colorbar": {
              "outlinewidth": 0,
              "ticks": ""
             }
            },
            "type": "scatterpolar"
           }
          ],
          "scatterpolargl": [
           {
            "marker": {
             "colorbar": {
              "outlinewidth": 0,
              "ticks": ""
             }
            },
            "type": "scatterpolargl"
           }
          ],
          "scatterternary": [
           {
            "marker": {
             "colorbar": {
              "outlinewidth": 0,
              "ticks": ""
             }
            },
            "type": "scatterternary"
           }
          ],
          "surface": [
           {
            "colorbar": {
             "outlinewidth": 0,
             "ticks": ""
            },
            "colorscale": [
             [
              0,
              "#0d0887"
             ],
             [
              0.1111111111111111,
              "#46039f"
             ],
             [
              0.2222222222222222,
              "#7201a8"
             ],
             [
              0.3333333333333333,
              "#9c179e"
             ],
             [
              0.4444444444444444,
              "#bd3786"
             ],
             [
              0.5555555555555556,
              "#d8576b"
             ],
             [
              0.6666666666666666,
              "#ed7953"
             ],
             [
              0.7777777777777778,
              "#fb9f3a"
             ],
             [
              0.8888888888888888,
              "#fdca26"
             ],
             [
              1,
              "#f0f921"
             ]
            ],
            "type": "surface"
           }
          ],
          "table": [
           {
            "cells": {
             "fill": {
              "color": "#EBF0F8"
             },
             "line": {
              "color": "white"
             }
            },
            "header": {
             "fill": {
              "color": "#C8D4E3"
             },
             "line": {
              "color": "white"
             }
            },
            "type": "table"
           }
          ]
         },
         "layout": {
          "annotationdefaults": {
           "arrowcolor": "#2a3f5f",
           "arrowhead": 0,
           "arrowwidth": 1
          },
          "autotypenumbers": "strict",
          "coloraxis": {
           "colorbar": {
            "outlinewidth": 0,
            "ticks": ""
           }
          },
          "colorscale": {
           "diverging": [
            [
             0,
             "#8e0152"
            ],
            [
             0.1,
             "#c51b7d"
            ],
            [
             0.2,
             "#de77ae"
            ],
            [
             0.3,
             "#f1b6da"
            ],
            [
             0.4,
             "#fde0ef"
            ],
            [
             0.5,
             "#f7f7f7"
            ],
            [
             0.6,
             "#e6f5d0"
            ],
            [
             0.7,
             "#b8e186"
            ],
            [
             0.8,
             "#7fbc41"
            ],
            [
             0.9,
             "#4d9221"
            ],
            [
             1,
             "#276419"
            ]
           ],
           "sequential": [
            [
             0,
             "#0d0887"
            ],
            [
             0.1111111111111111,
             "#46039f"
            ],
            [
             0.2222222222222222,
             "#7201a8"
            ],
            [
             0.3333333333333333,
             "#9c179e"
            ],
            [
             0.4444444444444444,
             "#bd3786"
            ],
            [
             0.5555555555555556,
             "#d8576b"
            ],
            [
             0.6666666666666666,
             "#ed7953"
            ],
            [
             0.7777777777777778,
             "#fb9f3a"
            ],
            [
             0.8888888888888888,
             "#fdca26"
            ],
            [
             1,
             "#f0f921"
            ]
           ],
           "sequentialminus": [
            [
             0,
             "#0d0887"
            ],
            [
             0.1111111111111111,
             "#46039f"
            ],
            [
             0.2222222222222222,
             "#7201a8"
            ],
            [
             0.3333333333333333,
             "#9c179e"
            ],
            [
             0.4444444444444444,
             "#bd3786"
            ],
            [
             0.5555555555555556,
             "#d8576b"
            ],
            [
             0.6666666666666666,
             "#ed7953"
            ],
            [
             0.7777777777777778,
             "#fb9f3a"
            ],
            [
             0.8888888888888888,
             "#fdca26"
            ],
            [
             1,
             "#f0f921"
            ]
           ]
          },
          "colorway": [
           "#636efa",
           "#EF553B",
           "#00cc96",
           "#ab63fa",
           "#FFA15A",
           "#19d3f3",
           "#FF6692",
           "#B6E880",
           "#FF97FF",
           "#FECB52"
          ],
          "font": {
           "color": "#2a3f5f"
          },
          "geo": {
           "bgcolor": "white",
           "lakecolor": "white",
           "landcolor": "#E5ECF6",
           "showlakes": true,
           "showland": true,
           "subunitcolor": "white"
          },
          "hoverlabel": {
           "align": "left"
          },
          "hovermode": "closest",
          "mapbox": {
           "style": "light"
          },
          "paper_bgcolor": "white",
          "plot_bgcolor": "#E5ECF6",
          "polar": {
           "angularaxis": {
            "gridcolor": "white",
            "linecolor": "white",
            "ticks": ""
           },
           "bgcolor": "#E5ECF6",
           "radialaxis": {
            "gridcolor": "white",
            "linecolor": "white",
            "ticks": ""
           }
          },
          "scene": {
           "xaxis": {
            "backgroundcolor": "#E5ECF6",
            "gridcolor": "white",
            "gridwidth": 2,
            "linecolor": "white",
            "showbackground": true,
            "ticks": "",
            "zerolinecolor": "white"
           },
           "yaxis": {
            "backgroundcolor": "#E5ECF6",
            "gridcolor": "white",
            "gridwidth": 2,
            "linecolor": "white",
            "showbackground": true,
            "ticks": "",
            "zerolinecolor": "white"
           },
           "zaxis": {
            "backgroundcolor": "#E5ECF6",
            "gridcolor": "white",
            "gridwidth": 2,
            "linecolor": "white",
            "showbackground": true,
            "ticks": "",
            "zerolinecolor": "white"
           }
          },
          "shapedefaults": {
           "line": {
            "color": "#2a3f5f"
           }
          },
          "ternary": {
           "aaxis": {
            "gridcolor": "white",
            "linecolor": "white",
            "ticks": ""
           },
           "baxis": {
            "gridcolor": "white",
            "linecolor": "white",
            "ticks": ""
           },
           "bgcolor": "#E5ECF6",
           "caxis": {
            "gridcolor": "white",
            "linecolor": "white",
            "ticks": ""
           }
          },
          "title": {
           "x": 0.05
          },
          "xaxis": {
           "automargin": true,
           "gridcolor": "white",
           "linecolor": "white",
           "ticks": "",
           "title": {
            "standoff": 15
           },
           "zerolinecolor": "white",
           "zerolinewidth": 2
          },
          "yaxis": {
           "automargin": true,
           "gridcolor": "white",
           "linecolor": "white",
           "ticks": "",
           "title": {
            "standoff": 15
           },
           "zerolinecolor": "white",
           "zerolinewidth": 2
          }
         }
        },
        "title": {
         "text": "3D PCA Scatter Plot"
        }
       }
      }
     },
     "metadata": {},
     "output_type": "display_data"
    },
    {
     "name": "stdout",
     "output_type": "stream",
     "text": [
      "    Eigenvalue  Proportion  Cumulative\n",
      "PC                                    \n",
      "1     1.923724    0.474765    0.474765\n",
      "2     1.026575    0.253353    0.728119\n",
      "3     0.787917    0.194454    0.922572\n",
      "4     0.313733    0.077428    1.000000\n",
      "\n",
      "\n",
      "                         PC1       PC2       PC3       PC4\n",
      "max_resistance     -0.517316 -0.069862  0.747447  0.410885\n",
      "num_peaks           0.652840  0.127949  0.054464  0.744623\n",
      "largest_force_drop  0.550768 -0.122305  0.649782 -0.509391\n",
      "curve_shape        -0.053283  0.981728  0.127042 -0.131269\n"
     ]
    }
   ],
   "source": [
    "# should labels be fixed or not\n",
    "labeled_data_esd_removed = marions_labeled_data[marions_labeled_data[ylabel_name] != 'ES-D'].copy()\n",
    "marions_labeled_data_esd_removed = marions_labeled_data[marions_labeled_data[ylabel_name] != 'ES-D']\n",
    "\n",
    "# print('Labeled data only')\n",
    "# plotting.plot_clusters_seperately(labeled_data_esd_removed[f'{ylabel_name}_nums'], curve_data, ylabel_name, bold_idxs=labeled_data_esd_removed.index.tolist(), cluster_category_names=list(ylabel_to_cluster_num.keys()))\n",
    "\n",
    "# print('ES-D' in labeled_data_esd_removed['marions_ylabels_2'].values)\n",
    "label_centroids_esd_removed = find_labels_centroids(labeled_data_esd_removed, ylabel_to_cluster_num, ylabel_name)\n",
    "pseudo_data_esd_removed = find_closest_centroid(data_features, label_centroids_esd_removed, ylabel_name)\n",
    "\n",
    "# print('Corrected')\n",
    "# print(print('ES-D' in pseudo_data_esd_removed['pseudo_marions_ylabels_2'].values))\n",
    "# changed_ylabel_idxs = find_changed_ylabel_data(labeled_data_esd_removed, pseudo_data_esd_removed, ylabel_name)\n",
    "# corrected_pseudo_data_esd_removed = correct_pseudo_ylabels_to_actual(pseudo_data_esd_removed, marions_labeled_data, ylabel_name, changed_ylabel_idxs)\n",
    "# print(corrected_pseudo_data_esd_removed)\n",
    "# plotting.plot_clusters_seperately(corrected_pseudo_data_esd_removed[f'pseudo_{ylabel_name}_nums'], curve_data, ylabel_name, cluster_category_names=list(ylabel_to_cluster_num.keys()), pseudo_corrections=labeled_data_esd_removed)\n",
    "# print(label_centroids_esd_removed)\n",
    "# plotting.plot_pca(corrected_pseudo_data_esd_removed, corrected_pseudo_data_esd_removed[f'pseudo_{ylabel_name}_nums'], 3, graph_title=\"\", ylabel_name=ylabel_name, centroids=label_centroids_esd_removed)\n",
    "\n",
    "print('Uncorrected')\n",
    "# find_changed_ylabel_data(marions_labeled_data_esd_removed, pseudo_data_esd_removed, ylabel_name)\n",
    "# print(pseudo_data_esd_removed[['filenames', f'pseudo_{ylabel_name}']])\n",
    "# print(pseudo_data_esd_removed.loc[marions_labeled_data_esd_removed.index][['filenames', f'pseudo_{ylabel_name}']])\n",
    "\n",
    "\n",
    "# plotting.get_curve_idx_from_cluster_color('pink', pseudo_data_esd_removed[f'pseudo_{ylabel_name}_nums'], pseudo_data_esd_removed.index, data_features)\n",
    "# plotting.get_curve_idx_from_cluster_color('orange', pseudo_data_esd_removed[f'pseudo_{ylabel_name}_nums'], pseudo_data_esd_removed.index, data_features)\n",
    "# # print(pseudo_data_esd_removed[:3])\n",
    "# indicies = pseudo_data_esd_removed[pseudo_data_esd_removed['filenames'].isin(['WS23_L3_T1_P_23.csv','WS23_L3_T1_P_25.csv'])].index\n",
    "# plotting.plot_specific_curves([indicies.tolist()[0]], curve_data, data_features, color='pink')\n",
    "# plotting.plot_specific_curves([indicies.tolist()[1]], curve_data, data_features, color='orange')\n",
    "\n",
    "\n",
    "plotting.plot_clusters_seperately(pseudo_data_esd_removed[f'pseudo_{ylabel_name}_nums'], curve_data, ylabel_name, cluster_category_names=list(ylabel_to_cluster_num.keys()), bold_idxs=marions_labeled_data_esd_removed.index)\n",
    "# print(label_centroids_esd_removed)\n",
    "plotting.plot_pca(pseudo_data_esd_removed, pseudo_data_esd_removed[f'pseudo_{ylabel_name}_nums'], 3, graph_title=\"\", ylabel_name=ylabel_name, centroids=label_centroids_esd_removed,\n",
    "                only_plot_cluster_labels=[])\n",
    "plotting.pca_analysis(pseudo_data_esd_removed)\n",
    "ylabel_to_cluster_num = {'ES-B':0, 'ES-BW':1, 'ES-S':2, 'ES-S-Plates':3, 'ES-D':4, 'LS':5, 'F':6, 'LS/F':7, 'ES-DB':8, 'ES': 9}\n",
    "\n"
   ]
  }
 ],
 "metadata": {
  "kernelspec": {
   "display_name": "env3.13",
   "language": "python",
   "name": "python3"
  },
  "language_info": {
   "codemirror_mode": {
    "name": "ipython",
    "version": 3
   },
   "file_extension": ".py",
   "mimetype": "text/x-python",
   "name": "python",
   "nbconvert_exporter": "python",
   "pygments_lexer": "ipython3",
   "version": "3.13.1"
  }
 },
 "nbformat": 4,
 "nbformat_minor": 5
}

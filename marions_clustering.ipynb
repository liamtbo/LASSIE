{
 "cells": [
  {
   "cell_type": "code",
   "execution_count": 41,
   "id": "38dc9f62",
   "metadata": {},
   "outputs": [],
   "source": [
    "import pandas as pd\n",
    "import os\n",
    "import plotting\n",
    "import importlib\n",
    "importlib.reload(plotting)\n",
    "import math\n",
    "from typing import List\n",
    "pd.options.display.max_rows = 4000"
   ]
  },
  {
   "cell_type": "code",
   "execution_count": 42,
   "id": "28145bf8",
   "metadata": {},
   "outputs": [],
   "source": [
    "def load_data(data_src):\n",
    "    curve_data = [] # used for plotting\n",
    "    filename_list = []\n",
    "    for filename in os.listdir(data_src):\n",
    "        df = pd.read_csv(f\"{data_src}/{filename}\")\n",
    "        curve_data.append(df)\n",
    "        filename_list.append(filename)\n",
    "    return curve_data, filename_list\n",
    "\n",
    "data_src = \"data/cleaned_data\"\n",
    "curve_data, filename_list = load_data(data_src)\n",
    "filename_to_depth_resist = dict(zip(filename_list, curve_data))"
   ]
  },
  {
   "cell_type": "code",
   "execution_count": 43,
   "id": "ddf10886",
   "metadata": {},
   "outputs": [],
   "source": [
    "data_features = pd.read_csv(\"data/features.csv\")\n",
    "data_features = plotting.extract_needed_cols(data_features, remove_cols=['feifeis_ylabels', 'liams_ylabels', 'distances'])\n",
    "clustering_features = plotting.extract_numerical_features(data_features)\n",
    "\n",
    "\n",
    "ylabel_name = 'marions_ylabels'\n",
    "# ylabel_name = 'marions_ylabels_deduction'\n",
    "ylabel_to_cluster_num = {'ES-B':0, 'ES-BW':1, 'ES-S':2, 'ES-S-Plates':3, 'ES-D':4, 'LS':5, 'F':6, 'LS/F':7, 'ES-DB':8, 'ES': 9}\n",
    "data_features[f'{ylabel_name}_nums'] = data_features[ylabel_name].map(ylabel_to_cluster_num)\n",
    "marions_labeled_data = data_features[data_features[ylabel_name].notna()].copy() # removes NaN's which correspond to non-labled data\n",
    "# print(f'marions_labeled_data: \\n{marions_labeled_data[:3]}')"
   ]
  },
  {
   "cell_type": "code",
   "execution_count": 44,
   "id": "b223ccc1",
   "metadata": {},
   "outputs": [
    {
     "name": "stdout",
     "output_type": "stream",
     "text": [
      "label_centroids: \n",
      "   max_depth  max_resistance  num_peaks  largest_force_drop  \\\n",
      "0   0.646917       -0.850950   0.965241            1.440089   \n",
      "1   1.243855       -0.937649   1.223693            1.577089   \n",
      "2   0.373485       -0.075908  -0.027990           -0.360126   \n",
      "\n",
      "   largest_force_drop_dep  largest_force_drop_res  curve_shape  \\\n",
      "0               -0.141065               -0.303260    -0.107294   \n",
      "1               -0.817447               -0.873533    -1.058450   \n",
      "2                0.454614               -0.196169     0.739768   \n",
      "\n",
      "   first_quarter_slope  second_quarter_slope  third_quarter_slope  \\\n",
      "0            -0.496666             -0.333546            -0.512763   \n",
      "1            -0.610143             -0.552341            -0.511080   \n",
      "2            -0.331226             -0.289928            -0.198757   \n",
      "\n",
      "   fourth_quarter_slope  quartile_1  quartile_3      skew  kurtosis  \\\n",
      "0             -0.588977   -0.474222   -0.563892 -0.142604 -0.165418   \n",
      "1             -0.318558   -0.820126   -1.305607  1.064740  1.087912   \n",
      "2             -0.049262    0.250446    0.002661 -0.873098  0.607618   \n",
      "\n",
      "  marions_ylabels  marions_ylabels_nums  \n",
      "0            ES-B                     0  \n",
      "1           ES-BW                     1  \n",
      "2            ES-S                     2  \n"
     ]
    }
   ],
   "source": [
    "def find_labels_centroids(labeled_data: pd.DataFrame, ylabel_to_cluster_num:dict[str,int], ylabel_name:str) -> pd.DataFrame:\n",
    "    labeled_data = labeled_data.copy()\n",
    "    numerical_data = plotting.extract_numerical_features(labeled_data)\n",
    "    label_centroids = []\n",
    "    for label, label_num in ylabel_to_cluster_num.items():\n",
    "        if label not in labeled_data[ylabel_name].values: continue\n",
    "        label_data = numerical_data[labeled_data[ylabel_name] == label]\n",
    "        label_centroid = label_data.mean(axis=0).tolist() # drop cols for mean calculation\n",
    "        label_centroid.extend([label, label_num]) # append these onto the end\n",
    "        label_centroids.append(label_centroid)\n",
    "    return_cols = numerical_data.columns.tolist()\n",
    "    return_cols.extend([ylabel_name, f'{ylabel_name}_nums'])\n",
    "    return pd.DataFrame(data=label_centroids, columns=return_cols)\n",
    "\n",
    "label_centroids = find_labels_centroids(marions_labeled_data, ylabel_to_cluster_num, ylabel_name)\n",
    "print(f'label_centroids: \\n{label_centroids[:3]}')"
   ]
  },
  {
   "cell_type": "code",
   "execution_count": 45,
   "id": "ffbe018c",
   "metadata": {},
   "outputs": [],
   "source": [
    "def euclidean_distance(x: pd.Series, y: pd.Series) -> float:\n",
    "    return math.sqrt(((y - x) ** 2).sum())\n",
    "\n",
    "def find_closest_centroid(unlabeled_data:pd.DataFrame, marions_centroids:pd.DataFrame, ylabel_name) -> pd.DataFrame:\n",
    "    unlabeled_num_data = plotting.extract_numerical_features(unlabeled_data) # returns a new object\n",
    "    unlabeled_non_num_data = unlabeled_data.drop(unlabeled_num_data.columns, axis=1)\n",
    "    \n",
    "    pseudo_label_list = []\n",
    "    pseudo_label_num_list = []\n",
    "    for i, depth_res_curve in unlabeled_num_data.iterrows():\n",
    "        min_distance = float('inf')\n",
    "        min_distance_label = ''\n",
    "        min_distance_label_num = 0\n",
    "        for j, marions_label_centroid in marions_centroids.iterrows():\n",
    "            curve_to_label_mean_distance = euclidean_distance(depth_res_curve, marions_label_centroid)\n",
    "            if curve_to_label_mean_distance < min_distance:\n",
    "                min_distance = curve_to_label_mean_distance\n",
    "                min_distance_label = marions_label_centroid[ylabel_name]\n",
    "                min_distance_label_num = marions_label_centroid[f'{ylabel_name}_nums']\n",
    "        pseudo_label_list.append(min_distance_label)\n",
    "        pseudo_label_num_list.append(min_distance_label_num)\n",
    "    unlabeled_num_data[f'pseudo_{ylabel_name}'] = pseudo_label_list\n",
    "    unlabeled_num_data[f'pseudo_{ylabel_name}_nums'] = pseudo_label_num_list\n",
    "\n",
    "    return pd.concat([unlabeled_num_data, unlabeled_non_num_data], axis=1)\n",
    "\n",
    "pseudo_labeled_data = find_closest_centroid(data_features, label_centroids, ylabel_name)\n",
    "# print(f'pseudo_labeled_data: \\n{pseudo_labeled_data[:3]}')"
   ]
  },
  {
   "cell_type": "code",
   "execution_count": 46,
   "id": "28a6dbf4",
   "metadata": {},
   "outputs": [],
   "source": [
    "def find_changed_ylabel_data(labeled_data:pd.DataFrame, pseudo_labeled_data:pd.DataFrame, ylabel_name:str, print_change=False):\n",
    "    ylabel_idxs = labeled_data.index # idxs of labeled data points\n",
    "    pseudo_labels_of_labeled_data = pseudo_labeled_data.loc[ylabel_idxs]\n",
    "    diff_mask = (labeled_data[ylabel_name] != pseudo_labels_of_labeled_data[f'pseudo_{ylabel_name}'])\n",
    "    changed_label_idxs = labeled_data[diff_mask].index.tolist()\n",
    "    if print_change:\n",
    "        for i in changed_label_idxs:\n",
    "            print(f'idx {i}: {labeled_data['filenames'].loc[i]} changed label {labeled_data[f'{ylabel_name}'].loc[i]} -> {pseudo_labeled_data[f'pseudo_{ylabel_name}'].loc[i]}')\n",
    "    return changed_label_idxs\n"
   ]
  },
  {
   "cell_type": "markdown",
   "id": "88b40798",
   "metadata": {},
   "source": [
    "# Plot Labeled Data Only"
   ]
  },
  {
   "cell_type": "code",
   "execution_count": 47,
   "id": "5a7c2330",
   "metadata": {},
   "outputs": [
    {
     "data": {
      "image/png": "[encoded data removed]",
      "text/plain": [
       "<Figure size 1400x600 with 10 Axes>"
      ]
     },
     "metadata": {},
     "output_type": "display_data"
    },
    {
     "data": {
      "application/vnd.plotly.v1+json": {
       "config": {
        "plotlyServerURL": "https://plot.ly"
       },
       "data": [
        {
         "mode": "text",
         "name": "Data Points",
         "text": [
          "1",
          "5",
          "11",
          "15",
          "16",
          "17",
          "19",
          "21",
          "24",
          "25",
          "27",
          "34",
          "35",
          "36",
          "43",
          "46",
          "48",
          "51",
          "55",
          "57",
          "60",
          "61",
          "64",
          "65",
          "68",
          "69",
          "71",
          "74",
          "75",
          "76",
          "77",
          "85",
          "86",
          "89",
          "90",
          "92",
          "95",
          "100",
          "102",
          "104",
          "109"
         ],
         "textfont": {
          "color": [
           "red",
           "pink",
           "magenta",
           "turquoise",
           "blue",
           "blue",
           "blue",
           "purple",
           "purple",
           "lime",
           "pink",
           "magenta",
           "red",
           "purple",
           "lime",
           "purple",
           "gold",
           "purple",
           "red",
           "pink",
           "turquoise",
           "pink",
           "blue",
           "purple",
           "magenta",
           "red",
           "gold",
           "red",
           "purple",
           "purple",
           "turquoise",
           "pink",
           "red",
           "green",
           "green",
           "orange",
           "blue",
           "magenta",
           "purple",
           "purple",
           "purple"
          ],
          "size": 6
         },
         "type": "scatter3d",
         "x": {
          "bdata": "4kmUVJlwA0DS48Y/GVXmv+zxq5u1bQtAXSm9egB1DEBql5BMcNEDQG0FvIkPIfk/gnAEoxSX5r95fTMfeBkLQN3tV6n5xwPA4pGmeltv6L+IIAy8lFfKvxkY3U4/4QRA3ppR1nXI7b9i1/HGAxbZv5D7f6bCIgzAu4EmdIoaA0BSogjdmgYOwGbzNQzOnghAlG9Uw7J8+7/8TBaw4I0OwIYBNIZJPNU/47eT7jBs1D+q75lOwXjQP/MZML/Xs/K/TDfa63jsGUBOVoujcLQHwEtRxp8+hQHAjnsHPXf2DcA6MBi6KPkLQO0BgrflqwXAocZ6Ftk7AkDOVidd5bL/vzvt3BTIoQHA6GTj1UHv5j9plWYvfnIBwJLUz0E05fE/BuzOKWYU9b/oM+gg0UzIvzgYMLiYPBRAcOgkFo+K+b9G3ckFSxwOwA==",
          "dtype": "f8"
         },
         "y": {
          "bdata": "hj36AHbs8z9ksAN6ZVGqv/e6oVgWC/0/YrixZxa77r93fxgBckD4P4o54wrRJwjAJrchtCfF87/aCfv8sNDjv4hdIUN8HMe/X6eCeOgfBsAGjsgetjjZv8751pLM38i/YBz33TjT278OHY/eYDLmP7rzSJv6YwFAKJwZm68W7D/kuprl0C7PPxrGkRB1GQRAMmu7rM5AAECE0bSi+gbsPzv2mqFskdQ/88jSaDaq/j/dnlk6v7kVQBmtzFY7aAhA6o1XoQTy4b9+4GlZayvsPyhh98OdmQXA4F2z7hdB6b/8iAXsBM/Sv4BeORQIkQTA28gaErXC478D7SgNLM0OwDidMOOL//S/XY8kGgiL/T8GerrjBPvrPxoNjPNecAHANxvfi1TD/z/1pYdyo/cAwHtoS3vXegPAZpMmlPrA9L8TYDeBh6jSPw==",
          "dtype": "f8"
         },
         "z": {
          "bdata": "rOc4I8xY6L8dQWkZf7fxvxBzM6Z9Y8s/Z/J0+MzL4b/KRkXnWznjv6MCfRFyWe+/2N6/EVy19r/gQJ+xRFsFQAj6ePltNvy/IcWxCu5q6D+ZraA27Zbzv7B3mbuYHrQ/NJS0uP0O3r9VNyRXyKryv4ig7nyys8s/DryzZar05r8UuBuRlYPZP0ZXBMPDiPk/qHQ3sMIC2D/6nL7LYVb0v/W0YM5mn+S/939umaDj3b/hGi+vt5ERQOhru/2qwPy/N8QFtmoryr+DtEPePIrLv5+q7tEGAO0/wyUKRlZOxr+8KZAyiBPov/xVgo5AU/8/wegJuVFI6r9SJUZAnF37P4BiCRWCfNQ/LeNyz5Xh6D8SbbUeL8/nv8HOn3Igt+2/JiTCgZF19r8BJvege08GQEAfiFQI/uK/2lG5X+ddAUC44eWoAbLhvw==",
          "dtype": "f8"
         }
        },
        {
         "marker": {
          "color": [
           "red",
           "gold",
           "blue",
           "green",
           "purple",
           "pink",
           "turquoise",
           "orange",
           "lime",
           "magenta"
          ],
          "size": 4,
          "symbol": "diamond"
         },
         "mode": "markers",
         "type": "scatter3d",
         "x": {
          "bdata": "kgZefYRZ+L/PeWe+7MUHwCGjWy/zNN0/Xnjbc1tt57/K2J/oTt/ePyiYnb6ebvS/unr/lctyAECS1M9BNOXxPwTQlMJMHwHAVr0LbMaoCEA=",
          "dtype": "f8"
         },
         "y": {
          "bdata": "R0tpo+xJ0T97tZ21sKbzv1xeYqsw7+0/MOYARkXE9T9ADof2iR5mP6u6uA/kPdO/wK5UGw7O2r8aDYzzXnABwJTO5nS379K/JTd0byz50L8=",
          "dtype": "f8"
         },
         "z": {
          "bdata": "gCgERN65w79TQz7N6ODkP4CrsUIhL2K/wGHXC2smkT+0604n5HS4P31rfgFIM96/CjD1fyyR5b/Bzp9yILftv0Jt7anaV98/rczWlfED5z8=",
          "dtype": "f8"
         }
        },
        {
         "marker": {
          "color": "black",
          "size": 3
         },
         "mode": "markers",
         "name": "Origin",
         "showlegend": false,
         "type": "scatter3d",
         "x": [
          0
         ],
         "y": [
          0
         ],
         "z": [
          0
         ]
        },
        {
         "line": {
          "width": 4
         },
         "mode": "lines+text",
         "name": "max_depth",
         "textposition": "top center",
         "type": "scatter3d",
         "x": [
          0,
          -2.5127636999409315
         ],
         "y": [
          0,
          1.6692606611630751
         ],
         "z": [
          0,
          -0.843725551722745
         ]
        },
        {
         "line": {
          "width": 4
         },
         "mode": "lines+text",
         "name": "max_resistance",
         "textposition": "top center",
         "type": "scatter3d",
         "x": [
          0,
          2.737236081519817
         ],
         "y": [
          0,
          -1.7930195974153598
         ],
         "z": [
          0,
          1.1262866710411212
         ]
        },
        {
         "line": {
          "width": 4
         },
         "mode": "lines+text",
         "name": "quartile_1",
         "textposition": "top center",
         "type": "scatter3d",
         "x": [
          0,
          2.158895725013262
         ],
         "y": [
          0,
          1.5819977102366278
         ],
         "z": [
          0,
          2.595168316911686
         ]
        },
        {
         "line": {
          "width": 4
         },
         "mode": "lines+text",
         "name": "quartile_3",
         "textposition": "top center",
         "type": "scatter3d",
         "x": [
          0,
          2.7301077254666883
         ],
         "y": [
          0,
          0.2646199400604282
         ],
         "z": [
          0,
          -0.43114635303348403
         ]
        }
       ],
       "layout": {
        "autosize": true,
        "scene": {
         "aspectmode": "cube",
         "xaxis": {
          "range": [
           -4,
           4
          ],
          "title": {
           "font": {
            "size": 11
           },
           "text": "PC1 (0.42 var.)"
          }
         },
         "yaxis": {
          "range": [
           -4,
           4
          ],
          "title": {
           "font": {
            "size": 11
           },
           "text": "PC2 (0.22 var.)"
          }
         },
         "zaxis": {
          "range": [
           -4,
           4
          ],
          "title": {
           "font": {
            "size": 11
           },
           "text": "PC3 (0.11 var.)"
          }
         }
        },
        "template": {
         "data": {
          "bar": [
           {
            "error_x": {
             "color": "#2a3f5f"
            },
            "error_y": {
             "color": "#2a3f5f"
            },
            "marker": {
             "line": {
              "color": "#E5ECF6",
              "width": 0.5
             },
             "pattern": {
              "fillmode": "overlay",
              "size": 10,
              "solidity": 0.2
             }
            },
            "type": "bar"
           }
          ],
          "barpolar": [
           {
            "marker": {
             "line": {
              "color": "#E5ECF6",
              "width": 0.5
             },
             "pattern": {
              "fillmode": "overlay",
              "size": 10,
              "solidity": 0.2
             }
            },
            "type": "barpolar"
           }
          ],
          "carpet": [
           {
            "aaxis": {
             "endlinecolor": "#2a3f5f",
             "gridcolor": "white",
             "linecolor": "white",
             "minorgridcolor": "white",
             "startlinecolor": "#2a3f5f"
            },
            "baxis": {
             "endlinecolor": "#2a3f5f",
             "gridcolor": "white",
             "linecolor": "white",
             "minorgridcolor": "white",
             "startlinecolor": "#2a3f5f"
            },
            "type": "carpet"
           }
          ],
          "choropleth": [
           {
            "colorbar": {
             "outlinewidth": 0,
             "ticks": ""
            },
            "type": "choropleth"
           }
          ],
          "contour": [
           {
            "colorbar": {
             "outlinewidth": 0,
             "ticks": ""
            },
            "colorscale": [
             [
              0,
              "#0d0887"
             ],
             [
              0.1111111111111111,
              "#46039f"
             ],
             [
              0.2222222222222222,
              "#7201a8"
             ],
             [
              0.3333333333333333,
              "#9c179e"
             ],
             [
              0.4444444444444444,
              "#bd3786"
             ],
             [
              0.5555555555555556,
              "#d8576b"
             ],
             [
              0.6666666666666666,
              "#ed7953"
             ],
             [
              0.7777777777777778,
              "#fb9f3a"
             ],
             [
              0.8888888888888888,
              "#fdca26"
             ],
             [
              1,
              "#f0f921"
             ]
            ],
            "type": "contour"
           }
          ],
          "contourcarpet": [
           {
            "colorbar": {
             "outlinewidth": 0,
             "ticks": ""
            },
            "type": "contourcarpet"
           }
          ],
          "heatmap": [
           {
            "colorbar": {
             "outlinewidth": 0,
             "ticks": ""
            },
            "colorscale": [
             [
              0,
              "#0d0887"
             ],
             [
              0.1111111111111111,
              "#46039f"
             ],
             [
              0.2222222222222222,
              "#7201a8"
             ],
             [
              0.3333333333333333,
              "#9c179e"
             ],
             [
              0.4444444444444444,
              "#bd3786"
             ],
             [
              0.5555555555555556,
              "#d8576b"
             ],
             [
              0.6666666666666666,
              "#ed7953"
             ],
             [
              0.7777777777777778,
              "#fb9f3a"
             ],
             [
              0.8888888888888888,
              "#fdca26"
             ],
             [
              1,
              "#f0f921"
             ]
            ],
            "type": "heatmap"
           }
          ],
          "histogram": [
           {
            "marker": {
             "pattern": {
              "fillmode": "overlay",
              "size": 10,
              "solidity": 0.2
             }
            },
            "type": "histogram"
           }
          ],
          "histogram2d": [
           {
            "colorbar": {
             "outlinewidth": 0,
             "ticks": ""
            },
            "colorscale": [
             [
              0,
              "#0d0887"
             ],
             [
              0.1111111111111111,
              "#46039f"
             ],
             [
              0.2222222222222222,
              "#7201a8"
             ],
             [
              0.3333333333333333,
              "#9c179e"
             ],
             [
              0.4444444444444444,
              "#bd3786"
             ],
             [
              0.5555555555555556,
              "#d8576b"
             ],
             [
              0.6666666666666666,
              "#ed7953"
             ],
             [
              0.7777777777777778,
              "#fb9f3a"
             ],
             [
              0.8888888888888888,
              "#fdca26"
             ],
             [
              1,
              "#f0f921"
             ]
            ],
            "type": "histogram2d"
           }
          ],
          "histogram2dcontour": [
           {
            "colorbar": {
             "outlinewidth": 0,
             "ticks": ""
            },
            "colorscale": [
             [
              0,
              "#0d0887"
             ],
             [
              0.1111111111111111,
              "#46039f"
             ],
             [
              0.2222222222222222,
              "#7201a8"
             ],
             [
              0.3333333333333333,
              "#9c179e"
             ],
             [
              0.4444444444444444,
              "#bd3786"
             ],
             [
              0.5555555555555556,
              "#d8576b"
             ],
             [
              0.6666666666666666,
              "#ed7953"
             ],
             [
              0.7777777777777778,
              "#fb9f3a"
             ],
             [
              0.8888888888888888,
              "#fdca26"
             ],
             [
              1,
              "#f0f921"
             ]
            ],
            "type": "histogram2dcontour"
           }
          ],
          "mesh3d": [
           {
            "colorbar": {
             "outlinewidth": 0,
             "ticks": ""
            },
            "type": "mesh3d"
           }
          ],
          "parcoords": [
           {
            "line": {
             "colorbar": {
              "outlinewidth": 0,
              "ticks": ""
             }
            },
            "type": "parcoords"
           }
          ],
          "pie": [
           {
            "automargin": true,
            "type": "pie"
           }
          ],
          "scatter": [
           {
            "fillpattern": {
             "fillmode": "overlay",
             "size": 10,
             "solidity": 0.2
            },
            "type": "scatter"
           }
          ],
          "scatter3d": [
           {
            "line": {
             "colorbar": {
              "outlinewidth": 0,
              "ticks": ""
             }
            },
            "marker": {
             "colorbar": {
              "outlinewidth": 0,
              "ticks": ""
             }
            },
            "type": "scatter3d"
           }
          ],
          "scattercarpet": [
           {
            "marker": {
             "colorbar": {
              "outlinewidth": 0,
              "ticks": ""
             }
            },
            "type": "scattercarpet"
           }
          ],
          "scattergeo": [
           {
            "marker": {
             "colorbar": {
              "outlinewidth": 0,
              "ticks": ""
             }
            },
            "type": "scattergeo"
           }
          ],
          "scattergl": [
           {
            "marker": {
             "colorbar": {
              "outlinewidth": 0,
              "ticks": ""
             }
            },
            "type": "scattergl"
           }
          ],
          "scattermap": [
           {
            "marker": {
             "colorbar": {
              "outlinewidth": 0,
              "ticks": ""
             }
            },
            "type": "scattermap"
           }
          ],
          "scattermapbox": [
           {
            "marker": {
             "colorbar": {
              "outlinewidth": 0,
              "ticks": ""
             }
            },
            "type": "scattermapbox"
           }
          ],
          "scatterpolar": [
           {
            "marker": {
             "colorbar": {
              "outlinewidth": 0,
              "ticks": ""
             }
            },
            "type": "scatterpolar"
           }
          ],
          "scatterpolargl": [
           {
            "marker": {
             "colorbar": {
              "outlinewidth": 0,
              "ticks": ""
             }
            },
            "type": "scatterpolargl"
           }
          ],
          "scatterternary": [
           {
            "marker": {
             "colorbar": {
              "outlinewidth": 0,
              "ticks": ""
             }
            },
            "type": "scatterternary"
           }
          ],
          "surface": [
           {
            "colorbar": {
             "outlinewidth": 0,
             "ticks": ""
            },
            "colorscale": [
             [
              0,
              "#0d0887"
             ],
             [
              0.1111111111111111,
              "#46039f"
             ],
             [
              0.2222222222222222,
              "#7201a8"
             ],
             [
              0.3333333333333333,
              "#9c179e"
             ],
             [
              0.4444444444444444,
              "#bd3786"
             ],
             [
              0.5555555555555556,
              "#d8576b"
             ],
             [
              0.6666666666666666,
              "#ed7953"
             ],
             [
              0.7777777777777778,
              "#fb9f3a"
             ],
             [
              0.8888888888888888,
              "#fdca26"
             ],
             [
              1,
              "#f0f921"
             ]
            ],
            "type": "surface"
           }
          ],
          "table": [
           {
            "cells": {
             "fill": {
              "color": "#EBF0F8"
             },
             "line": {
              "color": "white"
             }
            },
            "header": {
             "fill": {
              "color": "#C8D4E3"
             },
             "line": {
              "color": "white"
             }
            },
            "type": "table"
           }
          ]
         },
         "layout": {
          "annotationdefaults": {
           "arrowcolor": "#2a3f5f",
           "arrowhead": 0,
           "arrowwidth": 1
          },
          "autotypenumbers": "strict",
          "coloraxis": {
           "colorbar": {
            "outlinewidth": 0,
            "ticks": ""
           }
          },
          "colorscale": {
           "diverging": [
            [
             0,
             "#8e0152"
            ],
            [
             0.1,
             "#c51b7d"
            ],
            [
             0.2,
             "#de77ae"
            ],
            [
             0.3,
             "#f1b6da"
            ],
            [
             0.4,
             "#fde0ef"
            ],
            [
             0.5,
             "#f7f7f7"
            ],
            [
             0.6,
             "#e6f5d0"
            ],
            [
             0.7,
             "#b8e186"
            ],
            [
             0.8,
             "#7fbc41"
            ],
            [
             0.9,
             "#4d9221"
            ],
            [
             1,
             "#276419"
            ]
           ],
           "sequential": [
            [
             0,
             "#0d0887"
            ],
            [
             0.1111111111111111,
             "#46039f"
            ],
            [
             0.2222222222222222,
             "#7201a8"
            ],
            [
             0.3333333333333333,
             "#9c179e"
            ],
            [
             0.4444444444444444,
             "#bd3786"
            ],
            [
             0.5555555555555556,
             "#d8576b"
            ],
            [
             0.6666666666666666,
             "#ed7953"
            ],
            [
             0.7777777777777778,
             "#fb9f3a"
            ],
            [
             0.8888888888888888,
             "#fdca26"
            ],
            [
             1,
             "#f0f921"
            ]
           ],
           "sequentialminus": [
            [
             0,
             "#0d0887"
            ],
            [
             0.1111111111111111,
             "#46039f"
            ],
            [
             0.2222222222222222,
             "#7201a8"
            ],
            [
             0.3333333333333333,
             "#9c179e"
            ],
            [
             0.4444444444444444,
             "#bd3786"
            ],
            [
             0.5555555555555556,
             "#d8576b"
            ],
            [
             0.6666666666666666,
             "#ed7953"
            ],
            [
             0.7777777777777778,
             "#fb9f3a"
            ],
            [
             0.8888888888888888,
             "#fdca26"
            ],
            [
             1,
             "#f0f921"
            ]
           ]
          },
          "colorway": [
           "#636efa",
           "#EF553B",
           "#00cc96",
           "#ab63fa",
           "#FFA15A",
           "#19d3f3",
           "#FF6692",
           "#B6E880",
           "#FF97FF",
           "#FECB52"
          ],
          "font": {
           "color": "#2a3f5f"
          },
          "geo": {
           "bgcolor": "white",
           "lakecolor": "white",
           "landcolor": "#E5ECF6",
           "showlakes": true,
           "showland": true,
           "subunitcolor": "white"
          },
          "hoverlabel": {
           "align": "left"
          },
          "hovermode": "closest",
          "mapbox": {
           "style": "light"
          },
          "paper_bgcolor": "white",
          "plot_bgcolor": "#E5ECF6",
          "polar": {
           "angularaxis": {
            "gridcolor": "white",
            "linecolor": "white",
            "ticks": ""
           },
           "bgcolor": "#E5ECF6",
           "radialaxis": {
            "gridcolor": "white",
            "linecolor": "white",
            "ticks": ""
           }
          },
          "scene": {
           "xaxis": {
            "backgroundcolor": "#E5ECF6",
            "gridcolor": "white",
            "gridwidth": 2,
            "linecolor": "white",
            "showbackground": true,
            "ticks": "",
            "zerolinecolor": "white"
           },
           "yaxis": {
            "backgroundcolor": "#E5ECF6",
            "gridcolor": "white",
            "gridwidth": 2,
            "linecolor": "white",
            "showbackground": true,
            "ticks": "",
            "zerolinecolor": "white"
           },
           "zaxis": {
            "backgroundcolor": "#E5ECF6",
            "gridcolor": "white",
            "gridwidth": 2,
            "linecolor": "white",
            "showbackground": true,
            "ticks": "",
            "zerolinecolor": "white"
           }
          },
          "shapedefaults": {
           "line": {
            "color": "#2a3f5f"
           }
          },
          "ternary": {
           "aaxis": {
            "gridcolor": "white",
            "linecolor": "white",
            "ticks": ""
           },
           "baxis": {
            "gridcolor": "white",
            "linecolor": "white",
            "ticks": ""
           },
           "bgcolor": "#E5ECF6",
           "caxis": {
            "gridcolor": "white",
            "linecolor": "white",
            "ticks": ""
           }
          },
          "title": {
           "x": 0.05
          },
          "xaxis": {
           "automargin": true,
           "gridcolor": "white",
           "linecolor": "white",
           "ticks": "",
           "title": {
            "standoff": 15
           },
           "zerolinecolor": "white",
           "zerolinewidth": 2
          },
          "yaxis": {
           "automargin": true,
           "gridcolor": "white",
           "linecolor": "white",
           "ticks": "",
           "title": {
            "standoff": 15
           },
           "zerolinecolor": "white",
           "zerolinewidth": 2
          }
         }
        },
        "title": {
         "text": "3D PCA Scatter Plot"
        }
       }
      }
     },
     "metadata": {},
     "output_type": "display_data"
    }
   ],
   "source": [
    "\n",
    "plotting.plot_clusters_seperately(marions_labeled_data[f'{ylabel_name}_nums'], curve_data, ylabel_name,\n",
    "                                  cluster_category_names=list(ylabel_to_cluster_num.keys()),\n",
    "                                  bold_idxs=marions_labeled_data.index.tolist()) \n",
    "plotting.plot_pca(marions_labeled_data, marions_labeled_data[f'{ylabel_name}_nums'], graph_title=\"Clustering Labeled Data\", num_pc=3, ylabel_name=ylabel_name, centroids=label_centroids)"
   ]
  },
  {
   "cell_type": "markdown",
   "id": "9e8f6973",
   "metadata": {},
   "source": [
    "# Plot Corrected Labeling"
   ]
  },
  {
   "cell_type": "code",
   "execution_count": 48,
   "id": "6d79d33d",
   "metadata": {},
   "outputs": [
    {
     "data": {
      "image/png": "[encoded data removed]",
      "text/plain": [
       "<Figure size 1400x600 with 10 Axes>"
      ]
     },
     "metadata": {},
     "output_type": "display_data"
    },
    {
     "data": {
      "application/vnd.plotly.v1+json": {
       "config": {
        "plotlyServerURL": "https://plot.ly"
       },
       "data": [
        {
         "mode": "text",
         "name": "Data Points",
         "text": [
          "0",
          "1",
          "2",
          "3",
          "4",
          "5",
          "6",
          "7",
          "8",
          "9",
          "10",
          "11",
          "12",
          "13",
          "14",
          "15",
          "16",
          "17",
          "18",
          "19",
          "20",
          "21",
          "22",
          "23",
          "24",
          "25",
          "26",
          "27",
          "28",
          "29",
          "30",
          "31",
          "32",
          "33",
          "34",
          "35",
          "36",
          "37",
          "38",
          "39",
          "40",
          "41",
          "42",
          "43",
          "44",
          "45",
          "46",
          "47",
          "48",
          "49",
          "50",
          "51",
          "52",
          "53",
          "54",
          "55",
          "56",
          "57",
          "58",
          "59",
          "60",
          "61",
          "62",
          "63",
          "64",
          "65",
          "66",
          "67",
          "68",
          "69",
          "70",
          "71",
          "72",
          "73",
          "74",
          "75",
          "76",
          "77",
          "78",
          "79",
          "80",
          "81",
          "82",
          "83",
          "84",
          "85",
          "86",
          "87",
          "88",
          "89",
          "90",
          "91",
          "92",
          "93",
          "94",
          "95",
          "96",
          "97",
          "98",
          "99",
          "100",
          "101",
          "102",
          "103",
          "104",
          "105",
          "106",
          "107",
          "108",
          "109"
         ],
         "textfont": {
          "color": [
           "orange",
           "red",
           "magenta",
           "pink",
           "orange",
           "pink",
           "magenta",
           "green",
           "turquoise",
           "orange",
           "magenta",
           "magenta",
           "gold",
           "pink",
           "pink",
           "turquoise",
           "blue",
           "blue",
           "green",
           "blue",
           "orange",
           "purple",
           "turquoise",
           "magenta",
           "purple",
           "lime",
           "purple",
           "pink",
           "turquoise",
           "orange",
           "blue",
           "orange",
           "pink",
           "magenta",
           "magenta",
           "red",
           "purple",
           "turquoise",
           "pink",
           "orange",
           "purple",
           "pink",
           "purple",
           "lime",
           "gold",
           "orange",
           "purple",
           "green",
           "gold",
           "turquoise",
           "turquoise",
           "purple",
           "turquoise",
           "blue",
           "orange",
           "red",
           "orange",
           "pink",
           "turquoise",
           "turquoise",
           "turquoise",
           "pink",
           "turquoise",
           "orange",
           "blue",
           "purple",
           "purple",
           "pink",
           "magenta",
           "red",
           "pink",
           "gold",
           "lime",
           "turquoise",
           "red",
           "purple",
           "purple",
           "turquoise",
           "pink",
           "pink",
           "pink",
           "purple",
           "turquoise",
           "turquoise",
           "magenta",
           "pink",
           "red",
           "pink",
           "red",
           "green",
           "green",
           "turquoise",
           "orange",
           "turquoise",
           "blue",
           "blue",
           "pink",
           "pink",
           "magenta",
           "magenta",
           "magenta",
           "orange",
           "purple",
           "turquoise",
           "purple",
           "gold",
           "magenta",
           "turquoise",
           "pink",
           "purple"
          ],
          "size": 6
         },
         "type": "scatter3d",
         "x": {
          "bdata": "yucq7thI2b+Ygfg8Gn/5P9zHXrpIww9AmkS5OKy+8L+QPlmnBeuJPwLMF8zKw/W/WiMbIOE3HUDCYgpxPO33vwC3BbdRntw/OeCnG/RgAMC32dRy7qwOQK60dh1PagRAMG0/BLAK+7+VkN9R9eD5v03fmU0ToPm/fTVeyvBkCEDz6+Kh1EH6P8j/OTNqb/I/yw45yMjW6b8BUdPtcCbzvx+ZR3l6N/K/4ZrSsouJBED5QCb8LTAEQOdzM6CSEQJArf/eBBxBBsB8OwVMpijwv9oR/NUgHr0/E5tOkEw96r83Z+J9UteyP148Yd0v7fK/U8DvrJ5gvb9JLfnf0CAHQLtKPQNS+PC/EcZ79Gi5C0BGMsyYQLv/P+hlcqH23fK/wIf7YF4k67/0fSll8DulPwe9RteA6gfA+IseSUE13z/BGubwN1jEP+fJel6ySvm/UFTDPI4k5L/JDbWkGd0MwEqy+vi5UgDA3TN2l9+mwj/ghnBCg7L5P7eV/H5KKei/WniNSNlsD8DcWyLncpT4P5UagxmJogFA95VbiM2zAUCX+yblUKz8P9CV0Sk6It+/ui/x8rl6178zWbNsrk0AwE5vMDKB/e6/ipoap9pfD8Av2gO5ABHkPx/cFG85keA/qCwWT4G30r8rFa7GyDbUv0mxeinDBfg/chrQtIVu3L/jvB17Qf7gv4SIbqmzef6/mpuqQayL2T8JRNpi9PX3v5thRyCxxhlAAjszbHWECcDbY4WdFmz8v0ADtpKTIwTA+nd2elbg67+jB0JOOWrhP4hlwKNKPQ/A0hvzUKQgCkCe+0ZEK9QIwO7lGg1ZzPs/gohc5Y8/B8DAtGBSJjsCwFPUy0opDRLA9njYbCDB0j/iKgg1UtTrP2PvDKlOtuU/dXWcODy0EECwmB5P9CkGwHYJ3/H9DgTApRcYsNJfAsD5RhCX3nX2vymwq1RLt8M/1aUEtVPtA8A7yI9I/S34P75zLREpNeI/j39jC10QBECYLSDGGITsP58d8DlSF/+/VX4h6AzrAcDHoU9F0aYIwNrIdxVloAlAlqKUrt/JEUDy6gddjwjmv329ZU8E4wFAAXULkidwFECavFeFxw7+P6Fnt/2TTADA2Kg3Bpmb+7+5K5GGWeAdQGYPcLxTCgVAyh+588KT9784kAxxNvEOwA==",
          "dtype": "f8"
         },
         "y": {
          "bdata": "UDGiKjAe+j9lePw2V3/9v0xIa6Th/9A/CvamEKJt8z+HhaYBxdbuPy8hq97JwMu/o5O/UsgGrr+uvpa2XFgBwDs4d39Nl+e/54Iq1tHNEECbVc0iz4sLwOMABjfeAwPAGvZtR6e9/T+WGhjwERv5P1JPiHHQD7A/cdQjcpD93z/fh5x0NoAAwCzFpLImxgdACkAzXsHUA8B8Dhy4eaXyP/U5O8lgbgJAOLiElz7Toj+gYMpkdv3tv1uKgjn1kgrAvoaq8z1u3j/80JhdO0oCQKvnS5OKYse/i2fFwsE8oj9O1JAn/rbhv+Qc6gjXBwJAUygPUPZa978gghwjEYX4P4j3k9uK6sU/kFr0iAiU9D9y0bQ5rSLav/1x/BLH+aO//j1/ngEP8L/Nq0Yf9o7xv9kvmyrbee2/yY6QYoo/9j9ZfQARhbDEP9hICPiOKLM/7NHyvFjw+z+ykemjbY7/vwgiKYonyPM/iVSNledz4z/K4HSww1H3v6qsjWHMiADA6hAfWNtCpD+UVMYm3tL/v5ke+qPhGwDAzMgwTay4BsAWdGWiUW35vxKOUUsir/y/9liLjd6vAUBMjWvZiGD9v12Pt2TgvPw/XkGG3Xs04L+napPGA+v0v3wTEu6kUnQ/tR3/pbPv8L/XJxk5KucDwPTyeYs6dck/vL5sKZiQ/z9LVI02s5ATwNimhvFbawjACo3k+Yviyz+IuQbkHj3eP8bL1aswa6C/kLseDrG58b/qJhjPQCn4P3imiIdSHwJArpxxqiuo0L8R/f/YeNvpP434VoIZ+eo/NRCDSAIUwD+hZEhywWECQB4K0q393NA/YbaDpeVN2z9CATt/bFH6P+9/yKiQEQTA5DX0ezIRmr8WhhLkX/f6v36vpdfIhKC/XTO1tnjaB0DwmB/krfsOQD+9kYWMwu4/kckgEtm5/b/4Xnk81mP1v2M/OJF51QDALTEUWgFV6b9vuBQGo+X0v/KrDu69U/4/5WB20BHf6r8s7zz2Qcn2vwsbbTW2w/+/TthZqzMx0T/xQd9vmvejv3zXwvQ9beM/xfYzbK0f4L8zCy1qkBz5P6xjg6ouAgdA+RbaFQ+6AkDvDHsm5kmrv1qK+y1f5+8/KyOz6Xe49z/U1HS240oQQJYIgNCrROk/qwp65otEyj+ph1QyUO2lPw==",
          "dtype": "f8"
         },
         "z": {
          "bdata": "3WQJdIyv5r8HvGDDV6Tmv616Ax3PTJy/FG2hAinOwL/68V067AWLv9S4BF4tVPC/0JgPnsGn3D/3/HcERSPrPyZ+CDv+E/W/PQfF/FOG5z+jiGufiNz2Pz5XdbSnYNM/YU4JIe0FCkDrKKnl0QLnv3WKLE8DFv2/nLM8S00ttL/dAimhogPfvxH9Va5o2uO/sHa+mlOM+j98b8+E02ruv1my8AUMJ92/mae4GUhNB0D2ufkLb5Lqv9th/i5Ngt0/MF5UukcW8r8IB+/Z4WX6PwpJoWmpq+K/SBXSafui7b+jqbYGjk7wv182vMSTkuW/Q5o/i6hH/b+b1KRvZBTZv8WXCiQQ5Pi/hC/7KCps3r9T6SOs94XrP6S3SyduveY/lt77PSdl1b+XOEjQs37zv/xjDHhhqPa/V9rPqFh59b+WzorY2jHxv/jbAmyIhgDANIZDjFwC6z8S8tltNbr2PzTh+5+6WvE/Huc3+y286r8oPBkVSsniv6ytNEfPQtw/c90SYhLb8j8upPjujiO+v38Chov8mtS/lcagWNWj/z+crYY3kTrovxHrVLERzfS/PAawd5ik5b9nVhD0VdTxP8+4o6W8Hd2/X7Etf2TtvL9Yz66Fvh37v9sbeA8mXeO/fAARB3BS1b8VYfU2we2jP8DO0FhdHPK/anfeM4g85r/SmNnO2DQQQOKv7jgRO/m/T8zmGYJM5L+IHyso/4XqP8BJ/8coo+Q/UwhsmnII6T9432YO+hiyv73JoSdp7fY/ffiWQEf2CkAdUXPe0yz1v5StMW0iVuM/fEfaO4Q+wD8olho/p0wBQFn23v4dYru/brrSFcwq+b+VMxZ5kTjqv8gSOR2o++O/x8uWFqmT1j+7GRrU07Hwv4z2NAwV99O/G4Jtezht1T+O6MaPvD3lP+cGqDCWoPE/OGNaIFIR+r9qwBQqxW7Yv6MA8ychZ/o/eUpMH9/cxz92ucBtqT7ivyzbmyizTuO/VTnru31JzL9AgSFRcir3PyyA5bZ7jvG/ez2fvIep+r82tBWYfE3nv0QIHlUowre/goAlxf1x6j+EMMOsLxoLQPIdzDSx2PC/lq1q/dgO0D+IpyqceN/SPw08IMAp2AVAzb3YncnLBUBOQ5YAlhPqP40Ai1QQ0/W/2DYNF3gT+r9jcv5lY8/gPw==",
          "dtype": "f8"
         }
        },
        {
         "marker": {
          "color": [
           "red",
           "gold",
           "blue",
           "green",
           "purple",
           "pink",
           "turquoise",
           "orange",
           "lime",
           "magenta"
          ],
          "size": 4,
          "symbol": "diamond"
         },
         "mode": "markers",
         "type": "scatter3d",
         "x": {
          "bdata": "c/xA4Ejv/b/OvaFtNsgJwCYC7xkIeca/0eq5/96x8r93N0rvJEyUP0E0rKMmZ/2/lewFGh749z++cy0RKTXiP8TVW2W2eALAlGXKdMuUBEA=",
          "dtype": "f8"
         },
         "y": {
          "bdata": "T8O4G4Qe4L+8Iun0XXDyP9taYvGpu+6/rku957kq979ssYRjabXHvyl0qvWJ2sE/WiBe9VUwub/yqw7uvVP+PxRBIF0kGMQ/S9mq1zD3078=",
          "dtype": "f8"
         },
         "z": {
          "bdata": "sDzUSOs64z+ZU9rEPeT0PzPgn2o0Asc/8IncC71i7T+4gKWV/ofkP/6YN9SQXtG/UEdl5jEkxr8s25sos07jv4585KMLkPg/GVQtYEbI9D8=",
          "dtype": "f8"
         }
        },
        {
         "marker": {
          "color": "black",
          "size": 3
         },
         "mode": "markers",
         "name": "Origin",
         "showlegend": false,
         "type": "scatter3d",
         "x": [
          0
         ],
         "y": [
          0
         ],
         "z": [
          0
         ]
        },
        {
         "line": {
          "width": 4
         },
         "mode": "lines+text",
         "name": "max_depth",
         "textposition": "top center",
         "type": "scatter3d",
         "x": [
          0,
          -2.3293565599847095
         ],
         "y": [
          0,
          -1.4228817272499326
         ],
         "z": [
          0,
          -0.18866776052965242
         ]
        },
        {
         "line": {
          "width": 4
         },
         "mode": "lines+text",
         "name": "max_resistance",
         "textposition": "top center",
         "type": "scatter3d",
         "x": [
          0,
          2.1236879942066373
         ],
         "y": [
          0,
          0.9000836410170937
         ],
         "z": [
          0,
          0.7966396810213516
         ]
        },
        {
         "line": {
          "width": 4
         },
         "mode": "lines+text",
         "name": "first_quarter_slope",
         "textposition": "top center",
         "type": "scatter3d",
         "x": [
          0,
          2.359785422601722
         ],
         "y": [
          0,
          0.20750950597622114
         ],
         "z": [
          0,
          1.4393223826695882
         ]
        },
        {
         "line": {
          "width": 4
         },
         "mode": "lines+text",
         "name": "second_quarter_slope",
         "textposition": "top center",
         "type": "scatter3d",
         "x": [
          0,
          2.3846225026859607
         ],
         "y": [
          0,
          0.7026254077913114
         ],
         "z": [
          0,
          -0.24794158628379234
         ]
        },
        {
         "line": {
          "width": 4
         },
         "mode": "lines+text",
         "name": "third_quarter_slope",
         "textposition": "top center",
         "type": "scatter3d",
         "x": [
          0,
          2.1612961850955017
         ],
         "y": [
          0,
          1.3911915697575725
         ],
         "z": [
          0,
          -0.4657619209465746
         ]
        },
        {
         "line": {
          "width": 4
         },
         "mode": "lines+text",
         "name": "quartile_3",
         "textposition": "top center",
         "type": "scatter3d",
         "x": [
          0,
          2.5393869292239963
         ],
         "y": [
          0,
          -0.9878125034541312
         ],
         "z": [
          0,
          -0.09911720855544037
         ]
        }
       ],
       "layout": {
        "autosize": true,
        "scene": {
         "aspectmode": "cube",
         "xaxis": {
          "range": [
           -4,
           4
          ],
          "title": {
           "font": {
            "size": 11
           },
           "text": "PC1 (0.39 var.)"
          }
         },
         "yaxis": {
          "range": [
           -4,
           4
          ],
          "title": {
           "font": {
            "size": 11
           },
           "text": "PC2 (0.20 var.)"
          }
         },
         "zaxis": {
          "range": [
           -4,
           4
          ],
          "title": {
           "font": {
            "size": 11
           },
           "text": "PC3 (0.11 var.)"
          }
         }
        },
        "template": {
         "data": {
          "bar": [
           {
            "error_x": {
             "color": "#2a3f5f"
            },
            "error_y": {
             "color": "#2a3f5f"
            },
            "marker": {
             "line": {
              "color": "#E5ECF6",
              "width": 0.5
             },
             "pattern": {
              "fillmode": "overlay",
              "size": 10,
              "solidity": 0.2
             }
            },
            "type": "bar"
           }
          ],
          "barpolar": [
           {
            "marker": {
             "line": {
              "color": "#E5ECF6",
              "width": 0.5
             },
             "pattern": {
              "fillmode": "overlay",
              "size": 10,
              "solidity": 0.2
             }
            },
            "type": "barpolar"
           }
          ],
          "carpet": [
           {
            "aaxis": {
             "endlinecolor": "#2a3f5f",
             "gridcolor": "white",
             "linecolor": "white",
             "minorgridcolor": "white",
             "startlinecolor": "#2a3f5f"
            },
            "baxis": {
             "endlinecolor": "#2a3f5f",
             "gridcolor": "white",
             "linecolor": "white",
             "minorgridcolor": "white",
             "startlinecolor": "#2a3f5f"
            },
            "type": "carpet"
           }
          ],
          "choropleth": [
           {
            "colorbar": {
             "outlinewidth": 0,
             "ticks": ""
            },
            "type": "choropleth"
           }
          ],
          "contour": [
           {
            "colorbar": {
             "outlinewidth": 0,
             "ticks": ""
            },
            "colorscale": [
             [
              0,
              "#0d0887"
             ],
             [
              0.1111111111111111,
              "#46039f"
             ],
             [
              0.2222222222222222,
              "#7201a8"
             ],
             [
              0.3333333333333333,
              "#9c179e"
             ],
             [
              0.4444444444444444,
              "#bd3786"
             ],
             [
              0.5555555555555556,
              "#d8576b"
             ],
             [
              0.6666666666666666,
              "#ed7953"
             ],
             [
              0.7777777777777778,
              "#fb9f3a"
             ],
             [
              0.8888888888888888,
              "#fdca26"
             ],
             [
              1,
              "#f0f921"
             ]
            ],
            "type": "contour"
           }
          ],
          "contourcarpet": [
           {
            "colorbar": {
             "outlinewidth": 0,
             "ticks": ""
            },
            "type": "contourcarpet"
           }
          ],
          "heatmap": [
           {
            "colorbar": {
             "outlinewidth": 0,
             "ticks": ""
            },
            "colorscale": [
             [
              0,
              "#0d0887"
             ],
             [
              0.1111111111111111,
              "#46039f"
             ],
             [
              0.2222222222222222,
              "#7201a8"
             ],
             [
              0.3333333333333333,
              "#9c179e"
             ],
             [
              0.4444444444444444,
              "#bd3786"
             ],
             [
              0.5555555555555556,
              "#d8576b"
             ],
             [
              0.6666666666666666,
              "#ed7953"
             ],
             [
              0.7777777777777778,
              "#fb9f3a"
             ],
             [
              0.8888888888888888,
              "#fdca26"
             ],
             [
              1,
              "#f0f921"
             ]
            ],
            "type": "heatmap"
           }
          ],
          "histogram": [
           {
            "marker": {
             "pattern": {
              "fillmode": "overlay",
              "size": 10,
              "solidity": 0.2
             }
            },
            "type": "histogram"
           }
          ],
          "histogram2d": [
           {
            "colorbar": {
             "outlinewidth": 0,
             "ticks": ""
            },
            "colorscale": [
             [
              0,
              "#0d0887"
             ],
             [
              0.1111111111111111,
              "#46039f"
             ],
             [
              0.2222222222222222,
              "#7201a8"
             ],
             [
              0.3333333333333333,
              "#9c179e"
             ],
             [
              0.4444444444444444,
              "#bd3786"
             ],
             [
              0.5555555555555556,
              "#d8576b"
             ],
             [
              0.6666666666666666,
              "#ed7953"
             ],
             [
              0.7777777777777778,
              "#fb9f3a"
             ],
             [
              0.8888888888888888,
              "#fdca26"
             ],
             [
              1,
              "#f0f921"
             ]
            ],
            "type": "histogram2d"
           }
          ],
          "histogram2dcontour": [
           {
            "colorbar": {
             "outlinewidth": 0,
             "ticks": ""
            },
            "colorscale": [
             [
              0,
              "#0d0887"
             ],
             [
              0.1111111111111111,
              "#46039f"
             ],
             [
              0.2222222222222222,
              "#7201a8"
             ],
             [
              0.3333333333333333,
              "#9c179e"
             ],
             [
              0.4444444444444444,
              "#bd3786"
             ],
             [
              0.5555555555555556,
              "#d8576b"
             ],
             [
              0.6666666666666666,
              "#ed7953"
             ],
             [
              0.7777777777777778,
              "#fb9f3a"
             ],
             [
              0.8888888888888888,
              "#fdca26"
             ],
             [
              1,
              "#f0f921"
             ]
            ],
            "type": "histogram2dcontour"
           }
          ],
          "mesh3d": [
           {
            "colorbar": {
             "outlinewidth": 0,
             "ticks": ""
            },
            "type": "mesh3d"
           }
          ],
          "parcoords": [
           {
            "line": {
             "colorbar": {
              "outlinewidth": 0,
              "ticks": ""
             }
            },
            "type": "parcoords"
           }
          ],
          "pie": [
           {
            "automargin": true,
            "type": "pie"
           }
          ],
          "scatter": [
           {
            "fillpattern": {
             "fillmode": "overlay",
             "size": 10,
             "solidity": 0.2
            },
            "type": "scatter"
           }
          ],
          "scatter3d": [
           {
            "line": {
             "colorbar": {
              "outlinewidth": 0,
              "ticks": ""
             }
            },
            "marker": {
             "colorbar": {
              "outlinewidth": 0,
              "ticks": ""
             }
            },
            "type": "scatter3d"
           }
          ],
          "scattercarpet": [
           {
            "marker": {
             "colorbar": {
              "outlinewidth": 0,
              "ticks": ""
             }
            },
            "type": "scattercarpet"
           }
          ],
          "scattergeo": [
           {
            "marker": {
             "colorbar": {
              "outlinewidth": 0,
              "ticks": ""
             }
            },
            "type": "scattergeo"
           }
          ],
          "scattergl": [
           {
            "marker": {
             "colorbar": {
              "outlinewidth": 0,
              "ticks": ""
             }
            },
            "type": "scattergl"
           }
          ],
          "scattermap": [
           {
            "marker": {
             "colorbar": {
              "outlinewidth": 0,
              "ticks": ""
             }
            },
            "type": "scattermap"
           }
          ],
          "scattermapbox": [
           {
            "marker": {
             "colorbar": {
              "outlinewidth": 0,
              "ticks": ""
             }
            },
            "type": "scattermapbox"
           }
          ],
          "scatterpolar": [
           {
            "marker": {
             "colorbar": {
              "outlinewidth": 0,
              "ticks": ""
             }
            },
            "type": "scatterpolar"
           }
          ],
          "scatterpolargl": [
           {
            "marker": {
             "colorbar": {
              "outlinewidth": 0,
              "ticks": ""
             }
            },
            "type": "scatterpolargl"
           }
          ],
          "scatterternary": [
           {
            "marker": {
             "colorbar": {
              "outlinewidth": 0,
              "ticks": ""
             }
            },
            "type": "scatterternary"
           }
          ],
          "surface": [
           {
            "colorbar": {
             "outlinewidth": 0,
             "ticks": ""
            },
            "colorscale": [
             [
              0,
              "#0d0887"
             ],
             [
              0.1111111111111111,
              "#46039f"
             ],
             [
              0.2222222222222222,
              "#7201a8"
             ],
             [
              0.3333333333333333,
              "#9c179e"
             ],
             [
              0.4444444444444444,
              "#bd3786"
             ],
             [
              0.5555555555555556,
              "#d8576b"
             ],
             [
              0.6666666666666666,
              "#ed7953"
             ],
             [
              0.7777777777777778,
              "#fb9f3a"
             ],
             [
              0.8888888888888888,
              "#fdca26"
             ],
             [
              1,
              "#f0f921"
             ]
            ],
            "type": "surface"
           }
          ],
          "table": [
           {
            "cells": {
             "fill": {
              "color": "#EBF0F8"
             },
             "line": {
              "color": "white"
             }
            },
            "header": {
             "fill": {
              "color": "#C8D4E3"
             },
             "line": {
              "color": "white"
             }
            },
            "type": "table"
           }
          ]
         },
         "layout": {
          "annotationdefaults": {
           "arrowcolor": "#2a3f5f",
           "arrowhead": 0,
           "arrowwidth": 1
          },
          "autotypenumbers": "strict",
          "coloraxis": {
           "colorbar": {
            "outlinewidth": 0,
            "ticks": ""
           }
          },
          "colorscale": {
           "diverging": [
            [
             0,
             "#8e0152"
            ],
            [
             0.1,
             "#c51b7d"
            ],
            [
             0.2,
             "#de77ae"
            ],
            [
             0.3,
             "#f1b6da"
            ],
            [
             0.4,
             "#fde0ef"
            ],
            [
             0.5,
             "#f7f7f7"
            ],
            [
             0.6,
             "#e6f5d0"
            ],
            [
             0.7,
             "#b8e186"
            ],
            [
             0.8,
             "#7fbc41"
            ],
            [
             0.9,
             "#4d9221"
            ],
            [
             1,
             "#276419"
            ]
           ],
           "sequential": [
            [
             0,
             "#0d0887"
            ],
            [
             0.1111111111111111,
             "#46039f"
            ],
            [
             0.2222222222222222,
             "#7201a8"
            ],
            [
             0.3333333333333333,
             "#9c179e"
            ],
            [
             0.4444444444444444,
             "#bd3786"
            ],
            [
             0.5555555555555556,
             "#d8576b"
            ],
            [
             0.6666666666666666,
             "#ed7953"
            ],
            [
             0.7777777777777778,
             "#fb9f3a"
            ],
            [
             0.8888888888888888,
             "#fdca26"
            ],
            [
             1,
             "#f0f921"
            ]
           ],
           "sequentialminus": [
            [
             0,
             "#0d0887"
            ],
            [
             0.1111111111111111,
             "#46039f"
            ],
            [
             0.2222222222222222,
             "#7201a8"
            ],
            [
             0.3333333333333333,
             "#9c179e"
            ],
            [
             0.4444444444444444,
             "#bd3786"
            ],
            [
             0.5555555555555556,
             "#d8576b"
            ],
            [
             0.6666666666666666,
             "#ed7953"
            ],
            [
             0.7777777777777778,
             "#fb9f3a"
            ],
            [
             0.8888888888888888,
             "#fdca26"
            ],
            [
             1,
             "#f0f921"
            ]
           ]
          },
          "colorway": [
           "#636efa",
           "#EF553B",
           "#00cc96",
           "#ab63fa",
           "#FFA15A",
           "#19d3f3",
           "#FF6692",
           "#B6E880",
           "#FF97FF",
           "#FECB52"
          ],
          "font": {
           "color": "#2a3f5f"
          },
          "geo": {
           "bgcolor": "white",
           "lakecolor": "white",
           "landcolor": "#E5ECF6",
           "showlakes": true,
           "showland": true,
           "subunitcolor": "white"
          },
          "hoverlabel": {
           "align": "left"
          },
          "hovermode": "closest",
          "mapbox": {
           "style": "light"
          },
          "paper_bgcolor": "white",
          "plot_bgcolor": "#E5ECF6",
          "polar": {
           "angularaxis": {
            "gridcolor": "white",
            "linecolor": "white",
            "ticks": ""
           },
           "bgcolor": "#E5ECF6",
           "radialaxis": {
            "gridcolor": "white",
            "linecolor": "white",
            "ticks": ""
           }
          },
          "scene": {
           "xaxis": {
            "backgroundcolor": "#E5ECF6",
            "gridcolor": "white",
            "gridwidth": 2,
            "linecolor": "white",
            "showbackground": true,
            "ticks": "",
            "zerolinecolor": "white"
           },
           "yaxis": {
            "backgroundcolor": "#E5ECF6",
            "gridcolor": "white",
            "gridwidth": 2,
            "linecolor": "white",
            "showbackground": true,
            "ticks": "",
            "zerolinecolor": "white"
           },
           "zaxis": {
            "backgroundcolor": "#E5ECF6",
            "gridcolor": "white",
            "gridwidth": 2,
            "linecolor": "white",
            "showbackground": true,
            "ticks": "",
            "zerolinecolor": "white"
           }
          },
          "shapedefaults": {
           "line": {
            "color": "#2a3f5f"
           }
          },
          "ternary": {
           "aaxis": {
            "gridcolor": "white",
            "linecolor": "white",
            "ticks": ""
           },
           "baxis": {
            "gridcolor": "white",
            "linecolor": "white",
            "ticks": ""
           },
           "bgcolor": "#E5ECF6",
           "caxis": {
            "gridcolor": "white",
            "linecolor": "white",
            "ticks": ""
           }
          },
          "title": {
           "x": 0.05
          },
          "xaxis": {
           "automargin": true,
           "gridcolor": "white",
           "linecolor": "white",
           "ticks": "",
           "title": {
            "standoff": 15
           },
           "zerolinecolor": "white",
           "zerolinewidth": 2
          },
          "yaxis": {
           "automargin": true,
           "gridcolor": "white",
           "linecolor": "white",
           "ticks": "",
           "title": {
            "standoff": 15
           },
           "zerolinecolor": "white",
           "zerolinewidth": 2
          }
         }
        },
        "title": {
         "text": "3D PCA Scatter Plot"
        }
       }
      }
     },
     "metadata": {},
     "output_type": "display_data"
    }
   ],
   "source": [
    "def correct_pseudo_ylabels_to_actual(pseudo_labeled_data:pd.DataFrame, actual_labeled_data:pd.DataFrame, ylabel_name, changed_ylabel_idxs):\n",
    "    corrected_pseudo_labeled_data = pseudo_labeled_data.copy()\n",
    "    corrected_pseudo_labeled_data.loc[changed_ylabel_idxs, f'pseudo_{ylabel_name}'] = actual_labeled_data[ylabel_name]\n",
    "    corrected_pseudo_labeled_data.loc[changed_ylabel_idxs, f'pseudo_{ylabel_name}_nums'] = actual_labeled_data[f'{ylabel_name}_nums']\n",
    "    return corrected_pseudo_labeled_data\n",
    "\n",
    "changed_ylabel_idxs = find_changed_ylabel_data(marions_labeled_data, pseudo_labeled_data, ylabel_name)\n",
    "\n",
    "corrected_pseudo_labeled_data = correct_pseudo_ylabels_to_actual(pseudo_labeled_data, marions_labeled_data, ylabel_name, changed_ylabel_idxs)\n",
    "\n",
    "plotting.plot_clusters_seperately(corrected_pseudo_labeled_data[f'pseudo_{ylabel_name}_nums'], \n",
    "                                  curve_data, ylabel_name, cluster_category_names=list(ylabel_to_cluster_num.keys()), \n",
    "                                  pseudo_corrections=marions_labeled_data)\n",
    "plotting.plot_pca(corrected_pseudo_labeled_data, corrected_pseudo_labeled_data[f'pseudo_{ylabel_name}_nums'], graph_title=\"Clustering Corrected Pseudo Labeled Data\", num_pc=3, ylabel_name=ylabel_name, centroids=label_centroids)\n",
    "# plotting.pca_analysis(clustering_features)\n"
   ]
  },
  {
   "cell_type": "markdown",
   "id": "c6833aba",
   "metadata": {},
   "source": [
    "# Plot Un-corrected Labeling"
   ]
  },
  {
   "cell_type": "code",
   "execution_count": 49,
   "id": "16b1a04d",
   "metadata": {},
   "outputs": [
    {
     "data": {
      "image/png": "[encoded data removed]",
      "text/plain": [
       "<Figure size 1400x600 with 10 Axes>"
      ]
     },
     "metadata": {},
     "output_type": "display_data"
    },
    {
     "data": {
      "application/vnd.plotly.v1+json": {
       "config": {
        "plotlyServerURL": "https://plot.ly"
       },
       "data": [
        {
         "mode": "text",
         "name": "Data Points",
         "text": [
          "0",
          "1",
          "2",
          "3",
          "4",
          "5",
          "6",
          "7",
          "8",
          "9",
          "10",
          "11",
          "12",
          "13",
          "14",
          "15",
          "16",
          "17",
          "18",
          "19",
          "20",
          "21",
          "22",
          "23",
          "24",
          "25",
          "26",
          "27",
          "28",
          "29",
          "30",
          "31",
          "32",
          "33",
          "34",
          "35",
          "36",
          "37",
          "38",
          "39",
          "40",
          "41",
          "42",
          "43",
          "44",
          "45",
          "46",
          "47",
          "48",
          "49",
          "50",
          "51",
          "52",
          "53",
          "54",
          "55",
          "56",
          "57",
          "58",
          "59",
          "60",
          "61",
          "62",
          "63",
          "64",
          "65",
          "66",
          "67",
          "68",
          "69",
          "70",
          "71",
          "72",
          "73",
          "74",
          "75",
          "76",
          "77",
          "78",
          "79",
          "80",
          "81",
          "82",
          "83",
          "84",
          "85",
          "86",
          "87",
          "88",
          "89",
          "90",
          "91",
          "92",
          "93",
          "94",
          "95",
          "96",
          "97",
          "98",
          "99",
          "100",
          "101",
          "102",
          "103",
          "104",
          "105",
          "106",
          "107",
          "108",
          "109"
         ],
         "textfont": {
          "color": [
           "orange",
           "turquoise",
           "magenta",
           "pink",
           "orange",
           "pink",
           "magenta",
           "green",
           "turquoise",
           "orange",
           "magenta",
           "magenta",
           "gold",
           "pink",
           "pink",
           "turquoise",
           "turquoise",
           "orange",
           "green",
           "pink",
           "orange",
           "magenta",
           "turquoise",
           "magenta",
           "pink",
           "lime",
           "purple",
           "pink",
           "turquoise",
           "orange",
           "blue",
           "orange",
           "pink",
           "magenta",
           "turquoise",
           "red",
           "green",
           "turquoise",
           "pink",
           "orange",
           "purple",
           "pink",
           "purple",
           "lime",
           "gold",
           "orange",
           "turquoise",
           "green",
           "gold",
           "turquoise",
           "turquoise",
           "magenta",
           "turquoise",
           "blue",
           "orange",
           "green",
           "orange",
           "gold",
           "turquoise",
           "turquoise",
           "turquoise",
           "green",
           "turquoise",
           "orange",
           "blue",
           "blue",
           "purple",
           "pink",
           "magenta",
           "red",
           "pink",
           "gold",
           "lime",
           "turquoise",
           "gold",
           "magenta",
           "gold",
           "turquoise",
           "pink",
           "pink",
           "pink",
           "purple",
           "turquoise",
           "turquoise",
           "magenta",
           "gold",
           "gold",
           "pink",
           "red",
           "green",
           "green",
           "turquoise",
           "orange",
           "turquoise",
           "blue",
           "pink",
           "pink",
           "pink",
           "magenta",
           "magenta",
           "lime",
           "orange",
           "magenta",
           "turquoise",
           "gold",
           "gold",
           "magenta",
           "turquoise",
           "pink",
           "gold"
          ],
          "size": 6
         },
         "type": "scatter3d",
         "x": {
          "bdata": "yucq7thI2b+Ygfg8Gn/5P9zHXrpIww9AmkS5OKy+8L+QPlmnBeuJPwLMF8zKw/W/WiMbIOE3HUDCYgpxPO33vwC3BbdRntw/OeCnG/RgAMC32dRy7qwOQK60dh1PagRAMG0/BLAK+7+VkN9R9eD5v03fmU0ToPm/fTVeyvBkCEDz6+Kh1EH6P8j/OTNqb/I/yw45yMjW6b8BUdPtcCbzvx+ZR3l6N/K/4ZrSsouJBED5QCb8LTAEQOdzM6CSEQJArf/eBBxBBsB8OwVMpijwv9oR/NUgHr0/E5tOkEw96r83Z+J9UteyP148Yd0v7fK/U8DvrJ5gvb9JLfnf0CAHQLtKPQNS+PC/EcZ79Gi5C0BGMsyYQLv/P+hlcqH23fK/wIf7YF4k67/0fSll8DulPwe9RteA6gfA+IseSUE13z/BGubwN1jEP+fJel6ySvm/UFTDPI4k5L/JDbWkGd0MwEqy+vi5UgDA3TN2l9+mwj/ghnBCg7L5P7eV/H5KKei/WniNSNlsD8DcWyLncpT4P5UagxmJogFA95VbiM2zAUCX+yblUKz8P9CV0Sk6It+/ui/x8rl6178zWbNsrk0AwE5vMDKB/e6/ipoap9pfD8Av2gO5ABHkPx/cFG85keA/qCwWT4G30r8rFa7GyDbUv0mxeinDBfg/chrQtIVu3L/jvB17Qf7gv4SIbqmzef6/mpuqQayL2T8JRNpi9PX3v5thRyCxxhlAAjszbHWECcDbY4WdFmz8v0ADtpKTIwTA+nd2elbg67+jB0JOOWrhP4hlwKNKPQ/A0hvzUKQgCkCe+0ZEK9QIwO7lGg1ZzPs/gohc5Y8/B8DAtGBSJjsCwFPUy0opDRLA9njYbCDB0j/iKgg1UtTrP2PvDKlOtuU/dXWcODy0EECwmB5P9CkGwHYJ3/H9DgTApRcYsNJfAsD5RhCX3nX2vymwq1RLt8M/1aUEtVPtA8A7yI9I/S34P75zLREpNeI/j39jC10QBECYLSDGGITsP58d8DlSF/+/VX4h6AzrAcDHoU9F0aYIwNrIdxVloAlAlqKUrt/JEUDy6gddjwjmv329ZU8E4wFAAXULkidwFECavFeFxw7+P6Fnt/2TTADA2Kg3Bpmb+7+5K5GGWeAdQGYPcLxTCgVAyh+588KT9784kAxxNvEOwA==",
          "dtype": "f8"
         },
         "y": {
          "bdata": "UDGiKjAe+j9lePw2V3/9v0xIa6Th/9A/CvamEKJt8z+HhaYBxdbuPy8hq97JwMu/o5O/UsgGrr+uvpa2XFgBwDs4d39Nl+e/54Iq1tHNEECbVc0iz4sLwOMABjfeAwPAGvZtR6e9/T+WGhjwERv5P1JPiHHQD7A/cdQjcpD93z/fh5x0NoAAwCzFpLImxgdACkAzXsHUA8B8Dhy4eaXyP/U5O8lgbgJAOLiElz7Toj+gYMpkdv3tv1uKgjn1kgrAvoaq8z1u3j/80JhdO0oCQKvnS5OKYse/i2fFwsE8oj9O1JAn/rbhv+Qc6gjXBwJAUygPUPZa978gghwjEYX4P4j3k9uK6sU/kFr0iAiU9D9y0bQ5rSLav/1x/BLH+aO//j1/ngEP8L/Nq0Yf9o7xv9kvmyrbee2/yY6QYoo/9j9ZfQARhbDEP9hICPiOKLM/7NHyvFjw+z+ykemjbY7/vwgiKYonyPM/iVSNledz4z/K4HSww1H3v6qsjWHMiADA6hAfWNtCpD+UVMYm3tL/v5ke+qPhGwDAzMgwTay4BsAWdGWiUW35vxKOUUsir/y/9liLjd6vAUBMjWvZiGD9v12Pt2TgvPw/XkGG3Xs04L+napPGA+v0v3wTEu6kUnQ/tR3/pbPv8L/XJxk5KucDwPTyeYs6dck/vL5sKZiQ/z9LVI02s5ATwNimhvFbawjACo3k+Yviyz+IuQbkHj3eP8bL1aswa6C/kLseDrG58b/qJhjPQCn4P3imiIdSHwJArpxxqiuo0L8R/f/YeNvpP434VoIZ+eo/NRCDSAIUwD+hZEhywWECQB4K0q393NA/YbaDpeVN2z9CATt/bFH6P+9/yKiQEQTA5DX0ezIRmr8WhhLkX/f6v36vpdfIhKC/XTO1tnjaB0DwmB/krfsOQD+9kYWMwu4/kckgEtm5/b/4Xnk81mP1v2M/OJF51QDALTEUWgFV6b9vuBQGo+X0v/KrDu69U/4/5WB20BHf6r8s7zz2Qcn2vwsbbTW2w/+/TthZqzMx0T/xQd9vmvejv3zXwvQ9beM/xfYzbK0f4L8zCy1qkBz5P6xjg6ouAgdA+RbaFQ+6AkDvDHsm5kmrv1qK+y1f5+8/KyOz6Xe49z/U1HS240oQQJYIgNCrROk/qwp65otEyj+ph1QyUO2lPw==",
          "dtype": "f8"
         },
         "z": {
          "bdata": "3WQJdIyv5r8HvGDDV6Tmv616Ax3PTJy/FG2hAinOwL/68V067AWLv9S4BF4tVPC/0JgPnsGn3D/3/HcERSPrPyZ+CDv+E/W/PQfF/FOG5z+jiGufiNz2Pz5XdbSnYNM/YU4JIe0FCkDrKKnl0QLnv3WKLE8DFv2/nLM8S00ttL/dAimhogPfvxH9Va5o2uO/sHa+mlOM+j98b8+E02ruv1my8AUMJ92/mae4GUhNB0D2ufkLb5Lqv9th/i5Ngt0/MF5UukcW8r8IB+/Z4WX6PwpJoWmpq+K/SBXSafui7b+jqbYGjk7wv182vMSTkuW/Q5o/i6hH/b+b1KRvZBTZv8WXCiQQ5Pi/hC/7KCps3r9T6SOs94XrP6S3SyduveY/lt77PSdl1b+XOEjQs37zv/xjDHhhqPa/V9rPqFh59b+WzorY2jHxv/jbAmyIhgDANIZDjFwC6z8S8tltNbr2PzTh+5+6WvE/Huc3+y286r8oPBkVSsniv6ytNEfPQtw/c90SYhLb8j8upPjujiO+v38Chov8mtS/lcagWNWj/z+crYY3kTrovxHrVLERzfS/PAawd5ik5b9nVhD0VdTxP8+4o6W8Hd2/X7Etf2TtvL9Yz66Fvh37v9sbeA8mXeO/fAARB3BS1b8VYfU2we2jP8DO0FhdHPK/anfeM4g85r/SmNnO2DQQQOKv7jgRO/m/T8zmGYJM5L+IHyso/4XqP8BJ/8coo+Q/UwhsmnII6T9432YO+hiyv73JoSdp7fY/ffiWQEf2CkAdUXPe0yz1v5StMW0iVuM/fEfaO4Q+wD8olho/p0wBQFn23v4dYru/brrSFcwq+b+VMxZ5kTjqv8gSOR2o++O/x8uWFqmT1j+7GRrU07Hwv4z2NAwV99O/G4Jtezht1T+O6MaPvD3lP+cGqDCWoPE/OGNaIFIR+r9qwBQqxW7Yv6MA8ychZ/o/eUpMH9/cxz92ucBtqT7ivyzbmyizTuO/VTnru31JzL9AgSFRcir3PyyA5bZ7jvG/ez2fvIep+r82tBWYfE3nv0QIHlUowre/goAlxf1x6j+EMMOsLxoLQPIdzDSx2PC/lq1q/dgO0D+IpyqceN/SPw08IMAp2AVAzb3YncnLBUBOQ5YAlhPqP40Ai1QQ0/W/2DYNF3gT+r9jcv5lY8/gPw==",
          "dtype": "f8"
         }
        },
        {
         "marker": {
          "color": [
           "red",
           "gold",
           "blue",
           "green",
           "purple",
           "pink",
           "turquoise",
           "orange",
           "lime",
           "magenta"
          ],
          "size": 4,
          "symbol": "diamond"
         },
         "mode": "markers",
         "type": "scatter3d",
         "x": {
          "bdata": "c/xA4Ejv/b/OvaFtNsgJwCYC7xkIeca/0eq5/96x8r93N0rvJEyUP0E0rKMmZ/2/lewFGh749z++cy0RKTXiP8TVW2W2eALAlGXKdMuUBEA=",
          "dtype": "f8"
         },
         "y": {
          "bdata": "T8O4G4Qe4L+8Iun0XXDyP9taYvGpu+6/rku957kq979ssYRjabXHvyl0qvWJ2sE/WiBe9VUwub/yqw7uvVP+PxRBIF0kGMQ/S9mq1zD3078=",
          "dtype": "f8"
         },
         "z": {
          "bdata": "sDzUSOs64z+ZU9rEPeT0PzPgn2o0Asc/8IncC71i7T+4gKWV/ofkP/6YN9SQXtG/UEdl5jEkxr8s25sos07jv4585KMLkPg/GVQtYEbI9D8=",
          "dtype": "f8"
         }
        },
        {
         "marker": {
          "color": "black",
          "size": 3
         },
         "mode": "markers",
         "name": "Origin",
         "showlegend": false,
         "type": "scatter3d",
         "x": [
          0
         ],
         "y": [
          0
         ],
         "z": [
          0
         ]
        },
        {
         "line": {
          "width": 4
         },
         "mode": "lines+text",
         "name": "max_depth",
         "textposition": "top center",
         "type": "scatter3d",
         "x": [
          0,
          -2.3293565599847095
         ],
         "y": [
          0,
          -1.4228817272499326
         ],
         "z": [
          0,
          -0.18866776052965242
         ]
        },
        {
         "line": {
          "width": 4
         },
         "mode": "lines+text",
         "name": "max_resistance",
         "textposition": "top center",
         "type": "scatter3d",
         "x": [
          0,
          2.1236879942066373
         ],
         "y": [
          0,
          0.9000836410170937
         ],
         "z": [
          0,
          0.7966396810213516
         ]
        },
        {
         "line": {
          "width": 4
         },
         "mode": "lines+text",
         "name": "first_quarter_slope",
         "textposition": "top center",
         "type": "scatter3d",
         "x": [
          0,
          2.359785422601722
         ],
         "y": [
          0,
          0.20750950597622114
         ],
         "z": [
          0,
          1.4393223826695882
         ]
        },
        {
         "line": {
          "width": 4
         },
         "mode": "lines+text",
         "name": "second_quarter_slope",
         "textposition": "top center",
         "type": "scatter3d",
         "x": [
          0,
          2.3846225026859607
         ],
         "y": [
          0,
          0.7026254077913114
         ],
         "z": [
          0,
          -0.24794158628379234
         ]
        },
        {
         "line": {
          "width": 4
         },
         "mode": "lines+text",
         "name": "third_quarter_slope",
         "textposition": "top center",
         "type": "scatter3d",
         "x": [
          0,
          2.1612961850955017
         ],
         "y": [
          0,
          1.3911915697575725
         ],
         "z": [
          0,
          -0.4657619209465746
         ]
        },
        {
         "line": {
          "width": 4
         },
         "mode": "lines+text",
         "name": "quartile_3",
         "textposition": "top center",
         "type": "scatter3d",
         "x": [
          0,
          2.5393869292239963
         ],
         "y": [
          0,
          -0.9878125034541312
         ],
         "z": [
          0,
          -0.09911720855544037
         ]
        }
       ],
       "layout": {
        "autosize": true,
        "scene": {
         "aspectmode": "cube",
         "xaxis": {
          "range": [
           -4,
           4
          ],
          "title": {
           "font": {
            "size": 11
           },
           "text": "PC1 (0.39 var.)"
          }
         },
         "yaxis": {
          "range": [
           -4,
           4
          ],
          "title": {
           "font": {
            "size": 11
           },
           "text": "PC2 (0.20 var.)"
          }
         },
         "zaxis": {
          "range": [
           -4,
           4
          ],
          "title": {
           "font": {
            "size": 11
           },
           "text": "PC3 (0.11 var.)"
          }
         }
        },
        "template": {
         "data": {
          "bar": [
           {
            "error_x": {
             "color": "#2a3f5f"
            },
            "error_y": {
             "color": "#2a3f5f"
            },
            "marker": {
             "line": {
              "color": "#E5ECF6",
              "width": 0.5
             },
             "pattern": {
              "fillmode": "overlay",
              "size": 10,
              "solidity": 0.2
             }
            },
            "type": "bar"
           }
          ],
          "barpolar": [
           {
            "marker": {
             "line": {
              "color": "#E5ECF6",
              "width": 0.5
             },
             "pattern": {
              "fillmode": "overlay",
              "size": 10,
              "solidity": 0.2
             }
            },
            "type": "barpolar"
           }
          ],
          "carpet": [
           {
            "aaxis": {
             "endlinecolor": "#2a3f5f",
             "gridcolor": "white",
             "linecolor": "white",
             "minorgridcolor": "white",
             "startlinecolor": "#2a3f5f"
            },
            "baxis": {
             "endlinecolor": "#2a3f5f",
             "gridcolor": "white",
             "linecolor": "white",
             "minorgridcolor": "white",
             "startlinecolor": "#2a3f5f"
            },
            "type": "carpet"
           }
          ],
          "choropleth": [
           {
            "colorbar": {
             "outlinewidth": 0,
             "ticks": ""
            },
            "type": "choropleth"
           }
          ],
          "contour": [
           {
            "colorbar": {
             "outlinewidth": 0,
             "ticks": ""
            },
            "colorscale": [
             [
              0,
              "#0d0887"
             ],
             [
              0.1111111111111111,
              "#46039f"
             ],
             [
              0.2222222222222222,
              "#7201a8"
             ],
             [
              0.3333333333333333,
              "#9c179e"
             ],
             [
              0.4444444444444444,
              "#bd3786"
             ],
             [
              0.5555555555555556,
              "#d8576b"
             ],
             [
              0.6666666666666666,
              "#ed7953"
             ],
             [
              0.7777777777777778,
              "#fb9f3a"
             ],
             [
              0.8888888888888888,
              "#fdca26"
             ],
             [
              1,
              "#f0f921"
             ]
            ],
            "type": "contour"
           }
          ],
          "contourcarpet": [
           {
            "colorbar": {
             "outlinewidth": 0,
             "ticks": ""
            },
            "type": "contourcarpet"
           }
          ],
          "heatmap": [
           {
            "colorbar": {
             "outlinewidth": 0,
             "ticks": ""
            },
            "colorscale": [
             [
              0,
              "#0d0887"
             ],
             [
              0.1111111111111111,
              "#46039f"
             ],
             [
              0.2222222222222222,
              "#7201a8"
             ],
             [
              0.3333333333333333,
              "#9c179e"
             ],
             [
              0.4444444444444444,
              "#bd3786"
             ],
             [
              0.5555555555555556,
              "#d8576b"
             ],
             [
              0.6666666666666666,
              "#ed7953"
             ],
             [
              0.7777777777777778,
              "#fb9f3a"
             ],
             [
              0.8888888888888888,
              "#fdca26"
             ],
             [
              1,
              "#f0f921"
             ]
            ],
            "type": "heatmap"
           }
          ],
          "histogram": [
           {
            "marker": {
             "pattern": {
              "fillmode": "overlay",
              "size": 10,
              "solidity": 0.2
             }
            },
            "type": "histogram"
           }
          ],
          "histogram2d": [
           {
            "colorbar": {
             "outlinewidth": 0,
             "ticks": ""
            },
            "colorscale": [
             [
              0,
              "#0d0887"
             ],
             [
              0.1111111111111111,
              "#46039f"
             ],
             [
              0.2222222222222222,
              "#7201a8"
             ],
             [
              0.3333333333333333,
              "#9c179e"
             ],
             [
              0.4444444444444444,
              "#bd3786"
             ],
             [
              0.5555555555555556,
              "#d8576b"
             ],
             [
              0.6666666666666666,
              "#ed7953"
             ],
             [
              0.7777777777777778,
              "#fb9f3a"
             ],
             [
              0.8888888888888888,
              "#fdca26"
             ],
             [
              1,
              "#f0f921"
             ]
            ],
            "type": "histogram2d"
           }
          ],
          "histogram2dcontour": [
           {
            "colorbar": {
             "outlinewidth": 0,
             "ticks": ""
            },
            "colorscale": [
             [
              0,
              "#0d0887"
             ],
             [
              0.1111111111111111,
              "#46039f"
             ],
             [
              0.2222222222222222,
              "#7201a8"
             ],
             [
              0.3333333333333333,
              "#9c179e"
             ],
             [
              0.4444444444444444,
              "#bd3786"
             ],
             [
              0.5555555555555556,
              "#d8576b"
             ],
             [
              0.6666666666666666,
              "#ed7953"
             ],
             [
              0.7777777777777778,
              "#fb9f3a"
             ],
             [
              0.8888888888888888,
              "#fdca26"
             ],
             [
              1,
              "#f0f921"
             ]
            ],
            "type": "histogram2dcontour"
           }
          ],
          "mesh3d": [
           {
            "colorbar": {
             "outlinewidth": 0,
             "ticks": ""
            },
            "type": "mesh3d"
           }
          ],
          "parcoords": [
           {
            "line": {
             "colorbar": {
              "outlinewidth": 0,
              "ticks": ""
             }
            },
            "type": "parcoords"
           }
          ],
          "pie": [
           {
            "automargin": true,
            "type": "pie"
           }
          ],
          "scatter": [
           {
            "fillpattern": {
             "fillmode": "overlay",
             "size": 10,
             "solidity": 0.2
            },
            "type": "scatter"
           }
          ],
          "scatter3d": [
           {
            "line": {
             "colorbar": {
              "outlinewidth": 0,
              "ticks": ""
             }
            },
            "marker": {
             "colorbar": {
              "outlinewidth": 0,
              "ticks": ""
             }
            },
            "type": "scatter3d"
           }
          ],
          "scattercarpet": [
           {
            "marker": {
             "colorbar": {
              "outlinewidth": 0,
              "ticks": ""
             }
            },
            "type": "scattercarpet"
           }
          ],
          "scattergeo": [
           {
            "marker": {
             "colorbar": {
              "outlinewidth": 0,
              "ticks": ""
             }
            },
            "type": "scattergeo"
           }
          ],
          "scattergl": [
           {
            "marker": {
             "colorbar": {
              "outlinewidth": 0,
              "ticks": ""
             }
            },
            "type": "scattergl"
           }
          ],
          "scattermap": [
           {
            "marker": {
             "colorbar": {
              "outlinewidth": 0,
              "ticks": ""
             }
            },
            "type": "scattermap"
           }
          ],
          "scattermapbox": [
           {
            "marker": {
             "colorbar": {
              "outlinewidth": 0,
              "ticks": ""
             }
            },
            "type": "scattermapbox"
           }
          ],
          "scatterpolar": [
           {
            "marker": {
             "colorbar": {
              "outlinewidth": 0,
              "ticks": ""
             }
            },
            "type": "scatterpolar"
           }
          ],
          "scatterpolargl": [
           {
            "marker": {
             "colorbar": {
              "outlinewidth": 0,
              "ticks": ""
             }
            },
            "type": "scatterpolargl"
           }
          ],
          "scatterternary": [
           {
            "marker": {
             "colorbar": {
              "outlinewidth": 0,
              "ticks": ""
             }
            },
            "type": "scatterternary"
           }
          ],
          "surface": [
           {
            "colorbar": {
             "outlinewidth": 0,
             "ticks": ""
            },
            "colorscale": [
             [
              0,
              "#0d0887"
             ],
             [
              0.1111111111111111,
              "#46039f"
             ],
             [
              0.2222222222222222,
              "#7201a8"
             ],
             [
              0.3333333333333333,
              "#9c179e"
             ],
             [
              0.4444444444444444,
              "#bd3786"
             ],
             [
              0.5555555555555556,
              "#d8576b"
             ],
             [
              0.6666666666666666,
              "#ed7953"
             ],
             [
              0.7777777777777778,
              "#fb9f3a"
             ],
             [
              0.8888888888888888,
              "#fdca26"
             ],
             [
              1,
              "#f0f921"
             ]
            ],
            "type": "surface"
           }
          ],
          "table": [
           {
            "cells": {
             "fill": {
              "color": "#EBF0F8"
             },
             "line": {
              "color": "white"
             }
            },
            "header": {
             "fill": {
              "color": "#C8D4E3"
             },
             "line": {
              "color": "white"
             }
            },
            "type": "table"
           }
          ]
         },
         "layout": {
          "annotationdefaults": {
           "arrowcolor": "#2a3f5f",
           "arrowhead": 0,
           "arrowwidth": 1
          },
          "autotypenumbers": "strict",
          "coloraxis": {
           "colorbar": {
            "outlinewidth": 0,
            "ticks": ""
           }
          },
          "colorscale": {
           "diverging": [
            [
             0,
             "#8e0152"
            ],
            [
             0.1,
             "#c51b7d"
            ],
            [
             0.2,
             "#de77ae"
            ],
            [
             0.3,
             "#f1b6da"
            ],
            [
             0.4,
             "#fde0ef"
            ],
            [
             0.5,
             "#f7f7f7"
            ],
            [
             0.6,
             "#e6f5d0"
            ],
            [
             0.7,
             "#b8e186"
            ],
            [
             0.8,
             "#7fbc41"
            ],
            [
             0.9,
             "#4d9221"
            ],
            [
             1,
             "#276419"
            ]
           ],
           "sequential": [
            [
             0,
             "#0d0887"
            ],
            [
             0.1111111111111111,
             "#46039f"
            ],
            [
             0.2222222222222222,
             "#7201a8"
            ],
            [
             0.3333333333333333,
             "#9c179e"
            ],
            [
             0.4444444444444444,
             "#bd3786"
            ],
            [
             0.5555555555555556,
             "#d8576b"
            ],
            [
             0.6666666666666666,
             "#ed7953"
            ],
            [
             0.7777777777777778,
             "#fb9f3a"
            ],
            [
             0.8888888888888888,
             "#fdca26"
            ],
            [
             1,
             "#f0f921"
            ]
           ],
           "sequentialminus": [
            [
             0,
             "#0d0887"
            ],
            [
             0.1111111111111111,
             "#46039f"
            ],
            [
             0.2222222222222222,
             "#7201a8"
            ],
            [
             0.3333333333333333,
             "#9c179e"
            ],
            [
             0.4444444444444444,
             "#bd3786"
            ],
            [
             0.5555555555555556,
             "#d8576b"
            ],
            [
             0.6666666666666666,
             "#ed7953"
            ],
            [
             0.7777777777777778,
             "#fb9f3a"
            ],
            [
             0.8888888888888888,
             "#fdca26"
            ],
            [
             1,
             "#f0f921"
            ]
           ]
          },
          "colorway": [
           "#636efa",
           "#EF553B",
           "#00cc96",
           "#ab63fa",
           "#FFA15A",
           "#19d3f3",
           "#FF6692",
           "#B6E880",
           "#FF97FF",
           "#FECB52"
          ],
          "font": {
           "color": "#2a3f5f"
          },
          "geo": {
           "bgcolor": "white",
           "lakecolor": "white",
           "landcolor": "#E5ECF6",
           "showlakes": true,
           "showland": true,
           "subunitcolor": "white"
          },
          "hoverlabel": {
           "align": "left"
          },
          "hovermode": "closest",
          "mapbox": {
           "style": "light"
          },
          "paper_bgcolor": "white",
          "plot_bgcolor": "#E5ECF6",
          "polar": {
           "angularaxis": {
            "gridcolor": "white",
            "linecolor": "white",
            "ticks": ""
           },
           "bgcolor": "#E5ECF6",
           "radialaxis": {
            "gridcolor": "white",
            "linecolor": "white",
            "ticks": ""
           }
          },
          "scene": {
           "xaxis": {
            "backgroundcolor": "#E5ECF6",
            "gridcolor": "white",
            "gridwidth": 2,
            "linecolor": "white",
            "showbackground": true,
            "ticks": "",
            "zerolinecolor": "white"
           },
           "yaxis": {
            "backgroundcolor": "#E5ECF6",
            "gridcolor": "white",
            "gridwidth": 2,
            "linecolor": "white",
            "showbackground": true,
            "ticks": "",
            "zerolinecolor": "white"
           },
           "zaxis": {
            "backgroundcolor": "#E5ECF6",
            "gridcolor": "white",
            "gridwidth": 2,
            "linecolor": "white",
            "showbackground": true,
            "ticks": "",
            "zerolinecolor": "white"
           }
          },
          "shapedefaults": {
           "line": {
            "color": "#2a3f5f"
           }
          },
          "ternary": {
           "aaxis": {
            "gridcolor": "white",
            "linecolor": "white",
            "ticks": ""
           },
           "baxis": {
            "gridcolor": "white",
            "linecolor": "white",
            "ticks": ""
           },
           "bgcolor": "#E5ECF6",
           "caxis": {
            "gridcolor": "white",
            "linecolor": "white",
            "ticks": ""
           }
          },
          "title": {
           "x": 0.05
          },
          "xaxis": {
           "automargin": true,
           "gridcolor": "white",
           "linecolor": "white",
           "ticks": "",
           "title": {
            "standoff": 15
           },
           "zerolinecolor": "white",
           "zerolinewidth": 2
          },
          "yaxis": {
           "automargin": true,
           "gridcolor": "white",
           "linecolor": "white",
           "ticks": "",
           "title": {
            "standoff": 15
           },
           "zerolinecolor": "white",
           "zerolinewidth": 2
          }
         }
        },
        "title": {
         "text": "3D PCA Scatter Plot"
        }
       }
      }
     },
     "metadata": {},
     "output_type": "display_data"
    }
   ],
   "source": [
    "plotting.plot_clusters_seperately(pseudo_labeled_data[f'pseudo_{ylabel_name}_nums'],\n",
    "                                  curve_data, ylabel_name, cluster_category_names=list(ylabel_to_cluster_num.keys()),\n",
    "                                  pseudo_corrections=marions_labeled_data)\n",
    "plotting.plot_pca(pseudo_labeled_data, pseudo_labeled_data[f'pseudo_{ylabel_name}_nums'], graph_title=\"Clustering Un-corrected Pseudo Labeled Data\", num_pc=3, ylabel_name=ylabel_name, centroids=label_centroids)\n"
   ]
  },
  {
   "cell_type": "markdown",
   "id": "50b4bd1e",
   "metadata": {},
   "source": [
    "# Plot Pseudo Labeling Steps"
   ]
  },
  {
   "cell_type": "code",
   "execution_count": 50,
   "id": "3cc04c3c",
   "metadata": {},
   "outputs": [],
   "source": [
    "# plotting.plot_pseudo_labeling_steps(corrected_pseudo_labeled_data, corrected_pseudo_labeled_data[f'pseudo_{ylabel_name}_nums'], 3, graph_title=\"\", ylabel_name=ylabel_name, centroids=label_centroids,\n",
    "#                 specific_clusters=[9])"
   ]
  }
 ],
 "metadata": {
  "kernelspec": {
   "display_name": "env3.13",
   "language": "python",
   "name": "python3"
  },
  "language_info": {
   "codemirror_mode": {
    "name": "ipython",
    "version": 3
   },
   "file_extension": ".py",
   "mimetype": "text/x-python",
   "name": "python",
   "nbconvert_exporter": "python",
   "pygments_lexer": "ipython3",
   "version": "3.13.1"
  }
 },
 "nbformat": 4,
 "nbformat_minor": 5
}

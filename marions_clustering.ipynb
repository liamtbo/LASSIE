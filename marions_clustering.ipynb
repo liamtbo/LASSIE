{
 "cells": [
  {
   "cell_type": "code",
   "execution_count": 1,
   "id": "38dc9f62",
   "metadata": {},
   "outputs": [],
   "source": [
    "import pandas as pd\n",
    "import os\n",
    "import plotting\n",
    "import importlib\n",
    "importlib.reload(plotting)\n",
    "import math\n",
    "from typing import List\n",
    "pd.options.display.max_rows = 4000"
   ]
  },
  {
   "cell_type": "code",
   "execution_count": 2,
   "id": "28145bf8",
   "metadata": {},
   "outputs": [],
   "source": [
    "def load_data(data_src):\n",
    "    curve_data = [] # used for plotting\n",
    "    filename_list = []\n",
    "    for filename in os.listdir(data_src):\n",
    "        df = pd.read_csv(f\"{data_src}/{filename}\")\n",
    "        curve_data.append(df)\n",
    "        filename_list.append(filename)\n",
    "    return curve_data, filename_list\n",
    "\n",
    "data_src = \"data/cleaned_data\"\n",
    "curve_data, filename_list = load_data(data_src)\n",
    "filename_to_depth_resist = dict(zip(filename_list, curve_data))"
   ]
  },
  {
   "cell_type": "code",
   "execution_count": 3,
   "id": "ddf10886",
   "metadata": {},
   "outputs": [
    {
     "name": "stdout",
     "output_type": "stream",
     "text": [
      "marions_labeled_data: \n",
      "    max_depth  max_resistance  num_peaks  largest_force_drop  curve_shape  \\\n",
      "0   -0.406696        0.739042  -0.696539           -0.667883     0.729832   \n",
      "8   -0.706037        0.819788  -0.696539           -0.892456     0.958138   \n",
      "11  -1.232614        1.324319  -0.696539           -1.033133     0.092011   \n",
      "\n",
      "              filenames marions_ylabels marions_ylabels_2  \n",
      "0   WS23_L3_T1_P_16.csv            ES-B              ES-B  \n",
      "8   WS23_L3_T1_P_11.csv              ES                ES  \n",
      "11   WS23_L3_T1_P_9.csv               F                 F  \n"
     ]
    }
   ],
   "source": [
    "data_features = pd.read_csv(\"data/features.csv\")\n",
    "data_features = plotting.extract_needed_cols(data_features, remove_cols=['feifeis_ylabels', 'liams_ylabels', 'distances'])\n",
    "clustering_features = plotting.extract_numerical_features(data_features)\n",
    "\n",
    "ylabel_name = 'marions_ylabels'\n",
    "marions_labeled_data = data_features[data_features[ylabel_name].notna()].copy() # removes NaN's which correspond to non-labled data\n",
    "print(f'marions_labeled_data: \\n{marions_labeled_data[:3]}')"
   ]
  },
  {
   "cell_type": "code",
   "execution_count": 4,
   "id": "b223ccc1",
   "metadata": {},
   "outputs": [
    {
     "name": "stdout",
     "output_type": "stream",
     "text": [
      "label_centroids:    max_depth  max_resistance  num_peaks  largest_force_drop  curve_shape  \\\n",
      "0   0.106659       -0.524066   0.864748            1.048346     0.267526   \n",
      "1  -0.939244        1.182363  -0.063796            0.069559     0.306016   \n",
      "2  -0.697985        0.917715  -0.216149           -0.415368     0.044371   \n",
      "\n",
      "  marions_ylabels  marions_ylabels_nums  \n",
      "0            ES-B                     0  \n",
      "1              ES                     1  \n",
      "2               F                     2  \n"
     ]
    }
   ],
   "source": [
    "def find_labels_centroids(labeled_data: pd.DataFrame, ylabel_to_cluster_num:dict[str,int], ylabel_name:str) -> pd.DataFrame:\n",
    "    labeled_data = labeled_data.copy()\n",
    "    numerical_data = plotting.extract_numerical_features(labeled_data)\n",
    "    label_centroids = []\n",
    "    for label, label_num in ylabel_to_cluster_num.items():\n",
    "        if label not in labeled_data[ylabel_name].values: continue\n",
    "        label_data = numerical_data[labeled_data[ylabel_name] == label]\n",
    "        label_centroid = label_data.mean(axis=0).tolist() # drop cols for mean calculation\n",
    "        label_centroid.extend([label, label_num]) # append these onto the end\n",
    "        label_centroids.append(label_centroid)\n",
    "    return_cols = numerical_data.columns.tolist()\n",
    "    return_cols.extend([ylabel_name, f'{ylabel_name}_nums'])\n",
    "    return pd.DataFrame(data=label_centroids, columns=return_cols)\n",
    "\n",
    "ylabel_to_cluster_num = {'ES-B':0, 'ES':1, 'F':2, 'ES-BW':3, 'ES-D':4, 'LS':5, 'ES-S':6, 'LS/F':7, 'ES-DB':8}\n",
    "label_centroids = find_labels_centroids(marions_labeled_data, ylabel_to_cluster_num, ylabel_name)\n",
    "print(f'label_centroids: {label_centroids[:3]}')"
   ]
  },
  {
   "cell_type": "code",
   "execution_count": 5,
   "id": "ffbe018c",
   "metadata": {},
   "outputs": [
    {
     "name": "stdout",
     "output_type": "stream",
     "text": [
      "pseudo_labeled_data: \n",
      "   max_depth  max_resistance  num_peaks  largest_force_drop  curve_shape  \\\n",
      "0  -0.406696        0.739042  -0.696539           -0.667883     0.729832   \n",
      "1  -0.422131        0.660764  -0.696539            0.422346    -0.659030   \n",
      "2   0.562019       -0.214852  -0.696539            0.019005    -0.863595   \n",
      "\n",
      "  pseudo_marions_ylabels  pseudo_marions_ylabels_nums  \n",
      "0                      F                            2  \n",
      "1                      F                            2  \n",
      "2                   ES-D                            4  \n"
     ]
    }
   ],
   "source": [
    "def euclidean_distance(x: pd.Series, y: pd.Series) -> float:\n",
    "    return math.sqrt(((y - x) ** 2).sum())\n",
    "\n",
    "def find_closest_centroid(unlabeled_data_df:pd.DataFrame, marions_centroids:pd.DataFrame, ylabel_name) -> pd.DataFrame:\n",
    "    unlabeled_data_df = unlabeled_data_df.copy()\n",
    "    unlabeled_data_df = plotting.extract_numerical_features(unlabeled_data_df)\n",
    "    \n",
    "    pseudo_label_list = []\n",
    "    pseudo_label_num_list = []\n",
    "    unlabeled_data_df = unlabeled_data_df.copy()\n",
    "    for i, depth_res_curve in unlabeled_data_df.iterrows():\n",
    "        min_distance = float('inf')\n",
    "        min_distance_label = ''\n",
    "        min_distance_label_num = 0\n",
    "        for j, marions_label_centroid in marions_centroids.iterrows():\n",
    "            curve_to_label_mean_distance = euclidean_distance(depth_res_curve, marions_label_centroid)\n",
    "            if curve_to_label_mean_distance < min_distance:\n",
    "                min_distance = curve_to_label_mean_distance\n",
    "                min_distance_label = marions_label_centroid[ylabel_name]\n",
    "                min_distance_label_num = marions_label_centroid[f'{ylabel_name}_nums']\n",
    "        pseudo_label_list.append(min_distance_label)\n",
    "        pseudo_label_num_list.append(min_distance_label_num)\n",
    "    unlabeled_data_df[f'pseudo_{ylabel_name}'] = pseudo_label_list\n",
    "    unlabeled_data_df[f'pseudo_{ylabel_name}_nums'] = pseudo_label_num_list\n",
    "    return unlabeled_data_df\n",
    "\n",
    "pseudo_labeled_data = find_closest_centroid(data_features, label_centroids, ylabel_name)\n",
    "print(f'pseudo_labeled_data: \\n{pseudo_labeled_data[:3]}')"
   ]
  },
  {
   "cell_type": "code",
   "execution_count": 6,
   "id": "28a6dbf4",
   "metadata": {},
   "outputs": [
    {
     "name": "stdout",
     "output_type": "stream",
     "text": [
      "changed_ylabel_idxs: [0, 8, 26, 37, 43, 48, 55, 62, 71]\n"
     ]
    }
   ],
   "source": [
    "def find_changed_ylabel_data(labeled_data:pd.DataFrame, pseudo_labeled_data:pd.DataFrame, ylabel_name:str):\n",
    "    ylabel_idxs = labeled_data.index # idxs of labeled data points\n",
    "    pseudo_labels_of_labeled_data = pseudo_labeled_data.loc[ylabel_idxs]\n",
    "    diff_mask = (labeled_data[ylabel_name] != pseudo_labels_of_labeled_data[f'pseudo_{ylabel_name}'])\n",
    "    changed_label_idxs = labeled_data[diff_mask].index.tolist()\n",
    "    return changed_label_idxs\n",
    "\n",
    "changed_ylabel_idxs = find_changed_ylabel_data(marions_labeled_data, pseudo_labeled_data, ylabel_name)\n",
    "print(f'changed_ylabel_idxs: {changed_ylabel_idxs}')"
   ]
  },
  {
   "cell_type": "markdown",
   "id": "88b40798",
   "metadata": {},
   "source": [
    "# Plot Labeled Data Only"
   ]
  },
  {
   "cell_type": "code",
   "execution_count": 7,
   "id": "5a7c2330",
   "metadata": {},
   "outputs": [
    {
     "data": {
      "image/png": "[encoded data removed]",
      "text/plain": [
       "<Figure size 1000x600 with 8 Axes>"
      ]
     },
     "metadata": {},
     "output_type": "display_data"
    },
    {
     "data": {
      "application/vnd.plotly.v1+json": {
       "config": {
        "plotlyServerURL": "https://plot.ly"
       },
       "data": [
        {
         "mode": "text",
         "name": "Data Points",
         "text": [
          "0",
          "8",
          "11",
          "25",
          "26",
          "35",
          "37",
          "39",
          "41",
          "43",
          "46",
          "48",
          "49",
          "50",
          "53",
          "55",
          "56",
          "62",
          "63",
          "65",
          "66",
          "67",
          "71",
          "74"
         ],
         "textfont": {
          "color": [
           "red",
           "gold",
           "blue",
           "gold",
           "red",
           "green",
           "purple",
           "red",
           "pink",
           "blue",
           "turquoise",
           "gold",
           "red",
           "green",
           "green",
           "purple",
           "blue",
           "pink",
           "green",
           "turquoise",
           "turquoise",
           "orange",
           "gold",
           "purple"
          ],
          "size": 8
         },
         "type": "scatter3d",
         "x": {
          "bdata": "KcFeyt99/j+GcY7Xn+wBQHAVoPw9/QRADU1yVZT3/T9qnWmfr63pvwyw3hu10gLAft2+zY/c/j+9c63eRJL0v1guOmg1aQTATE2lI9bktT++HE7+qzDRv/IKJM0HNgdA9hYBrM+HA8ALa8NF63Pyv4C6k23HUQLAEwoekbHy9L+/lKHbIWsBQN4apjJD2+Y/pxUu3yzQ9b/Va/s1snzRPzProjz/cvS/LDXZN2Sg/j/E9fMwPRzcv6UOHYBvovG/",
          "dtype": "f8"
         },
         "y": {
          "bdata": "KNpIxOrh3z9JqWEH8b7lPzhvEHpnv9K/Rodkd+Q8tr/BVs2ehT7jv7G2cm++T+o/sUMUonrN+D87FhfX8DT1P6sX7l1yVfU/QUIB0uDLyL9iCYma5MYNQECU65zG7by/ZKwFARq8zj/NBNxk1AQDwFViuBdsjt+/7wi4Vipv/r/OT5FChFy1v8BoFuQ15ATAI2QtKC9u9L/jPG+fU0j5P0BtzddinfA/S+0OCDni8r8Uc1v2R3Hwv4EGk7o6luG/",
          "dtype": "f8"
         },
         "z": {
          "bdata": "QnNcXciq1L/k3kdiyxDTvyk0nF+g59W/0pm6u8WB6D9c3xM7vMvxP44aFcnMnO2/BbK2CO0x0j/VE0e9TRDJv2k2i4PHUgDATcQ8rZoN0T+qT99ZYeXoP3DyojB+g7W/UfqqtI+i8z++x2TTukniP+LyfKkfX+u/GQSYzVQD1D8jyTVFG8LUvzhi/N/KZvm/YyH7rcsx3T+6dp/wpUfmPxTd+xAckOy/+L0hZnZ26r824a8DkPD7P9tLb4yTo94/",
          "dtype": "f8"
         }
        },
        {
         "marker": {
          "color": [
           "red",
           "gold",
           "blue",
           "green",
           "purple",
           "pink",
           "turquoise",
           "orange"
          ],
          "size": 4,
          "symbol": "diamond"
         },
         "mode": "markers",
         "type": "scatter3d",
         "x": {
          "bdata": "nNcCHm795L8jkqYUdU36P2Y4PwavD/o/c5X1TUSj/L9A8/Wz2JbEv0BPITfJZO2/lHSfk6cq278sNdk3ZKD+Pw==",
          "dtype": "f8"
         },
         "y": {
          "bdata": "8Fbj+Ktl1z9OQN9H9IjBvzOYI037Usi/fhUN4MmZ6r9UC+cXvDvTv9a5Pmr5cuS/0XRiR5XoAEBL7Q4IOeLyvw==",
          "dtype": "f8"
         },
         "z": {
          "bdata": "Ydq+IJAh3T+eg/gShArhPwImDqXAEsG//7QvyEsZyL9Tq5TL8fLWP4ZnifMsBv2/vuEDojnRyD/4vSFmdnbqvw==",
          "dtype": "f8"
         }
        },
        {
         "marker": {
          "color": "black",
          "size": 5
         },
         "mode": "markers",
         "name": "Origin",
         "showlegend": false,
         "type": "scatter3d",
         "x": [
          0
         ],
         "y": [
          0
         ],
         "z": [
          0
         ]
        },
        {
         "line": {
          "width": 4
         },
         "mode": "lines+text",
         "name": "max_depth",
         "textposition": "top center",
         "type": "scatter3d",
         "x": [
          0,
          -1.4170968621910767
         ],
         "y": [
          0,
          0.5847060564820392
         ],
         "z": [
          0,
          -1.0145475769547572
         ]
        },
        {
         "line": {
          "width": 4
         },
         "mode": "lines+text",
         "name": "max_resistance",
         "textposition": "top center",
         "type": "scatter3d",
         "x": [
          0,
          1.5629262312163035
         ],
         "y": [
          0,
          -0.6671997259527012
         ],
         "z": [
          0,
          1.0497344890557834
         ]
        },
        {
         "line": {
          "width": 4
         },
         "mode": "lines+text",
         "name": "num_peaks",
         "textposition": "top center",
         "type": "scatter3d",
         "x": [
          0,
          -1.5146721570085466
         ],
         "y": [
          0,
          0.5530096994404741
         ],
         "z": [
          0,
          0.3294975175394769
         ]
        },
        {
         "line": {
          "width": 4
         },
         "mode": "lines+text",
         "name": "largest_force_drop",
         "textposition": "top center",
         "type": "scatter3d",
         "x": [
          0,
          -1.3469560120627166
         ],
         "y": [
          0,
          -0.6647886977681422
         ],
         "z": [
          0,
          2.4035327466302117
         ]
        },
        {
         "line": {
          "width": 4
         },
         "mode": "lines+text",
         "name": "curve_shape",
         "textposition": "top center",
         "type": "scatter3d",
         "x": [
          0,
          0.6637588698430963
         ],
         "y": [
          0,
          2.732251747706709
         ],
         "z": [
          0,
          0.9915706925850442
         ]
        }
       ],
       "layout": {
        "autosize": true,
        "scene": {
         "xaxis": {
          "title": {
           "font": {
            "size": 11
           },
           "text": "PC1 (0.49 var.)"
          }
         },
         "yaxis": {
          "title": {
           "font": {
            "size": 11
           },
           "text": "PC2 (0.31 var.)"
          }
         },
         "zaxis": {
          "title": {
           "font": {
            "size": 11
           },
           "text": "PC3 (0.13 var.)"
          }
         }
        },
        "template": {
         "data": {
          "bar": [
           {
            "error_x": {
             "color": "#2a3f5f"
            },
            "error_y": {
             "color": "#2a3f5f"
            },
            "marker": {
             "line": {
              "color": "#E5ECF6",
              "width": 0.5
             },
             "pattern": {
              "fillmode": "overlay",
              "size": 10,
              "solidity": 0.2
             }
            },
            "type": "bar"
           }
          ],
          "barpolar": [
           {
            "marker": {
             "line": {
              "color": "#E5ECF6",
              "width": 0.5
             },
             "pattern": {
              "fillmode": "overlay",
              "size": 10,
              "solidity": 0.2
             }
            },
            "type": "barpolar"
           }
          ],
          "carpet": [
           {
            "aaxis": {
             "endlinecolor": "#2a3f5f",
             "gridcolor": "white",
             "linecolor": "white",
             "minorgridcolor": "white",
             "startlinecolor": "#2a3f5f"
            },
            "baxis": {
             "endlinecolor": "#2a3f5f",
             "gridcolor": "white",
             "linecolor": "white",
             "minorgridcolor": "white",
             "startlinecolor": "#2a3f5f"
            },
            "type": "carpet"
           }
          ],
          "choropleth": [
           {
            "colorbar": {
             "outlinewidth": 0,
             "ticks": ""
            },
            "type": "choropleth"
           }
          ],
          "contour": [
           {
            "colorbar": {
             "outlinewidth": 0,
             "ticks": ""
            },
            "colorscale": [
             [
              0,
              "#0d0887"
             ],
             [
              0.1111111111111111,
              "#46039f"
             ],
             [
              0.2222222222222222,
              "#7201a8"
             ],
             [
              0.3333333333333333,
              "#9c179e"
             ],
             [
              0.4444444444444444,
              "#bd3786"
             ],
             [
              0.5555555555555556,
              "#d8576b"
             ],
             [
              0.6666666666666666,
              "#ed7953"
             ],
             [
              0.7777777777777778,
              "#fb9f3a"
             ],
             [
              0.8888888888888888,
              "#fdca26"
             ],
             [
              1,
              "#f0f921"
             ]
            ],
            "type": "contour"
           }
          ],
          "contourcarpet": [
           {
            "colorbar": {
             "outlinewidth": 0,
             "ticks": ""
            },
            "type": "contourcarpet"
           }
          ],
          "heatmap": [
           {
            "colorbar": {
             "outlinewidth": 0,
             "ticks": ""
            },
            "colorscale": [
             [
              0,
              "#0d0887"
             ],
             [
              0.1111111111111111,
              "#46039f"
             ],
             [
              0.2222222222222222,
              "#7201a8"
             ],
             [
              0.3333333333333333,
              "#9c179e"
             ],
             [
              0.4444444444444444,
              "#bd3786"
             ],
             [
              0.5555555555555556,
              "#d8576b"
             ],
             [
              0.6666666666666666,
              "#ed7953"
             ],
             [
              0.7777777777777778,
              "#fb9f3a"
             ],
             [
              0.8888888888888888,
              "#fdca26"
             ],
             [
              1,
              "#f0f921"
             ]
            ],
            "type": "heatmap"
           }
          ],
          "histogram": [
           {
            "marker": {
             "pattern": {
              "fillmode": "overlay",
              "size": 10,
              "solidity": 0.2
             }
            },
            "type": "histogram"
           }
          ],
          "histogram2d": [
           {
            "colorbar": {
             "outlinewidth": 0,
             "ticks": ""
            },
            "colorscale": [
             [
              0,
              "#0d0887"
             ],
             [
              0.1111111111111111,
              "#46039f"
             ],
             [
              0.2222222222222222,
              "#7201a8"
             ],
             [
              0.3333333333333333,
              "#9c179e"
             ],
             [
              0.4444444444444444,
              "#bd3786"
             ],
             [
              0.5555555555555556,
              "#d8576b"
             ],
             [
              0.6666666666666666,
              "#ed7953"
             ],
             [
              0.7777777777777778,
              "#fb9f3a"
             ],
             [
              0.8888888888888888,
              "#fdca26"
             ],
             [
              1,
              "#f0f921"
             ]
            ],
            "type": "histogram2d"
           }
          ],
          "histogram2dcontour": [
           {
            "colorbar": {
             "outlinewidth": 0,
             "ticks": ""
            },
            "colorscale": [
             [
              0,
              "#0d0887"
             ],
             [
              0.1111111111111111,
              "#46039f"
             ],
             [
              0.2222222222222222,
              "#7201a8"
             ],
             [
              0.3333333333333333,
              "#9c179e"
             ],
             [
              0.4444444444444444,
              "#bd3786"
             ],
             [
              0.5555555555555556,
              "#d8576b"
             ],
             [
              0.6666666666666666,
              "#ed7953"
             ],
             [
              0.7777777777777778,
              "#fb9f3a"
             ],
             [
              0.8888888888888888,
              "#fdca26"
             ],
             [
              1,
              "#f0f921"
             ]
            ],
            "type": "histogram2dcontour"
           }
          ],
          "mesh3d": [
           {
            "colorbar": {
             "outlinewidth": 0,
             "ticks": ""
            },
            "type": "mesh3d"
           }
          ],
          "parcoords": [
           {
            "line": {
             "colorbar": {
              "outlinewidth": 0,
              "ticks": ""
             }
            },
            "type": "parcoords"
           }
          ],
          "pie": [
           {
            "automargin": true,
            "type": "pie"
           }
          ],
          "scatter": [
           {
            "fillpattern": {
             "fillmode": "overlay",
             "size": 10,
             "solidity": 0.2
            },
            "type": "scatter"
           }
          ],
          "scatter3d": [
           {
            "line": {
             "colorbar": {
              "outlinewidth": 0,
              "ticks": ""
             }
            },
            "marker": {
             "colorbar": {
              "outlinewidth": 0,
              "ticks": ""
             }
            },
            "type": "scatter3d"
           }
          ],
          "scattercarpet": [
           {
            "marker": {
             "colorbar": {
              "outlinewidth": 0,
              "ticks": ""
             }
            },
            "type": "scattercarpet"
           }
          ],
          "scattergeo": [
           {
            "marker": {
             "colorbar": {
              "outlinewidth": 0,
              "ticks": ""
             }
            },
            "type": "scattergeo"
           }
          ],
          "scattergl": [
           {
            "marker": {
             "colorbar": {
              "outlinewidth": 0,
              "ticks": ""
             }
            },
            "type": "scattergl"
           }
          ],
          "scattermap": [
           {
            "marker": {
             "colorbar": {
              "outlinewidth": 0,
              "ticks": ""
             }
            },
            "type": "scattermap"
           }
          ],
          "scattermapbox": [
           {
            "marker": {
             "colorbar": {
              "outlinewidth": 0,
              "ticks": ""
             }
            },
            "type": "scattermapbox"
           }
          ],
          "scatterpolar": [
           {
            "marker": {
             "colorbar": {
              "outlinewidth": 0,
              "ticks": ""
             }
            },
            "type": "scatterpolar"
           }
          ],
          "scatterpolargl": [
           {
            "marker": {
             "colorbar": {
              "outlinewidth": 0,
              "ticks": ""
             }
            },
            "type": "scatterpolargl"
           }
          ],
          "scatterternary": [
           {
            "marker": {
             "colorbar": {
              "outlinewidth": 0,
              "ticks": ""
             }
            },
            "type": "scatterternary"
           }
          ],
          "surface": [
           {
            "colorbar": {
             "outlinewidth": 0,
             "ticks": ""
            },
            "colorscale": [
             [
              0,
              "#0d0887"
             ],
             [
              0.1111111111111111,
              "#46039f"
             ],
             [
              0.2222222222222222,
              "#7201a8"
             ],
             [
              0.3333333333333333,
              "#9c179e"
             ],
             [
              0.4444444444444444,
              "#bd3786"
             ],
             [
              0.5555555555555556,
              "#d8576b"
             ],
             [
              0.6666666666666666,
              "#ed7953"
             ],
             [
              0.7777777777777778,
              "#fb9f3a"
             ],
             [
              0.8888888888888888,
              "#fdca26"
             ],
             [
              1,
              "#f0f921"
             ]
            ],
            "type": "surface"
           }
          ],
          "table": [
           {
            "cells": {
             "fill": {
              "color": "#EBF0F8"
             },
             "line": {
              "color": "white"
             }
            },
            "header": {
             "fill": {
              "color": "#C8D4E3"
             },
             "line": {
              "color": "white"
             }
            },
            "type": "table"
           }
          ]
         },
         "layout": {
          "annotationdefaults": {
           "arrowcolor": "#2a3f5f",
           "arrowhead": 0,
           "arrowwidth": 1
          },
          "autotypenumbers": "strict",
          "coloraxis": {
           "colorbar": {
            "outlinewidth": 0,
            "ticks": ""
           }
          },
          "colorscale": {
           "diverging": [
            [
             0,
             "#8e0152"
            ],
            [
             0.1,
             "#c51b7d"
            ],
            [
             0.2,
             "#de77ae"
            ],
            [
             0.3,
             "#f1b6da"
            ],
            [
             0.4,
             "#fde0ef"
            ],
            [
             0.5,
             "#f7f7f7"
            ],
            [
             0.6,
             "#e6f5d0"
            ],
            [
             0.7,
             "#b8e186"
            ],
            [
             0.8,
             "#7fbc41"
            ],
            [
             0.9,
             "#4d9221"
            ],
            [
             1,
             "#276419"
            ]
           ],
           "sequential": [
            [
             0,
             "#0d0887"
            ],
            [
             0.1111111111111111,
             "#46039f"
            ],
            [
             0.2222222222222222,
             "#7201a8"
            ],
            [
             0.3333333333333333,
             "#9c179e"
            ],
            [
             0.4444444444444444,
             "#bd3786"
            ],
            [
             0.5555555555555556,
             "#d8576b"
            ],
            [
             0.6666666666666666,
             "#ed7953"
            ],
            [
             0.7777777777777778,
             "#fb9f3a"
            ],
            [
             0.8888888888888888,
             "#fdca26"
            ],
            [
             1,
             "#f0f921"
            ]
           ],
           "sequentialminus": [
            [
             0,
             "#0d0887"
            ],
            [
             0.1111111111111111,
             "#46039f"
            ],
            [
             0.2222222222222222,
             "#7201a8"
            ],
            [
             0.3333333333333333,
             "#9c179e"
            ],
            [
             0.4444444444444444,
             "#bd3786"
            ],
            [
             0.5555555555555556,
             "#d8576b"
            ],
            [
             0.6666666666666666,
             "#ed7953"
            ],
            [
             0.7777777777777778,
             "#fb9f3a"
            ],
            [
             0.8888888888888888,
             "#fdca26"
            ],
            [
             1,
             "#f0f921"
            ]
           ]
          },
          "colorway": [
           "#636efa",
           "#EF553B",
           "#00cc96",
           "#ab63fa",
           "#FFA15A",
           "#19d3f3",
           "#FF6692",
           "#B6E880",
           "#FF97FF",
           "#FECB52"
          ],
          "font": {
           "color": "#2a3f5f"
          },
          "geo": {
           "bgcolor": "white",
           "lakecolor": "white",
           "landcolor": "#E5ECF6",
           "showlakes": true,
           "showland": true,
           "subunitcolor": "white"
          },
          "hoverlabel": {
           "align": "left"
          },
          "hovermode": "closest",
          "mapbox": {
           "style": "light"
          },
          "paper_bgcolor": "white",
          "plot_bgcolor": "#E5ECF6",
          "polar": {
           "angularaxis": {
            "gridcolor": "white",
            "linecolor": "white",
            "ticks": ""
           },
           "bgcolor": "#E5ECF6",
           "radialaxis": {
            "gridcolor": "white",
            "linecolor": "white",
            "ticks": ""
           }
          },
          "scene": {
           "xaxis": {
            "backgroundcolor": "#E5ECF6",
            "gridcolor": "white",
            "gridwidth": 2,
            "linecolor": "white",
            "showbackground": true,
            "ticks": "",
            "zerolinecolor": "white"
           },
           "yaxis": {
            "backgroundcolor": "#E5ECF6",
            "gridcolor": "white",
            "gridwidth": 2,
            "linecolor": "white",
            "showbackground": true,
            "ticks": "",
            "zerolinecolor": "white"
           },
           "zaxis": {
            "backgroundcolor": "#E5ECF6",
            "gridcolor": "white",
            "gridwidth": 2,
            "linecolor": "white",
            "showbackground": true,
            "ticks": "",
            "zerolinecolor": "white"
           }
          },
          "shapedefaults": {
           "line": {
            "color": "#2a3f5f"
           }
          },
          "ternary": {
           "aaxis": {
            "gridcolor": "white",
            "linecolor": "white",
            "ticks": ""
           },
           "baxis": {
            "gridcolor": "white",
            "linecolor": "white",
            "ticks": ""
           },
           "bgcolor": "#E5ECF6",
           "caxis": {
            "gridcolor": "white",
            "linecolor": "white",
            "ticks": ""
           }
          },
          "title": {
           "x": 0.05
          },
          "xaxis": {
           "automargin": true,
           "gridcolor": "white",
           "linecolor": "white",
           "ticks": "",
           "title": {
            "standoff": 15
           },
           "zerolinecolor": "white",
           "zerolinewidth": 2
          },
          "yaxis": {
           "automargin": true,
           "gridcolor": "white",
           "linecolor": "white",
           "ticks": "",
           "title": {
            "standoff": 15
           },
           "zerolinecolor": "white",
           "zerolinewidth": 2
          }
         }
        },
        "title": {
         "text": "3D PCA Scatter Plot"
        }
       }
      }
     },
     "metadata": {},
     "output_type": "display_data"
    }
   ],
   "source": [
    "marions_labeled_data[f'{ylabel_name}_nums'] = marions_labeled_data[ylabel_name].map(ylabel_to_cluster_num)\n",
    "plotting.plot_clusters_seperately(marions_labeled_data[f'{ylabel_name}_nums'], curve_data, ylabel_name,\n",
    "                                  cluster_category_names=list(ylabel_to_cluster_num.keys()),\n",
    "                                  bold_idxs=marions_labeled_data.index.tolist()) \n",
    "plotting.plot_pca(marions_labeled_data, marions_labeled_data[f'{ylabel_name}_nums'], graph_title=\"Clustering Labeled Data\", num_pc=3, ylabel_name=ylabel_name, centroids=label_centroids)"
   ]
  },
  {
   "cell_type": "markdown",
   "id": "9e8f6973",
   "metadata": {},
   "source": [
    "# Plot Corrected Labeling"
   ]
  },
  {
   "cell_type": "code",
   "execution_count": 10,
   "id": "6d79d33d",
   "metadata": {},
   "outputs": [
    {
     "name": "stdout",
     "output_type": "stream",
     "text": [
      "Index(['max_depth', 'max_resistance', 'num_peaks', 'largest_force_drop',\n",
      "       'curve_shape', 'pseudo_marions_ylabels', 'pseudo_marions_ylabels_nums'],\n",
      "      dtype='object')\n"
     ]
    },
    {
     "data": {
      "image/png": "[encoded data removed]",
      "text/plain": [
       "<Figure size 1000x600 with 8 Axes>"
      ]
     },
     "metadata": {},
     "output_type": "display_data"
    },
    {
     "data": {
      "application/vnd.plotly.v1+json": {
       "config": {
        "plotlyServerURL": "https://plot.ly"
       },
       "data": [
        {
         "mode": "text",
         "name": "Data Points",
         "text": [
          "0",
          "1",
          "2",
          "3",
          "4",
          "5",
          "6",
          "7",
          "8",
          "9",
          "10",
          "11",
          "12",
          "13",
          "14",
          "15",
          "16",
          "17",
          "18",
          "19",
          "20",
          "21",
          "22",
          "23",
          "24",
          "25",
          "26",
          "27",
          "28",
          "29",
          "30",
          "31",
          "32",
          "33",
          "34",
          "35",
          "36",
          "37",
          "38",
          "39",
          "40",
          "41",
          "42",
          "43",
          "44",
          "45",
          "46",
          "47",
          "48",
          "49",
          "50",
          "51",
          "52",
          "53",
          "54",
          "55",
          "56",
          "57",
          "58",
          "59",
          "60",
          "61",
          "62",
          "63",
          "64",
          "65",
          "66",
          "67",
          "68",
          "69",
          "70",
          "71",
          "72",
          "73",
          "74",
          "75",
          "76",
          "77"
         ],
         "textfont": {
          "color": [
           "red",
           "blue",
           "purple",
           "blue",
           "red",
           "blue",
           "orange",
           "blue",
           "gold",
           "orange",
           "orange",
           "blue",
           "blue",
           "orange",
           "turquoise",
           "orange",
           "gold",
           "blue",
           "gold",
           "pink",
           "purple",
           "blue",
           "purple",
           "blue",
           "blue",
           "gold",
           "red",
           "red",
           "blue",
           "pink",
           "turquoise",
           "purple",
           "blue",
           "blue",
           "red",
           "green",
           "blue",
           "purple",
           "blue",
           "red",
           "orange",
           "pink",
           "blue",
           "blue",
           "red",
           "orange",
           "turquoise",
           "turquoise",
           "gold",
           "red",
           "green",
           "purple",
           "orange",
           "green",
           "blue",
           "purple",
           "blue",
           "pink",
           "pink",
           "turquoise",
           "blue",
           "blue",
           "pink",
           "green",
           "turquoise",
           "turquoise",
           "turquoise",
           "orange",
           "turquoise",
           "pink",
           "pink",
           "gold",
           "blue",
           "blue",
           "purple",
           "blue",
           "blue",
           "pink"
          ],
          "size": 8
         },
         "type": "scatter3d",
         "x": {
          "bdata": "iBThj+2787+jCCLk77/ov0BPeXTH+rM/cEG+aqF6AsDffpSEKtf7Pxu4aCJjlu6/C58+mhwp8792wUHxPFj8v61BtfKAfPi//VfWuwsg2L9x/m2zKBHOv8Pu1R++HwHAKEzxcfXr8r8lmLNzDuv/v+rGeiHiZPQ/5D4SVFHE2b+WAZCUIDn3vwlGOxpz5P2/NrcFf0SQ8b98WrVPK+vyP8OiJJsDFeM/ZbX8zud057/RPlpEQ7TPv8pDXjwQZee/1d7f6WA7AcCBqdngxzn1vwPtpaseMPI/NgMgJY2o5j9aYPafRl7cvyr+JBGNrfo/Ec9nQB9tDkAwSWkmgafsP5Gdo9/7k+u/gPLdDxOr9L+6/nD1m8TwP0inTBDx+QdAnCON/wRS9b8WuZxnnxPwvxjKp/Sffce/pHJhmDhL/z/6XBayIdLpv1ziKvDjEgpAe56ANfYO67/L50N4dwHXP3NRe7ybReo/OMT4ydFi+r9I5/Bekfj5PyzT9BWJ9PY/uspKYXMNA8B2a/QocwkHQMQHZwGf5/A/HPSCZ74/8z9hBnzxDOr3vwqboTAdDQVA8EcMPsPw/L8aJAWfrVP1P4gz8YaGWfq/UrIfcmAc5D8xGRmMyb6zv0hSZg3V4A5A/yKti/N97b8KuFF7HjcCwLJ9N975tum/XmQLmP6a+D+xYHYwfcTyPwoNmlaGFeM/Na2UaIH2/z8Ut3Lm2V/6v88B/vAHW/Q/KD8dJWByqT/gJwtFkCv8P32aZGNHbuQ/9EDWHDC0AsDspStRpRj4v/cYTqUwhPY/OWAOAEK3AsB7sOmJibHTv0UOFp64oAhA",
          "dtype": "f8"
         },
         "y": {
          "bdata": "cpM8TMpR6D/B5OoBR0rsv/rgJW0W7uK/wjfKB4jNzj/XrDZ2VpXYP2mssclL4Ka/uSAulS5M+b9sXZm+FPH7P6ANRK8BY+8/5pIJGKfy0r+979KCy1W0P5OIUmBI37Y/oUe63zU08D+mUEJbbMLkv5mllp1jG/A/VmBXLgHx4b9R/D4Bskjkv0rVIDpxVdQ/YitIXfgY/j+tE9l1HdzaP8O+rEdIPgHAsxZ+ql8lwL8MpXK7lJzXv/5V1WYGxdK/f61D4Xhmlj/nrNdLNTStPw0kmVwvxfG/TM6p/MK42D/djcewIV21vw8jHwY1r+U//6304SxS5D8nuVK1TP7zvyvO0+REW8u/LsDgN27g2z98fs3u4xnDP2aXLwlxZsg/jhBtVjiC6T8NCRoE25f7P1ndd9ab1+g/e8WnpUyk4j9Ta+7Go+ziv+BGOBJrJ+I/bPwCunF52j8uBRsX5oLfv+zMowoFJuY/lA06iKKX1b8KcM8QwFgJQJG6XNeRRv8/oxvHHRZl0T8vAxkzitfmv4sLdyh85AbAz/lb9v5s9L9jBS5+w93pvxuIHTiPTPC/c8bAn3Hc2z/nsDx7sMYCwMz3Ysh19cw/eHrJiwSww78z4O7WmlPJv/TyWzxZHO8/wfHTHtac4z/4+tFrzQKfP7y+xMgQpALA6s+KYFjn+79pbSa8EurpP/1DSGoACPQ/+LzfhxM/5D/voP5Pc5vqvydTBvjf8es/L30DJ+Tvgr9zcvfwyiXCP4VgS+1i6/u/19OUR2yBoD+b6jJiFFXLP10gvUsp4vO/5vlwE5yzuD/mYFfBJe7VPw4ta64o4tw/",
          "dtype": "f8"
         },
         "z": {
          "bdata": "2pDwbzuFwj92Fx4IkBjIP6jRxz1/P+u/s2VqaKAz1D9WABwNSV7rP1PHoukUTdS/C7srOnbc87+JpWYX4I/mPwx7W3d398w/P25Fdwgv8L9TfbvX0Pr1v5l2XQvsA8M/hiIj1nEpvT9r21ih287Hv4H19o1k3PI/sZ5R/UZu9r+4Lkzdutz2P2Zo3/83x64/ZRIaFBVG6T99jyM/868AwIMPACOq8Po/rbU+/WrR07+BWuYO69zUv0Kh8BPDN9O/b3guAGFltD9gZVKCx7DxPxH6GmCHnvM/gWFKa37y1z+//pRd/17BP+uWQUV4V/m/HQDjej++6T8wazri2K7hPypHbhTd/NG/yBUx4zzStL/ZxUlTXaLyP/xLqUqwFeG/vKMcwrDK1D/0dJ6b4EvqP0152y79TeS/Wa8hO8V+3D8LVqx4uRvqv3oUVEVYcfK/LkjwHOd8wb/8199Tis/mP9IuwI6DSfQ/WUp0sNqguL/Jx36bin36PwlwiLZqJNu/FaHugl7I2z/TlFFAHmj0P/UOmZ/PNOA/7JR4sxX8AkCpCu2OLM7hv4ZX1ufYyOi/7Zj3u0t5s79gxYcKqm/MP/IHHtbLYL0/5bJbhowP/79oYyojp4n4v47yMD1aH8W/Ovag5Dv1wr9p9Ks5iWbFP7souyWTNvm/Lp9I31Gc2D+uAylkgajuv4vojSA0TfQ/OyDoJSdX27+oOyQmzmLgvxp2H358seq/5MI8iEmI+L9m3tMcJsHwvwdrHJjjgQFAF1cvvGnh0D+g/Hv9CX3gP7CfnVlkGfA/GKcahXI4zj/fkszWPSfzv1bhJ3oeq/C/",
          "dtype": "f8"
         }
        },
        {
         "marker": {
          "color": [
           "red",
           "gold",
           "blue",
           "green",
           "purple",
           "pink",
           "turquoise",
           "orange"
          ],
          "size": 4,
          "symbol": "diamond"
         },
         "mode": "markers",
         "type": "scatter3d",
         "x": {
          "bdata": "g8iDAZT08j/ZjBz5gmbyv1+yLvg2SPK/Gd5pQxdyAED8VyST1ILiP/ACnXglpfM/AImb+/F99j8Tt3Lm2V/6vw==",
          "dtype": "f8"
         },
         "y": {
          "bdata": "t+TN9KPXvr+UVWOP69u7vwMTjUeYK66/DB8ccgS89b8Upr1+H+XjvwdabQhsNOy/LlbybwPz+j/voP5Pc5vqvw==",
          "dtype": "f8"
         },
         "z": {
          "bdata": "aoaZLn+76D+KKRmhyqLvPxVPp4sU09Q/6YmERiG3ur/j4dNFMd7lP5ueh7X10/W/LHAM902j6j+oOyQmzmLgvw==",
          "dtype": "f8"
         }
        },
        {
         "marker": {
          "color": "black",
          "size": 5
         },
         "mode": "markers",
         "name": "Origin",
         "showlegend": false,
         "type": "scatter3d",
         "x": [
          0
         ],
         "y": [
          0
         ],
         "z": [
          0
         ]
        },
        {
         "line": {
          "width": 4
         },
         "mode": "lines+text",
         "name": "max_depth",
         "textposition": "top center",
         "type": "scatter3d",
         "x": [
          0,
          1.671448618574199
         ],
         "y": [
          0,
          0.5602486264090561
         ],
         "z": [
          0,
          -0.8414440248963684
         ]
        },
        {
         "line": {
          "width": 4
         },
         "mode": "lines+text",
         "name": "max_resistance",
         "textposition": "top center",
         "type": "scatter3d",
         "x": [
          0,
          -1.573362779735767
         ],
         "y": [
          0,
          -0.4632704728047056
         ],
         "z": [
          0,
          1.441100391050036
         ]
        },
        {
         "line": {
          "width": 4
         },
         "mode": "lines+text",
         "name": "num_peaks",
         "textposition": "top center",
         "type": "scatter3d",
         "x": [
          0,
          1.5404475500467256
         ],
         "y": [
          0,
          -0.19270409869917765
         ],
         "z": [
          0,
          0.966164092403182
         ]
        },
        {
         "line": {
          "width": 4
         },
         "mode": "lines+text",
         "name": "largest_force_drop",
         "textposition": "top center",
         "type": "scatter3d",
         "x": [
          0,
          1.165218466388636
         ],
         "y": [
          0,
          -1.1544473666503985
         ],
         "z": [
          0,
          1.88545011391792
         ]
        },
        {
         "line": {
          "width": 4
         },
         "mode": "lines+text",
         "name": "curve_shape",
         "textposition": "top center",
         "type": "scatter3d",
         "x": [
          0,
          -0.008737845872680193
         ],
         "y": [
          0,
          2.6648861802359534
         ],
         "z": [
          0,
          1.3140800699954602
         ]
        }
       ],
       "layout": {
        "autosize": true,
        "scene": {
         "xaxis": {
          "title": {
           "font": {
            "size": 11
           },
           "text": "PC1 (0.52 var.)"
          }
         },
         "yaxis": {
          "title": {
           "font": {
            "size": 11
           },
           "text": "PC2 (0.21 var.)"
          }
         },
         "zaxis": {
          "title": {
           "font": {
            "size": 11
           },
           "text": "PC3 (0.18 var.)"
          }
         }
        },
        "template": {
         "data": {
          "bar": [
           {
            "error_x": {
             "color": "#2a3f5f"
            },
            "error_y": {
             "color": "#2a3f5f"
            },
            "marker": {
             "line": {
              "color": "#E5ECF6",
              "width": 0.5
             },
             "pattern": {
              "fillmode": "overlay",
              "size": 10,
              "solidity": 0.2
             }
            },
            "type": "bar"
           }
          ],
          "barpolar": [
           {
            "marker": {
             "line": {
              "color": "#E5ECF6",
              "width": 0.5
             },
             "pattern": {
              "fillmode": "overlay",
              "size": 10,
              "solidity": 0.2
             }
            },
            "type": "barpolar"
           }
          ],
          "carpet": [
           {
            "aaxis": {
             "endlinecolor": "#2a3f5f",
             "gridcolor": "white",
             "linecolor": "white",
             "minorgridcolor": "white",
             "startlinecolor": "#2a3f5f"
            },
            "baxis": {
             "endlinecolor": "#2a3f5f",
             "gridcolor": "white",
             "linecolor": "white",
             "minorgridcolor": "white",
             "startlinecolor": "#2a3f5f"
            },
            "type": "carpet"
           }
          ],
          "choropleth": [
           {
            "colorbar": {
             "outlinewidth": 0,
             "ticks": ""
            },
            "type": "choropleth"
           }
          ],
          "contour": [
           {
            "colorbar": {
             "outlinewidth": 0,
             "ticks": ""
            },
            "colorscale": [
             [
              0,
              "#0d0887"
             ],
             [
              0.1111111111111111,
              "#46039f"
             ],
             [
              0.2222222222222222,
              "#7201a8"
             ],
             [
              0.3333333333333333,
              "#9c179e"
             ],
             [
              0.4444444444444444,
              "#bd3786"
             ],
             [
              0.5555555555555556,
              "#d8576b"
             ],
             [
              0.6666666666666666,
              "#ed7953"
             ],
             [
              0.7777777777777778,
              "#fb9f3a"
             ],
             [
              0.8888888888888888,
              "#fdca26"
             ],
             [
              1,
              "#f0f921"
             ]
            ],
            "type": "contour"
           }
          ],
          "contourcarpet": [
           {
            "colorbar": {
             "outlinewidth": 0,
             "ticks": ""
            },
            "type": "contourcarpet"
           }
          ],
          "heatmap": [
           {
            "colorbar": {
             "outlinewidth": 0,
             "ticks": ""
            },
            "colorscale": [
             [
              0,
              "#0d0887"
             ],
             [
              0.1111111111111111,
              "#46039f"
             ],
             [
              0.2222222222222222,
              "#7201a8"
             ],
             [
              0.3333333333333333,
              "#9c179e"
             ],
             [
              0.4444444444444444,
              "#bd3786"
             ],
             [
              0.5555555555555556,
              "#d8576b"
             ],
             [
              0.6666666666666666,
              "#ed7953"
             ],
             [
              0.7777777777777778,
              "#fb9f3a"
             ],
             [
              0.8888888888888888,
              "#fdca26"
             ],
             [
              1,
              "#f0f921"
             ]
            ],
            "type": "heatmap"
           }
          ],
          "histogram": [
           {
            "marker": {
             "pattern": {
              "fillmode": "overlay",
              "size": 10,
              "solidity": 0.2
             }
            },
            "type": "histogram"
           }
          ],
          "histogram2d": [
           {
            "colorbar": {
             "outlinewidth": 0,
             "ticks": ""
            },
            "colorscale": [
             [
              0,
              "#0d0887"
             ],
             [
              0.1111111111111111,
              "#46039f"
             ],
             [
              0.2222222222222222,
              "#7201a8"
             ],
             [
              0.3333333333333333,
              "#9c179e"
             ],
             [
              0.4444444444444444,
              "#bd3786"
             ],
             [
              0.5555555555555556,
              "#d8576b"
             ],
             [
              0.6666666666666666,
              "#ed7953"
             ],
             [
              0.7777777777777778,
              "#fb9f3a"
             ],
             [
              0.8888888888888888,
              "#fdca26"
             ],
             [
              1,
              "#f0f921"
             ]
            ],
            "type": "histogram2d"
           }
          ],
          "histogram2dcontour": [
           {
            "colorbar": {
             "outlinewidth": 0,
             "ticks": ""
            },
            "colorscale": [
             [
              0,
              "#0d0887"
             ],
             [
              0.1111111111111111,
              "#46039f"
             ],
             [
              0.2222222222222222,
              "#7201a8"
             ],
             [
              0.3333333333333333,
              "#9c179e"
             ],
             [
              0.4444444444444444,
              "#bd3786"
             ],
             [
              0.5555555555555556,
              "#d8576b"
             ],
             [
              0.6666666666666666,
              "#ed7953"
             ],
             [
              0.7777777777777778,
              "#fb9f3a"
             ],
             [
              0.8888888888888888,
              "#fdca26"
             ],
             [
              1,
              "#f0f921"
             ]
            ],
            "type": "histogram2dcontour"
           }
          ],
          "mesh3d": [
           {
            "colorbar": {
             "outlinewidth": 0,
             "ticks": ""
            },
            "type": "mesh3d"
           }
          ],
          "parcoords": [
           {
            "line": {
             "colorbar": {
              "outlinewidth": 0,
              "ticks": ""
             }
            },
            "type": "parcoords"
           }
          ],
          "pie": [
           {
            "automargin": true,
            "type": "pie"
           }
          ],
          "scatter": [
           {
            "fillpattern": {
             "fillmode": "overlay",
             "size": 10,
             "solidity": 0.2
            },
            "type": "scatter"
           }
          ],
          "scatter3d": [
           {
            "line": {
             "colorbar": {
              "outlinewidth": 0,
              "ticks": ""
             }
            },
            "marker": {
             "colorbar": {
              "outlinewidth": 0,
              "ticks": ""
             }
            },
            "type": "scatter3d"
           }
          ],
          "scattercarpet": [
           {
            "marker": {
             "colorbar": {
              "outlinewidth": 0,
              "ticks": ""
             }
            },
            "type": "scattercarpet"
           }
          ],
          "scattergeo": [
           {
            "marker": {
             "colorbar": {
              "outlinewidth": 0,
              "ticks": ""
             }
            },
            "type": "scattergeo"
           }
          ],
          "scattergl": [
           {
            "marker": {
             "colorbar": {
              "outlinewidth": 0,
              "ticks": ""
             }
            },
            "type": "scattergl"
           }
          ],
          "scattermap": [
           {
            "marker": {
             "colorbar": {
              "outlinewidth": 0,
              "ticks": ""
             }
            },
            "type": "scattermap"
           }
          ],
          "scattermapbox": [
           {
            "marker": {
             "colorbar": {
              "outlinewidth": 0,
              "ticks": ""
             }
            },
            "type": "scattermapbox"
           }
          ],
          "scatterpolar": [
           {
            "marker": {
             "colorbar": {
              "outlinewidth": 0,
              "ticks": ""
             }
            },
            "type": "scatterpolar"
           }
          ],
          "scatterpolargl": [
           {
            "marker": {
             "colorbar": {
              "outlinewidth": 0,
              "ticks": ""
             }
            },
            "type": "scatterpolargl"
           }
          ],
          "scatterternary": [
           {
            "marker": {
             "colorbar": {
              "outlinewidth": 0,
              "ticks": ""
             }
            },
            "type": "scatterternary"
           }
          ],
          "surface": [
           {
            "colorbar": {
             "outlinewidth": 0,
             "ticks": ""
            },
            "colorscale": [
             [
              0,
              "#0d0887"
             ],
             [
              0.1111111111111111,
              "#46039f"
             ],
             [
              0.2222222222222222,
              "#7201a8"
             ],
             [
              0.3333333333333333,
              "#9c179e"
             ],
             [
              0.4444444444444444,
              "#bd3786"
             ],
             [
              0.5555555555555556,
              "#d8576b"
             ],
             [
              0.6666666666666666,
              "#ed7953"
             ],
             [
              0.7777777777777778,
              "#fb9f3a"
             ],
             [
              0.8888888888888888,
              "#fdca26"
             ],
             [
              1,
              "#f0f921"
             ]
            ],
            "type": "surface"
           }
          ],
          "table": [
           {
            "cells": {
             "fill": {
              "color": "#EBF0F8"
             },
             "line": {
              "color": "white"
             }
            },
            "header": {
             "fill": {
              "color": "#C8D4E3"
             },
             "line": {
              "color": "white"
             }
            },
            "type": "table"
           }
          ]
         },
         "layout": {
          "annotationdefaults": {
           "arrowcolor": "#2a3f5f",
           "arrowhead": 0,
           "arrowwidth": 1
          },
          "autotypenumbers": "strict",
          "coloraxis": {
           "colorbar": {
            "outlinewidth": 0,
            "ticks": ""
           }
          },
          "colorscale": {
           "diverging": [
            [
             0,
             "#8e0152"
            ],
            [
             0.1,
             "#c51b7d"
            ],
            [
             0.2,
             "#de77ae"
            ],
            [
             0.3,
             "#f1b6da"
            ],
            [
             0.4,
             "#fde0ef"
            ],
            [
             0.5,
             "#f7f7f7"
            ],
            [
             0.6,
             "#e6f5d0"
            ],
            [
             0.7,
             "#b8e186"
            ],
            [
             0.8,
             "#7fbc41"
            ],
            [
             0.9,
             "#4d9221"
            ],
            [
             1,
             "#276419"
            ]
           ],
           "sequential": [
            [
             0,
             "#0d0887"
            ],
            [
             0.1111111111111111,
             "#46039f"
            ],
            [
             0.2222222222222222,
             "#7201a8"
            ],
            [
             0.3333333333333333,
             "#9c179e"
            ],
            [
             0.4444444444444444,
             "#bd3786"
            ],
            [
             0.5555555555555556,
             "#d8576b"
            ],
            [
             0.6666666666666666,
             "#ed7953"
            ],
            [
             0.7777777777777778,
             "#fb9f3a"
            ],
            [
             0.8888888888888888,
             "#fdca26"
            ],
            [
             1,
             "#f0f921"
            ]
           ],
           "sequentialminus": [
            [
             0,
             "#0d0887"
            ],
            [
             0.1111111111111111,
             "#46039f"
            ],
            [
             0.2222222222222222,
             "#7201a8"
            ],
            [
             0.3333333333333333,
             "#9c179e"
            ],
            [
             0.4444444444444444,
             "#bd3786"
            ],
            [
             0.5555555555555556,
             "#d8576b"
            ],
            [
             0.6666666666666666,
             "#ed7953"
            ],
            [
             0.7777777777777778,
             "#fb9f3a"
            ],
            [
             0.8888888888888888,
             "#fdca26"
            ],
            [
             1,
             "#f0f921"
            ]
           ]
          },
          "colorway": [
           "#636efa",
           "#EF553B",
           "#00cc96",
           "#ab63fa",
           "#FFA15A",
           "#19d3f3",
           "#FF6692",
           "#B6E880",
           "#FF97FF",
           "#FECB52"
          ],
          "font": {
           "color": "#2a3f5f"
          },
          "geo": {
           "bgcolor": "white",
           "lakecolor": "white",
           "landcolor": "#E5ECF6",
           "showlakes": true,
           "showland": true,
           "subunitcolor": "white"
          },
          "hoverlabel": {
           "align": "left"
          },
          "hovermode": "closest",
          "mapbox": {
           "style": "light"
          },
          "paper_bgcolor": "white",
          "plot_bgcolor": "#E5ECF6",
          "polar": {
           "angularaxis": {
            "gridcolor": "white",
            "linecolor": "white",
            "ticks": ""
           },
           "bgcolor": "#E5ECF6",
           "radialaxis": {
            "gridcolor": "white",
            "linecolor": "white",
            "ticks": ""
           }
          },
          "scene": {
           "xaxis": {
            "backgroundcolor": "#E5ECF6",
            "gridcolor": "white",
            "gridwidth": 2,
            "linecolor": "white",
            "showbackground": true,
            "ticks": "",
            "zerolinecolor": "white"
           },
           "yaxis": {
            "backgroundcolor": "#E5ECF6",
            "gridcolor": "white",
            "gridwidth": 2,
            "linecolor": "white",
            "showbackground": true,
            "ticks": "",
            "zerolinecolor": "white"
           },
           "zaxis": {
            "backgroundcolor": "#E5ECF6",
            "gridcolor": "white",
            "gridwidth": 2,
            "linecolor": "white",
            "showbackground": true,
            "ticks": "",
            "zerolinecolor": "white"
           }
          },
          "shapedefaults": {
           "line": {
            "color": "#2a3f5f"
           }
          },
          "ternary": {
           "aaxis": {
            "gridcolor": "white",
            "linecolor": "white",
            "ticks": ""
           },
           "baxis": {
            "gridcolor": "white",
            "linecolor": "white",
            "ticks": ""
           },
           "bgcolor": "#E5ECF6",
           "caxis": {
            "gridcolor": "white",
            "linecolor": "white",
            "ticks": ""
           }
          },
          "title": {
           "x": 0.05
          },
          "xaxis": {
           "automargin": true,
           "gridcolor": "white",
           "linecolor": "white",
           "ticks": "",
           "title": {
            "standoff": 15
           },
           "zerolinecolor": "white",
           "zerolinewidth": 2
          },
          "yaxis": {
           "automargin": true,
           "gridcolor": "white",
           "linecolor": "white",
           "ticks": "",
           "title": {
            "standoff": 15
           },
           "zerolinecolor": "white",
           "zerolinewidth": 2
          }
         }
        },
        "title": {
         "text": "3D PCA Scatter Plot"
        }
       }
      }
     },
     "metadata": {},
     "output_type": "display_data"
    },
    {
     "name": "stdout",
     "output_type": "stream",
     "text": [
      "Indexes of curves assigned to pink cluster: \n"
     ]
    },
    {
     "ename": "KeyError",
     "evalue": "'filenames'",
     "output_type": "error",
     "traceback": [
      "\u001b[31m---------------------------------------------------------------------------\u001b[39m",
      "\u001b[31mKeyError\u001b[39m                                  Traceback (most recent call last)",
      "\u001b[36mFile \u001b[39m\u001b[32m~/anaconda3/envs/env3.13/lib/python3.13/site-packages/pandas/core/indexes/base.py:3812\u001b[39m, in \u001b[36mIndex.get_loc\u001b[39m\u001b[34m(self, key)\u001b[39m\n\u001b[32m   3811\u001b[39m \u001b[38;5;28;01mtry\u001b[39;00m:\n\u001b[32m-> \u001b[39m\u001b[32m3812\u001b[39m     \u001b[38;5;28;01mreturn\u001b[39;00m \u001b[38;5;28;43mself\u001b[39;49m\u001b[43m.\u001b[49m\u001b[43m_engine\u001b[49m\u001b[43m.\u001b[49m\u001b[43mget_loc\u001b[49m\u001b[43m(\u001b[49m\u001b[43mcasted_key\u001b[49m\u001b[43m)\u001b[49m\n\u001b[32m   3813\u001b[39m \u001b[38;5;28;01mexcept\u001b[39;00m \u001b[38;5;167;01mKeyError\u001b[39;00m \u001b[38;5;28;01mas\u001b[39;00m err:\n",
      "\u001b[36mFile \u001b[39m\u001b[32mindex.pyx:167\u001b[39m, in \u001b[36mpandas._libs.index.IndexEngine.get_loc\u001b[39m\u001b[34m()\u001b[39m\n",
      "\u001b[36mFile \u001b[39m\u001b[32mindex.pyx:196\u001b[39m, in \u001b[36mpandas._libs.index.IndexEngine.get_loc\u001b[39m\u001b[34m()\u001b[39m\n",
      "\u001b[36mFile \u001b[39m\u001b[32mpandas/_libs/hashtable_class_helper.pxi:7088\u001b[39m, in \u001b[36mpandas._libs.hashtable.PyObjectHashTable.get_item\u001b[39m\u001b[34m()\u001b[39m\n",
      "\u001b[36mFile \u001b[39m\u001b[32mpandas/_libs/hashtable_class_helper.pxi:7096\u001b[39m, in \u001b[36mpandas._libs.hashtable.PyObjectHashTable.get_item\u001b[39m\u001b[34m()\u001b[39m\n",
      "\u001b[31mKeyError\u001b[39m: 'filenames'",
      "\nThe above exception was the direct cause of the following exception:\n",
      "\u001b[31mKeyError\u001b[39m                                  Traceback (most recent call last)",
      "\u001b[36mCell\u001b[39m\u001b[36m \u001b[39m\u001b[32mIn[10]\u001b[39m\u001b[32m, line 14\u001b[39m\n\u001b[32m     10\u001b[39m plotting.plot_clusters_seperately(corrected_pseudo_labeled_data[\u001b[33mf\u001b[39m\u001b[33m'\u001b[39m\u001b[33mpseudo_\u001b[39m\u001b[38;5;132;01m{\u001b[39;00mylabel_name\u001b[38;5;132;01m}\u001b[39;00m\u001b[33m_nums\u001b[39m\u001b[33m'\u001b[39m], \n\u001b[32m     11\u001b[39m                                   curve_data, ylabel_name, cluster_category_names=\u001b[38;5;28mlist\u001b[39m(ylabel_to_cluster_num.keys()), \n\u001b[32m     12\u001b[39m                                   pseudo_corrections=marions_labeled_data)\n\u001b[32m     13\u001b[39m plotting.plot_pca(corrected_pseudo_labeled_data, corrected_pseudo_labeled_data[\u001b[33mf\u001b[39m\u001b[33m'\u001b[39m\u001b[33mpseudo_\u001b[39m\u001b[38;5;132;01m{\u001b[39;00mylabel_name\u001b[38;5;132;01m}\u001b[39;00m\u001b[33m_nums\u001b[39m\u001b[33m'\u001b[39m], graph_title=\u001b[33m\"\u001b[39m\u001b[33mClustering Corrected Pseudo Labeled Data\u001b[39m\u001b[33m\"\u001b[39m, num_pc=\u001b[32m3\u001b[39m, ylabel_name=ylabel_name, centroids=label_centroids)\n\u001b[32m---> \u001b[39m\u001b[32m14\u001b[39m \u001b[43mplotting\u001b[49m\u001b[43m.\u001b[49m\u001b[43mget_curve_idx_from_cluster_color\u001b[49m\u001b[43m(\u001b[49m\u001b[33;43m'\u001b[39;49m\u001b[33;43mpink\u001b[39;49m\u001b[33;43m'\u001b[39;49m\u001b[43m,\u001b[49m\u001b[43m \u001b[49m\u001b[43mcorrected_pseudo_labeled_data\u001b[49m\u001b[43m[\u001b[49m\u001b[33;43mf\u001b[39;49m\u001b[33;43m'\u001b[39;49m\u001b[33;43mpseudo_\u001b[39;49m\u001b[38;5;132;43;01m{\u001b[39;49;00m\u001b[43mylabel_name\u001b[49m\u001b[38;5;132;43;01m}\u001b[39;49;00m\u001b[33;43m_nums\u001b[39;49m\u001b[33;43m'\u001b[39;49m\u001b[43m]\u001b[49m\u001b[43m,\u001b[49m\u001b[43m \u001b[49m\u001b[43mcorrected_pseudo_labeled_data\u001b[49m\u001b[43m.\u001b[49m\u001b[43mindex\u001b[49m\u001b[43m,\u001b[49m\u001b[43m \u001b[49m\u001b[43mcorrected_pseudo_labeled_data\u001b[49m\u001b[43m)\u001b[49m\n",
      "\u001b[36mFile \u001b[39m\u001b[32m~/Desktop/lassie/plotting.py:25\u001b[39m, in \u001b[36mget_curve_idx_from_cluster_color\u001b[39m\u001b[34m(color, y_labels, after_mask_idxs, data_features_df)\u001b[39m\n\u001b[32m     23\u001b[39m \u001b[38;5;28;01mfor\u001b[39;00m i, label \u001b[38;5;129;01min\u001b[39;00m \u001b[38;5;28menumerate\u001b[39m(y_labels):\n\u001b[32m     24\u001b[39m     \u001b[38;5;28;01mif\u001b[39;00m label_color_map[label] == color:\n\u001b[32m---> \u001b[39m\u001b[32m25\u001b[39m         filename = \u001b[43mdata_features_df\u001b[49m\u001b[43m[\u001b[49m\u001b[33;43m'\u001b[39;49m\u001b[33;43mfilenames\u001b[39;49m\u001b[33;43m'\u001b[39;49m\u001b[43m]\u001b[49m.loc[after_mask_idxs[i]]\n\u001b[32m     26\u001b[39m         idxs.append(after_mask_idxs[i])\n\u001b[32m     27\u001b[39m         \u001b[38;5;28mprint\u001b[39m(\u001b[33mf\u001b[39m\u001b[33m'\u001b[39m\u001b[33midx: \u001b[39m\u001b[38;5;132;01m{\u001b[39;00mafter_mask_idxs[i]\u001b[38;5;132;01m}\u001b[39;00m\u001b[33m, filename: \u001b[39m\u001b[38;5;132;01m{\u001b[39;00mfilename\u001b[38;5;132;01m}\u001b[39;00m\u001b[33m'\u001b[39m)\n",
      "\u001b[36mFile \u001b[39m\u001b[32m~/anaconda3/envs/env3.13/lib/python3.13/site-packages/pandas/core/frame.py:4107\u001b[39m, in \u001b[36mDataFrame.__getitem__\u001b[39m\u001b[34m(self, key)\u001b[39m\n\u001b[32m   4105\u001b[39m \u001b[38;5;28;01mif\u001b[39;00m \u001b[38;5;28mself\u001b[39m.columns.nlevels > \u001b[32m1\u001b[39m:\n\u001b[32m   4106\u001b[39m     \u001b[38;5;28;01mreturn\u001b[39;00m \u001b[38;5;28mself\u001b[39m._getitem_multilevel(key)\n\u001b[32m-> \u001b[39m\u001b[32m4107\u001b[39m indexer = \u001b[38;5;28;43mself\u001b[39;49m\u001b[43m.\u001b[49m\u001b[43mcolumns\u001b[49m\u001b[43m.\u001b[49m\u001b[43mget_loc\u001b[49m\u001b[43m(\u001b[49m\u001b[43mkey\u001b[49m\u001b[43m)\u001b[49m\n\u001b[32m   4108\u001b[39m \u001b[38;5;28;01mif\u001b[39;00m is_integer(indexer):\n\u001b[32m   4109\u001b[39m     indexer = [indexer]\n",
      "\u001b[36mFile \u001b[39m\u001b[32m~/anaconda3/envs/env3.13/lib/python3.13/site-packages/pandas/core/indexes/base.py:3819\u001b[39m, in \u001b[36mIndex.get_loc\u001b[39m\u001b[34m(self, key)\u001b[39m\n\u001b[32m   3814\u001b[39m     \u001b[38;5;28;01mif\u001b[39;00m \u001b[38;5;28misinstance\u001b[39m(casted_key, \u001b[38;5;28mslice\u001b[39m) \u001b[38;5;129;01mor\u001b[39;00m (\n\u001b[32m   3815\u001b[39m         \u001b[38;5;28misinstance\u001b[39m(casted_key, abc.Iterable)\n\u001b[32m   3816\u001b[39m         \u001b[38;5;129;01mand\u001b[39;00m \u001b[38;5;28many\u001b[39m(\u001b[38;5;28misinstance\u001b[39m(x, \u001b[38;5;28mslice\u001b[39m) \u001b[38;5;28;01mfor\u001b[39;00m x \u001b[38;5;129;01min\u001b[39;00m casted_key)\n\u001b[32m   3817\u001b[39m     ):\n\u001b[32m   3818\u001b[39m         \u001b[38;5;28;01mraise\u001b[39;00m InvalidIndexError(key)\n\u001b[32m-> \u001b[39m\u001b[32m3819\u001b[39m     \u001b[38;5;28;01mraise\u001b[39;00m \u001b[38;5;167;01mKeyError\u001b[39;00m(key) \u001b[38;5;28;01mfrom\u001b[39;00m\u001b[38;5;250m \u001b[39m\u001b[34;01merr\u001b[39;00m\n\u001b[32m   3820\u001b[39m \u001b[38;5;28;01mexcept\u001b[39;00m \u001b[38;5;167;01mTypeError\u001b[39;00m:\n\u001b[32m   3821\u001b[39m     \u001b[38;5;66;03m# If we have a listlike key, _check_indexing_error will raise\u001b[39;00m\n\u001b[32m   3822\u001b[39m     \u001b[38;5;66;03m#  InvalidIndexError. Otherwise we fall through and re-raise\u001b[39;00m\n\u001b[32m   3823\u001b[39m     \u001b[38;5;66;03m#  the TypeError.\u001b[39;00m\n\u001b[32m   3824\u001b[39m     \u001b[38;5;28mself\u001b[39m._check_indexing_error(key)\n",
      "\u001b[31mKeyError\u001b[39m: 'filenames'"
     ]
    }
   ],
   "source": [
    "def correct_pseudo_ylabels_to_actual(pseudo_labeled_data:pd.DataFrame, actual_labeled_data:pd.DataFrame, ylabel_name, changed_ylabel_idxs):\n",
    "    corrected_pseudo_labeled_data = pseudo_labeled_data.copy()\n",
    "    corrected_pseudo_labeled_data.loc[changed_ylabel_idxs, f'pseudo_{ylabel_name}'] = actual_labeled_data[ylabel_name]\n",
    "    corrected_pseudo_labeled_data.loc[changed_ylabel_idxs, f'pseudo_{ylabel_name}_nums'] = actual_labeled_data[f'{ylabel_name}_nums']\n",
    "    return corrected_pseudo_labeled_data\n",
    "\n",
    "print(pseudo_labeled_data.columns)\n",
    "corrected_pseudo_labeled_data = correct_pseudo_ylabels_to_actual(pseudo_labeled_data, marions_labeled_data, ylabel_name, changed_ylabel_idxs)\n",
    "\n",
    "plotting.plot_clusters_seperately(corrected_pseudo_labeled_data[f'pseudo_{ylabel_name}_nums'], \n",
    "                                  curve_data, ylabel_name, cluster_category_names=list(ylabel_to_cluster_num.keys()), \n",
    "                                  pseudo_corrections=marions_labeled_data)\n",
    "plotting.plot_pca(corrected_pseudo_labeled_data, corrected_pseudo_labeled_data[f'pseudo_{ylabel_name}_nums'], graph_title=\"Clustering Corrected Pseudo Labeled Data\", num_pc=3, ylabel_name=ylabel_name, centroids=label_centroids)\n",
    "plotting.get_curve_idx_from_cluster_color('pink', corrected_pseudo_labeled_data[f'pseudo_{ylabel_name}_nums'], corrected_pseudo_labeled_data.index, corrected_pseudo_labeled_data)"
   ]
  },
  {
   "cell_type": "markdown",
   "id": "c6833aba",
   "metadata": {},
   "source": [
    "# Plot Un-corrected Labeling"
   ]
  },
  {
   "cell_type": "code",
   "execution_count": null,
   "id": "16b1a04d",
   "metadata": {},
   "outputs": [
    {
     "data": {
      "image/png": "[encoded data removed]",
      "text/plain": [
       "<Figure size 1000x600 with 8 Axes>"
      ]
     },
     "metadata": {},
     "output_type": "display_data"
    },
    {
     "data": {
      "application/vnd.plotly.v1+json": {
       "config": {
        "plotlyServerURL": "https://plot.ly"
       },
       "data": [
        {
         "mode": "text",
         "name": "Data Points",
         "text": [
          "0",
          "1",
          "2",
          "3",
          "4",
          "5",
          "6",
          "7",
          "8",
          "9",
          "10",
          "11",
          "12",
          "13",
          "14",
          "15",
          "16",
          "17",
          "18",
          "19",
          "20",
          "21",
          "22",
          "23",
          "24",
          "25",
          "26",
          "27",
          "28",
          "29",
          "30",
          "31",
          "32",
          "33",
          "34",
          "35",
          "36",
          "37",
          "38",
          "39",
          "40",
          "41",
          "42",
          "43",
          "44",
          "45",
          "46",
          "47",
          "48",
          "49",
          "50",
          "51",
          "52",
          "53",
          "54",
          "55",
          "56",
          "57",
          "58",
          "59",
          "60",
          "61",
          "62",
          "63",
          "64",
          "65",
          "66",
          "67",
          "68",
          "69",
          "70",
          "71",
          "72",
          "73",
          "74",
          "75",
          "76",
          "77"
         ],
         "textfont": {
          "color": [
           "blue",
           "blue",
           "purple",
           "blue",
           "red",
           "blue",
           "orange",
           "blue",
           "blue",
           "orange",
           "orange",
           "blue",
           "blue",
           "orange",
           "turquoise",
           "orange",
           "gold",
           "blue",
           "gold",
           "pink",
           "purple",
           "blue",
           "purple",
           "blue",
           "blue",
           "gold",
           "purple",
           "red",
           "blue",
           "pink",
           "turquoise",
           "purple",
           "blue",
           "blue",
           "red",
           "green",
           "blue",
           "gold",
           "blue",
           "red",
           "orange",
           "pink",
           "blue",
           "purple",
           "red",
           "orange",
           "turquoise",
           "turquoise",
           "blue",
           "red",
           "green",
           "purple",
           "orange",
           "green",
           "blue",
           "green",
           "blue",
           "pink",
           "pink",
           "turquoise",
           "blue",
           "blue",
           "orange",
           "green",
           "turquoise",
           "turquoise",
           "turquoise",
           "orange",
           "turquoise",
           "pink",
           "pink",
           "purple",
           "blue",
           "blue",
           "purple",
           "blue",
           "blue",
           "pink"
          ],
          "size": 8
         },
         "type": "scatter3d",
         "x": {
          "bdata": "iBThj+2787+jCCLk77/ov0BPeXTH+rM/cEG+aqF6AsDffpSEKtf7Pxu4aCJjlu6/C58+mhwp8792wUHxPFj8v61BtfKAfPi//VfWuwsg2L9x/m2zKBHOv8Pu1R++HwHAKEzxcfXr8r8lmLNzDuv/v+rGeiHiZPQ/5D4SVFHE2b+WAZCUIDn3vwlGOxpz5P2/NrcFf0SQ8b98WrVPK+vyP8OiJJsDFeM/ZbX8zud057/RPlpEQ7TPv8pDXjwQZee/1d7f6WA7AcCBqdngxzn1vwPtpaseMPI/NgMgJY2o5j9aYPafRl7cvyr+JBGNrfo/Ec9nQB9tDkAwSWkmgafsP5Gdo9/7k+u/gPLdDxOr9L+6/nD1m8TwP0inTBDx+QdAnCON/wRS9b8WuZxnnxPwvxjKp/Sffce/pHJhmDhL/z/6XBayIdLpv1ziKvDjEgpAe56ANfYO67/L50N4dwHXP3NRe7ybReo/OMT4ydFi+r9I5/Bekfj5PyzT9BWJ9PY/uspKYXMNA8B2a/QocwkHQMQHZwGf5/A/HPSCZ74/8z9hBnzxDOr3vwqboTAdDQVA8EcMPsPw/L8aJAWfrVP1P4gz8YaGWfq/UrIfcmAc5D8xGRmMyb6zv0hSZg3V4A5A/yKti/N97b8KuFF7HjcCwLJ9N975tum/XmQLmP6a+D+xYHYwfcTyPwoNmlaGFeM/Na2UaIH2/z8Ut3Lm2V/6v88B/vAHW/Q/KD8dJWByqT/gJwtFkCv8P32aZGNHbuQ/9EDWHDC0AsDspStRpRj4v/cYTqUwhPY/OWAOAEK3AsB7sOmJibHTv0UOFp64oAhA",
          "dtype": "f8"
         },
         "y": {
          "bdata": "cpM8TMpR6D/B5OoBR0rsv/rgJW0W7uK/wjfKB4jNzj/XrDZ2VpXYP2mssclL4Ka/uSAulS5M+b9sXZm+FPH7P6ANRK8BY+8/5pIJGKfy0r+979KCy1W0P5OIUmBI37Y/oUe63zU08D+mUEJbbMLkv5mllp1jG/A/VmBXLgHx4b9R/D4Bskjkv0rVIDpxVdQ/YitIXfgY/j+tE9l1HdzaP8O+rEdIPgHAsxZ+ql8lwL8MpXK7lJzXv/5V1WYGxdK/f61D4Xhmlj/nrNdLNTStPw0kmVwvxfG/TM6p/MK42D/djcewIV21vw8jHwY1r+U//6304SxS5D8nuVK1TP7zvyvO0+REW8u/LsDgN27g2z98fs3u4xnDP2aXLwlxZsg/jhBtVjiC6T8NCRoE25f7P1ndd9ab1+g/e8WnpUyk4j9Ta+7Go+ziv+BGOBJrJ+I/bPwCunF52j8uBRsX5oLfv+zMowoFJuY/lA06iKKX1b8KcM8QwFgJQJG6XNeRRv8/oxvHHRZl0T8vAxkzitfmv4sLdyh85AbAz/lb9v5s9L9jBS5+w93pvxuIHTiPTPC/c8bAn3Hc2z/nsDx7sMYCwMz3Ysh19cw/eHrJiwSww78z4O7WmlPJv/TyWzxZHO8/wfHTHtac4z/4+tFrzQKfP7y+xMgQpALA6s+KYFjn+79pbSa8EurpP/1DSGoACPQ/+LzfhxM/5D/voP5Pc5vqvydTBvjf8es/L30DJ+Tvgr9zcvfwyiXCP4VgS+1i6/u/19OUR2yBoD+b6jJiFFXLP10gvUsp4vO/5vlwE5yzuD/mYFfBJe7VPw4ta64o4tw/",
          "dtype": "f8"
         },
         "z": {
          "bdata": "2pDwbzuFwj92Fx4IkBjIP6jRxz1/P+u/s2VqaKAz1D9WABwNSV7rP1PHoukUTdS/C7srOnbc87+JpWYX4I/mPwx7W3d398w/P25Fdwgv8L9TfbvX0Pr1v5l2XQvsA8M/hiIj1nEpvT9r21ih287Hv4H19o1k3PI/sZ5R/UZu9r+4Lkzdutz2P2Zo3/83x64/ZRIaFBVG6T99jyM/868AwIMPACOq8Po/rbU+/WrR07+BWuYO69zUv0Kh8BPDN9O/b3guAGFltD9gZVKCx7DxPxH6GmCHnvM/gWFKa37y1z+//pRd/17BP+uWQUV4V/m/HQDjej++6T8wazri2K7hPypHbhTd/NG/yBUx4zzStL/ZxUlTXaLyP/xLqUqwFeG/vKMcwrDK1D/0dJ6b4EvqP0152y79TeS/Wa8hO8V+3D8LVqx4uRvqv3oUVEVYcfK/LkjwHOd8wb/8199Tis/mP9IuwI6DSfQ/WUp0sNqguL/Jx36bin36PwlwiLZqJNu/FaHugl7I2z/TlFFAHmj0P/UOmZ/PNOA/7JR4sxX8AkCpCu2OLM7hv4ZX1ufYyOi/7Zj3u0t5s79gxYcKqm/MP/IHHtbLYL0/5bJbhowP/79oYyojp4n4v47yMD1aH8W/Ovag5Dv1wr9p9Ks5iWbFP7souyWTNvm/Lp9I31Gc2D+uAylkgajuv4vojSA0TfQ/OyDoJSdX27+oOyQmzmLgvxp2H358seq/5MI8iEmI+L9m3tMcJsHwvwdrHJjjgQFAF1cvvGnh0D+g/Hv9CX3gP7CfnVlkGfA/GKcahXI4zj/fkszWPSfzv1bhJ3oeq/C/",
          "dtype": "f8"
         }
        },
        {
         "marker": {
          "color": [
           "red",
           "gold",
           "blue",
           "green",
           "purple",
           "pink",
           "turquoise",
           "orange"
          ],
          "size": 4,
          "symbol": "diamond"
         },
         "mode": "markers",
         "type": "scatter3d",
         "x": {
          "bdata": "g8iDAZT08j/ZjBz5gmbyv1+yLvg2SPK/Gd5pQxdyAED8VyST1ILiP/ACnXglpfM/AImb+/F99j8Tt3Lm2V/6vw==",
          "dtype": "f8"
         },
         "y": {
          "bdata": "t+TN9KPXvr+UVWOP69u7vwMTjUeYK66/DB8ccgS89b8Upr1+H+XjvwdabQhsNOy/LlbybwPz+j/voP5Pc5vqvw==",
          "dtype": "f8"
         },
         "z": {
          "bdata": "aoaZLn+76D+KKRmhyqLvPxVPp4sU09Q/6YmERiG3ur/j4dNFMd7lP5ueh7X10/W/LHAM902j6j+oOyQmzmLgvw==",
          "dtype": "f8"
         }
        },
        {
         "marker": {
          "color": "black",
          "size": 5
         },
         "mode": "markers",
         "name": "Origin",
         "showlegend": false,
         "type": "scatter3d",
         "x": [
          0
         ],
         "y": [
          0
         ],
         "z": [
          0
         ]
        },
        {
         "line": {
          "width": 4
         },
         "mode": "lines+text",
         "name": "max_depth",
         "textposition": "top center",
         "type": "scatter3d",
         "x": [
          0,
          1.671448618574199
         ],
         "y": [
          0,
          0.5602486264090561
         ],
         "z": [
          0,
          -0.8414440248963684
         ]
        },
        {
         "line": {
          "width": 4
         },
         "mode": "lines+text",
         "name": "max_resistance",
         "textposition": "top center",
         "type": "scatter3d",
         "x": [
          0,
          -1.573362779735767
         ],
         "y": [
          0,
          -0.4632704728047056
         ],
         "z": [
          0,
          1.441100391050036
         ]
        },
        {
         "line": {
          "width": 4
         },
         "mode": "lines+text",
         "name": "num_peaks",
         "textposition": "top center",
         "type": "scatter3d",
         "x": [
          0,
          1.5404475500467256
         ],
         "y": [
          0,
          -0.19270409869917765
         ],
         "z": [
          0,
          0.966164092403182
         ]
        },
        {
         "line": {
          "width": 4
         },
         "mode": "lines+text",
         "name": "largest_force_drop",
         "textposition": "top center",
         "type": "scatter3d",
         "x": [
          0,
          1.165218466388636
         ],
         "y": [
          0,
          -1.1544473666503985
         ],
         "z": [
          0,
          1.88545011391792
         ]
        },
        {
         "line": {
          "width": 4
         },
         "mode": "lines+text",
         "name": "curve_shape",
         "textposition": "top center",
         "type": "scatter3d",
         "x": [
          0,
          -0.008737845872680193
         ],
         "y": [
          0,
          2.6648861802359534
         ],
         "z": [
          0,
          1.3140800699954602
         ]
        }
       ],
       "layout": {
        "autosize": true,
        "scene": {
         "xaxis": {
          "title": {
           "font": {
            "size": 11
           },
           "text": "PC1 (0.52 var.)"
          }
         },
         "yaxis": {
          "title": {
           "font": {
            "size": 11
           },
           "text": "PC2 (0.21 var.)"
          }
         },
         "zaxis": {
          "title": {
           "font": {
            "size": 11
           },
           "text": "PC3 (0.18 var.)"
          }
         }
        },
        "template": {
         "data": {
          "bar": [
           {
            "error_x": {
             "color": "#2a3f5f"
            },
            "error_y": {
             "color": "#2a3f5f"
            },
            "marker": {
             "line": {
              "color": "#E5ECF6",
              "width": 0.5
             },
             "pattern": {
              "fillmode": "overlay",
              "size": 10,
              "solidity": 0.2
             }
            },
            "type": "bar"
           }
          ],
          "barpolar": [
           {
            "marker": {
             "line": {
              "color": "#E5ECF6",
              "width": 0.5
             },
             "pattern": {
              "fillmode": "overlay",
              "size": 10,
              "solidity": 0.2
             }
            },
            "type": "barpolar"
           }
          ],
          "carpet": [
           {
            "aaxis": {
             "endlinecolor": "#2a3f5f",
             "gridcolor": "white",
             "linecolor": "white",
             "minorgridcolor": "white",
             "startlinecolor": "#2a3f5f"
            },
            "baxis": {
             "endlinecolor": "#2a3f5f",
             "gridcolor": "white",
             "linecolor": "white",
             "minorgridcolor": "white",
             "startlinecolor": "#2a3f5f"
            },
            "type": "carpet"
           }
          ],
          "choropleth": [
           {
            "colorbar": {
             "outlinewidth": 0,
             "ticks": ""
            },
            "type": "choropleth"
           }
          ],
          "contour": [
           {
            "colorbar": {
             "outlinewidth": 0,
             "ticks": ""
            },
            "colorscale": [
             [
              0,
              "#0d0887"
             ],
             [
              0.1111111111111111,
              "#46039f"
             ],
             [
              0.2222222222222222,
              "#7201a8"
             ],
             [
              0.3333333333333333,
              "#9c179e"
             ],
             [
              0.4444444444444444,
              "#bd3786"
             ],
             [
              0.5555555555555556,
              "#d8576b"
             ],
             [
              0.6666666666666666,
              "#ed7953"
             ],
             [
              0.7777777777777778,
              "#fb9f3a"
             ],
             [
              0.8888888888888888,
              "#fdca26"
             ],
             [
              1,
              "#f0f921"
             ]
            ],
            "type": "contour"
           }
          ],
          "contourcarpet": [
           {
            "colorbar": {
             "outlinewidth": 0,
             "ticks": ""
            },
            "type": "contourcarpet"
           }
          ],
          "heatmap": [
           {
            "colorbar": {
             "outlinewidth": 0,
             "ticks": ""
            },
            "colorscale": [
             [
              0,
              "#0d0887"
             ],
             [
              0.1111111111111111,
              "#46039f"
             ],
             [
              0.2222222222222222,
              "#7201a8"
             ],
             [
              0.3333333333333333,
              "#9c179e"
             ],
             [
              0.4444444444444444,
              "#bd3786"
             ],
             [
              0.5555555555555556,
              "#d8576b"
             ],
             [
              0.6666666666666666,
              "#ed7953"
             ],
             [
              0.7777777777777778,
              "#fb9f3a"
             ],
             [
              0.8888888888888888,
              "#fdca26"
             ],
             [
              1,
              "#f0f921"
             ]
            ],
            "type": "heatmap"
           }
          ],
          "histogram": [
           {
            "marker": {
             "pattern": {
              "fillmode": "overlay",
              "size": 10,
              "solidity": 0.2
             }
            },
            "type": "histogram"
           }
          ],
          "histogram2d": [
           {
            "colorbar": {
             "outlinewidth": 0,
             "ticks": ""
            },
            "colorscale": [
             [
              0,
              "#0d0887"
             ],
             [
              0.1111111111111111,
              "#46039f"
             ],
             [
              0.2222222222222222,
              "#7201a8"
             ],
             [
              0.3333333333333333,
              "#9c179e"
             ],
             [
              0.4444444444444444,
              "#bd3786"
             ],
             [
              0.5555555555555556,
              "#d8576b"
             ],
             [
              0.6666666666666666,
              "#ed7953"
             ],
             [
              0.7777777777777778,
              "#fb9f3a"
             ],
             [
              0.8888888888888888,
              "#fdca26"
             ],
             [
              1,
              "#f0f921"
             ]
            ],
            "type": "histogram2d"
           }
          ],
          "histogram2dcontour": [
           {
            "colorbar": {
             "outlinewidth": 0,
             "ticks": ""
            },
            "colorscale": [
             [
              0,
              "#0d0887"
             ],
             [
              0.1111111111111111,
              "#46039f"
             ],
             [
              0.2222222222222222,
              "#7201a8"
             ],
             [
              0.3333333333333333,
              "#9c179e"
             ],
             [
              0.4444444444444444,
              "#bd3786"
             ],
             [
              0.5555555555555556,
              "#d8576b"
             ],
             [
              0.6666666666666666,
              "#ed7953"
             ],
             [
              0.7777777777777778,
              "#fb9f3a"
             ],
             [
              0.8888888888888888,
              "#fdca26"
             ],
             [
              1,
              "#f0f921"
             ]
            ],
            "type": "histogram2dcontour"
           }
          ],
          "mesh3d": [
           {
            "colorbar": {
             "outlinewidth": 0,
             "ticks": ""
            },
            "type": "mesh3d"
           }
          ],
          "parcoords": [
           {
            "line": {
             "colorbar": {
              "outlinewidth": 0,
              "ticks": ""
             }
            },
            "type": "parcoords"
           }
          ],
          "pie": [
           {
            "automargin": true,
            "type": "pie"
           }
          ],
          "scatter": [
           {
            "fillpattern": {
             "fillmode": "overlay",
             "size": 10,
             "solidity": 0.2
            },
            "type": "scatter"
           }
          ],
          "scatter3d": [
           {
            "line": {
             "colorbar": {
              "outlinewidth": 0,
              "ticks": ""
             }
            },
            "marker": {
             "colorbar": {
              "outlinewidth": 0,
              "ticks": ""
             }
            },
            "type": "scatter3d"
           }
          ],
          "scattercarpet": [
           {
            "marker": {
             "colorbar": {
              "outlinewidth": 0,
              "ticks": ""
             }
            },
            "type": "scattercarpet"
           }
          ],
          "scattergeo": [
           {
            "marker": {
             "colorbar": {
              "outlinewidth": 0,
              "ticks": ""
             }
            },
            "type": "scattergeo"
           }
          ],
          "scattergl": [
           {
            "marker": {
             "colorbar": {
              "outlinewidth": 0,
              "ticks": ""
             }
            },
            "type": "scattergl"
           }
          ],
          "scattermap": [
           {
            "marker": {
             "colorbar": {
              "outlinewidth": 0,
              "ticks": ""
             }
            },
            "type": "scattermap"
           }
          ],
          "scattermapbox": [
           {
            "marker": {
             "colorbar": {
              "outlinewidth": 0,
              "ticks": ""
             }
            },
            "type": "scattermapbox"
           }
          ],
          "scatterpolar": [
           {
            "marker": {
             "colorbar": {
              "outlinewidth": 0,
              "ticks": ""
             }
            },
            "type": "scatterpolar"
           }
          ],
          "scatterpolargl": [
           {
            "marker": {
             "colorbar": {
              "outlinewidth": 0,
              "ticks": ""
             }
            },
            "type": "scatterpolargl"
           }
          ],
          "scatterternary": [
           {
            "marker": {
             "colorbar": {
              "outlinewidth": 0,
              "ticks": ""
             }
            },
            "type": "scatterternary"
           }
          ],
          "surface": [
           {
            "colorbar": {
             "outlinewidth": 0,
             "ticks": ""
            },
            "colorscale": [
             [
              0,
              "#0d0887"
             ],
             [
              0.1111111111111111,
              "#46039f"
             ],
             [
              0.2222222222222222,
              "#7201a8"
             ],
             [
              0.3333333333333333,
              "#9c179e"
             ],
             [
              0.4444444444444444,
              "#bd3786"
             ],
             [
              0.5555555555555556,
              "#d8576b"
             ],
             [
              0.6666666666666666,
              "#ed7953"
             ],
             [
              0.7777777777777778,
              "#fb9f3a"
             ],
             [
              0.8888888888888888,
              "#fdca26"
             ],
             [
              1,
              "#f0f921"
             ]
            ],
            "type": "surface"
           }
          ],
          "table": [
           {
            "cells": {
             "fill": {
              "color": "#EBF0F8"
             },
             "line": {
              "color": "white"
             }
            },
            "header": {
             "fill": {
              "color": "#C8D4E3"
             },
             "line": {
              "color": "white"
             }
            },
            "type": "table"
           }
          ]
         },
         "layout": {
          "annotationdefaults": {
           "arrowcolor": "#2a3f5f",
           "arrowhead": 0,
           "arrowwidth": 1
          },
          "autotypenumbers": "strict",
          "coloraxis": {
           "colorbar": {
            "outlinewidth": 0,
            "ticks": ""
           }
          },
          "colorscale": {
           "diverging": [
            [
             0,
             "#8e0152"
            ],
            [
             0.1,
             "#c51b7d"
            ],
            [
             0.2,
             "#de77ae"
            ],
            [
             0.3,
             "#f1b6da"
            ],
            [
             0.4,
             "#fde0ef"
            ],
            [
             0.5,
             "#f7f7f7"
            ],
            [
             0.6,
             "#e6f5d0"
            ],
            [
             0.7,
             "#b8e186"
            ],
            [
             0.8,
             "#7fbc41"
            ],
            [
             0.9,
             "#4d9221"
            ],
            [
             1,
             "#276419"
            ]
           ],
           "sequential": [
            [
             0,
             "#0d0887"
            ],
            [
             0.1111111111111111,
             "#46039f"
            ],
            [
             0.2222222222222222,
             "#7201a8"
            ],
            [
             0.3333333333333333,
             "#9c179e"
            ],
            [
             0.4444444444444444,
             "#bd3786"
            ],
            [
             0.5555555555555556,
             "#d8576b"
            ],
            [
             0.6666666666666666,
             "#ed7953"
            ],
            [
             0.7777777777777778,
             "#fb9f3a"
            ],
            [
             0.8888888888888888,
             "#fdca26"
            ],
            [
             1,
             "#f0f921"
            ]
           ],
           "sequentialminus": [
            [
             0,
             "#0d0887"
            ],
            [
             0.1111111111111111,
             "#46039f"
            ],
            [
             0.2222222222222222,
             "#7201a8"
            ],
            [
             0.3333333333333333,
             "#9c179e"
            ],
            [
             0.4444444444444444,
             "#bd3786"
            ],
            [
             0.5555555555555556,
             "#d8576b"
            ],
            [
             0.6666666666666666,
             "#ed7953"
            ],
            [
             0.7777777777777778,
             "#fb9f3a"
            ],
            [
             0.8888888888888888,
             "#fdca26"
            ],
            [
             1,
             "#f0f921"
            ]
           ]
          },
          "colorway": [
           "#636efa",
           "#EF553B",
           "#00cc96",
           "#ab63fa",
           "#FFA15A",
           "#19d3f3",
           "#FF6692",
           "#B6E880",
           "#FF97FF",
           "#FECB52"
          ],
          "font": {
           "color": "#2a3f5f"
          },
          "geo": {
           "bgcolor": "white",
           "lakecolor": "white",
           "landcolor": "#E5ECF6",
           "showlakes": true,
           "showland": true,
           "subunitcolor": "white"
          },
          "hoverlabel": {
           "align": "left"
          },
          "hovermode": "closest",
          "mapbox": {
           "style": "light"
          },
          "paper_bgcolor": "white",
          "plot_bgcolor": "#E5ECF6",
          "polar": {
           "angularaxis": {
            "gridcolor": "white",
            "linecolor": "white",
            "ticks": ""
           },
           "bgcolor": "#E5ECF6",
           "radialaxis": {
            "gridcolor": "white",
            "linecolor": "white",
            "ticks": ""
           }
          },
          "scene": {
           "xaxis": {
            "backgroundcolor": "#E5ECF6",
            "gridcolor": "white",
            "gridwidth": 2,
            "linecolor": "white",
            "showbackground": true,
            "ticks": "",
            "zerolinecolor": "white"
           },
           "yaxis": {
            "backgroundcolor": "#E5ECF6",
            "gridcolor": "white",
            "gridwidth": 2,
            "linecolor": "white",
            "showbackground": true,
            "ticks": "",
            "zerolinecolor": "white"
           },
           "zaxis": {
            "backgroundcolor": "#E5ECF6",
            "gridcolor": "white",
            "gridwidth": 2,
            "linecolor": "white",
            "showbackground": true,
            "ticks": "",
            "zerolinecolor": "white"
           }
          },
          "shapedefaults": {
           "line": {
            "color": "#2a3f5f"
           }
          },
          "ternary": {
           "aaxis": {
            "gridcolor": "white",
            "linecolor": "white",
            "ticks": ""
           },
           "baxis": {
            "gridcolor": "white",
            "linecolor": "white",
            "ticks": ""
           },
           "bgcolor": "#E5ECF6",
           "caxis": {
            "gridcolor": "white",
            "linecolor": "white",
            "ticks": ""
           }
          },
          "title": {
           "x": 0.05
          },
          "xaxis": {
           "automargin": true,
           "gridcolor": "white",
           "linecolor": "white",
           "ticks": "",
           "title": {
            "standoff": 15
           },
           "zerolinecolor": "white",
           "zerolinewidth": 2
          },
          "yaxis": {
           "automargin": true,
           "gridcolor": "white",
           "linecolor": "white",
           "ticks": "",
           "title": {
            "standoff": 15
           },
           "zerolinecolor": "white",
           "zerolinewidth": 2
          }
         }
        },
        "title": {
         "text": "3D PCA Scatter Plot"
        }
       }
      }
     },
     "metadata": {},
     "output_type": "display_data"
    }
   ],
   "source": [
    "plotting.plot_clusters_seperately(pseudo_labeled_data[f'pseudo_{ylabel_name}_nums'],\n",
    "                                  curve_data, ylabel_name, cluster_category_names=list(ylabel_to_cluster_num.keys()),\n",
    "                                  pseudo_corrections=marions_labeled_data)\n",
    "plotting.plot_pca(pseudo_labeled_data, pseudo_labeled_data[f'pseudo_{ylabel_name}_nums'], graph_title=\"Clustering Un-corrected Pseudo Labeled Data\", num_pc=3, ylabel_name=ylabel_name, centroids=label_centroids)"
   ]
  },
  {
   "cell_type": "markdown",
   "id": "c4c5a5a0",
   "metadata": {},
   "source": [
    "# Clustering data with ES-D removed"
   ]
  },
  {
   "cell_type": "code",
   "execution_count": null,
   "id": "0be52c13",
   "metadata": {},
   "outputs": [
    {
     "data": {
      "image/png": "[encoded data removed]",
      "text/plain": [
       "<Figure size 1000x600 with 8 Axes>"
      ]
     },
     "metadata": {},
     "output_type": "display_data"
    },
    {
     "data": {
      "application/vnd.plotly.v1+json": {
       "config": {
        "plotlyServerURL": "https://plot.ly"
       },
       "data": [
        {
         "mode": "text",
         "name": "Data Points",
         "text": [
          "0",
          "1",
          "2",
          "3",
          "4",
          "5",
          "6",
          "7",
          "8",
          "9",
          "10",
          "11",
          "12",
          "13",
          "14",
          "15",
          "16",
          "17",
          "18",
          "19",
          "20",
          "21",
          "22",
          "23",
          "24",
          "25",
          "26",
          "27",
          "28",
          "29",
          "30",
          "31",
          "32",
          "33",
          "34",
          "35",
          "36",
          "37",
          "38",
          "39",
          "40",
          "41",
          "42",
          "43",
          "44",
          "45",
          "46",
          "47",
          "48",
          "49",
          "50",
          "51",
          "52",
          "53",
          "54",
          "55",
          "56",
          "57",
          "58",
          "59",
          "60",
          "61",
          "62",
          "63",
          "64",
          "65",
          "66",
          "67",
          "68",
          "69",
          "70",
          "71",
          "72",
          "73",
          "74",
          "75",
          "76",
          "77"
         ],
         "textfont": {
          "color": [
           "red",
           "blue",
           "orange",
           "blue",
           "red",
           "blue",
           "orange",
           "blue",
           "gold",
           "orange",
           "orange",
           "blue",
           "blue",
           "orange",
           "turquoise",
           "orange",
           "gold",
           "blue",
           "gold",
           "pink",
           "red",
           "blue",
           "blue",
           "blue",
           "blue",
           "gold",
           "red",
           "red",
           "blue",
           "pink",
           "turquoise",
           "red",
           "blue",
           "blue",
           "red",
           "green",
           "blue",
           "gold",
           "blue",
           "red",
           "orange",
           "pink",
           "blue",
           "blue",
           "red",
           "orange",
           "turquoise",
           "turquoise",
           "gold",
           "red",
           "green",
           "red",
           "orange",
           "green",
           "blue",
           "green",
           "blue",
           "pink",
           "pink",
           "turquoise",
           "blue",
           "blue",
           "pink",
           "green",
           "turquoise",
           "turquoise",
           "turquoise",
           "orange",
           "turquoise",
           "pink",
           "pink",
           "gold",
           "blue",
           "blue",
           "red",
           "blue",
           "blue",
           "pink"
          ],
          "size": 8
         },
         "type": "scatter3d",
         "x": {
          "bdata": "iBThj+2787+jCCLk77/ov0BPeXTH+rM/cEG+aqF6AsDffpSEKtf7Pxu4aCJjlu6/C58+mhwp8792wUHxPFj8v61BtfKAfPi//VfWuwsg2L9x/m2zKBHOv8Pu1R++HwHAKEzxcfXr8r8lmLNzDuv/v+rGeiHiZPQ/5D4SVFHE2b+WAZCUIDn3vwlGOxpz5P2/NrcFf0SQ8b98WrVPK+vyP8OiJJsDFeM/ZbX8zud057/RPlpEQ7TPv8pDXjwQZee/1d7f6WA7AcCBqdngxzn1vwPtpaseMPI/NgMgJY2o5j9aYPafRl7cvyr+JBGNrfo/Ec9nQB9tDkAwSWkmgafsP5Gdo9/7k+u/gPLdDxOr9L+6/nD1m8TwP0inTBDx+QdAnCON/wRS9b8WuZxnnxPwvxjKp/Sffce/pHJhmDhL/z/6XBayIdLpv1ziKvDjEgpAe56ANfYO67/L50N4dwHXP3NRe7ybReo/OMT4ydFi+r9I5/Bekfj5PyzT9BWJ9PY/uspKYXMNA8B2a/QocwkHQMQHZwGf5/A/HPSCZ74/8z9hBnzxDOr3vwqboTAdDQVA8EcMPsPw/L8aJAWfrVP1P4gz8YaGWfq/UrIfcmAc5D8xGRmMyb6zv0hSZg3V4A5A/yKti/N97b8KuFF7HjcCwLJ9N975tum/XmQLmP6a+D+xYHYwfcTyPwoNmlaGFeM/Na2UaIH2/z8Ut3Lm2V/6v88B/vAHW/Q/KD8dJWByqT/gJwtFkCv8P32aZGNHbuQ/9EDWHDC0AsDspStRpRj4v/cYTqUwhPY/OWAOAEK3AsB7sOmJibHTv0UOFp64oAhA",
          "dtype": "f8"
         },
         "y": {
          "bdata": "cpM8TMpR6D/B5OoBR0rsv/rgJW0W7uK/wjfKB4jNzj/XrDZ2VpXYP2mssclL4Ka/uSAulS5M+b9sXZm+FPH7P6ANRK8BY+8/5pIJGKfy0r+979KCy1W0P5OIUmBI37Y/oUe63zU08D+mUEJbbMLkv5mllp1jG/A/VmBXLgHx4b9R/D4Bskjkv0rVIDpxVdQ/YitIXfgY/j+tE9l1HdzaP8O+rEdIPgHAsxZ+ql8lwL8MpXK7lJzXv/5V1WYGxdK/f61D4Xhmlj/nrNdLNTStPw0kmVwvxfG/TM6p/MK42D/djcewIV21vw8jHwY1r+U//6304SxS5D8nuVK1TP7zvyvO0+REW8u/LsDgN27g2z98fs3u4xnDP2aXLwlxZsg/jhBtVjiC6T8NCRoE25f7P1ndd9ab1+g/e8WnpUyk4j9Ta+7Go+ziv+BGOBJrJ+I/bPwCunF52j8uBRsX5oLfv+zMowoFJuY/lA06iKKX1b8KcM8QwFgJQJG6XNeRRv8/oxvHHRZl0T8vAxkzitfmv4sLdyh85AbAz/lb9v5s9L9jBS5+w93pvxuIHTiPTPC/c8bAn3Hc2z/nsDx7sMYCwMz3Ysh19cw/eHrJiwSww78z4O7WmlPJv/TyWzxZHO8/wfHTHtac4z/4+tFrzQKfP7y+xMgQpALA6s+KYFjn+79pbSa8EurpP/1DSGoACPQ/+LzfhxM/5D/voP5Pc5vqvydTBvjf8es/L30DJ+Tvgr9zcvfwyiXCP4VgS+1i6/u/19OUR2yBoD+b6jJiFFXLP10gvUsp4vO/5vlwE5yzuD/mYFfBJe7VPw4ta64o4tw/",
          "dtype": "f8"
         },
         "z": {
          "bdata": "2pDwbzuFwj92Fx4IkBjIP6jRxz1/P+u/s2VqaKAz1D9WABwNSV7rP1PHoukUTdS/C7srOnbc87+JpWYX4I/mPwx7W3d398w/P25Fdwgv8L9TfbvX0Pr1v5l2XQvsA8M/hiIj1nEpvT9r21ih287Hv4H19o1k3PI/sZ5R/UZu9r+4Lkzdutz2P2Zo3/83x64/ZRIaFBVG6T99jyM/868AwIMPACOq8Po/rbU+/WrR07+BWuYO69zUv0Kh8BPDN9O/b3guAGFltD9gZVKCx7DxPxH6GmCHnvM/gWFKa37y1z+//pRd/17BP+uWQUV4V/m/HQDjej++6T8wazri2K7hPypHbhTd/NG/yBUx4zzStL/ZxUlTXaLyP/xLqUqwFeG/vKMcwrDK1D/0dJ6b4EvqP0152y79TeS/Wa8hO8V+3D8LVqx4uRvqv3oUVEVYcfK/LkjwHOd8wb/8199Tis/mP9IuwI6DSfQ/WUp0sNqguL/Jx36bin36PwlwiLZqJNu/FaHugl7I2z/TlFFAHmj0P/UOmZ/PNOA/7JR4sxX8AkCpCu2OLM7hv4ZX1ufYyOi/7Zj3u0t5s79gxYcKqm/MP/IHHtbLYL0/5bJbhowP/79oYyojp4n4v47yMD1aH8W/Ovag5Dv1wr9p9Ks5iWbFP7souyWTNvm/Lp9I31Gc2D+uAylkgajuv4vojSA0TfQ/OyDoJSdX27+oOyQmzmLgvxp2H358seq/5MI8iEmI+L9m3tMcJsHwvwdrHJjjgQFAF1cvvGnh0D+g/Hv9CX3gP7CfnVlkGfA/GKcahXI4zj/fkszWPSfzv1bhJ3oeq/C/",
          "dtype": "f8"
         }
        },
        {
         "marker": {
          "color": [
           "red",
           "gold",
           "blue",
           "green",
           "pink",
           "turquoise",
           "orange"
          ],
          "size": 4,
          "symbol": "diamond"
         },
         "mode": "markers",
         "type": "scatter3d",
         "x": {
          "bdata": "g8iDAZT08j/ZjBz5gmbyv1+yLvg2SPK/Gd5pQxdyAEDwAp14JaXzPwCJm/vxffY/E7dy5tlf+r8=",
          "dtype": "f8"
         },
         "y": {
          "bdata": "t+TN9KPXvr+UVWOP69u7vwMTjUeYK66/DB8ccgS89b8HWm0IbDTsvy9W8m8D8/o/76D+T3Ob6r8=",
          "dtype": "f8"
         },
         "z": {
          "bdata": "aoaZLn+76D+KKRmhyqLvPxVPp4sU09Q/6YmERiG3ur+bnoe19dP1vyxwDPdNo+o/qDskJs5i4L8=",
          "dtype": "f8"
         }
        },
        {
         "marker": {
          "color": "black",
          "size": 5
         },
         "mode": "markers",
         "name": "Origin",
         "showlegend": false,
         "type": "scatter3d",
         "x": [
          0
         ],
         "y": [
          0
         ],
         "z": [
          0
         ]
        },
        {
         "line": {
          "width": 4
         },
         "mode": "lines+text",
         "name": "max_depth",
         "textposition": "top center",
         "type": "scatter3d",
         "x": [
          0,
          1.671448618574199
         ],
         "y": [
          0,
          0.5602486264090561
         ],
         "z": [
          0,
          -0.8414440248963684
         ]
        },
        {
         "line": {
          "width": 4
         },
         "mode": "lines+text",
         "name": "max_resistance",
         "textposition": "top center",
         "type": "scatter3d",
         "x": [
          0,
          -1.573362779735767
         ],
         "y": [
          0,
          -0.4632704728047056
         ],
         "z": [
          0,
          1.441100391050036
         ]
        },
        {
         "line": {
          "width": 4
         },
         "mode": "lines+text",
         "name": "num_peaks",
         "textposition": "top center",
         "type": "scatter3d",
         "x": [
          0,
          1.5404475500467256
         ],
         "y": [
          0,
          -0.19270409869917765
         ],
         "z": [
          0,
          0.966164092403182
         ]
        },
        {
         "line": {
          "width": 4
         },
         "mode": "lines+text",
         "name": "largest_force_drop",
         "textposition": "top center",
         "type": "scatter3d",
         "x": [
          0,
          1.165218466388636
         ],
         "y": [
          0,
          -1.1544473666503985
         ],
         "z": [
          0,
          1.88545011391792
         ]
        },
        {
         "line": {
          "width": 4
         },
         "mode": "lines+text",
         "name": "curve_shape",
         "textposition": "top center",
         "type": "scatter3d",
         "x": [
          0,
          -0.008737845872680193
         ],
         "y": [
          0,
          2.6648861802359534
         ],
         "z": [
          0,
          1.3140800699954602
         ]
        }
       ],
       "layout": {
        "autosize": true,
        "scene": {
         "xaxis": {
          "title": {
           "font": {
            "size": 11
           },
           "text": "PC1 (0.52 var.)"
          }
         },
         "yaxis": {
          "title": {
           "font": {
            "size": 11
           },
           "text": "PC2 (0.21 var.)"
          }
         },
         "zaxis": {
          "title": {
           "font": {
            "size": 11
           },
           "text": "PC3 (0.18 var.)"
          }
         }
        },
        "template": {
         "data": {
          "bar": [
           {
            "error_x": {
             "color": "#2a3f5f"
            },
            "error_y": {
             "color": "#2a3f5f"
            },
            "marker": {
             "line": {
              "color": "#E5ECF6",
              "width": 0.5
             },
             "pattern": {
              "fillmode": "overlay",
              "size": 10,
              "solidity": 0.2
             }
            },
            "type": "bar"
           }
          ],
          "barpolar": [
           {
            "marker": {
             "line": {
              "color": "#E5ECF6",
              "width": 0.5
             },
             "pattern": {
              "fillmode": "overlay",
              "size": 10,
              "solidity": 0.2
             }
            },
            "type": "barpolar"
           }
          ],
          "carpet": [
           {
            "aaxis": {
             "endlinecolor": "#2a3f5f",
             "gridcolor": "white",
             "linecolor": "white",
             "minorgridcolor": "white",
             "startlinecolor": "#2a3f5f"
            },
            "baxis": {
             "endlinecolor": "#2a3f5f",
             "gridcolor": "white",
             "linecolor": "white",
             "minorgridcolor": "white",
             "startlinecolor": "#2a3f5f"
            },
            "type": "carpet"
           }
          ],
          "choropleth": [
           {
            "colorbar": {
             "outlinewidth": 0,
             "ticks": ""
            },
            "type": "choropleth"
           }
          ],
          "contour": [
           {
            "colorbar": {
             "outlinewidth": 0,
             "ticks": ""
            },
            "colorscale": [
             [
              0,
              "#0d0887"
             ],
             [
              0.1111111111111111,
              "#46039f"
             ],
             [
              0.2222222222222222,
              "#7201a8"
             ],
             [
              0.3333333333333333,
              "#9c179e"
             ],
             [
              0.4444444444444444,
              "#bd3786"
             ],
             [
              0.5555555555555556,
              "#d8576b"
             ],
             [
              0.6666666666666666,
              "#ed7953"
             ],
             [
              0.7777777777777778,
              "#fb9f3a"
             ],
             [
              0.8888888888888888,
              "#fdca26"
             ],
             [
              1,
              "#f0f921"
             ]
            ],
            "type": "contour"
           }
          ],
          "contourcarpet": [
           {
            "colorbar": {
             "outlinewidth": 0,
             "ticks": ""
            },
            "type": "contourcarpet"
           }
          ],
          "heatmap": [
           {
            "colorbar": {
             "outlinewidth": 0,
             "ticks": ""
            },
            "colorscale": [
             [
              0,
              "#0d0887"
             ],
             [
              0.1111111111111111,
              "#46039f"
             ],
             [
              0.2222222222222222,
              "#7201a8"
             ],
             [
              0.3333333333333333,
              "#9c179e"
             ],
             [
              0.4444444444444444,
              "#bd3786"
             ],
             [
              0.5555555555555556,
              "#d8576b"
             ],
             [
              0.6666666666666666,
              "#ed7953"
             ],
             [
              0.7777777777777778,
              "#fb9f3a"
             ],
             [
              0.8888888888888888,
              "#fdca26"
             ],
             [
              1,
              "#f0f921"
             ]
            ],
            "type": "heatmap"
           }
          ],
          "histogram": [
           {
            "marker": {
             "pattern": {
              "fillmode": "overlay",
              "size": 10,
              "solidity": 0.2
             }
            },
            "type": "histogram"
           }
          ],
          "histogram2d": [
           {
            "colorbar": {
             "outlinewidth": 0,
             "ticks": ""
            },
            "colorscale": [
             [
              0,
              "#0d0887"
             ],
             [
              0.1111111111111111,
              "#46039f"
             ],
             [
              0.2222222222222222,
              "#7201a8"
             ],
             [
              0.3333333333333333,
              "#9c179e"
             ],
             [
              0.4444444444444444,
              "#bd3786"
             ],
             [
              0.5555555555555556,
              "#d8576b"
             ],
             [
              0.6666666666666666,
              "#ed7953"
             ],
             [
              0.7777777777777778,
              "#fb9f3a"
             ],
             [
              0.8888888888888888,
              "#fdca26"
             ],
             [
              1,
              "#f0f921"
             ]
            ],
            "type": "histogram2d"
           }
          ],
          "histogram2dcontour": [
           {
            "colorbar": {
             "outlinewidth": 0,
             "ticks": ""
            },
            "colorscale": [
             [
              0,
              "#0d0887"
             ],
             [
              0.1111111111111111,
              "#46039f"
             ],
             [
              0.2222222222222222,
              "#7201a8"
             ],
             [
              0.3333333333333333,
              "#9c179e"
             ],
             [
              0.4444444444444444,
              "#bd3786"
             ],
             [
              0.5555555555555556,
              "#d8576b"
             ],
             [
              0.6666666666666666,
              "#ed7953"
             ],
             [
              0.7777777777777778,
              "#fb9f3a"
             ],
             [
              0.8888888888888888,
              "#fdca26"
             ],
             [
              1,
              "#f0f921"
             ]
            ],
            "type": "histogram2dcontour"
           }
          ],
          "mesh3d": [
           {
            "colorbar": {
             "outlinewidth": 0,
             "ticks": ""
            },
            "type": "mesh3d"
           }
          ],
          "parcoords": [
           {
            "line": {
             "colorbar": {
              "outlinewidth": 0,
              "ticks": ""
             }
            },
            "type": "parcoords"
           }
          ],
          "pie": [
           {
            "automargin": true,
            "type": "pie"
           }
          ],
          "scatter": [
           {
            "fillpattern": {
             "fillmode": "overlay",
             "size": 10,
             "solidity": 0.2
            },
            "type": "scatter"
           }
          ],
          "scatter3d": [
           {
            "line": {
             "colorbar": {
              "outlinewidth": 0,
              "ticks": ""
             }
            },
            "marker": {
             "colorbar": {
              "outlinewidth": 0,
              "ticks": ""
             }
            },
            "type": "scatter3d"
           }
          ],
          "scattercarpet": [
           {
            "marker": {
             "colorbar": {
              "outlinewidth": 0,
              "ticks": ""
             }
            },
            "type": "scattercarpet"
           }
          ],
          "scattergeo": [
           {
            "marker": {
             "colorbar": {
              "outlinewidth": 0,
              "ticks": ""
             }
            },
            "type": "scattergeo"
           }
          ],
          "scattergl": [
           {
            "marker": {
             "colorbar": {
              "outlinewidth": 0,
              "ticks": ""
             }
            },
            "type": "scattergl"
           }
          ],
          "scattermap": [
           {
            "marker": {
             "colorbar": {
              "outlinewidth": 0,
              "ticks": ""
             }
            },
            "type": "scattermap"
           }
          ],
          "scattermapbox": [
           {
            "marker": {
             "colorbar": {
              "outlinewidth": 0,
              "ticks": ""
             }
            },
            "type": "scattermapbox"
           }
          ],
          "scatterpolar": [
           {
            "marker": {
             "colorbar": {
              "outlinewidth": 0,
              "ticks": ""
             }
            },
            "type": "scatterpolar"
           }
          ],
          "scatterpolargl": [
           {
            "marker": {
             "colorbar": {
              "outlinewidth": 0,
              "ticks": ""
             }
            },
            "type": "scatterpolargl"
           }
          ],
          "scatterternary": [
           {
            "marker": {
             "colorbar": {
              "outlinewidth": 0,
              "ticks": ""
             }
            },
            "type": "scatterternary"
           }
          ],
          "surface": [
           {
            "colorbar": {
             "outlinewidth": 0,
             "ticks": ""
            },
            "colorscale": [
             [
              0,
              "#0d0887"
             ],
             [
              0.1111111111111111,
              "#46039f"
             ],
             [
              0.2222222222222222,
              "#7201a8"
             ],
             [
              0.3333333333333333,
              "#9c179e"
             ],
             [
              0.4444444444444444,
              "#bd3786"
             ],
             [
              0.5555555555555556,
              "#d8576b"
             ],
             [
              0.6666666666666666,
              "#ed7953"
             ],
             [
              0.7777777777777778,
              "#fb9f3a"
             ],
             [
              0.8888888888888888,
              "#fdca26"
             ],
             [
              1,
              "#f0f921"
             ]
            ],
            "type": "surface"
           }
          ],
          "table": [
           {
            "cells": {
             "fill": {
              "color": "#EBF0F8"
             },
             "line": {
              "color": "white"
             }
            },
            "header": {
             "fill": {
              "color": "#C8D4E3"
             },
             "line": {
              "color": "white"
             }
            },
            "type": "table"
           }
          ]
         },
         "layout": {
          "annotationdefaults": {
           "arrowcolor": "#2a3f5f",
           "arrowhead": 0,
           "arrowwidth": 1
          },
          "autotypenumbers": "strict",
          "coloraxis": {
           "colorbar": {
            "outlinewidth": 0,
            "ticks": ""
           }
          },
          "colorscale": {
           "diverging": [
            [
             0,
             "#8e0152"
            ],
            [
             0.1,
             "#c51b7d"
            ],
            [
             0.2,
             "#de77ae"
            ],
            [
             0.3,
             "#f1b6da"
            ],
            [
             0.4,
             "#fde0ef"
            ],
            [
             0.5,
             "#f7f7f7"
            ],
            [
             0.6,
             "#e6f5d0"
            ],
            [
             0.7,
             "#b8e186"
            ],
            [
             0.8,
             "#7fbc41"
            ],
            [
             0.9,
             "#4d9221"
            ],
            [
             1,
             "#276419"
            ]
           ],
           "sequential": [
            [
             0,
             "#0d0887"
            ],
            [
             0.1111111111111111,
             "#46039f"
            ],
            [
             0.2222222222222222,
             "#7201a8"
            ],
            [
             0.3333333333333333,
             "#9c179e"
            ],
            [
             0.4444444444444444,
             "#bd3786"
            ],
            [
             0.5555555555555556,
             "#d8576b"
            ],
            [
             0.6666666666666666,
             "#ed7953"
            ],
            [
             0.7777777777777778,
             "#fb9f3a"
            ],
            [
             0.8888888888888888,
             "#fdca26"
            ],
            [
             1,
             "#f0f921"
            ]
           ],
           "sequentialminus": [
            [
             0,
             "#0d0887"
            ],
            [
             0.1111111111111111,
             "#46039f"
            ],
            [
             0.2222222222222222,
             "#7201a8"
            ],
            [
             0.3333333333333333,
             "#9c179e"
            ],
            [
             0.4444444444444444,
             "#bd3786"
            ],
            [
             0.5555555555555556,
             "#d8576b"
            ],
            [
             0.6666666666666666,
             "#ed7953"
            ],
            [
             0.7777777777777778,
             "#fb9f3a"
            ],
            [
             0.8888888888888888,
             "#fdca26"
            ],
            [
             1,
             "#f0f921"
            ]
           ]
          },
          "colorway": [
           "#636efa",
           "#EF553B",
           "#00cc96",
           "#ab63fa",
           "#FFA15A",
           "#19d3f3",
           "#FF6692",
           "#B6E880",
           "#FF97FF",
           "#FECB52"
          ],
          "font": {
           "color": "#2a3f5f"
          },
          "geo": {
           "bgcolor": "white",
           "lakecolor": "white",
           "landcolor": "#E5ECF6",
           "showlakes": true,
           "showland": true,
           "subunitcolor": "white"
          },
          "hoverlabel": {
           "align": "left"
          },
          "hovermode": "closest",
          "mapbox": {
           "style": "light"
          },
          "paper_bgcolor": "white",
          "plot_bgcolor": "#E5ECF6",
          "polar": {
           "angularaxis": {
            "gridcolor": "white",
            "linecolor": "white",
            "ticks": ""
           },
           "bgcolor": "#E5ECF6",
           "radialaxis": {
            "gridcolor": "white",
            "linecolor": "white",
            "ticks": ""
           }
          },
          "scene": {
           "xaxis": {
            "backgroundcolor": "#E5ECF6",
            "gridcolor": "white",
            "gridwidth": 2,
            "linecolor": "white",
            "showbackground": true,
            "ticks": "",
            "zerolinecolor": "white"
           },
           "yaxis": {
            "backgroundcolor": "#E5ECF6",
            "gridcolor": "white",
            "gridwidth": 2,
            "linecolor": "white",
            "showbackground": true,
            "ticks": "",
            "zerolinecolor": "white"
           },
           "zaxis": {
            "backgroundcolor": "#E5ECF6",
            "gridcolor": "white",
            "gridwidth": 2,
            "linecolor": "white",
            "showbackground": true,
            "ticks": "",
            "zerolinecolor": "white"
           }
          },
          "shapedefaults": {
           "line": {
            "color": "#2a3f5f"
           }
          },
          "ternary": {
           "aaxis": {
            "gridcolor": "white",
            "linecolor": "white",
            "ticks": ""
           },
           "baxis": {
            "gridcolor": "white",
            "linecolor": "white",
            "ticks": ""
           },
           "bgcolor": "#E5ECF6",
           "caxis": {
            "gridcolor": "white",
            "linecolor": "white",
            "ticks": ""
           }
          },
          "title": {
           "x": 0.05
          },
          "xaxis": {
           "automargin": true,
           "gridcolor": "white",
           "linecolor": "white",
           "ticks": "",
           "title": {
            "standoff": 15
           },
           "zerolinecolor": "white",
           "zerolinewidth": 2
          },
          "yaxis": {
           "automargin": true,
           "gridcolor": "white",
           "linecolor": "white",
           "ticks": "",
           "title": {
            "standoff": 15
           },
           "zerolinecolor": "white",
           "zerolinewidth": 2
          }
         }
        },
        "title": {
         "text": "3D PCA Scatter Plot"
        }
       }
      }
     },
     "metadata": {},
     "output_type": "display_data"
    }
   ],
   "source": [
    "# should labels be fixed or not\n",
    "removed_dark_labeled_data = marions_labeled_data[marions_labeled_data[ylabel_name] != 'ES-D'].copy()\n",
    "# print('ES-D' in removed_dark_labeled_data['marions_ylabels_2'].values)\n",
    "removed_dark_label_centroids = find_labels_centroids(removed_dark_labeled_data, ylabel_to_cluster_num, ylabel_name)\n",
    "removed_dark_pseudo_data = find_closest_centroid(data_features, removed_dark_label_centroids, ylabel_name)\n",
    "# print(print('ES-D' in removed_dark_pseudo_data['pseudo_marions_ylabels_2'].values))\n",
    "changed_ylabel_idxs = find_changed_ylabel_data(removed_dark_labeled_data, removed_dark_pseudo_data, ylabel_name)\n",
    "corrected_removed_dark_pseudo_data = correct_pseudo_ylabels_to_actual(removed_dark_pseudo_data, marions_labeled_data, ylabel_name, changed_ylabel_idxs)\n",
    "# print(corrected_removed_dark_pseudo_data)\n",
    "plotting.plot_clusters_seperately(corrected_removed_dark_pseudo_data[f'pseudo_{ylabel_name}_nums'], curve_data, ylabel_name, cluster_category_names=list(ylabel_to_cluster_num.keys()), pseudo_corrections=removed_dark_labeled_data)\n",
    "# print(removed_dark_label_centroids)\n",
    "plotting.plot_pca(corrected_removed_dark_pseudo_data, corrected_removed_dark_pseudo_data[f'pseudo_{ylabel_name}_nums'], 3, graph_title=\"\", ylabel_name=ylabel_name, centroids=removed_dark_label_centroids)"
   ]
  }
 ],
 "metadata": {
  "kernelspec": {
   "display_name": "env3.13",
   "language": "python",
   "name": "python3"
  },
  "language_info": {
   "codemirror_mode": {
    "name": "ipython",
    "version": 3
   },
   "file_extension": ".py",
   "mimetype": "text/x-python",
   "name": "python",
   "nbconvert_exporter": "python",
   "pygments_lexer": "ipython3",
   "version": "3.13.1"
  }
 },
 "nbformat": 4,
 "nbformat_minor": 5
}

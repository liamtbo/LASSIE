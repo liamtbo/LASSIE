{
 "cells": [
  {
   "cell_type": "code",
   "execution_count": 81,
   "id": "38dc9f62",
   "metadata": {},
   "outputs": [],
   "source": [
    "import pandas as pd\n",
    "import os\n",
    "import plotting\n",
    "import importlib\n",
    "importlib.reload(plotting)\n",
    "import math\n",
    "from typing import List\n",
    "pd.options.display.max_rows = 4000"
   ]
  },
  {
   "cell_type": "code",
   "execution_count": 82,
   "id": "28145bf8",
   "metadata": {},
   "outputs": [],
   "source": [
    "def load_data(data_src):\n",
    "    curve_data = [] # used for plotting\n",
    "    filename_list = []\n",
    "    for filename in os.listdir(data_src):\n",
    "        df = pd.read_csv(f\"{data_src}/{filename}\")\n",
    "        curve_data.append(df)\n",
    "        filename_list.append(filename)\n",
    "    return curve_data, filename_list\n",
    "\n",
    "data_src = \"data/cleaned_data\"\n",
    "curve_data, filename_list = load_data(data_src)\n",
    "filename_to_depth_resist = dict(zip(filename_list, curve_data))"
   ]
  },
  {
   "cell_type": "code",
   "execution_count": 83,
   "id": "ddf10886",
   "metadata": {},
   "outputs": [
    {
     "name": "stdout",
     "output_type": "stream",
     "text": [
      "marions_labeled_data: \n",
      "   max_depth  max_resistance  num_peaks  largest_force_drop  curve_shape  \\\n",
      "0  -0.406696        0.739042  -0.696539           -0.667883     0.729832   \n",
      "2   0.562019       -0.214852  -0.696539            0.019005    -0.863595   \n",
      "8  -0.706037        0.819788  -0.696539           -0.892456     0.958138   \n",
      "\n",
      "             filenames marions_ylabels marions_ylabels_deduction  \n",
      "0  WS23_L3_T1_P_16.csv            ES-B                      ES-B  \n",
      "2   WS23_L2_T1_P_4.csv              LS                        LS  \n",
      "8  WS23_L3_T1_P_11.csv              ES                        ES  \n"
     ]
    }
   ],
   "source": [
    "data_features = pd.read_csv(\"data/features.csv\")\n",
    "data_features = plotting.extract_needed_cols(data_features, remove_cols=['feifeis_ylabels', 'liams_ylabels', 'distances'])\n",
    "clustering_features = plotting.extract_numerical_features(data_features)\n",
    "\n",
    "\n",
    "ylabel_name = 'marions_ylabels'\n",
    "# ylabel_name = 'marions_ylabels_deduction'\n",
    "ylabel_to_cluster_num = {'ES-B':0, 'ES-BW':1, 'ES-S':2, 'ES-S-Plates':3, 'ES-D':4, 'LS':5, 'F':6, 'LS/F':7, 'ES-DB':8, 'ES': 9}\n",
    "marions_labeled_data = data_features[data_features[ylabel_name].notna()].copy() # removes NaN's which correspond to non-labled data\n",
    "print(f'marions_labeled_data: \\n{marions_labeled_data[:3]}')"
   ]
  },
  {
   "cell_type": "code",
   "execution_count": 84,
   "id": "b223ccc1",
   "metadata": {},
   "outputs": [
    {
     "name": "stdout",
     "output_type": "stream",
     "text": [
      "label_centroids:    max_depth  max_resistance  num_peaks  largest_force_drop  curve_shape  \\\n",
      "0   0.483674       -0.667625   0.758579            1.222541    -0.242044   \n",
      "1   1.073232       -0.741647   0.997133            1.350072    -1.201000   \n",
      "2   0.213622       -0.005907  -0.158188           -0.453253     0.611964   \n",
      "\n",
      "  marions_ylabels  marions_ylabels_nums  \n",
      "0            ES-B                     0  \n",
      "1           ES-BW                     1  \n",
      "2            ES-S                     2  \n"
     ]
    }
   ],
   "source": [
    "def find_labels_centroids(labeled_data: pd.DataFrame, ylabel_to_cluster_num:dict[str,int], ylabel_name:str) -> pd.DataFrame:\n",
    "    labeled_data = labeled_data.copy()\n",
    "    numerical_data = plotting.extract_numerical_features(labeled_data)\n",
    "    label_centroids = []\n",
    "    for label, label_num in ylabel_to_cluster_num.items():\n",
    "        if label not in labeled_data[ylabel_name].values: continue\n",
    "        label_data = numerical_data[labeled_data[ylabel_name] == label]\n",
    "        label_centroid = label_data.mean(axis=0).tolist() # drop cols for mean calculation\n",
    "        label_centroid.extend([label, label_num]) # append these onto the end\n",
    "        label_centroids.append(label_centroid)\n",
    "    return_cols = numerical_data.columns.tolist()\n",
    "    return_cols.extend([ylabel_name, f'{ylabel_name}_nums'])\n",
    "    return pd.DataFrame(data=label_centroids, columns=return_cols)\n",
    "\n",
    "label_centroids = find_labels_centroids(marions_labeled_data, ylabel_to_cluster_num, ylabel_name)\n",
    "print(f'label_centroids: {label_centroids[:3]}')"
   ]
  },
  {
   "cell_type": "code",
   "execution_count": 85,
   "id": "ffbe018c",
   "metadata": {},
   "outputs": [
    {
     "name": "stdout",
     "output_type": "stream",
     "text": [
      "pseudo_labeled_data: \n",
      "   max_depth  max_resistance  num_peaks  largest_force_drop  curve_shape  \\\n",
      "0  -0.406696        0.739042  -0.696539           -0.667883     0.729832   \n",
      "1  -0.422131        0.660764  -0.696539            0.422346    -0.659030   \n",
      "2   0.562019       -0.214852  -0.696539            0.019005    -0.863595   \n",
      "\n",
      "  pseudo_marions_ylabels  pseudo_marions_ylabels_nums            filenames  \\\n",
      "0                      F                            6  WS23_L3_T1_P_16.csv   \n",
      "1                      F                            6   WS23_L2_T2_P_3.csv   \n",
      "2                     LS                            5   WS23_L2_T1_P_4.csv   \n",
      "\n",
      "  marions_ylabels marions_ylabels_deduction  \n",
      "0            ES-B                      ES-B  \n",
      "1             NaN                       NaN  \n",
      "2              LS                        LS  \n"
     ]
    }
   ],
   "source": [
    "def euclidean_distance(x: pd.Series, y: pd.Series) -> float:\n",
    "    return math.sqrt(((y - x) ** 2).sum())\n",
    "\n",
    "def find_closest_centroid(unlabeled_data:pd.DataFrame, marions_centroids:pd.DataFrame, ylabel_name) -> pd.DataFrame:\n",
    "    unlabeled_num_data = plotting.extract_numerical_features(unlabeled_data) # returns a new object\n",
    "    unlabeled_non_num_data = unlabeled_data.drop(unlabeled_num_data.columns, axis=1)\n",
    "    \n",
    "    pseudo_label_list = []\n",
    "    pseudo_label_num_list = []\n",
    "    unlabeled_num_data = unlabeled_num_data.copy()\n",
    "    for i, depth_res_curve in unlabeled_num_data.iterrows():\n",
    "        min_distance = float('inf')\n",
    "        min_distance_label = ''\n",
    "        min_distance_label_num = 0\n",
    "        for j, marions_label_centroid in marions_centroids.iterrows():\n",
    "            curve_to_label_mean_distance = euclidean_distance(depth_res_curve, marions_label_centroid)\n",
    "            if curve_to_label_mean_distance < min_distance:\n",
    "                min_distance = curve_to_label_mean_distance\n",
    "                min_distance_label = marions_label_centroid[ylabel_name]\n",
    "                min_distance_label_num = marions_label_centroid[f'{ylabel_name}_nums']\n",
    "        pseudo_label_list.append(min_distance_label)\n",
    "        pseudo_label_num_list.append(min_distance_label_num)\n",
    "    unlabeled_num_data[f'pseudo_{ylabel_name}'] = pseudo_label_list\n",
    "    unlabeled_num_data[f'pseudo_{ylabel_name}_nums'] = pseudo_label_num_list\n",
    "\n",
    "    return pd.concat([unlabeled_num_data, unlabeled_non_num_data], axis=1)\n",
    "\n",
    "pseudo_labeled_data = find_closest_centroid(data_features, label_centroids, ylabel_name)\n",
    "print(f'pseudo_labeled_data: \\n{pseudo_labeled_data[:3]}')"
   ]
  },
  {
   "cell_type": "code",
   "execution_count": 86,
   "id": "28a6dbf4",
   "metadata": {},
   "outputs": [
    {
     "name": "stdout",
     "output_type": "stream",
     "text": [
      "WS23_L3_T1_P_16.csv changed label ES-B -> F\n",
      "WS23_L3_T1_P_11.csv changed label ES -> F\n",
      "WS23_L2_T1_P_12.csv changed label ES-S -> LS/F\n",
      "WS23_L2_T1_P_9.csv changed label ES-S -> LS\n",
      "WS23_L2_T1_P_13.csv changed label ES-D -> ES\n",
      "WS23_L2_T1_P_6.csv changed label ES-D -> LS\n",
      "WS23_L2_T1_P_2.csv changed label LS -> ES-D\n",
      "WS23_L2_T1_P_10.csv changed label ES-D -> F\n",
      "WS23_L3_T1_P_15.csv changed label ES-D -> ES-S\n",
      "WS23_L3_T1_P_1.csv changed label ES-B -> ES-S-Plates\n",
      "WS23_L3_T1_P_0.csv changed label LS -> ES-S-Plates\n",
      "WS23_L3_T1_P_13.csv changed label F -> ES-D\n",
      "WS23_L2_T1_P_1.csv changed label LS -> ES-S-Plates\n",
      "WS23_L3_T1_P_3.csv changed label ES-S -> ES-S-Plates\n",
      "WS23_L2_T1_P_3.csv changed label ES-D -> ES-S-Plates\n",
      "WS23_L3_T1_P_22.csv changed label ES -> F\n",
      "WS23_L3_T1_P_2.csv changed label ES-B -> ES-DB\n",
      "WS23_L3_T1_P_5.csv changed label ES-B -> ES-BW\n",
      "WS23_L2_T1_P_15.csv changed label ES-D -> F\n",
      "WS23_L3_T1_P_14.csv changed label ES-D -> ES-BW\n",
      "WS23_L3_T1_P_23.csv changed label LS -> LS/F\n",
      "WS23_L3_T1_P_7.csv changed label ES-B -> ES-BW\n",
      "WS23_L2_T1_P_17.csv changed label ES-S -> ES-S-Plates\n",
      "WS23_L3_T1_P_21.csv changed label ES -> ES-DB\n",
      "WS23_L2_T1_P_11.csv changed label ES-D -> F\n",
      "WS23_L3_T1_P_10.csv changed label ES-D -> ES-DB\n",
      "WS23_L2_T1_P_7.csv changed label ES-D -> ES-BW\n",
      "changed_ylabel_idxs: [0, 8, 13, 15, 16, 19, 22, 33, 37, 39, 41, 43, 44, 46, 47, 48, 49, 53, 54, 55, 62, 63, 68, 71, 72, 74, 77]\n"
     ]
    }
   ],
   "source": [
    "def find_changed_ylabel_data(labeled_data:pd.DataFrame, pseudo_labeled_data:pd.DataFrame, ylabel_name:str):\n",
    "    ylabel_idxs = labeled_data.index # idxs of labeled data points\n",
    "    pseudo_labels_of_labeled_data = pseudo_labeled_data.loc[ylabel_idxs]\n",
    "    diff_mask = (labeled_data[ylabel_name] != pseudo_labels_of_labeled_data[f'pseudo_{ylabel_name}'])\n",
    "    changed_label_idxs = labeled_data[diff_mask].index.tolist()\n",
    "    for i in changed_label_idxs:\n",
    "        print(f'{labeled_data['filenames'].loc[i]} changed label {labeled_data[f'{ylabel_name}'].loc[i]} -> {pseudo_labeled_data[f'pseudo_{ylabel_name}'].loc[i]}')\n",
    "    return changed_label_idxs\n",
    "\n",
    "changed_ylabel_idxs = find_changed_ylabel_data(marions_labeled_data, pseudo_labeled_data, ylabel_name)\n",
    "print(f'changed_ylabel_idxs: {changed_ylabel_idxs}')"
   ]
  },
  {
   "cell_type": "markdown",
   "id": "88b40798",
   "metadata": {},
   "source": [
    "# Plot Labeled Data Only"
   ]
  },
  {
   "cell_type": "code",
   "execution_count": 87,
   "id": "5a7c2330",
   "metadata": {},
   "outputs": [],
   "source": [
    "marions_labeled_data[f'{ylabel_name}_nums'] = marions_labeled_data[ylabel_name].map(ylabel_to_cluster_num)\n",
    "# plotting.get_curve_idx_from_cluster_color('purple', marions_labeled_data[f'{ylabel_name}_nums'], marions_labeled_data.index, data_features)\n",
    "\n",
    "# plotting.plot_clusters_seperately(marions_labeled_data[f'{ylabel_name}_nums'], curve_data, ylabel_name,\n",
    "#                                   cluster_category_names=list(ylabel_to_cluster_num.keys()),\n",
    "#                                   bold_idxs=marions_labeled_data.index.tolist()) \n",
    "# plotting.plot_pca(marions_labeled_data, marions_labeled_data[f'{ylabel_name}_nums'], graph_title=\"Clustering Labeled Data\", num_pc=3, ylabel_name=ylabel_name, centroids=label_centroids)"
   ]
  },
  {
   "cell_type": "markdown",
   "id": "9e8f6973",
   "metadata": {},
   "source": [
    "# Plot Corrected Labeling"
   ]
  },
  {
   "cell_type": "code",
   "execution_count": 88,
   "id": "6d79d33d",
   "metadata": {},
   "outputs": [],
   "source": [
    "# def correct_pseudo_ylabels_to_actual(pseudo_labeled_data:pd.DataFrame, actual_labeled_data:pd.DataFrame, ylabel_name, changed_ylabel_idxs):\n",
    "#     corrected_pseudo_labeled_data = pseudo_labeled_data.copy()\n",
    "#     corrected_pseudo_labeled_data.loc[changed_ylabel_idxs, f'pseudo_{ylabel_name}'] = actual_labeled_data[ylabel_name]\n",
    "#     corrected_pseudo_labeled_data.loc[changed_ylabel_idxs, f'pseudo_{ylabel_name}_nums'] = actual_labeled_data[f'{ylabel_name}_nums']\n",
    "#     return corrected_pseudo_labeled_data\n",
    "\n",
    "# corrected_pseudo_labeled_data = correct_pseudo_ylabels_to_actual(pseudo_labeled_data, marions_labeled_data, ylabel_name, changed_ylabel_idxs)\n",
    "\n",
    "# plotting.plot_clusters_seperately(corrected_pseudo_labeled_data[f'pseudo_{ylabel_name}_nums'], \n",
    "#                                   curve_data, ylabel_name, cluster_category_names=list(ylabel_to_cluster_num.keys()), \n",
    "#                                   pseudo_corrections=marions_labeled_data)\n",
    "# plotting.plot_pca(corrected_pseudo_labeled_data, corrected_pseudo_labeled_data[f'pseudo_{ylabel_name}_nums'], graph_title=\"Clustering Corrected Pseudo Labeled Data\", num_pc=3, ylabel_name=ylabel_name, centroids=label_centroids)\n"
   ]
  },
  {
   "cell_type": "markdown",
   "id": "c6833aba",
   "metadata": {},
   "source": [
    "# Plot Un-corrected Labeling"
   ]
  },
  {
   "cell_type": "code",
   "execution_count": 89,
   "id": "16b1a04d",
   "metadata": {},
   "outputs": [],
   "source": [
    "\n",
    "# plotting.plot_clusters_seperately(pseudo_labeled_data[f'pseudo_{ylabel_name}_nums'],\n",
    "#                                   curve_data, ylabel_name, cluster_category_names=list(ylabel_to_cluster_num.keys()),\n",
    "#                                   pseudo_corrections=marions_labeled_data)\n",
    "# plotting.plot_clusters_seperately(pseudo_labeled_data[f'pseudo_{ylabel_name}_nums'],\n",
    "#                                   curve_data, ylabel_name, cluster_category_names=list(ylabel_to_cluster_num.keys()),)\n",
    "# plotting.plot_clusters_seperately(pseudo_labeled_data[f'pseudo_{ylabel_name}_nums'],\n",
    "#                                   curve_data, ylabel_name, cluster_category_names=list(ylabel_to_cluster_num.keys()),\n",
    "#                                   bold_idxs=marions_labeled_data.index)\n",
    "# plotting.plot_pca(pseudo_labeled_data, pseudo_labeled_data[f'pseudo_{ylabel_name}_nums'], graph_title=\"Clustering Un-corrected Pseudo Labeled Data\", num_pc=3, ylabel_name=ylabel_name, centroids=label_centroids)\n"
   ]
  },
  {
   "cell_type": "markdown",
   "id": "c4c5a5a0",
   "metadata": {},
   "source": [
    "# Clustering data with ES-D removed (Corrected)"
   ]
  },
  {
   "cell_type": "code",
   "execution_count": null,
   "id": "0be52c13",
   "metadata": {},
   "outputs": [
    {
     "name": "stdout",
     "output_type": "stream",
     "text": [
      "Uncorrected\n",
      "   max_depth  max_resistance  num_peaks  largest_force_drop  curve_shape  \\\n",
      "0  -0.406696        0.739042  -0.696539           -0.667883     0.729832   \n",
      "1  -0.422131        0.660764  -0.696539            0.422346    -0.659030   \n",
      "2   0.562019       -0.214852  -0.696539            0.019005    -0.863595   \n",
      "\n",
      "  pseudo_marions_ylabels  pseudo_marions_ylabels_nums            filenames  \\\n",
      "0                      F                            6  WS23_L3_T1_P_16.csv   \n",
      "1                      F                            6   WS23_L2_T2_P_3.csv   \n",
      "2                     LS                            5   WS23_L2_T1_P_4.csv   \n",
      "\n",
      "  marions_ylabels marions_ylabels_deduction  \n",
      "0            ES-B                      ES-B  \n",
      "1             NaN                       NaN  \n",
      "2              LS                        LS  \n"
     ]
    },
    {
     "ename": "KeyError",
     "evalue": "'marions_ylabels_nums'",
     "output_type": "error",
     "traceback": [
      "\u001b[31m---------------------------------------------------------------------------\u001b[39m",
      "\u001b[31mKeyError\u001b[39m                                  Traceback (most recent call last)",
      "\u001b[36mFile \u001b[39m\u001b[32m~/anaconda3/envs/env3.13/lib/python3.13/site-packages/pandas/core/indexes/base.py:3812\u001b[39m, in \u001b[36mIndex.get_loc\u001b[39m\u001b[34m(self, key)\u001b[39m\n\u001b[32m   3811\u001b[39m \u001b[38;5;28;01mtry\u001b[39;00m:\n\u001b[32m-> \u001b[39m\u001b[32m3812\u001b[39m     \u001b[38;5;28;01mreturn\u001b[39;00m \u001b[38;5;28;43mself\u001b[39;49m\u001b[43m.\u001b[49m\u001b[43m_engine\u001b[49m\u001b[43m.\u001b[49m\u001b[43mget_loc\u001b[49m\u001b[43m(\u001b[49m\u001b[43mcasted_key\u001b[49m\u001b[43m)\u001b[49m\n\u001b[32m   3813\u001b[39m \u001b[38;5;28;01mexcept\u001b[39;00m \u001b[38;5;167;01mKeyError\u001b[39;00m \u001b[38;5;28;01mas\u001b[39;00m err:\n",
      "\u001b[36mFile \u001b[39m\u001b[32mindex.pyx:167\u001b[39m, in \u001b[36mpandas._libs.index.IndexEngine.get_loc\u001b[39m\u001b[34m()\u001b[39m\n",
      "\u001b[36mFile \u001b[39m\u001b[32mindex.pyx:196\u001b[39m, in \u001b[36mpandas._libs.index.IndexEngine.get_loc\u001b[39m\u001b[34m()\u001b[39m\n",
      "\u001b[36mFile \u001b[39m\u001b[32mpandas/_libs/hashtable_class_helper.pxi:7088\u001b[39m, in \u001b[36mpandas._libs.hashtable.PyObjectHashTable.get_item\u001b[39m\u001b[34m()\u001b[39m\n",
      "\u001b[36mFile \u001b[39m\u001b[32mpandas/_libs/hashtable_class_helper.pxi:7096\u001b[39m, in \u001b[36mpandas._libs.hashtable.PyObjectHashTable.get_item\u001b[39m\u001b[34m()\u001b[39m\n",
      "\u001b[31mKeyError\u001b[39m: 'marions_ylabels_nums'",
      "\nThe above exception was the direct cause of the following exception:\n",
      "\u001b[31mKeyError\u001b[39m                                  Traceback (most recent call last)",
      "\u001b[36mCell\u001b[39m\u001b[36m \u001b[39m\u001b[32mIn[90]\u001b[39m\u001b[32m, line 42\u001b[39m\n\u001b[32m     21\u001b[39m \u001b[38;5;28mprint\u001b[39m(\u001b[33m'\u001b[39m\u001b[33mUncorrected\u001b[39m\u001b[33m'\u001b[39m)\n\u001b[32m     22\u001b[39m \u001b[38;5;66;03m# find_changed_ylabel_data(marions_labeled_data_esd_removed, pseudo_data_esd_removed, ylabel_name)\u001b[39;00m\n\u001b[32m     23\u001b[39m \u001b[38;5;66;03m# print(pseudo_data_esd_removed[['filenames', f'pseudo_{ylabel_name}']])\u001b[39;00m\n\u001b[32m     24\u001b[39m \u001b[38;5;66;03m# print(pseudo_data_esd_removed.loc[marions_labeled_data_esd_removed.index][['filenames', f'pseudo_{ylabel_name}']])\u001b[39;00m\n\u001b[32m   (...)\u001b[39m\u001b[32m     40\u001b[39m \u001b[38;5;66;03m# ylabel_to_cluster_num = {'ES-B':0, 'ES-BW':1, 'ES-S':2, 'ES-S-Plates':3, 'ES-D':4, 'LS':5, 'F':6, 'LS/F':7, 'ES-DB':8, 'ES': 9}\u001b[39;00m\n\u001b[32m     41\u001b[39m \u001b[38;5;66;03m# print(pseudo_data_esd_removed[:3])\u001b[39;00m\n\u001b[32m---> \u001b[39m\u001b[32m42\u001b[39m \u001b[43mplotting\u001b[49m\u001b[43m.\u001b[49m\u001b[43mplot_pca_steps\u001b[49m\u001b[43m(\u001b[49m\u001b[43mpseudo_data_esd_removed\u001b[49m\u001b[43m,\u001b[49m\u001b[43m \u001b[49m\u001b[43mpseudo_data_esd_removed\u001b[49m\u001b[43m[\u001b[49m\u001b[33;43mf\u001b[39;49m\u001b[33;43m'\u001b[39;49m\u001b[33;43mpseudo_\u001b[39;49m\u001b[38;5;132;43;01m{\u001b[39;49;00m\u001b[43mylabel_name\u001b[49m\u001b[38;5;132;43;01m}\u001b[39;49;00m\u001b[33;43m_nums\u001b[39;49m\u001b[33;43m'\u001b[39;49m\u001b[43m]\u001b[49m\u001b[43m,\u001b[49m\u001b[43m \u001b[49m\u001b[32;43m3\u001b[39;49m\u001b[43m,\u001b[49m\u001b[43m \u001b[49m\u001b[43mgraph_title\u001b[49m\u001b[43m=\u001b[49m\u001b[33;43m\"\u001b[39;49m\u001b[33;43m\"\u001b[39;49m\u001b[43m,\u001b[49m\u001b[43m \u001b[49m\u001b[43mylabel_name\u001b[49m\u001b[43m=\u001b[49m\u001b[43mylabel_name\u001b[49m\u001b[43m,\u001b[49m\u001b[43m \u001b[49m\u001b[43mcentroids\u001b[49m\u001b[43m=\u001b[49m\u001b[43mlabel_centroids_esd_removed\u001b[49m\u001b[43m,\u001b[49m\n\u001b[32m     43\u001b[39m \u001b[43m                \u001b[49m\u001b[43monly_plot_cluster_labels\u001b[49m\u001b[43m=\u001b[49m\u001b[43m[\u001b[49m\u001b[32;43m3\u001b[39;49m\u001b[43m,\u001b[49m\u001b[32;43m6\u001b[39;49m\u001b[43m]\u001b[49m\u001b[43m)\u001b[49m\n",
      "\u001b[36mFile \u001b[39m\u001b[32m~/Desktop/lassie/plotting.py:196\u001b[39m, in \u001b[36mplot_pca_steps\u001b[39m\u001b[34m(clustering_features, y_labels, num_pc, graph_title, ylabel_name, centroids, only_plot_cluster_labels)\u001b[39m\n\u001b[32m    193\u001b[39m specified_clusters_centroid_colors = pd.Series(centroid_colors)[specified_clusters_centroids_mask].tolist()\n\u001b[32m    195\u001b[39m \u001b[38;5;28mprint\u001b[39m(clustering_features[:\u001b[32m3\u001b[39m])\n\u001b[32m--> \u001b[39m\u001b[32m196\u001b[39m labeled_data_mask = \u001b[43mclustering_features\u001b[49m\u001b[43m[\u001b[49m\u001b[33;43mf\u001b[39;49m\u001b[33;43m'\u001b[39;49m\u001b[38;5;132;43;01m{\u001b[39;49;00m\u001b[43mylabel_name\u001b[49m\u001b[38;5;132;43;01m}\u001b[39;49;00m\u001b[33;43m_nums\u001b[39;49m\u001b[33;43m'\u001b[39;49m\u001b[43m]\u001b[49m.isin(only_plot_cluster_labels)\n\u001b[32m    197\u001b[39m \u001b[38;5;66;03m# specified_clusters_labeled_data_mask = specified_clusters_mask[labeled_data_mask]\u001b[39;00m\n\u001b[32m    198\u001b[39m \u001b[38;5;66;03m# specified_clusters_labeled_data = clustering_features[specified_clusters_labeled_data_mask]\u001b[39;00m\n\u001b[32m    199\u001b[39m \u001b[38;5;66;03m# print(specified_clusters_labeled_data)\u001b[39;00m\n\u001b[32m    201\u001b[39m point_indicies = [\u001b[38;5;28mstr\u001b[39m(i) \u001b[38;5;28;01mfor\u001b[39;00m i \u001b[38;5;129;01min\u001b[39;00m clustering_num_features.index]\n",
      "\u001b[36mFile \u001b[39m\u001b[32m~/anaconda3/envs/env3.13/lib/python3.13/site-packages/pandas/core/frame.py:4107\u001b[39m, in \u001b[36mDataFrame.__getitem__\u001b[39m\u001b[34m(self, key)\u001b[39m\n\u001b[32m   4105\u001b[39m \u001b[38;5;28;01mif\u001b[39;00m \u001b[38;5;28mself\u001b[39m.columns.nlevels > \u001b[32m1\u001b[39m:\n\u001b[32m   4106\u001b[39m     \u001b[38;5;28;01mreturn\u001b[39;00m \u001b[38;5;28mself\u001b[39m._getitem_multilevel(key)\n\u001b[32m-> \u001b[39m\u001b[32m4107\u001b[39m indexer = \u001b[38;5;28;43mself\u001b[39;49m\u001b[43m.\u001b[49m\u001b[43mcolumns\u001b[49m\u001b[43m.\u001b[49m\u001b[43mget_loc\u001b[49m\u001b[43m(\u001b[49m\u001b[43mkey\u001b[49m\u001b[43m)\u001b[49m\n\u001b[32m   4108\u001b[39m \u001b[38;5;28;01mif\u001b[39;00m is_integer(indexer):\n\u001b[32m   4109\u001b[39m     indexer = [indexer]\n",
      "\u001b[36mFile \u001b[39m\u001b[32m~/anaconda3/envs/env3.13/lib/python3.13/site-packages/pandas/core/indexes/base.py:3819\u001b[39m, in \u001b[36mIndex.get_loc\u001b[39m\u001b[34m(self, key)\u001b[39m\n\u001b[32m   3814\u001b[39m     \u001b[38;5;28;01mif\u001b[39;00m \u001b[38;5;28misinstance\u001b[39m(casted_key, \u001b[38;5;28mslice\u001b[39m) \u001b[38;5;129;01mor\u001b[39;00m (\n\u001b[32m   3815\u001b[39m         \u001b[38;5;28misinstance\u001b[39m(casted_key, abc.Iterable)\n\u001b[32m   3816\u001b[39m         \u001b[38;5;129;01mand\u001b[39;00m \u001b[38;5;28many\u001b[39m(\u001b[38;5;28misinstance\u001b[39m(x, \u001b[38;5;28mslice\u001b[39m) \u001b[38;5;28;01mfor\u001b[39;00m x \u001b[38;5;129;01min\u001b[39;00m casted_key)\n\u001b[32m   3817\u001b[39m     ):\n\u001b[32m   3818\u001b[39m         \u001b[38;5;28;01mraise\u001b[39;00m InvalidIndexError(key)\n\u001b[32m-> \u001b[39m\u001b[32m3819\u001b[39m     \u001b[38;5;28;01mraise\u001b[39;00m \u001b[38;5;167;01mKeyError\u001b[39;00m(key) \u001b[38;5;28;01mfrom\u001b[39;00m\u001b[38;5;250m \u001b[39m\u001b[34;01merr\u001b[39;00m\n\u001b[32m   3820\u001b[39m \u001b[38;5;28;01mexcept\u001b[39;00m \u001b[38;5;167;01mTypeError\u001b[39;00m:\n\u001b[32m   3821\u001b[39m     \u001b[38;5;66;03m# If we have a listlike key, _check_indexing_error will raise\u001b[39;00m\n\u001b[32m   3822\u001b[39m     \u001b[38;5;66;03m#  InvalidIndexError. Otherwise we fall through and re-raise\u001b[39;00m\n\u001b[32m   3823\u001b[39m     \u001b[38;5;66;03m#  the TypeError.\u001b[39;00m\n\u001b[32m   3824\u001b[39m     \u001b[38;5;28mself\u001b[39m._check_indexing_error(key)\n",
      "\u001b[31mKeyError\u001b[39m: 'marions_ylabels_nums'"
     ]
    }
   ],
   "source": [
    "# should labels be fixed or not\n",
    "labeled_data_esd_removed = marions_labeled_data[marions_labeled_data[ylabel_name] != 'ES-D'].copy()\n",
    "marions_labeled_data_esd_removed = marions_labeled_data[marions_labeled_data[ylabel_name] != 'ES-D']\n",
    "\n",
    "# print('Labeled data only')\n",
    "# plotting.plot_clusters_seperately(labeled_data_esd_removed[f'{ylabel_name}_nums'], curve_data, ylabel_name, bold_idxs=labeled_data_esd_removed.index.tolist(), cluster_category_names=list(ylabel_to_cluster_num.keys()))\n",
    "\n",
    "# print('ES-D' in labeled_data_esd_removed['marions_ylabels_2'].values)\n",
    "label_centroids_esd_removed = find_labels_centroids(labeled_data_esd_removed, ylabel_to_cluster_num, ylabel_name)\n",
    "pseudo_data_esd_removed = find_closest_centroid(data_features, label_centroids_esd_removed, ylabel_name)\n",
    "\n",
    "# print('Corrected')\n",
    "# print(print('ES-D' in pseudo_data_esd_removed['pseudo_marions_ylabels_2'].values))\n",
    "# changed_ylabel_idxs = find_changed_ylabel_data(labeled_data_esd_removed, pseudo_data_esd_removed, ylabel_name)\n",
    "# corrected_pseudo_data_esd_removed = correct_pseudo_ylabels_to_actual(pseudo_data_esd_removed, marions_labeled_data, ylabel_name, changed_ylabel_idxs)\n",
    "# print(corrected_pseudo_data_esd_removed)\n",
    "# plotting.plot_clusters_seperately(corrected_pseudo_data_esd_removed[f'pseudo_{ylabel_name}_nums'], curve_data, ylabel_name, cluster_category_names=list(ylabel_to_cluster_num.keys()), pseudo_corrections=labeled_data_esd_removed)\n",
    "# print(label_centroids_esd_removed)\n",
    "# plotting.plot_pca(corrected_pseudo_data_esd_removed, corrected_pseudo_data_esd_removed[f'pseudo_{ylabel_name}_nums'], 3, graph_title=\"\", ylabel_name=ylabel_name, centroids=label_centroids_esd_removed)\n",
    "\n",
    "print('Uncorrected')\n",
    "# find_changed_ylabel_data(marions_labeled_data_esd_removed, pseudo_data_esd_removed, ylabel_name)\n",
    "# print(pseudo_data_esd_removed[['filenames', f'pseudo_{ylabel_name}']])\n",
    "# print(pseudo_data_esd_removed.loc[marions_labeled_data_esd_removed.index][['filenames', f'pseudo_{ylabel_name}']])\n",
    "\n",
    "\n",
    "# plotting.get_curve_idx_from_cluster_color('pink', pseudo_data_esd_removed[f'pseudo_{ylabel_name}_nums'], pseudo_data_esd_removed.index, data_features)\n",
    "# plotting.get_curve_idx_from_cluster_color('orange', pseudo_data_esd_removed[f'pseudo_{ylabel_name}_nums'], pseudo_data_esd_removed.index, data_features)\n",
    "# # print(pseudo_data_esd_removed[:3])\n",
    "# indicies = pseudo_data_esd_removed[pseudo_data_esd_removed['filenames'].isin(['WS23_L3_T1_P_23.csv','WS23_L3_T1_P_25.csv'])].index\n",
    "# plotting.plot_specific_curves([indicies.tolist()[0]], curve_data, data_features, color='pink')\n",
    "# plotting.plot_specific_curves([indicies.tolist()[1]], curve_data, data_features, color='orange')\n",
    "\n",
    "\n",
    "# plotting.plot_clusters_seperately(pseudo_data_esd_removed[f'pseudo_{ylabel_name}_nums'], curve_data, ylabel_name, cluster_category_names=list(ylabel_to_cluster_num.keys()), bold_idxs=marions_labeled_data_esd_removed.index)\n",
    "# # print(label_centroids_esd_removed)\n",
    "# plotting.plot_pca(pseudo_data_esd_removed, pseudo_data_esd_removed[f'pseudo_{ylabel_name}_nums'], 3, graph_title=\"\", ylabel_name=ylabel_name, centroids=label_centroids_esd_removed,\n",
    "#                 only_plot_cluster_labels=[])\n",
    "# plotting.pca_analysis(pseudo_data_esd_removed)\n",
    "# ylabel_to_cluster_num = {'ES-B':0, 'ES-BW':1, 'ES-S':2, 'ES-S-Plates':3, 'ES-D':4, 'LS':5, 'F':6, 'LS/F':7, 'ES-DB':8, 'ES': 9}\n",
    "# print(pseudo_data_esd_removed[:3])\n",
    "\n",
    "plotting.plot_pca_steps(pseudo_data_esd_removed, pseudo_data_esd_removed[f'pseudo_{ylabel_name}_nums'], 3, graph_title=\"\", ylabel_name=ylabel_name, centroids=label_centroids_esd_removed,\n",
    "                only_plot_cluster_labels=[3,6])"
   ]
  }
 ],
 "metadata": {
  "kernelspec": {
   "display_name": "env3.13",
   "language": "python",
   "name": "python3"
  },
  "language_info": {
   "codemirror_mode": {
    "name": "ipython",
    "version": 3
   },
   "file_extension": ".py",
   "mimetype": "text/x-python",
   "name": "python",
   "nbconvert_exporter": "python",
   "pygments_lexer": "ipython3",
   "version": "3.13.1"
  }
 },
 "nbformat": 4,
 "nbformat_minor": 5
}

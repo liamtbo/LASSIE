{
 "cells": [
  {
   "cell_type": "code",
   "execution_count": 5,
   "id": "38dc9f62",
   "metadata": {},
   "outputs": [],
   "source": [
    "import pandas as pd\n",
    "import os\n",
    "import plotting\n",
    "import importlib\n",
    "importlib.reload(plotting)\n",
    "import math\n",
    "from typing import List"
   ]
  },
  {
   "cell_type": "code",
   "execution_count": 6,
   "id": "28145bf8",
   "metadata": {},
   "outputs": [],
   "source": [
    "def load_data(data_src):\n",
    "    depth_resist_curve_df_list = [] # used for plotting\n",
    "    filename_list = []\n",
    "    for filename in os.listdir(data_src):\n",
    "        df = pd.read_csv(f\"{data_src}/{filename}\")\n",
    "        depth_resist_curve_df_list.append(df)\n",
    "        filename_list.append(filename)\n",
    "    return depth_resist_curve_df_list, filename_list\n",
    "\n",
    "data_src = \"data/cleaned_data\"\n",
    "depth_resist_curve_df_list, filename_list = load_data(data_src)\n",
    "filename_to_depth_resist = dict(zip(filename_list, depth_resist_curve_df_list))"
   ]
  },
  {
   "cell_type": "code",
   "execution_count": 7,
   "id": "ddf10886",
   "metadata": {},
   "outputs": [],
   "source": [
    "data_features = pd.read_csv(\"data/features.csv\")\n",
    "clustering_features = plotting.extract_numerical_features(data_features)\n",
    "\n",
    "ylabel_name = 'marions_ylabels_2'\n",
    "marions_labeled_data = data_features[data_features[ylabel_name].notna()].copy() # removes NaN's which correspond to non-labled data"
   ]
  },
  {
   "cell_type": "code",
   "execution_count": 10,
   "id": "b223ccc1",
   "metadata": {},
   "outputs": [
    {
     "name": "stdout",
     "output_type": "stream",
     "text": [
      "label_centroids:    max_depth  max_resistance  num_peaks  largest_force_drop  curve_shape  \\\n",
      "0   0.106659       -0.524066   0.864748            1.048346     0.267526   \n",
      "1  -0.939244        1.182363  -0.063796            0.069559     0.306016   \n",
      "2  -0.697985        0.917715  -0.216149           -0.415368     0.044371   \n",
      "\n",
      "  marions_ylabels_2  marions_ylabels_2_nums  \n",
      "0              ES-B                       0  \n",
      "1                ES                       1  \n",
      "2                 F                       2  \n"
     ]
    }
   ],
   "source": [
    "def find_labels_centroids(labeled_data: pd.DataFrame, label_to_cluster_num:dict[str,int], ylabel_name:str) -> pd.DataFrame:\n",
    "    labeled_data = labeled_data.copy()\n",
    "    numerical_data = plotting.extract_numerical_features(labeled_data)\n",
    "    label_centroids = []\n",
    "    for label, label_num in label_to_cluster_num.items():\n",
    "        label_data = numerical_data[labeled_data[ylabel_name] == label]\n",
    "        label_centroid = label_data.mean(axis=0).tolist() # drop cols for mean calculation\n",
    "        label_centroid.extend([label, label_num]) # append these onto the end\n",
    "        label_centroids.append(label_centroid)\n",
    "    return_cols = numerical_data.columns.tolist()\n",
    "    return_cols.extend([ylabel_name, f'{ylabel_name}_nums'])\n",
    "    return pd.DataFrame(data=label_centroids, columns=return_cols)\n",
    "\n",
    "label_to_cluster_num = {'ES-B':0, 'ES':1, 'F':2, 'ES-BW':3, 'ES-D':4, 'LS':5, 'ES-S':6, 'LS/F':7, 'ES-DB':8}\n",
    "label_centroids = find_labels_centroids(marions_labeled_data, label_to_cluster_num, ylabel_name)\n",
    "print(f'label_centroids: {label_centroids[:3]}')"
   ]
  },
  {
   "cell_type": "code",
   "execution_count": 12,
   "id": "ffbe018c",
   "metadata": {},
   "outputs": [
    {
     "name": "stdout",
     "output_type": "stream",
     "text": [
      "pseudo_labeled_data: \n",
      "   max_depth  max_resistance  num_peaks  largest_force_drop  curve_shape  \\\n",
      "0  -0.406696        0.739042  -0.696539           -0.667883     0.729832   \n",
      "1  -0.422131        0.660764  -0.696539            0.422346    -0.659030   \n",
      "2   0.562019       -0.214852  -0.696539            0.019005    -0.863595   \n",
      "\n",
      "  pseudo_marions_ylabels_2  pseudo_marions_ylabels_2_num  \n",
      "0                        F                             2  \n",
      "1                        F                             2  \n",
      "2                       LS                             5  \n"
     ]
    }
   ],
   "source": [
    "def euclidean_distance(x: pd.Series, y: pd.Series) -> float:\n",
    "    return math.sqrt(((y - x) ** 2).sum())\n",
    "\n",
    "def find_closest_centroid(unlabeled_data_df:pd.DataFrame, marions_centroids:pd.DataFrame, ylabel_name) -> pd.DataFrame:\n",
    "    unlabeled_data_df = unlabeled_data_df.copy()\n",
    "    unlabeled_data_df = plotting.extract_numerical_features(unlabeled_data_df)\n",
    "    \n",
    "    pseudo_label_list = []\n",
    "    pseudo_label_num_list = []\n",
    "    unlabeled_data_df = unlabeled_data_df.copy()\n",
    "    for i, depth_res_curve in unlabeled_data_df.iterrows():\n",
    "        min_distance = float('inf')\n",
    "        min_distance_label = ''\n",
    "        min_distance_label_num = 0\n",
    "        for j, marions_label_centroid in marions_centroids.iterrows():\n",
    "            curve_to_label_mean_distance = euclidean_distance(depth_res_curve, marions_label_centroid)\n",
    "            if curve_to_label_mean_distance < min_distance:\n",
    "                min_distance = curve_to_label_mean_distance\n",
    "                min_distance_label = marions_label_centroid[ylabel_name]\n",
    "                min_distance_label_num = j\n",
    "        pseudo_label_list.append(min_distance_label)\n",
    "        pseudo_label_num_list.append(min_distance_label_num)\n",
    "    unlabeled_data_df[f'pseudo_{ylabel_name}'] = pseudo_label_list\n",
    "    unlabeled_data_df[f'pseudo_{ylabel_name}_num'] = pseudo_label_num_list\n",
    "    return unlabeled_data_df\n",
    "\n",
    "pseudo_labeled_data = find_closest_centroid(data_features, label_centroids, ylabel_name)\n",
    "print(f'pseudo_labeled_data: \\n{pseudo_labeled_data[:3]}')"
   ]
  },
  {
   "cell_type": "code",
   "execution_count": 13,
   "id": "28a6dbf4",
   "metadata": {},
   "outputs": [
    {
     "name": "stdout",
     "output_type": "stream",
     "text": [
      "changed_ylabel_indicies: [0, 8, 12, 13, 15, 16, 19, 22, 26, 27, 33, 37, 41, 43, 44, 47, 48, 49, 54, 55, 62, 66, 71, 72, 74, 77]\n"
     ]
    }
   ],
   "source": [
    "def find_changed_label_curves(labeled_data:pd.DataFrame, pseudo_labeled_data:pd.DataFrame, ylabel_name:str):\n",
    "    ylabel_indicies = labeled_data.index # indicies of labeled data points\n",
    "    pseudo_labels_of_labeled_data = pseudo_labeled_data.loc[ylabel_indicies]\n",
    "    diff_mask = (labeled_data[ylabel_name] != pseudo_labels_of_labeled_data[f'pseudo_{ylabel_name}'])\n",
    "    changed_label_indicies = labeled_data[diff_mask].index.tolist()\n",
    "    return changed_label_indicies\n",
    "\n",
    "changed_ylabel_indicies = find_changed_label_curves(marions_labeled_data, pseudo_labeled_data, ylabel_name)\n",
    "print(f'changed_ylabel_indicies: {changed_ylabel_indicies}')"
   ]
  }
 ],
 "metadata": {
  "kernelspec": {
   "display_name": "env3.13",
   "language": "python",
   "name": "python3"
  },
  "language_info": {
   "codemirror_mode": {
    "name": "ipython",
    "version": 3
   },
   "file_extension": ".py",
   "mimetype": "text/x-python",
   "name": "python",
   "nbconvert_exporter": "python",
   "pygments_lexer": "ipython3",
   "version": "3.13.1"
  }
 },
 "nbformat": 4,
 "nbformat_minor": 5
}

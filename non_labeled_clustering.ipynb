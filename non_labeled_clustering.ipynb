{
 "cells": [
  {
   "cell_type": "code",
   "execution_count": 9,
   "id": "7037b8dc",
   "metadata": {},
   "outputs": [
    {
     "data": {
      "text/plain": [
       "<module 'plotting' from '/home/frankwoods/Desktop/lassie/plotting.py'>"
      ]
     },
     "execution_count": 9,
     "metadata": {},
     "output_type": "execute_result"
    }
   ],
   "source": [
    "import os\n",
    "import pandas as pd\n",
    "import matplotlib.pyplot as plt\n",
    "from sklearn.cluster import KMeans\n",
    "from sklearn.cluster import AgglomerativeClustering\n",
    "from sklearn.cluster import DBSCAN\n",
    "import plotting\n",
    "import importlib\n",
    "importlib.reload(plotting)"
   ]
  },
  {
   "cell_type": "markdown",
   "id": "30022034",
   "metadata": {},
   "source": [
    "# Load in all depth vs resistance curves into a dataframe list"
   ]
  },
  {
   "cell_type": "code",
   "execution_count": 10,
   "id": "5d25e20a",
   "metadata": {},
   "outputs": [],
   "source": [
    "def load_data(data_src):\n",
    "    depth_resist_curve_df_list = [] # used for plotting\n",
    "    filename_list = []\n",
    "    for filename in os.listdir(data_src):\n",
    "        df = pd.read_csv(f\"{data_src}/{filename}\")\n",
    "        depth_resist_curve_df_list.append(df)\n",
    "        filename_list.append(filename)\n",
    "    return depth_resist_curve_df_list, filename_list\n",
    "\n",
    "data_src = \"data/cleaned_data\"\n",
    "depth_resist_curve_df_list, filename_list = load_data(data_src)\n",
    "filename_to_depth_resist = dict(zip(filename_list, depth_resist_curve_df_list))"
   ]
  },
  {
   "cell_type": "code",
   "execution_count": 11,
   "id": "3af118b1",
   "metadata": {},
   "outputs": [],
   "source": [
    "data_features_df = pd.read_csv(\"data/features.csv\")\n",
    "non_clustering_features_list = ['filenames', 'feifeis_ylabels', 'liams_ylabels', 'marions_ylabels', 'distances']\n",
    "clustering_features_df = data_features_df.drop(non_clustering_features_list, axis=1)"
   ]
  },
  {
   "cell_type": "markdown",
   "id": "8f6efbf3",
   "metadata": {},
   "source": [
    "# Extract ground truth means"
   ]
  },
  {
   "cell_type": "code",
   "execution_count": 12,
   "id": "80cb1760",
   "metadata": {},
   "outputs": [
    {
     "data": {
      "text/plain": [
       "'\\nmake list of cluster names\\ncreate a dict with key is cluster name and value is a df with just those vals\\nthen create an average centoid\\nplot it \\n\\nwhat next do? and\\n'"
      ]
     },
     "execution_count": 12,
     "metadata": {},
     "output_type": "execute_result"
    }
   ],
   "source": [
    "\"\"\"\n",
    "make list of cluster names\n",
    "create a dict with key is cluster name and value is a df with just those vals\n",
    "then create an average centoid\n",
    "plot it \n",
    "\n",
    "what next do? and\n",
    "\"\"\""
   ]
  },
  {
   "cell_type": "markdown",
   "id": "0e524b7e",
   "metadata": {},
   "source": [
    "# K-Means Clustering Implementation w/ k-means++ initialization for centroids"
   ]
  },
  {
   "cell_type": "code",
   "execution_count": 13,
   "id": "f381ae1c",
   "metadata": {},
   "outputs": [
    {
     "data": {
      "image/png": "[encoded data removed]",
      "text/plain": [
       "<Figure size 300x200 with 1 Axes>"
      ]
     },
     "metadata": {},
     "output_type": "display_data"
    }
   ],
   "source": [
    "inertias = []\n",
    "for k in range(1,14):\n",
    "    kmeans = KMeans(n_clusters=k, init=\"k-means++\", n_init=100).fit(clustering_features_df)\n",
    "    inertias.append(kmeans.inertia_)\n",
    "\n",
    "plt.figure(figsize=(3,2))\n",
    "plt.plot(range(1,14), inertias, marker='o')\n",
    "plt.title(\"K-Means: Elbow Method for Finding Optimal Number of Clusters\")\n",
    "plt.xlabel(\"Number of clusters\")\n",
    "plt.ylabel(\"Inertia\")\n",
    "plt.grid=True\n",
    "plt.show()"
   ]
  },
  {
   "cell_type": "markdown",
   "id": "3e6faa18",
   "metadata": {},
   "source": [
    "# K-Means Clustering\n",
    "- assumes\n",
    "    - spherical clusters (isotropic)\n",
    "    - similar size clusters (equal variance)\n",
    "    - features are on same scale\n",
    "    - clusters are linearly separable\n",
    "    - number of clusters (k) is known"
   ]
  },
  {
   "cell_type": "code",
   "execution_count": 14,
   "id": "89d37aa0",
   "metadata": {},
   "outputs": [
    {
     "name": "stdout",
     "output_type": "stream",
     "text": [
      "    Eigenvalue  Proportion  Cumulative\n",
      "PC                                    \n",
      "1     3.963054    0.558892    0.558892\n",
      "2     1.353832    0.190925    0.749817\n",
      "3     1.053480    0.148568    0.898385\n",
      "4     0.374894    0.052870    0.951255\n",
      "5     0.202537    0.028563    0.979818\n",
      "6     0.113808    0.016050    0.995867\n",
      "7     0.029304    0.004133    1.000000\n",
      "\n",
      "\n",
      "                               PC1       PC2       PC3       PC4       PC5  \\\n",
      "overall_slope            -0.465162  0.288576  0.046561  0.234288  0.025073   \n",
      "max_depth                 0.466035 -0.235240  0.021241 -0.191534 -0.255399   \n",
      "max_resistance           -0.438838  0.337824  0.080647  0.166702 -0.378223   \n",
      "num_peaks                 0.421306  0.022784  0.116898  0.874123 -0.185582   \n",
      "largest_force_drop        0.305590  0.614393 -0.152378 -0.295196 -0.552843   \n",
      "curve_shape               0.017716  0.003734  0.973022 -0.171101 -0.086719   \n",
      "largest_force_drop_level  0.320406  0.607659  0.084980 -0.011344  0.665953   \n",
      "\n",
      "                               PC6       PC7  \n",
      "overall_slope            -0.103996  0.794887  \n",
      "max_depth                 0.611341  0.501369  \n",
      "max_resistance            0.633542 -0.338490  \n",
      "num_peaks                -0.093407 -0.032583  \n",
      "largest_force_drop       -0.335415  0.025267  \n",
      "curve_shape              -0.126398 -0.011355  \n",
      "largest_force_drop_level  0.277250 -0.019473  \n"
     ]
    },
    {
     "data": {
      "image/png": "[encoded data removed]",
      "text/plain": [
       "<Figure size 1000x800 with 6 Axes>"
      ]
     },
     "metadata": {},
     "output_type": "display_data"
    },
    {
     "data": {
      "application/vnd.plotly.v1+json": {
       "config": {
        "plotlyServerURL": "https://plot.ly"
       },
       "data": [
        {
         "marker": {
          "color": [
           "red",
           "red",
           "blue",
           "purple",
           "green",
           "blue",
           "green",
           "red",
           "red",
           "purple",
           "gold",
           "red",
           "gold",
           "gold",
           "purple",
           "gold",
           "red",
           "purple",
           "red",
           "red",
           "pink",
           "red",
           "pink",
           "red",
           "gold",
           "purple",
           "blue",
           "red",
           "red",
           "red",
           "green",
           "pink",
           "purple",
           "red",
           "gold",
           "gold",
           "red",
           "gold",
           "pink",
           "pink",
           "red",
           "gold",
           "purple",
           "green",
           "pink",
           "blue",
           "red",
           "purple",
           "red",
           "gold",
           "purple",
           "purple",
           "pink",
           "purple",
           "purple",
           "red",
           "purple",
           "purple",
           "blue",
           "gold",
           "red",
           "blue",
           "gold",
           "red",
           "purple",
           "blue",
           "red",
           "gold",
           "blue",
           "gold",
           "green",
           "green",
           "red",
           "purple",
           "red",
           "pink",
           "red",
           "purple"
          ],
          "size": 3
         },
         "mode": "markers",
         "name": "Data Points",
         "type": "scatter3d",
         "x": {
          "bdata": "t36+WA+d8L8h80ehzP4BwAIDEKGs6wlAlPO8ZIlp9r/Im55FpxwQQO8XYw3gAwJAabIANikHFECMZp5ovwn3v7Whx5pewvS/bhGCOWdY1r+FjRbClufRP0M5vJMFMv6/Y3+281ex/T/HilocMtoAQA0w/HypXuu/yf2Nfe7w9T8YbAz1SjsEwEtmh9kpS/u/j4oIyJUr/7/B4951Ijn+vx5o/QvPgfM/5gY6xiocAMAF3I/knYvzP12kZP3/pAPAl0+/RAxY4D/CySRKx7bgv4/GTpjjLPg/qcNh0BGiB8DGdS13RekCwGulNORxffS/pD+Jgl86E0CQuXqJuGb9P+HpjxgycfK/F0w6wvXJB8Bg+RHbHb68P0vLb8Cv1sG/c4j2GR8X/r/qjfs1lzrJv8vEPEPTVfA/RXPKTn9g9T/hG/Nmmw/5v/1SSATrjfc/pDuU/xvG7r8vH0MNWhIPQG2cunGJTew/pWPjKz8HBkBhL9IzmLfwvz+srbh/gPC/dbUSr6s+CcAjYTsQUovuPyhPVZJjsr0/LoGbxikK6b9HaCbASnb5P9VOVGiAw/G/j2o36KCi179n6XeXt5L6vxeBg7dgCv6/IW4swfOE0b9w0Jq8MIIDQFMROR6FT8S/EUtJnNLn/r/3GCfnpfT+Pz3B8VsIUvk/H8AgsYr5B8Bl4GUxfyjpv8kwineO7wBAKG4+2rjN878+tl5wnl3SP7fsfo/hkvo/XwSN6k9V+z9QaxyD7q8KQHMmxTW4kQ9AE4rbppXXBsD5pLNhCC3Bv1PUX5yWJPa/Ad8dssEisj90KPxMy1L5vycK2anCfPC/",
          "dtype": "f8"
         },
         "y": {
          "bdata": "UtmLST565b9S/ZmArfGYP2ViWgwTefo/F3AJT50w4L/1nEGc6pz0v/C1PzmcEfU/+ZVe8h6M7r+HfUb4fpTav1acVTbG19+/XtlgfJPE57+3C9ZrPVtDv9S3+6dk3fQ/xcEyzPX++b8bviThZH3/vwDpAiczp/Q/Xi7Y+Mfn97/v24vabMvPPx04PJ4EF9G/e/ysb8/du793+gAEi/TAv8XbbZHsSApAZ5tJiowTpb90+ZK552f+PzfHrKE8vss/kiNrNI0v1b9tKKfiyxlhv9ElPXEArABAVmNNcN5K4D9/g1i1XPbBPxNglwDWrt6/1NSW87BT4z/lgD5tKvj4P14oWGZ9OuO/24DQbjkN4T9wBpWcWcjzv7jtuwGdVfW/STLP75pEu79j92QE+fryvwfdFKJoyv8/4Tn+Ku6a+z+cUPUhSQjoP0Ln7HmOaPa/l0D2cLKO1z/Q1y9kpQ3bv107MdLcMvc/k8O19LLDub/LuP7UtArlv7A1bBWCuOe/KoqczZnQ4z8gLcwC7pf6v5ZT8ixvXuO/Kjq/W7930b9sYkn7Ze77P10QzkRj4OO/ZdgUIIan8b8orPWWOSvRv2XV0ANOm8S/a1UrBdIA0b9wNGAj2IXxP71lRJCtFvK/O1DEnbAVur+is8k5Xb75PxuA1U/RNgDA1sJmaFzp4D/3wJGt43rLv9TBU7lBEN0/Rgr6fioU4L/oAmwfUlD1v0yXYLBL1gBAhe6K2vjc978t7GeRQFyiP/M7TuGTmgLAuwbXekYx3D8XvxbBE/XJP3of4mgsr9u/MdeIhLO1CEBt26v64d/Uv+0LoF2SIOe/",
          "dtype": "f8"
         },
         "z": {
          "bdata": "BoRyvQ721j9mLirrJfXcP7vae1PK9Mq/XDYhoTYO/r+68jwoyGp7P4Vd4A54dug/AejOPtlW7j9gTNIf7NTZP/pb8+lys+8/sH4sE1QH6L9Vjdxf0D34P46OqL4C4n0/8ExKkk6F27/wNKrnBL7Mv54v18akofa/cIiqRnCAyD8ASfVOrhXEP3SaU+k9auy/dJDk43wg0L/eM/ZCBwXVPzKY8p8t8MS/VkeAprzQ1z/04GZoQOHgv7ImGJg4p84/jrqT0P0P2D+awTR1Dbq7v/wRK8fvDPQ/7Q4XJYfw0T/WtoHPmKfhv9rWPZ72hABAliYkEaXx6T/HG0/Yi073v+8Bg7tkTb+/Bg4BIhMT4j+wu7OULODsv8B3ALlYK+G/UuMqTpWI/j/kghZ3Ci7aP8Ya3CGTDwPAxUyClW3N5L8IMr0xq/rePw8fW7d3tNI/Lq9kEOjY6L+SZuGEKFiyv6bY256KlOy/oeotL7kM2j+o+khZA5TgP5gVqmH2P+q/9rG78pMc1j9CPF0vgIjxv1336+GXEPC/+3+aCJea0r+A5VE3SUUAwMUHgkXtzs+/s3/Ny6nJ8b85dzad1lfwP28UqHd1Q+y/Bj+7xvwd4r8p9F9bQ/4MQN2zZQO7ctC/YlF7APPD4D8R0TF4C732P1lIkHsz/OW/eOYNgN6V3z+1JaRmdRvcv8UutAwtf+Y/82JePl0q/z80JT6OK+fnvx0UDBh4FOY/GuD+4+Ce9j/CxyFHXdX0v3ajri6VX58/HiRCnpRfzT9IDzisi2fQv3kEHFKtO+k/EhKmHC875L8KYKSZhHXtP08FBi7jhgXA",
          "dtype": "f8"
         }
        },
        {
         "marker": {
          "color": "black",
          "size": 5
         },
         "mode": "markers",
         "name": "Origin",
         "showlegend": false,
         "type": "scatter3d",
         "x": [
          0
         ],
         "y": [
          0
         ],
         "z": [
          0
         ]
        },
        {
         "line": {
          "width": 5
         },
         "mode": "lines+text",
         "name": "overall_slope",
         "textposition": "top center",
         "type": "scatter3d",
         "x": [
          0,
          -1.3954865531802447
         ],
         "y": [
          0,
          0.8657287896442791
         ],
         "z": [
          0,
          0.13968388738808812
         ]
        },
        {
         "line": {
          "width": 5
         },
         "mode": "lines+text",
         "name": "max_depth",
         "textposition": "top center",
         "type": "scatter3d",
         "x": [
          0,
          1.3981037594893075
         ],
         "y": [
          0,
          -0.7057193852248761
         ],
         "z": [
          0,
          0.06372339043136668
         ]
        },
        {
         "line": {
          "width": 5
         },
         "mode": "lines+text",
         "name": "max_resistance",
         "textposition": "top center",
         "type": "scatter3d",
         "x": [
          0,
          -1.3165137660435435
         ],
         "y": [
          0,
          1.0134728650656966
         ],
         "z": [
          0,
          0.2419420113240522
         ]
        },
        {
         "line": {
          "width": 5
         },
         "mode": "lines+text",
         "name": "num_peaks",
         "textposition": "top center",
         "type": "scatter3d",
         "x": [
          0,
          1.2639166658254815
         ],
         "y": [
          0,
          0.06835234809255386
         ],
         "z": [
          0,
          0.3506934457088639
         ]
        },
        {
         "line": {
          "width": 5
         },
         "mode": "lines+text",
         "name": "largest_force_drop",
         "textposition": "top center",
         "type": "scatter3d",
         "x": [
          0,
          0.9167698300086713
         ],
         "y": [
          0,
          1.8431780173665293
         ],
         "z": [
          0,
          -0.4571328700167352
         ]
        },
        {
         "line": {
          "width": 5
         },
         "mode": "lines+text",
         "name": "curve_shape",
         "textposition": "top center",
         "type": "scatter3d",
         "x": [
          0,
          0.053146963045058254
         ],
         "y": [
          0,
          0.01120055150692935
         ],
         "z": [
          0,
          2.919064976524865
         ]
        },
        {
         "line": {
          "width": 5
         },
         "mode": "lines+text",
         "name": "largest_force_drop_level",
         "textposition": "top center",
         "type": "scatter3d",
         "x": [
          0,
          0.9612168342088034
         ],
         "y": [
          0,
          1.822976649419124
         ],
         "z": [
          0,
          0.25494139206013683
         ]
        }
       ],
       "layout": {
        "autosize": true,
        "scene": {
         "xaxis": {
          "title": {
           "text": "PC1 (0.56 var.)"
          }
         },
         "yaxis": {
          "title": {
           "text": "PC2 (0.19 var.)"
          }
         },
         "zaxis": {
          "title": {
           "text": "PC3 (0.15 var.)"
          }
         }
        },
        "template": {
         "data": {
          "bar": [
           {
            "error_x": {
             "color": "#2a3f5f"
            },
            "error_y": {
             "color": "#2a3f5f"
            },
            "marker": {
             "line": {
              "color": "#E5ECF6",
              "width": 0.5
             },
             "pattern": {
              "fillmode": "overlay",
              "size": 10,
              "solidity": 0.2
             }
            },
            "type": "bar"
           }
          ],
          "barpolar": [
           {
            "marker": {
             "line": {
              "color": "#E5ECF6",
              "width": 0.5
             },
             "pattern": {
              "fillmode": "overlay",
              "size": 10,
              "solidity": 0.2
             }
            },
            "type": "barpolar"
           }
          ],
          "carpet": [
           {
            "aaxis": {
             "endlinecolor": "#2a3f5f",
             "gridcolor": "white",
             "linecolor": "white",
             "minorgridcolor": "white",
             "startlinecolor": "#2a3f5f"
            },
            "baxis": {
             "endlinecolor": "#2a3f5f",
             "gridcolor": "white",
             "linecolor": "white",
             "minorgridcolor": "white",
             "startlinecolor": "#2a3f5f"
            },
            "type": "carpet"
           }
          ],
          "choropleth": [
           {
            "colorbar": {
             "outlinewidth": 0,
             "ticks": ""
            },
            "type": "choropleth"
           }
          ],
          "contour": [
           {
            "colorbar": {
             "outlinewidth": 0,
             "ticks": ""
            },
            "colorscale": [
             [
              0,
              "#0d0887"
             ],
             [
              0.1111111111111111,
              "#46039f"
             ],
             [
              0.2222222222222222,
              "#7201a8"
             ],
             [
              0.3333333333333333,
              "#9c179e"
             ],
             [
              0.4444444444444444,
              "#bd3786"
             ],
             [
              0.5555555555555556,
              "#d8576b"
             ],
             [
              0.6666666666666666,
              "#ed7953"
             ],
             [
              0.7777777777777778,
              "#fb9f3a"
             ],
             [
              0.8888888888888888,
              "#fdca26"
             ],
             [
              1,
              "#f0f921"
             ]
            ],
            "type": "contour"
           }
          ],
          "contourcarpet": [
           {
            "colorbar": {
             "outlinewidth": 0,
             "ticks": ""
            },
            "type": "contourcarpet"
           }
          ],
          "heatmap": [
           {
            "colorbar": {
             "outlinewidth": 0,
             "ticks": ""
            },
            "colorscale": [
             [
              0,
              "#0d0887"
             ],
             [
              0.1111111111111111,
              "#46039f"
             ],
             [
              0.2222222222222222,
              "#7201a8"
             ],
             [
              0.3333333333333333,
              "#9c179e"
             ],
             [
              0.4444444444444444,
              "#bd3786"
             ],
             [
              0.5555555555555556,
              "#d8576b"
             ],
             [
              0.6666666666666666,
              "#ed7953"
             ],
             [
              0.7777777777777778,
              "#fb9f3a"
             ],
             [
              0.8888888888888888,
              "#fdca26"
             ],
             [
              1,
              "#f0f921"
             ]
            ],
            "type": "heatmap"
           }
          ],
          "histogram": [
           {
            "marker": {
             "pattern": {
              "fillmode": "overlay",
              "size": 10,
              "solidity": 0.2
             }
            },
            "type": "histogram"
           }
          ],
          "histogram2d": [
           {
            "colorbar": {
             "outlinewidth": 0,
             "ticks": ""
            },
            "colorscale": [
             [
              0,
              "#0d0887"
             ],
             [
              0.1111111111111111,
              "#46039f"
             ],
             [
              0.2222222222222222,
              "#7201a8"
             ],
             [
              0.3333333333333333,
              "#9c179e"
             ],
             [
              0.4444444444444444,
              "#bd3786"
             ],
             [
              0.5555555555555556,
              "#d8576b"
             ],
             [
              0.6666666666666666,
              "#ed7953"
             ],
             [
              0.7777777777777778,
              "#fb9f3a"
             ],
             [
              0.8888888888888888,
              "#fdca26"
             ],
             [
              1,
              "#f0f921"
             ]
            ],
            "type": "histogram2d"
           }
          ],
          "histogram2dcontour": [
           {
            "colorbar": {
             "outlinewidth": 0,
             "ticks": ""
            },
            "colorscale": [
             [
              0,
              "#0d0887"
             ],
             [
              0.1111111111111111,
              "#46039f"
             ],
             [
              0.2222222222222222,
              "#7201a8"
             ],
             [
              0.3333333333333333,
              "#9c179e"
             ],
             [
              0.4444444444444444,
              "#bd3786"
             ],
             [
              0.5555555555555556,
              "#d8576b"
             ],
             [
              0.6666666666666666,
              "#ed7953"
             ],
             [
              0.7777777777777778,
              "#fb9f3a"
             ],
             [
              0.8888888888888888,
              "#fdca26"
             ],
             [
              1,
              "#f0f921"
             ]
            ],
            "type": "histogram2dcontour"
           }
          ],
          "mesh3d": [
           {
            "colorbar": {
             "outlinewidth": 0,
             "ticks": ""
            },
            "type": "mesh3d"
           }
          ],
          "parcoords": [
           {
            "line": {
             "colorbar": {
              "outlinewidth": 0,
              "ticks": ""
             }
            },
            "type": "parcoords"
           }
          ],
          "pie": [
           {
            "automargin": true,
            "type": "pie"
           }
          ],
          "scatter": [
           {
            "fillpattern": {
             "fillmode": "overlay",
             "size": 10,
             "solidity": 0.2
            },
            "type": "scatter"
           }
          ],
          "scatter3d": [
           {
            "line": {
             "colorbar": {
              "outlinewidth": 0,
              "ticks": ""
             }
            },
            "marker": {
             "colorbar": {
              "outlinewidth": 0,
              "ticks": ""
             }
            },
            "type": "scatter3d"
           }
          ],
          "scattercarpet": [
           {
            "marker": {
             "colorbar": {
              "outlinewidth": 0,
              "ticks": ""
             }
            },
            "type": "scattercarpet"
           }
          ],
          "scattergeo": [
           {
            "marker": {
             "colorbar": {
              "outlinewidth": 0,
              "ticks": ""
             }
            },
            "type": "scattergeo"
           }
          ],
          "scattergl": [
           {
            "marker": {
             "colorbar": {
              "outlinewidth": 0,
              "ticks": ""
             }
            },
            "type": "scattergl"
           }
          ],
          "scattermap": [
           {
            "marker": {
             "colorbar": {
              "outlinewidth": 0,
              "ticks": ""
             }
            },
            "type": "scattermap"
           }
          ],
          "scattermapbox": [
           {
            "marker": {
             "colorbar": {
              "outlinewidth": 0,
              "ticks": ""
             }
            },
            "type": "scattermapbox"
           }
          ],
          "scatterpolar": [
           {
            "marker": {
             "colorbar": {
              "outlinewidth": 0,
              "ticks": ""
             }
            },
            "type": "scatterpolar"
           }
          ],
          "scatterpolargl": [
           {
            "marker": {
             "colorbar": {
              "outlinewidth": 0,
              "ticks": ""
             }
            },
            "type": "scatterpolargl"
           }
          ],
          "scatterternary": [
           {
            "marker": {
             "colorbar": {
              "outlinewidth": 0,
              "ticks": ""
             }
            },
            "type": "scatterternary"
           }
          ],
          "surface": [
           {
            "colorbar": {
             "outlinewidth": 0,
             "ticks": ""
            },
            "colorscale": [
             [
              0,
              "#0d0887"
             ],
             [
              0.1111111111111111,
              "#46039f"
             ],
             [
              0.2222222222222222,
              "#7201a8"
             ],
             [
              0.3333333333333333,
              "#9c179e"
             ],
             [
              0.4444444444444444,
              "#bd3786"
             ],
             [
              0.5555555555555556,
              "#d8576b"
             ],
             [
              0.6666666666666666,
              "#ed7953"
             ],
             [
              0.7777777777777778,
              "#fb9f3a"
             ],
             [
              0.8888888888888888,
              "#fdca26"
             ],
             [
              1,
              "#f0f921"
             ]
            ],
            "type": "surface"
           }
          ],
          "table": [
           {
            "cells": {
             "fill": {
              "color": "#EBF0F8"
             },
             "line": {
              "color": "white"
             }
            },
            "header": {
             "fill": {
              "color": "#C8D4E3"
             },
             "line": {
              "color": "white"
             }
            },
            "type": "table"
           }
          ]
         },
         "layout": {
          "annotationdefaults": {
           "arrowcolor": "#2a3f5f",
           "arrowhead": 0,
           "arrowwidth": 1
          },
          "autotypenumbers": "strict",
          "coloraxis": {
           "colorbar": {
            "outlinewidth": 0,
            "ticks": ""
           }
          },
          "colorscale": {
           "diverging": [
            [
             0,
             "#8e0152"
            ],
            [
             0.1,
             "#c51b7d"
            ],
            [
             0.2,
             "#de77ae"
            ],
            [
             0.3,
             "#f1b6da"
            ],
            [
             0.4,
             "#fde0ef"
            ],
            [
             0.5,
             "#f7f7f7"
            ],
            [
             0.6,
             "#e6f5d0"
            ],
            [
             0.7,
             "#b8e186"
            ],
            [
             0.8,
             "#7fbc41"
            ],
            [
             0.9,
             "#4d9221"
            ],
            [
             1,
             "#276419"
            ]
           ],
           "sequential": [
            [
             0,
             "#0d0887"
            ],
            [
             0.1111111111111111,
             "#46039f"
            ],
            [
             0.2222222222222222,
             "#7201a8"
            ],
            [
             0.3333333333333333,
             "#9c179e"
            ],
            [
             0.4444444444444444,
             "#bd3786"
            ],
            [
             0.5555555555555556,
             "#d8576b"
            ],
            [
             0.6666666666666666,
             "#ed7953"
            ],
            [
             0.7777777777777778,
             "#fb9f3a"
            ],
            [
             0.8888888888888888,
             "#fdca26"
            ],
            [
             1,
             "#f0f921"
            ]
           ],
           "sequentialminus": [
            [
             0,
             "#0d0887"
            ],
            [
             0.1111111111111111,
             "#46039f"
            ],
            [
             0.2222222222222222,
             "#7201a8"
            ],
            [
             0.3333333333333333,
             "#9c179e"
            ],
            [
             0.4444444444444444,
             "#bd3786"
            ],
            [
             0.5555555555555556,
             "#d8576b"
            ],
            [
             0.6666666666666666,
             "#ed7953"
            ],
            [
             0.7777777777777778,
             "#fb9f3a"
            ],
            [
             0.8888888888888888,
             "#fdca26"
            ],
            [
             1,
             "#f0f921"
            ]
           ]
          },
          "colorway": [
           "#636efa",
           "#EF553B",
           "#00cc96",
           "#ab63fa",
           "#FFA15A",
           "#19d3f3",
           "#FF6692",
           "#B6E880",
           "#FF97FF",
           "#FECB52"
          ],
          "font": {
           "color": "#2a3f5f"
          },
          "geo": {
           "bgcolor": "white",
           "lakecolor": "white",
           "landcolor": "#E5ECF6",
           "showlakes": true,
           "showland": true,
           "subunitcolor": "white"
          },
          "hoverlabel": {
           "align": "left"
          },
          "hovermode": "closest",
          "mapbox": {
           "style": "light"
          },
          "paper_bgcolor": "white",
          "plot_bgcolor": "#E5ECF6",
          "polar": {
           "angularaxis": {
            "gridcolor": "white",
            "linecolor": "white",
            "ticks": ""
           },
           "bgcolor": "#E5ECF6",
           "radialaxis": {
            "gridcolor": "white",
            "linecolor": "white",
            "ticks": ""
           }
          },
          "scene": {
           "xaxis": {
            "backgroundcolor": "#E5ECF6",
            "gridcolor": "white",
            "gridwidth": 2,
            "linecolor": "white",
            "showbackground": true,
            "ticks": "",
            "zerolinecolor": "white"
           },
           "yaxis": {
            "backgroundcolor": "#E5ECF6",
            "gridcolor": "white",
            "gridwidth": 2,
            "linecolor": "white",
            "showbackground": true,
            "ticks": "",
            "zerolinecolor": "white"
           },
           "zaxis": {
            "backgroundcolor": "#E5ECF6",
            "gridcolor": "white",
            "gridwidth": 2,
            "linecolor": "white",
            "showbackground": true,
            "ticks": "",
            "zerolinecolor": "white"
           }
          },
          "shapedefaults": {
           "line": {
            "color": "#2a3f5f"
           }
          },
          "ternary": {
           "aaxis": {
            "gridcolor": "white",
            "linecolor": "white",
            "ticks": ""
           },
           "baxis": {
            "gridcolor": "white",
            "linecolor": "white",
            "ticks": ""
           },
           "bgcolor": "#E5ECF6",
           "caxis": {
            "gridcolor": "white",
            "linecolor": "white",
            "ticks": ""
           }
          },
          "title": {
           "x": 0.05
          },
          "xaxis": {
           "automargin": true,
           "gridcolor": "white",
           "linecolor": "white",
           "ticks": "",
           "title": {
            "standoff": 15
           },
           "zerolinecolor": "white",
           "zerolinewidth": 2
          },
          "yaxis": {
           "automargin": true,
           "gridcolor": "white",
           "linecolor": "white",
           "ticks": "",
           "title": {
            "standoff": 15
           },
           "zerolinecolor": "white",
           "zerolinewidth": 2
          }
         }
        },
        "title": {
         "text": "3D PCA Scatter Plot"
        }
       }
      }
     },
     "metadata": {},
     "output_type": "display_data"
    }
   ],
   "source": [
    "kmeans_elbow = 6\n",
    "kmeans = KMeans(n_clusters=kmeans_elbow, init=\"k-means++\", n_init=100).fit(clustering_features_df)\n",
    "# print(f\"kmeans cluster centers: {kmeans.cluster_centers_}\")\n",
    "plotting.pca_analysis(clustering_features_df) # printing scree plot\n",
    "# plotting.plot_clusters_together(kmeans.labels_, \"kmeans\")\n",
    "plotting.plot_clusters_seperately(kmeans.labels_, clustering_features_df.index.tolist(), depth_resist_curve_df_list, data_features_df, \"kmeans\")\n",
    "plotting.plot_pca(clustering_features_df, y_labels=kmeans.labels_, num_pc=3, graph_title=\"kmeans\")"
   ]
  },
  {
   "cell_type": "markdown",
   "id": "fd1af36a",
   "metadata": {},
   "source": [
    "# Hierarchical Clustering"
   ]
  },
  {
   "cell_type": "code",
   "execution_count": 15,
   "id": "6a8c2a69",
   "metadata": {},
   "outputs": [
    {
     "data": {
      "image/png": "[encoded data removed]",
      "text/plain": [
       "<Figure size 1000x800 with 8 Axes>"
      ]
     },
     "metadata": {},
     "output_type": "display_data"
    },
    {
     "data": {
      "application/vnd.plotly.v1+json": {
       "config": {
        "plotlyServerURL": "https://plot.ly"
       },
       "data": [
        {
         "marker": {
          "color": [
           "red",
           "gold",
           "green",
           "red",
           "green",
           "blue",
           "orange",
           "red",
           "brown",
           "red",
           "red",
           "gold",
           "purple",
           "purple",
           "gold",
           "purple",
           "gold",
           "gold",
           "gold",
           "gold",
           "pink",
           "gold",
           "pink",
           "gold",
           "red",
           "red",
           "blue",
           "gold",
           "gold",
           "brown",
           "green",
           "pink",
           "red",
           "gold",
           "red",
           "red",
           "brown",
           "red",
           "pink",
           "pink",
           "gold",
           "purple",
           "red",
           "green",
           "pink",
           "blue",
           "red",
           "red",
           "gold",
           "purple",
           "red",
           "red",
           "pink",
           "red",
           "red",
           "brown",
           "gold",
           "red",
           "blue",
           "red",
           "gold",
           "blue",
           "purple",
           "gold",
           "red",
           "blue",
           "brown",
           "red",
           "blue",
           "purple",
           "green",
           "orange",
           "gold",
           "red",
           "brown",
           "pink",
           "brown",
           "red"
          ],
          "size": 3
         },
         "mode": "markers",
         "name": "Data Points",
         "type": "scatter3d",
         "x": {
          "bdata": "t36+WA+d8L8h80ehzP4BwAIDEKGs6wlAlPO8ZIlp9r/Im55FpxwQQO8XYw3gAwJAabIANikHFECMZp5ovwn3v7Whx5pewvS/bhGCOWdY1r+FjRbClufRP0M5vJMFMv6/Y3+281ex/T/HilocMtoAQA0w/HypXuu/yf2Nfe7w9T8YbAz1SjsEwEtmh9kpS/u/j4oIyJUr/7/B4951Ijn+vx5o/QvPgfM/5gY6xiocAMAF3I/knYvzP12kZP3/pAPAl0+/RAxY4D/CySRKx7bgv4/GTpjjLPg/qcNh0BGiB8DGdS13RekCwGulNORxffS/pD+Jgl86E0CQuXqJuGb9P+HpjxgycfK/F0w6wvXJB8Bg+RHbHb68P0vLb8Cv1sG/c4j2GR8X/r/qjfs1lzrJv8vEPEPTVfA/RXPKTn9g9T/hG/Nmmw/5v/1SSATrjfc/pDuU/xvG7r8vH0MNWhIPQG2cunGJTew/pWPjKz8HBkBhL9IzmLfwvz+srbh/gPC/dbUSr6s+CcAjYTsQUovuPyhPVZJjsr0/LoGbxikK6b9HaCbASnb5P9VOVGiAw/G/j2o36KCi179n6XeXt5L6vxeBg7dgCv6/IW4swfOE0b9w0Jq8MIIDQFMROR6FT8S/EUtJnNLn/r/3GCfnpfT+Pz3B8VsIUvk/H8AgsYr5B8Bl4GUxfyjpv8kwineO7wBAKG4+2rjN878+tl5wnl3SP7fsfo/hkvo/XwSN6k9V+z9QaxyD7q8KQHMmxTW4kQ9AE4rbppXXBsD5pLNhCC3Bv1PUX5yWJPa/Ad8dssEisj90KPxMy1L5vycK2anCfPC/",
          "dtype": "f8"
         },
         "y": {
          "bdata": "UtmLST565b9S/ZmArfGYP2ViWgwTefo/F3AJT50w4L/1nEGc6pz0v/C1PzmcEfU/+ZVe8h6M7r+HfUb4fpTav1acVTbG19+/XtlgfJPE57+3C9ZrPVtDv9S3+6dk3fQ/xcEyzPX++b8bviThZH3/vwDpAiczp/Q/Xi7Y+Mfn97/v24vabMvPPx04PJ4EF9G/e/ysb8/du793+gAEi/TAv8XbbZHsSApAZ5tJiowTpb90+ZK552f+PzfHrKE8vss/kiNrNI0v1b9tKKfiyxlhv9ElPXEArABAVmNNcN5K4D9/g1i1XPbBPxNglwDWrt6/1NSW87BT4z/lgD5tKvj4P14oWGZ9OuO/24DQbjkN4T9wBpWcWcjzv7jtuwGdVfW/STLP75pEu79j92QE+fryvwfdFKJoyv8/4Tn+Ku6a+z+cUPUhSQjoP0Ln7HmOaPa/l0D2cLKO1z/Q1y9kpQ3bv107MdLcMvc/k8O19LLDub/LuP7UtArlv7A1bBWCuOe/KoqczZnQ4z8gLcwC7pf6v5ZT8ixvXuO/Kjq/W7930b9sYkn7Ze77P10QzkRj4OO/ZdgUIIan8b8orPWWOSvRv2XV0ANOm8S/a1UrBdIA0b9wNGAj2IXxP71lRJCtFvK/O1DEnbAVur+is8k5Xb75PxuA1U/RNgDA1sJmaFzp4D/3wJGt43rLv9TBU7lBEN0/Rgr6fioU4L/oAmwfUlD1v0yXYLBL1gBAhe6K2vjc978t7GeRQFyiP/M7TuGTmgLAuwbXekYx3D8XvxbBE/XJP3of4mgsr9u/MdeIhLO1CEBt26v64d/Uv+0LoF2SIOe/",
          "dtype": "f8"
         },
         "z": {
          "bdata": "BoRyvQ721j9mLirrJfXcP7vae1PK9Mq/XDYhoTYO/r+68jwoyGp7P4Vd4A54dug/AejOPtlW7j9gTNIf7NTZP/pb8+lys+8/sH4sE1QH6L9Vjdxf0D34P46OqL4C4n0/8ExKkk6F27/wNKrnBL7Mv54v18akofa/cIiqRnCAyD8ASfVOrhXEP3SaU+k9auy/dJDk43wg0L/eM/ZCBwXVPzKY8p8t8MS/VkeAprzQ1z/04GZoQOHgv7ImGJg4p84/jrqT0P0P2D+awTR1Dbq7v/wRK8fvDPQ/7Q4XJYfw0T/WtoHPmKfhv9rWPZ72hABAliYkEaXx6T/HG0/Yi073v+8Bg7tkTb+/Bg4BIhMT4j+wu7OULODsv8B3ALlYK+G/UuMqTpWI/j/kghZ3Ci7aP8Ya3CGTDwPAxUyClW3N5L8IMr0xq/rePw8fW7d3tNI/Lq9kEOjY6L+SZuGEKFiyv6bY256KlOy/oeotL7kM2j+o+khZA5TgP5gVqmH2P+q/9rG78pMc1j9CPF0vgIjxv1336+GXEPC/+3+aCJea0r+A5VE3SUUAwMUHgkXtzs+/s3/Ny6nJ8b85dzad1lfwP28UqHd1Q+y/Bj+7xvwd4r8p9F9bQ/4MQN2zZQO7ctC/YlF7APPD4D8R0TF4C732P1lIkHsz/OW/eOYNgN6V3z+1JaRmdRvcv8UutAwtf+Y/82JePl0q/z80JT6OK+fnvx0UDBh4FOY/GuD+4+Ce9j/CxyFHXdX0v3ajri6VX58/HiRCnpRfzT9IDzisi2fQv3kEHFKtO+k/EhKmHC875L8KYKSZhHXtP08FBi7jhgXA",
          "dtype": "f8"
         }
        },
        {
         "marker": {
          "color": "black",
          "size": 5
         },
         "mode": "markers",
         "name": "Origin",
         "showlegend": false,
         "type": "scatter3d",
         "x": [
          0
         ],
         "y": [
          0
         ],
         "z": [
          0
         ]
        },
        {
         "line": {
          "width": 5
         },
         "mode": "lines+text",
         "name": "overall_slope",
         "textposition": "top center",
         "type": "scatter3d",
         "x": [
          0,
          -1.3954865531802447
         ],
         "y": [
          0,
          0.8657287896442791
         ],
         "z": [
          0,
          0.13968388738808812
         ]
        },
        {
         "line": {
          "width": 5
         },
         "mode": "lines+text",
         "name": "max_depth",
         "textposition": "top center",
         "type": "scatter3d",
         "x": [
          0,
          1.3981037594893075
         ],
         "y": [
          0,
          -0.7057193852248761
         ],
         "z": [
          0,
          0.06372339043136668
         ]
        },
        {
         "line": {
          "width": 5
         },
         "mode": "lines+text",
         "name": "max_resistance",
         "textposition": "top center",
         "type": "scatter3d",
         "x": [
          0,
          -1.3165137660435435
         ],
         "y": [
          0,
          1.0134728650656966
         ],
         "z": [
          0,
          0.2419420113240522
         ]
        },
        {
         "line": {
          "width": 5
         },
         "mode": "lines+text",
         "name": "num_peaks",
         "textposition": "top center",
         "type": "scatter3d",
         "x": [
          0,
          1.2639166658254815
         ],
         "y": [
          0,
          0.06835234809255386
         ],
         "z": [
          0,
          0.3506934457088639
         ]
        },
        {
         "line": {
          "width": 5
         },
         "mode": "lines+text",
         "name": "largest_force_drop",
         "textposition": "top center",
         "type": "scatter3d",
         "x": [
          0,
          0.9167698300086713
         ],
         "y": [
          0,
          1.8431780173665293
         ],
         "z": [
          0,
          -0.4571328700167352
         ]
        },
        {
         "line": {
          "width": 5
         },
         "mode": "lines+text",
         "name": "curve_shape",
         "textposition": "top center",
         "type": "scatter3d",
         "x": [
          0,
          0.053146963045058254
         ],
         "y": [
          0,
          0.01120055150692935
         ],
         "z": [
          0,
          2.919064976524865
         ]
        },
        {
         "line": {
          "width": 5
         },
         "mode": "lines+text",
         "name": "largest_force_drop_level",
         "textposition": "top center",
         "type": "scatter3d",
         "x": [
          0,
          0.9612168342088034
         ],
         "y": [
          0,
          1.822976649419124
         ],
         "z": [
          0,
          0.25494139206013683
         ]
        }
       ],
       "layout": {
        "autosize": true,
        "scene": {
         "xaxis": {
          "title": {
           "text": "PC1 (0.56 var.)"
          }
         },
         "yaxis": {
          "title": {
           "text": "PC2 (0.19 var.)"
          }
         },
         "zaxis": {
          "title": {
           "text": "PC3 (0.15 var.)"
          }
         }
        },
        "template": {
         "data": {
          "bar": [
           {
            "error_x": {
             "color": "#2a3f5f"
            },
            "error_y": {
             "color": "#2a3f5f"
            },
            "marker": {
             "line": {
              "color": "#E5ECF6",
              "width": 0.5
             },
             "pattern": {
              "fillmode": "overlay",
              "size": 10,
              "solidity": 0.2
             }
            },
            "type": "bar"
           }
          ],
          "barpolar": [
           {
            "marker": {
             "line": {
              "color": "#E5ECF6",
              "width": 0.5
             },
             "pattern": {
              "fillmode": "overlay",
              "size": 10,
              "solidity": 0.2
             }
            },
            "type": "barpolar"
           }
          ],
          "carpet": [
           {
            "aaxis": {
             "endlinecolor": "#2a3f5f",
             "gridcolor": "white",
             "linecolor": "white",
             "minorgridcolor": "white",
             "startlinecolor": "#2a3f5f"
            },
            "baxis": {
             "endlinecolor": "#2a3f5f",
             "gridcolor": "white",
             "linecolor": "white",
             "minorgridcolor": "white",
             "startlinecolor": "#2a3f5f"
            },
            "type": "carpet"
           }
          ],
          "choropleth": [
           {
            "colorbar": {
             "outlinewidth": 0,
             "ticks": ""
            },
            "type": "choropleth"
           }
          ],
          "contour": [
           {
            "colorbar": {
             "outlinewidth": 0,
             "ticks": ""
            },
            "colorscale": [
             [
              0,
              "#0d0887"
             ],
             [
              0.1111111111111111,
              "#46039f"
             ],
             [
              0.2222222222222222,
              "#7201a8"
             ],
             [
              0.3333333333333333,
              "#9c179e"
             ],
             [
              0.4444444444444444,
              "#bd3786"
             ],
             [
              0.5555555555555556,
              "#d8576b"
             ],
             [
              0.6666666666666666,
              "#ed7953"
             ],
             [
              0.7777777777777778,
              "#fb9f3a"
             ],
             [
              0.8888888888888888,
              "#fdca26"
             ],
             [
              1,
              "#f0f921"
             ]
            ],
            "type": "contour"
           }
          ],
          "contourcarpet": [
           {
            "colorbar": {
             "outlinewidth": 0,
             "ticks": ""
            },
            "type": "contourcarpet"
           }
          ],
          "heatmap": [
           {
            "colorbar": {
             "outlinewidth": 0,
             "ticks": ""
            },
            "colorscale": [
             [
              0,
              "#0d0887"
             ],
             [
              0.1111111111111111,
              "#46039f"
             ],
             [
              0.2222222222222222,
              "#7201a8"
             ],
             [
              0.3333333333333333,
              "#9c179e"
             ],
             [
              0.4444444444444444,
              "#bd3786"
             ],
             [
              0.5555555555555556,
              "#d8576b"
             ],
             [
              0.6666666666666666,
              "#ed7953"
             ],
             [
              0.7777777777777778,
              "#fb9f3a"
             ],
             [
              0.8888888888888888,
              "#fdca26"
             ],
             [
              1,
              "#f0f921"
             ]
            ],
            "type": "heatmap"
           }
          ],
          "histogram": [
           {
            "marker": {
             "pattern": {
              "fillmode": "overlay",
              "size": 10,
              "solidity": 0.2
             }
            },
            "type": "histogram"
           }
          ],
          "histogram2d": [
           {
            "colorbar": {
             "outlinewidth": 0,
             "ticks": ""
            },
            "colorscale": [
             [
              0,
              "#0d0887"
             ],
             [
              0.1111111111111111,
              "#46039f"
             ],
             [
              0.2222222222222222,
              "#7201a8"
             ],
             [
              0.3333333333333333,
              "#9c179e"
             ],
             [
              0.4444444444444444,
              "#bd3786"
             ],
             [
              0.5555555555555556,
              "#d8576b"
             ],
             [
              0.6666666666666666,
              "#ed7953"
             ],
             [
              0.7777777777777778,
              "#fb9f3a"
             ],
             [
              0.8888888888888888,
              "#fdca26"
             ],
             [
              1,
              "#f0f921"
             ]
            ],
            "type": "histogram2d"
           }
          ],
          "histogram2dcontour": [
           {
            "colorbar": {
             "outlinewidth": 0,
             "ticks": ""
            },
            "colorscale": [
             [
              0,
              "#0d0887"
             ],
             [
              0.1111111111111111,
              "#46039f"
             ],
             [
              0.2222222222222222,
              "#7201a8"
             ],
             [
              0.3333333333333333,
              "#9c179e"
             ],
             [
              0.4444444444444444,
              "#bd3786"
             ],
             [
              0.5555555555555556,
              "#d8576b"
             ],
             [
              0.6666666666666666,
              "#ed7953"
             ],
             [
              0.7777777777777778,
              "#fb9f3a"
             ],
             [
              0.8888888888888888,
              "#fdca26"
             ],
             [
              1,
              "#f0f921"
             ]
            ],
            "type": "histogram2dcontour"
           }
          ],
          "mesh3d": [
           {
            "colorbar": {
             "outlinewidth": 0,
             "ticks": ""
            },
            "type": "mesh3d"
           }
          ],
          "parcoords": [
           {
            "line": {
             "colorbar": {
              "outlinewidth": 0,
              "ticks": ""
             }
            },
            "type": "parcoords"
           }
          ],
          "pie": [
           {
            "automargin": true,
            "type": "pie"
           }
          ],
          "scatter": [
           {
            "fillpattern": {
             "fillmode": "overlay",
             "size": 10,
             "solidity": 0.2
            },
            "type": "scatter"
           }
          ],
          "scatter3d": [
           {
            "line": {
             "colorbar": {
              "outlinewidth": 0,
              "ticks": ""
             }
            },
            "marker": {
             "colorbar": {
              "outlinewidth": 0,
              "ticks": ""
             }
            },
            "type": "scatter3d"
           }
          ],
          "scattercarpet": [
           {
            "marker": {
             "colorbar": {
              "outlinewidth": 0,
              "ticks": ""
             }
            },
            "type": "scattercarpet"
           }
          ],
          "scattergeo": [
           {
            "marker": {
             "colorbar": {
              "outlinewidth": 0,
              "ticks": ""
             }
            },
            "type": "scattergeo"
           }
          ],
          "scattergl": [
           {
            "marker": {
             "colorbar": {
              "outlinewidth": 0,
              "ticks": ""
             }
            },
            "type": "scattergl"
           }
          ],
          "scattermap": [
           {
            "marker": {
             "colorbar": {
              "outlinewidth": 0,
              "ticks": ""
             }
            },
            "type": "scattermap"
           }
          ],
          "scattermapbox": [
           {
            "marker": {
             "colorbar": {
              "outlinewidth": 0,
              "ticks": ""
             }
            },
            "type": "scattermapbox"
           }
          ],
          "scatterpolar": [
           {
            "marker": {
             "colorbar": {
              "outlinewidth": 0,
              "ticks": ""
             }
            },
            "type": "scatterpolar"
           }
          ],
          "scatterpolargl": [
           {
            "marker": {
             "colorbar": {
              "outlinewidth": 0,
              "ticks": ""
             }
            },
            "type": "scatterpolargl"
           }
          ],
          "scatterternary": [
           {
            "marker": {
             "colorbar": {
              "outlinewidth": 0,
              "ticks": ""
             }
            },
            "type": "scatterternary"
           }
          ],
          "surface": [
           {
            "colorbar": {
             "outlinewidth": 0,
             "ticks": ""
            },
            "colorscale": [
             [
              0,
              "#0d0887"
             ],
             [
              0.1111111111111111,
              "#46039f"
             ],
             [
              0.2222222222222222,
              "#7201a8"
             ],
             [
              0.3333333333333333,
              "#9c179e"
             ],
             [
              0.4444444444444444,
              "#bd3786"
             ],
             [
              0.5555555555555556,
              "#d8576b"
             ],
             [
              0.6666666666666666,
              "#ed7953"
             ],
             [
              0.7777777777777778,
              "#fb9f3a"
             ],
             [
              0.8888888888888888,
              "#fdca26"
             ],
             [
              1,
              "#f0f921"
             ]
            ],
            "type": "surface"
           }
          ],
          "table": [
           {
            "cells": {
             "fill": {
              "color": "#EBF0F8"
             },
             "line": {
              "color": "white"
             }
            },
            "header": {
             "fill": {
              "color": "#C8D4E3"
             },
             "line": {
              "color": "white"
             }
            },
            "type": "table"
           }
          ]
         },
         "layout": {
          "annotationdefaults": {
           "arrowcolor": "#2a3f5f",
           "arrowhead": 0,
           "arrowwidth": 1
          },
          "autotypenumbers": "strict",
          "coloraxis": {
           "colorbar": {
            "outlinewidth": 0,
            "ticks": ""
           }
          },
          "colorscale": {
           "diverging": [
            [
             0,
             "#8e0152"
            ],
            [
             0.1,
             "#c51b7d"
            ],
            [
             0.2,
             "#de77ae"
            ],
            [
             0.3,
             "#f1b6da"
            ],
            [
             0.4,
             "#fde0ef"
            ],
            [
             0.5,
             "#f7f7f7"
            ],
            [
             0.6,
             "#e6f5d0"
            ],
            [
             0.7,
             "#b8e186"
            ],
            [
             0.8,
             "#7fbc41"
            ],
            [
             0.9,
             "#4d9221"
            ],
            [
             1,
             "#276419"
            ]
           ],
           "sequential": [
            [
             0,
             "#0d0887"
            ],
            [
             0.1111111111111111,
             "#46039f"
            ],
            [
             0.2222222222222222,
             "#7201a8"
            ],
            [
             0.3333333333333333,
             "#9c179e"
            ],
            [
             0.4444444444444444,
             "#bd3786"
            ],
            [
             0.5555555555555556,
             "#d8576b"
            ],
            [
             0.6666666666666666,
             "#ed7953"
            ],
            [
             0.7777777777777778,
             "#fb9f3a"
            ],
            [
             0.8888888888888888,
             "#fdca26"
            ],
            [
             1,
             "#f0f921"
            ]
           ],
           "sequentialminus": [
            [
             0,
             "#0d0887"
            ],
            [
             0.1111111111111111,
             "#46039f"
            ],
            [
             0.2222222222222222,
             "#7201a8"
            ],
            [
             0.3333333333333333,
             "#9c179e"
            ],
            [
             0.4444444444444444,
             "#bd3786"
            ],
            [
             0.5555555555555556,
             "#d8576b"
            ],
            [
             0.6666666666666666,
             "#ed7953"
            ],
            [
             0.7777777777777778,
             "#fb9f3a"
            ],
            [
             0.8888888888888888,
             "#fdca26"
            ],
            [
             1,
             "#f0f921"
            ]
           ]
          },
          "colorway": [
           "#636efa",
           "#EF553B",
           "#00cc96",
           "#ab63fa",
           "#FFA15A",
           "#19d3f3",
           "#FF6692",
           "#B6E880",
           "#FF97FF",
           "#FECB52"
          ],
          "font": {
           "color": "#2a3f5f"
          },
          "geo": {
           "bgcolor": "white",
           "lakecolor": "white",
           "landcolor": "#E5ECF6",
           "showlakes": true,
           "showland": true,
           "subunitcolor": "white"
          },
          "hoverlabel": {
           "align": "left"
          },
          "hovermode": "closest",
          "mapbox": {
           "style": "light"
          },
          "paper_bgcolor": "white",
          "plot_bgcolor": "#E5ECF6",
          "polar": {
           "angularaxis": {
            "gridcolor": "white",
            "linecolor": "white",
            "ticks": ""
           },
           "bgcolor": "#E5ECF6",
           "radialaxis": {
            "gridcolor": "white",
            "linecolor": "white",
            "ticks": ""
           }
          },
          "scene": {
           "xaxis": {
            "backgroundcolor": "#E5ECF6",
            "gridcolor": "white",
            "gridwidth": 2,
            "linecolor": "white",
            "showbackground": true,
            "ticks": "",
            "zerolinecolor": "white"
           },
           "yaxis": {
            "backgroundcolor": "#E5ECF6",
            "gridcolor": "white",
            "gridwidth": 2,
            "linecolor": "white",
            "showbackground": true,
            "ticks": "",
            "zerolinecolor": "white"
           },
           "zaxis": {
            "backgroundcolor": "#E5ECF6",
            "gridcolor": "white",
            "gridwidth": 2,
            "linecolor": "white",
            "showbackground": true,
            "ticks": "",
            "zerolinecolor": "white"
           }
          },
          "shapedefaults": {
           "line": {
            "color": "#2a3f5f"
           }
          },
          "ternary": {
           "aaxis": {
            "gridcolor": "white",
            "linecolor": "white",
            "ticks": ""
           },
           "baxis": {
            "gridcolor": "white",
            "linecolor": "white",
            "ticks": ""
           },
           "bgcolor": "#E5ECF6",
           "caxis": {
            "gridcolor": "white",
            "linecolor": "white",
            "ticks": ""
           }
          },
          "title": {
           "x": 0.05
          },
          "xaxis": {
           "automargin": true,
           "gridcolor": "white",
           "linecolor": "white",
           "ticks": "",
           "title": {
            "standoff": 15
           },
           "zerolinecolor": "white",
           "zerolinewidth": 2
          },
          "yaxis": {
           "automargin": true,
           "gridcolor": "white",
           "linecolor": "white",
           "ticks": "",
           "title": {
            "standoff": 15
           },
           "zerolinecolor": "white",
           "zerolinewidth": 2
          }
         }
        },
        "title": {
         "text": "3D PCA Scatter Plot"
        }
       }
      }
     },
     "metadata": {},
     "output_type": "display_data"
    }
   ],
   "source": [
    "\n",
    "# if distance_threshold != None then n_clusters = None\n",
    "hierarchical = AgglomerativeClustering(distance_threshold=None, n_clusters=8)\n",
    "hierarchical.fit(clustering_features_df)\n",
    "linkage = \"Ward\"\n",
    "plotting.plot_clusters_seperately(hierarchical.labels_, clustering_features_df.index.tolist(), depth_resist_curve_df_list, data_features_df, 'hierarchical')\n",
    "plotting.plot_pca(clustering_features_df, y_labels=hierarchical.labels_, num_pc=3, graph_title=\"hierachical\")"
   ]
  },
  {
   "cell_type": "markdown",
   "id": "87fc085f",
   "metadata": {},
   "source": [
    "# DBSCAN"
   ]
  },
  {
   "cell_type": "markdown",
   "id": "9b54fb4f",
   "metadata": {},
   "source": []
  },
  {
   "cell_type": "code",
   "execution_count": 16,
   "id": "6c4315b0",
   "metadata": {},
   "outputs": [],
   "source": [
    "\n",
    "# eps=0.7, min_samples=3 works very well\n",
    "# dbscan = DBSCAN(eps=1.8, min_samples=10).fit(clustering_features_df)\n",
    "# cleaned_db_labels = [label if label != -1 else max(dbscan.labels_)+1 for label in dbscan.labels_]\n",
    "# # get_curve_idx_from_cluster_color(\"yellow\", cleaned_db_labels)\n",
    "# plotting.plot_pca(clustering_features_df, cleaned_db_labels, 'dbscan')\n",
    "# plotting.plot_clusters_seperately(cleaned_db_labels, clustering_features_df.index.to_list(), depth_resist_curve_df_list)"
   ]
  }
 ],
 "metadata": {
  "kernelspec": {
   "display_name": "env3.13",
   "language": "python",
   "name": "python3"
  },
  "language_info": {
   "codemirror_mode": {
    "name": "ipython",
    "version": 3
   },
   "file_extension": ".py",
   "mimetype": "text/x-python",
   "name": "python",
   "nbconvert_exporter": "python",
   "pygments_lexer": "ipython3",
   "version": "3.13.1"
  }
 },
 "nbformat": 4,
 "nbformat_minor": 5
}

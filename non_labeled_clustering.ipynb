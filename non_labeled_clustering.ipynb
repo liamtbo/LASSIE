{
 "cells": [
  {
   "cell_type": "code",
   "execution_count": 5,
   "id": "7037b8dc",
   "metadata": {},
   "outputs": [
    {
     "data": {
      "text/plain": [
       "<module 'plotting' from '/home/frankwoods/Desktop/lassie/plotting.py'>"
      ]
     },
     "execution_count": 5,
     "metadata": {},
     "output_type": "execute_result"
    }
   ],
   "source": [
    "import os\n",
    "import pandas as pd\n",
    "import matplotlib.pyplot as plt\n",
    "from sklearn.cluster import KMeans\n",
    "from sklearn.cluster import AgglomerativeClustering\n",
    "from sklearn.cluster import DBSCAN\n",
    "import plotting\n",
    "import importlib\n",
    "importlib.reload(plotting)"
   ]
  },
  {
   "cell_type": "markdown",
   "id": "30022034",
   "metadata": {},
   "source": [
    "# Load in all depth vs resistance curves into a dataframe list"
   ]
  },
  {
   "cell_type": "code",
   "execution_count": 6,
   "id": "5d25e20a",
   "metadata": {},
   "outputs": [],
   "source": [
    "def load_data(data_src):\n",
    "    depth_resist_curve_df_list = [] # used for plotting\n",
    "    filename_list = []\n",
    "    for filename in os.listdir(data_src):\n",
    "        df = pd.read_csv(f\"{data_src}/{filename}\")\n",
    "        depth_resist_curve_df_list.append(df)\n",
    "        filename_list.append(filename)\n",
    "    return depth_resist_curve_df_list, filename_list\n",
    "\n",
    "data_src = \"data/cleaned_data\"\n",
    "depth_resist_curve_df_list, filename_list = load_data(data_src)\n",
    "filename_to_depth_resist = dict(zip(filename_list, depth_resist_curve_df_list))"
   ]
  },
  {
   "cell_type": "code",
   "execution_count": 7,
   "id": "3af118b1",
   "metadata": {},
   "outputs": [],
   "source": [
    "data_features_df = pd.read_csv(\"data/features.csv\")\n",
    "clustering_features_df = plotting.extract_numerical_features(data_features_df)"
   ]
  },
  {
   "cell_type": "markdown",
   "id": "0e524b7e",
   "metadata": {},
   "source": [
    "# K-Means Clustering Implementation w/ k-means++ initialization for centroids"
   ]
  },
  {
   "cell_type": "code",
   "execution_count": 8,
   "id": "f381ae1c",
   "metadata": {},
   "outputs": [
    {
     "data": {
      "image/png": "[encoded data removed]",
      "text/plain": [
       "<Figure size 300x200 with 1 Axes>"
      ]
     },
     "metadata": {},
     "output_type": "display_data"
    }
   ],
   "source": [
    "inertias = []\n",
    "for k in range(1,14):\n",
    "    kmeans = KMeans(n_clusters=k, init=\"k-means++\", n_init=100).fit(clustering_features_df)\n",
    "    inertias.append(kmeans.inertia_)\n",
    "\n",
    "plt.figure(figsize=(3,2))\n",
    "plt.plot(range(1,14), inertias, marker='o')\n",
    "plt.title(\"K-Means: Elbow Method for Finding Optimal Number of Clusters\")\n",
    "plt.xlabel(\"Number of clusters\")\n",
    "plt.ylabel(\"Inertia\")\n",
    "plt.grid=True\n",
    "plt.show()"
   ]
  },
  {
   "cell_type": "markdown",
   "id": "3e6faa18",
   "metadata": {},
   "source": [
    "# K-Means Clustering\n",
    "- assumes\n",
    "    - spherical clusters (isotropic)\n",
    "    - similar size clusters (equal variance)\n",
    "    - features are on same scale\n",
    "    - clusters are linearly separable\n",
    "    - number of clusters (k) is known"
   ]
  },
  {
   "cell_type": "code",
   "execution_count": 9,
   "id": "89d37aa0",
   "metadata": {},
   "outputs": [
    {
     "name": "stdout",
     "output_type": "stream",
     "text": [
      "    Eigenvalue  Proportion  Cumulative\n",
      "PC                                    \n",
      "1     5.858204    0.386996    0.386996\n",
      "2     2.957401    0.195368    0.582364\n",
      "3     1.605271    0.106045    0.688409\n",
      "4     1.286554    0.084991    0.773400\n",
      "5     0.871551    0.057575    0.830975\n",
      "6     0.793326    0.052408    0.883383\n",
      "7     0.484444    0.032003    0.915385\n",
      "8     0.347951    0.022986    0.938371\n",
      "9     0.271373    0.017927    0.956298\n",
      "10    0.197727    0.013062    0.969360\n",
      "11    0.168420    0.011126    0.980486\n",
      "12    0.158485    0.010470    0.990956\n",
      "13    0.093465    0.006174    0.997130\n",
      "14    0.030968    0.002046    0.999176\n",
      "15    0.012476    0.000824    1.000000\n",
      "\n",
      "\n",
      "                             PC1       PC2       PC3       PC4       PC5  \\\n",
      "max_depth              -0.332765 -0.203269 -0.026953 -0.184117  0.050429   \n",
      "max_resistance          0.303384  0.128583  0.113806  0.435057  0.311889   \n",
      "num_peaks              -0.234316 -0.099488  0.384159 -0.385283  0.269519   \n",
      "largest_force_drop     -0.199139 -0.062635  0.477427 -0.056592  0.576353   \n",
      "largest_force_drop_dep -0.119461 -0.351978 -0.313727  0.031306  0.083234   \n",
      "largest_force_drop_res  0.219151 -0.295330 -0.073619  0.239714  0.281764   \n",
      "curve_shape             0.158135 -0.444175  0.132061 -0.177874 -0.291266   \n",
      "first_quarter_slope     0.337112  0.029644  0.205617 -0.287693 -0.050554   \n",
      "second_quarter_slope    0.340660  0.100375 -0.035420 -0.383817 -0.002474   \n",
      "third_quarter_slope     0.308757  0.198742 -0.066537 -0.387958  0.110976   \n",
      "fourth_quarter_slope    0.186996  0.398368  0.133221 -0.065632 -0.039014   \n",
      "quartile_1              0.246676 -0.270679  0.411871  0.203802 -0.198948   \n",
      "quartile_3              0.362770 -0.141116 -0.014160  0.160838  0.273561   \n",
      "skew                   -0.205512  0.444883 -0.064102  0.135071  0.124415   \n",
      "kurtosis               -0.143814  0.140275  0.499868  0.254064 -0.421793   \n",
      "\n",
      "                             PC6       PC7       PC8       PC9      PC10  \\\n",
      "max_depth               0.010851 -0.115771  0.538047 -0.152243  0.191242   \n",
      "max_resistance         -0.057964  0.175326  0.346376  0.122881  0.088548   \n",
      "num_peaks               0.133369  0.217745  0.009588  0.665229 -0.116836   \n",
      "largest_force_drop     -0.079605 -0.036868 -0.155849 -0.550106  0.050060   \n",
      "largest_force_drop_dep  0.605186  0.228456  0.331976 -0.137520 -0.123246   \n",
      "largest_force_drop_res  0.477328 -0.178205 -0.495433  0.068123  0.050230   \n",
      "curve_shape            -0.118437  0.352541 -0.255698 -0.034401  0.109226   \n",
      "first_quarter_slope     0.179995 -0.433816  0.171150 -0.039034 -0.311696   \n",
      "second_quarter_slope    0.129827 -0.148395  0.059119 -0.224680 -0.033943   \n",
      "third_quarter_slope     0.152746 -0.020473  0.025417  0.115263  0.517765   \n",
      "fourth_quarter_slope    0.229626  0.658720  0.015095 -0.255566 -0.210193   \n",
      "quartile_1             -0.029029 -0.099480  0.213759  0.042969 -0.389082   \n",
      "quartile_3             -0.179876  0.042561  0.245368  0.162761  0.244548   \n",
      "skew                    0.199434 -0.178090 -0.053623  0.180899 -0.237904   \n",
      "kurtosis                0.407424 -0.104302  0.051671 -0.013213  0.481074   \n",
      "\n",
      "                            PC11      PC12      PC13      PC14      PC15  \n",
      "max_depth               0.503614 -0.400208  0.146407  0.101131 -0.050577  \n",
      "max_resistance          0.009683  0.080340  0.062976  0.178525 -0.610346  \n",
      "num_peaks               0.094891  0.188583 -0.007739 -0.018255 -0.010211  \n",
      "largest_force_drop     -0.229246 -0.002195  0.016330 -0.053230  0.018243  \n",
      "largest_force_drop_dep -0.407024  0.148554 -0.015387 -0.067378  0.015602  \n",
      "largest_force_drop_res  0.421547 -0.171981 -0.027576  0.044854 -0.014517  \n",
      "curve_shape            -0.199599 -0.243444  0.478901  0.236635 -0.206230  \n",
      "first_quarter_slope    -0.158023 -0.055967 -0.130841  0.602298  0.036387  \n",
      "second_quarter_slope    0.257496  0.463785  0.458374 -0.342362 -0.150255  \n",
      "third_quarter_slope    -0.273331 -0.404757 -0.246176 -0.284192 -0.110674  \n",
      "fourth_quarter_slope    0.286757 -0.186113 -0.092086  0.096010  0.227662  \n",
      "quartile_1             -0.012474 -0.292828 -0.087969 -0.557954  0.022669  \n",
      "quartile_3             -0.048779  0.065699  0.268358  0.069916  0.695207  \n",
      "skew                   -0.224491 -0.376469  0.601360 -0.059259  0.032450  \n",
      "kurtosis               -0.019113  0.195990  0.078942  0.050164  0.092948  \n"
     ]
    },
    {
     "ename": "AttributeError",
     "evalue": "'numpy.ndarray' object has no attribute 'index'",
     "output_type": "error",
     "traceback": [
      "\u001b[31m---------------------------------------------------------------------------\u001b[39m",
      "\u001b[31mAttributeError\u001b[39m                            Traceback (most recent call last)",
      "\u001b[36mCell\u001b[39m\u001b[36m \u001b[39m\u001b[32mIn[9]\u001b[39m\u001b[32m, line 6\u001b[39m\n\u001b[32m      4\u001b[39m plotting.pca_analysis(clustering_features_df) \u001b[38;5;66;03m# printing scree plot\u001b[39;00m\n\u001b[32m      5\u001b[39m \u001b[38;5;66;03m# plotting.plot_clusters_together(kmeans.labels_, \"kmeans\")\u001b[39;00m\n\u001b[32m----> \u001b[39m\u001b[32m6\u001b[39m \u001b[43mplotting\u001b[49m\u001b[43m.\u001b[49m\u001b[43mplot_clusters_seperately\u001b[49m\u001b[43m(\u001b[49m\u001b[43mkmeans\u001b[49m\u001b[43m.\u001b[49m\u001b[43mlabels_\u001b[49m\u001b[43m,\u001b[49m\u001b[43m \u001b[49m\u001b[43mclustering_features_df\u001b[49m\u001b[43m.\u001b[49m\u001b[43mindex\u001b[49m\u001b[43m.\u001b[49m\u001b[43mtolist\u001b[49m\u001b[43m(\u001b[49m\u001b[43m)\u001b[49m\u001b[43m,\u001b[49m\u001b[43m \u001b[49m\u001b[43mdepth_resist_curve_df_list\u001b[49m\u001b[43m,\u001b[49m\u001b[43m \u001b[49m\u001b[43mdata_features_df\u001b[49m\u001b[43m,\u001b[49m\u001b[43m \u001b[49m\u001b[33;43m\"\u001b[39;49m\u001b[33;43mkmeans\u001b[39;49m\u001b[33;43m\"\u001b[39;49m\u001b[43m)\u001b[49m\n\u001b[32m      7\u001b[39m plotting.plot_pca(clustering_features_df, y_labels=kmeans.labels_, num_pc=\u001b[32m3\u001b[39m, graph_title=\u001b[33m\"\u001b[39m\u001b[33mkmeans\u001b[39m\u001b[33m\"\u001b[39m)\n",
      "\u001b[36mFile \u001b[39m\u001b[32m~/Desktop/lassie/plotting.py:411\u001b[39m, in \u001b[36mplot_clusters_seperately\u001b[39m\u001b[34m(y_labels, curve_data, ylabel_name, clustering_method, cluster_category_names, bold_idxs, pseudo_corrections)\u001b[39m\n\u001b[32m    407\u001b[39m \u001b[38;5;28;01mdef\u001b[39;00m\u001b[38;5;250m \u001b[39m\u001b[34mplot_clusters_seperately\u001b[39m(y_labels: pd.Series, \n\u001b[32m    408\u001b[39m                              curve_data: List[pd.DataFrame], ylabel_name:\u001b[38;5;28mstr\u001b[39m, \n\u001b[32m    409\u001b[39m                              clustering_method: \u001b[38;5;28mstr\u001b[39m = \u001b[33m\"\u001b[39m\u001b[33m\"\u001b[39m, cluster_category_names=[], bold_idxs=[], \n\u001b[32m    410\u001b[39m                              pseudo_corrections:pd.DataFrame=pd.DataFrame()):\n\u001b[32m--> \u001b[39m\u001b[32m411\u001b[39m     curve_idxs = \u001b[43my_labels\u001b[49m\u001b[43m.\u001b[49m\u001b[43mindex\u001b[49m.tolist()\n\u001b[32m    412\u001b[39m     all_depth_resistance_data = pd.concat(curve_data, axis=\u001b[32m0\u001b[39m, ignore_index=\u001b[38;5;28;01mTrue\u001b[39;00m)\n\u001b[32m    413\u001b[39m     gloabl_max_depth = all_depth_resistance_data[\u001b[33m'\u001b[39m\u001b[33mdepth\u001b[39m\u001b[33m'\u001b[39m].max()\n",
      "\u001b[31mAttributeError\u001b[39m: 'numpy.ndarray' object has no attribute 'index'"
     ]
    }
   ],
   "source": [
    "kmeans_elbow = 6\n",
    "kmeans = KMeans(n_clusters=kmeans_elbow, init=\"k-means++\", n_init=100).fit(clustering_features_df)\n",
    "# print(f\"kmeans cluster centers: {kmeans.cluster_centers_}\")\n",
    "plotting.pca_analysis(clustering_features_df) # printing scree plot\n",
    "# plotting.plot_clusters_together(kmeans.labels_, \"kmeans\")\n",
    "plotting.plot_clusters_seperately(kmeans.labels_, clustering_features_df.index.tolist(), depth_resist_curve_df_list, data_features_df, \"kmeans\")\n",
    "plotting.plot_pca(clustering_features_df, y_labels=kmeans.labels_, num_pc=3, graph_title=\"kmeans\")"
   ]
  },
  {
   "cell_type": "markdown",
   "id": "fd1af36a",
   "metadata": {},
   "source": [
    "# Hierarchical Clustering"
   ]
  },
  {
   "cell_type": "code",
   "execution_count": null,
   "id": "6a8c2a69",
   "metadata": {},
   "outputs": [
    {
     "data": {
      "image/png": "[encoded data removed]",
      "text/plain": [
       "<Figure size 600x400 with 8 Axes>"
      ]
     },
     "metadata": {},
     "output_type": "display_data"
    },
    {
     "data": {
      "application/vnd.plotly.v1+json": {
       "config": {
        "plotlyServerURL": "https://plot.ly"
       },
       "data": [
        {
         "mode": "text",
         "name": "Data Points",
         "text": [
          "0",
          "1",
          "2",
          "3",
          "4",
          "5",
          "6",
          "7",
          "8",
          "9",
          "10",
          "11",
          "12",
          "13",
          "14",
          "15",
          "16",
          "17",
          "18",
          "19",
          "20",
          "21",
          "22",
          "23",
          "24",
          "25",
          "26",
          "27",
          "28",
          "29",
          "30",
          "31",
          "32",
          "33",
          "34",
          "35",
          "36",
          "37",
          "38",
          "39",
          "40",
          "41",
          "42",
          "43",
          "44",
          "45",
          "46",
          "47",
          "48",
          "49",
          "50",
          "51",
          "52",
          "53",
          "54",
          "55",
          "56",
          "57",
          "58",
          "59",
          "60",
          "61",
          "62",
          "63",
          "64",
          "65",
          "66",
          "67",
          "68",
          "69",
          "70",
          "71",
          "72",
          "73",
          "74",
          "75",
          "76",
          "77"
         ],
         "textfont": {
          "color": [
           "brown",
           "red",
           "red",
           "gold",
           "blue",
           "red",
           "red",
           "brown",
           "brown",
           "red",
           "red",
           "gold",
           "brown",
           "gold",
           "blue",
           "red",
           "gold",
           "gold",
           "brown",
           "purple",
           "gold",
           "red",
           "red",
           "red",
           "gold",
           "gold",
           "pink",
           "red",
           "red",
           "purple",
           "green",
           "pink",
           "red",
           "red",
           "blue",
           "green",
           "brown",
           "brown",
           "red",
           "blue",
           "red",
           "orange",
           "red",
           "red",
           "blue",
           "gold",
           "blue",
           "purple",
           "gold",
           "green",
           "pink",
           "pink",
           "gold",
           "green",
           "gold",
           "pink",
           "gold",
           "purple",
           "red",
           "orange",
           "red",
           "gold",
           "red",
           "pink",
           "purple",
           "red",
           "blue",
           "gold",
           "purple",
           "red",
           "purple",
           "pink",
           "gold",
           "gold",
           "pink",
           "gold",
           "red",
           "green"
          ],
          "size": 8
         },
         "type": "scatter3d",
         "x": {
          "bdata": "UtRfnJYk9r+jO5T/G8buvx9PVZJjsr0/HsAgsYr5B8DuF2MN4AMCQODpjxgycfK/k/O8ZIlp9r9ziPYZHxf+v2Xpd5e3kvq/bBGCOWdY1r9Ey2/Ar9bBv12kZP3/pAPAtKHHml7C9L/FdS13RekCwPUYJ+el9P4/jmo36KCi179BObyTBTL+v+YGOsYqHADAa6U05HF99L86wfFbCFL5Pwow/HypXuu/LIGbxikK6b8hbizB84TRv2PgZTF/KOm/GGwM9Uo7BMDgG/Nmmw/5vwXcj+Sdi/M/lk+/RAxY4D/BySRKx7bgv8aKWhwy2gBAoj+Jgl86E0BunLpxiU3sP9ROVGiAw/G/jGaeaL8J97+27H6P4ZL6Py0fQw1aEg9Acij8TMtS+b8obj7auM3zv+yN+zWXOsm/yDCKd47vAEA+rK24f4Dwv3ImxTW4kQ9Atn6+WA+d8L/1pLNhCC3Bv47GTpjjLPg/jooIyJUr/79v0Jq8MIIDQF0EjepPVfs/F0w6wvXJB8AAAxChrOsJQMrEPEPTVfA/HWj9C8+B8z9KZofZKUv7v09rHIPurwpAIPNHocz+AcBFaCbASnb5P8Dj3nUiOf6/I2E7EFKL7j9j+RHbHb68P2iyADYpBxRAYC/SM5i38L8SitumldcGwCYK2anCfPC/jrl6ibhm/T/I/Y197vD1P4WNFsKW59E/pGPjKz8HBkAWgYO3YAr+v/xSSATrjfc/O7ZecJ5d0j9mf7bzV7H9Pw3fHbLBIrI/qcNh0BGiB8AQS0mc0uf+v0Zzyk5/YPU/drUSr6s+CcBIETkehU/Ev8ebnkWnHBBA",
          "dtype": "f8"
         },
         "y": {
          "bdata": "eB/iaCyv27+XQPZwso7XP5VT8ixvXuO/zcJmaFzp4D/xtT85nBH1P18oWGZ9OuO/G3AJT50w4L9EMs/vmkS7vyes9ZY5K9G/YNlgfJPE57+47bsBnVX1vybHrKE8vss/VZxVNsbX379yg1i1XPbBP6KzyTldvvk/ZNgUIIan8b/Vt/unZN30P4ibSYqME6W/EGCXANau3r8agNVP0TYAwAHpAiczp/Q/KTq/W7930b9oVSsF0gDRv/bAka3jesu/3tuL2mzLzz+dUPUhSQjoP3f5krnnZ/4/jyNrNI0v1b8FKKfiyxlhvxi+JOFkff+/3tSW87BT4z9eOzHS3DL3P10QzkRj4OO/h31G+H6U2r9Ml2CwS9YAQMPXL2SlDdu/bdur+uHf1L9ECvp+KhTgv2H3ZAT5+vK/0sFTuUEQ3T+zNWwVgrjnv/E7TuGTmgLAUtmLST565b8evxbBE/XJP9IlPXEArABAivysb8/du79zNGAj2IXxP4Luitr43Pe/04DQbjkN4T9mYloME3n6PwfdFKJoyv8/xNttkexICkAfODyeBBfRv4HsZ5FAXKI/j/yZgK3xmD9rYkn7Ze77P3/6AASL9MC/HS3MAu6X+r9vBpWcWcjzv/SVXvIejO6/yrj+1LQK5b+rBtd6RjHcP+8LoF2SIOe/5YA+bSr4+D9cLtj4x+f3vxIA1ms9W0O/hMO19LLDub9n1dADTpvEvz/n7HmOaPa/5wJsH1JQ9b/DwTLM9f75vzDXiISztQhAT2NNcN5K4D88UMSdsBW6v+M5/irumvs/IYqczZnQ4z+9ZUSQrRbyv/KcQZzqnPS/",
          "dtype": "f8"
         },
         "z": {
          "bdata": "egQcUq076T8ur2QQ6Njov1336+GXEPC/duYNgN6V3z+CXeAOeHboP98Bg7tkTb+/WTYhoTYO/r9S4ypOlYj+Pzl3Np3WV/A/sX4sE1QH6L/BdwC5WCvhv7kmGJg4p84//Fvz6XKz7z/UtoHPmKfhvw/RMXgLvfY/sX/Ny6nJ8b8Njqi+AuJ9P1hHgKa80Nc/2NY9nvaEAEBYSJB7M/zlv50v18akofa/+3+aCJea0r8FP7vG/B3iv7UlpGZ1G9y/AEn1Tq4VxD8GMr0xq/reP/bgZmhA4eC/jLqT0P0P2D+iwTR1Dbq7v/A0qucEvsy/kiYkEaXx6T+m2NueipTsv7oHgkXtzs+/YkzSH+zU2T8aFAwYeBTmP5tm4YQoWLK/C2CkmYR17T/zYl4+XSr/P+OCFncKLto/wS60DC1/5j+XFaph9j/qv5mjri6VX58/CIRyvQ721j9JDzisi2fQv/oRK8fvDPQ/cJDk43wg0L8m9F9bQ/4MQBng/uPgnvY/Bg4BIhMT4j/O2ntTyvTKv8Ua3CGTDwPAPJjyny3wxL9wmlPpPWrsv8HHIUdd1fS/YC4q6yX13D+A5VE3SUUAwOAz9kIHBdU/QjxdL4CI8b+wu7OULODsvwLozj7ZVu4/qvpIWQOU4D8bJEKelF/NP08FBi7jhgXAxRtP2ItO979siKpGcIDIP1KN3F/QPfg/oOotL7kM2j9qFKh3dUPsvwsfW7d3tNI/MyU+jivn57/wTEqSToXbvxISphwvO+S/7A4XJYfw0T9kUXsA88PgP8VMgpVtzeS/8rG78pMc1j/js2UDu3LQv4/zPCjIans/",
          "dtype": "f8"
         }
        },
        {
         "marker": {
          "color": "black",
          "size": 5
         },
         "mode": "markers",
         "name": "Origin",
         "showlegend": false,
         "type": "scatter3d",
         "x": [
          0
         ],
         "y": [
          0
         ],
         "z": [
          0
         ]
        },
        {
         "line": {
          "width": 5
         },
         "mode": "lines+text",
         "name": "overall_slope",
         "textposition": "top center",
         "type": "scatter3d",
         "x": [
          0,
          -1.3954865531802447
         ],
         "y": [
          0,
          0.8657287896442774
         ],
         "z": [
          0,
          0.1396838873880875
         ]
        },
        {
         "line": {
          "width": 5
         },
         "mode": "lines+text",
         "name": "max_depth",
         "textposition": "top center",
         "type": "scatter3d",
         "x": [
          0,
          1.3981037594893069
         ],
         "y": [
          0,
          -0.7057193852248762
         ],
         "z": [
          0,
          0.06372339043136699
         ]
        },
        {
         "line": {
          "width": 5
         },
         "mode": "lines+text",
         "name": "max_resistance",
         "textposition": "top center",
         "type": "scatter3d",
         "x": [
          0,
          -1.316513766043543
         ],
         "y": [
          0,
          1.0134728650656972
         ],
         "z": [
          0,
          0.24194201132405302
         ]
        },
        {
         "line": {
          "width": 5
         },
         "mode": "lines+text",
         "name": "num_peaks",
         "textposition": "top center",
         "type": "scatter3d",
         "x": [
          0,
          1.2639166658254817
         ],
         "y": [
          0,
          0.06835234809255392
         ],
         "z": [
          0,
          0.3506934457088639
         ]
        },
        {
         "line": {
          "width": 5
         },
         "mode": "lines+text",
         "name": "largest_force_drop",
         "textposition": "top center",
         "type": "scatter3d",
         "x": [
          0,
          0.9167698300086711
         ],
         "y": [
          0,
          1.8431780173665293
         ],
         "z": [
          0,
          -0.45713287001673575
         ]
        },
        {
         "line": {
          "width": 5
         },
         "mode": "lines+text",
         "name": "curve_shape",
         "textposition": "top center",
         "type": "scatter3d",
         "x": [
          0,
          0.053146963045058226
         ],
         "y": [
          0,
          0.011200551506929586
         ],
         "z": [
          0,
          2.919064976524864
         ]
        },
        {
         "line": {
          "width": 5
         },
         "mode": "lines+text",
         "name": "largest_force_drop_level",
         "textposition": "top center",
         "type": "scatter3d",
         "x": [
          0,
          0.9612168342088032
         ],
         "y": [
          0,
          1.8229766494191235
         ],
         "z": [
          0,
          0.254941392060137
         ]
        }
       ],
       "layout": {
        "autosize": true,
        "scene": {
         "xaxis": {
          "title": {
           "text": "PC1 (0.56 var.)"
          }
         },
         "yaxis": {
          "title": {
           "text": "PC2 (0.19 var.)"
          }
         },
         "zaxis": {
          "title": {
           "text": "PC3 (0.15 var.)"
          }
         }
        },
        "template": {
         "data": {
          "bar": [
           {
            "error_x": {
             "color": "#2a3f5f"
            },
            "error_y": {
             "color": "#2a3f5f"
            },
            "marker": {
             "line": {
              "color": "#E5ECF6",
              "width": 0.5
             },
             "pattern": {
              "fillmode": "overlay",
              "size": 10,
              "solidity": 0.2
             }
            },
            "type": "bar"
           }
          ],
          "barpolar": [
           {
            "marker": {
             "line": {
              "color": "#E5ECF6",
              "width": 0.5
             },
             "pattern": {
              "fillmode": "overlay",
              "size": 10,
              "solidity": 0.2
             }
            },
            "type": "barpolar"
           }
          ],
          "carpet": [
           {
            "aaxis": {
             "endlinecolor": "#2a3f5f",
             "gridcolor": "white",
             "linecolor": "white",
             "minorgridcolor": "white",
             "startlinecolor": "#2a3f5f"
            },
            "baxis": {
             "endlinecolor": "#2a3f5f",
             "gridcolor": "white",
             "linecolor": "white",
             "minorgridcolor": "white",
             "startlinecolor": "#2a3f5f"
            },
            "type": "carpet"
           }
          ],
          "choropleth": [
           {
            "colorbar": {
             "outlinewidth": 0,
             "ticks": ""
            },
            "type": "choropleth"
           }
          ],
          "contour": [
           {
            "colorbar": {
             "outlinewidth": 0,
             "ticks": ""
            },
            "colorscale": [
             [
              0,
              "#0d0887"
             ],
             [
              0.1111111111111111,
              "#46039f"
             ],
             [
              0.2222222222222222,
              "#7201a8"
             ],
             [
              0.3333333333333333,
              "#9c179e"
             ],
             [
              0.4444444444444444,
              "#bd3786"
             ],
             [
              0.5555555555555556,
              "#d8576b"
             ],
             [
              0.6666666666666666,
              "#ed7953"
             ],
             [
              0.7777777777777778,
              "#fb9f3a"
             ],
             [
              0.8888888888888888,
              "#fdca26"
             ],
             [
              1,
              "#f0f921"
             ]
            ],
            "type": "contour"
           }
          ],
          "contourcarpet": [
           {
            "colorbar": {
             "outlinewidth": 0,
             "ticks": ""
            },
            "type": "contourcarpet"
           }
          ],
          "heatmap": [
           {
            "colorbar": {
             "outlinewidth": 0,
             "ticks": ""
            },
            "colorscale": [
             [
              0,
              "#0d0887"
             ],
             [
              0.1111111111111111,
              "#46039f"
             ],
             [
              0.2222222222222222,
              "#7201a8"
             ],
             [
              0.3333333333333333,
              "#9c179e"
             ],
             [
              0.4444444444444444,
              "#bd3786"
             ],
             [
              0.5555555555555556,
              "#d8576b"
             ],
             [
              0.6666666666666666,
              "#ed7953"
             ],
             [
              0.7777777777777778,
              "#fb9f3a"
             ],
             [
              0.8888888888888888,
              "#fdca26"
             ],
             [
              1,
              "#f0f921"
             ]
            ],
            "type": "heatmap"
           }
          ],
          "histogram": [
           {
            "marker": {
             "pattern": {
              "fillmode": "overlay",
              "size": 10,
              "solidity": 0.2
             }
            },
            "type": "histogram"
           }
          ],
          "histogram2d": [
           {
            "colorbar": {
             "outlinewidth": 0,
             "ticks": ""
            },
            "colorscale": [
             [
              0,
              "#0d0887"
             ],
             [
              0.1111111111111111,
              "#46039f"
             ],
             [
              0.2222222222222222,
              "#7201a8"
             ],
             [
              0.3333333333333333,
              "#9c179e"
             ],
             [
              0.4444444444444444,
              "#bd3786"
             ],
             [
              0.5555555555555556,
              "#d8576b"
             ],
             [
              0.6666666666666666,
              "#ed7953"
             ],
             [
              0.7777777777777778,
              "#fb9f3a"
             ],
             [
              0.8888888888888888,
              "#fdca26"
             ],
             [
              1,
              "#f0f921"
             ]
            ],
            "type": "histogram2d"
           }
          ],
          "histogram2dcontour": [
           {
            "colorbar": {
             "outlinewidth": 0,
             "ticks": ""
            },
            "colorscale": [
             [
              0,
              "#0d0887"
             ],
             [
              0.1111111111111111,
              "#46039f"
             ],
             [
              0.2222222222222222,
              "#7201a8"
             ],
             [
              0.3333333333333333,
              "#9c179e"
             ],
             [
              0.4444444444444444,
              "#bd3786"
             ],
             [
              0.5555555555555556,
              "#d8576b"
             ],
             [
              0.6666666666666666,
              "#ed7953"
             ],
             [
              0.7777777777777778,
              "#fb9f3a"
             ],
             [
              0.8888888888888888,
              "#fdca26"
             ],
             [
              1,
              "#f0f921"
             ]
            ],
            "type": "histogram2dcontour"
           }
          ],
          "mesh3d": [
           {
            "colorbar": {
             "outlinewidth": 0,
             "ticks": ""
            },
            "type": "mesh3d"
           }
          ],
          "parcoords": [
           {
            "line": {
             "colorbar": {
              "outlinewidth": 0,
              "ticks": ""
             }
            },
            "type": "parcoords"
           }
          ],
          "pie": [
           {
            "automargin": true,
            "type": "pie"
           }
          ],
          "scatter": [
           {
            "fillpattern": {
             "fillmode": "overlay",
             "size": 10,
             "solidity": 0.2
            },
            "type": "scatter"
           }
          ],
          "scatter3d": [
           {
            "line": {
             "colorbar": {
              "outlinewidth": 0,
              "ticks": ""
             }
            },
            "marker": {
             "colorbar": {
              "outlinewidth": 0,
              "ticks": ""
             }
            },
            "type": "scatter3d"
           }
          ],
          "scattercarpet": [
           {
            "marker": {
             "colorbar": {
              "outlinewidth": 0,
              "ticks": ""
             }
            },
            "type": "scattercarpet"
           }
          ],
          "scattergeo": [
           {
            "marker": {
             "colorbar": {
              "outlinewidth": 0,
              "ticks": ""
             }
            },
            "type": "scattergeo"
           }
          ],
          "scattergl": [
           {
            "marker": {
             "colorbar": {
              "outlinewidth": 0,
              "ticks": ""
             }
            },
            "type": "scattergl"
           }
          ],
          "scattermap": [
           {
            "marker": {
             "colorbar": {
              "outlinewidth": 0,
              "ticks": ""
             }
            },
            "type": "scattermap"
           }
          ],
          "scattermapbox": [
           {
            "marker": {
             "colorbar": {
              "outlinewidth": 0,
              "ticks": ""
             }
            },
            "type": "scattermapbox"
           }
          ],
          "scatterpolar": [
           {
            "marker": {
             "colorbar": {
              "outlinewidth": 0,
              "ticks": ""
             }
            },
            "type": "scatterpolar"
           }
          ],
          "scatterpolargl": [
           {
            "marker": {
             "colorbar": {
              "outlinewidth": 0,
              "ticks": ""
             }
            },
            "type": "scatterpolargl"
           }
          ],
          "scatterternary": [
           {
            "marker": {
             "colorbar": {
              "outlinewidth": 0,
              "ticks": ""
             }
            },
            "type": "scatterternary"
           }
          ],
          "surface": [
           {
            "colorbar": {
             "outlinewidth": 0,
             "ticks": ""
            },
            "colorscale": [
             [
              0,
              "#0d0887"
             ],
             [
              0.1111111111111111,
              "#46039f"
             ],
             [
              0.2222222222222222,
              "#7201a8"
             ],
             [
              0.3333333333333333,
              "#9c179e"
             ],
             [
              0.4444444444444444,
              "#bd3786"
             ],
             [
              0.5555555555555556,
              "#d8576b"
             ],
             [
              0.6666666666666666,
              "#ed7953"
             ],
             [
              0.7777777777777778,
              "#fb9f3a"
             ],
             [
              0.8888888888888888,
              "#fdca26"
             ],
             [
              1,
              "#f0f921"
             ]
            ],
            "type": "surface"
           }
          ],
          "table": [
           {
            "cells": {
             "fill": {
              "color": "#EBF0F8"
             },
             "line": {
              "color": "white"
             }
            },
            "header": {
             "fill": {
              "color": "#C8D4E3"
             },
             "line": {
              "color": "white"
             }
            },
            "type": "table"
           }
          ]
         },
         "layout": {
          "annotationdefaults": {
           "arrowcolor": "#2a3f5f",
           "arrowhead": 0,
           "arrowwidth": 1
          },
          "autotypenumbers": "strict",
          "coloraxis": {
           "colorbar": {
            "outlinewidth": 0,
            "ticks": ""
           }
          },
          "colorscale": {
           "diverging": [
            [
             0,
             "#8e0152"
            ],
            [
             0.1,
             "#c51b7d"
            ],
            [
             0.2,
             "#de77ae"
            ],
            [
             0.3,
             "#f1b6da"
            ],
            [
             0.4,
             "#fde0ef"
            ],
            [
             0.5,
             "#f7f7f7"
            ],
            [
             0.6,
             "#e6f5d0"
            ],
            [
             0.7,
             "#b8e186"
            ],
            [
             0.8,
             "#7fbc41"
            ],
            [
             0.9,
             "#4d9221"
            ],
            [
             1,
             "#276419"
            ]
           ],
           "sequential": [
            [
             0,
             "#0d0887"
            ],
            [
             0.1111111111111111,
             "#46039f"
            ],
            [
             0.2222222222222222,
             "#7201a8"
            ],
            [
             0.3333333333333333,
             "#9c179e"
            ],
            [
             0.4444444444444444,
             "#bd3786"
            ],
            [
             0.5555555555555556,
             "#d8576b"
            ],
            [
             0.6666666666666666,
             "#ed7953"
            ],
            [
             0.7777777777777778,
             "#fb9f3a"
            ],
            [
             0.8888888888888888,
             "#fdca26"
            ],
            [
             1,
             "#f0f921"
            ]
           ],
           "sequentialminus": [
            [
             0,
             "#0d0887"
            ],
            [
             0.1111111111111111,
             "#46039f"
            ],
            [
             0.2222222222222222,
             "#7201a8"
            ],
            [
             0.3333333333333333,
             "#9c179e"
            ],
            [
             0.4444444444444444,
             "#bd3786"
            ],
            [
             0.5555555555555556,
             "#d8576b"
            ],
            [
             0.6666666666666666,
             "#ed7953"
            ],
            [
             0.7777777777777778,
             "#fb9f3a"
            ],
            [
             0.8888888888888888,
             "#fdca26"
            ],
            [
             1,
             "#f0f921"
            ]
           ]
          },
          "colorway": [
           "#636efa",
           "#EF553B",
           "#00cc96",
           "#ab63fa",
           "#FFA15A",
           "#19d3f3",
           "#FF6692",
           "#B6E880",
           "#FF97FF",
           "#FECB52"
          ],
          "font": {
           "color": "#2a3f5f"
          },
          "geo": {
           "bgcolor": "white",
           "lakecolor": "white",
           "landcolor": "#E5ECF6",
           "showlakes": true,
           "showland": true,
           "subunitcolor": "white"
          },
          "hoverlabel": {
           "align": "left"
          },
          "hovermode": "closest",
          "mapbox": {
           "style": "light"
          },
          "paper_bgcolor": "white",
          "plot_bgcolor": "#E5ECF6",
          "polar": {
           "angularaxis": {
            "gridcolor": "white",
            "linecolor": "white",
            "ticks": ""
           },
           "bgcolor": "#E5ECF6",
           "radialaxis": {
            "gridcolor": "white",
            "linecolor": "white",
            "ticks": ""
           }
          },
          "scene": {
           "xaxis": {
            "backgroundcolor": "#E5ECF6",
            "gridcolor": "white",
            "gridwidth": 2,
            "linecolor": "white",
            "showbackground": true,
            "ticks": "",
            "zerolinecolor": "white"
           },
           "yaxis": {
            "backgroundcolor": "#E5ECF6",
            "gridcolor": "white",
            "gridwidth": 2,
            "linecolor": "white",
            "showbackground": true,
            "ticks": "",
            "zerolinecolor": "white"
           },
           "zaxis": {
            "backgroundcolor": "#E5ECF6",
            "gridcolor": "white",
            "gridwidth": 2,
            "linecolor": "white",
            "showbackground": true,
            "ticks": "",
            "zerolinecolor": "white"
           }
          },
          "shapedefaults": {
           "line": {
            "color": "#2a3f5f"
           }
          },
          "ternary": {
           "aaxis": {
            "gridcolor": "white",
            "linecolor": "white",
            "ticks": ""
           },
           "baxis": {
            "gridcolor": "white",
            "linecolor": "white",
            "ticks": ""
           },
           "bgcolor": "#E5ECF6",
           "caxis": {
            "gridcolor": "white",
            "linecolor": "white",
            "ticks": ""
           }
          },
          "title": {
           "x": 0.05
          },
          "xaxis": {
           "automargin": true,
           "gridcolor": "white",
           "linecolor": "white",
           "ticks": "",
           "title": {
            "standoff": 15
           },
           "zerolinecolor": "white",
           "zerolinewidth": 2
          },
          "yaxis": {
           "automargin": true,
           "gridcolor": "white",
           "linecolor": "white",
           "ticks": "",
           "title": {
            "standoff": 15
           },
           "zerolinecolor": "white",
           "zerolinewidth": 2
          }
         }
        },
        "title": {
         "text": "3D PCA Scatter Plot"
        }
       }
      }
     },
     "metadata": {},
     "output_type": "display_data"
    }
   ],
   "source": [
    "\n",
    "# if distance_threshold != None then n_clusters = None\n",
    "hierarchical = AgglomerativeClustering(distance_threshold=None, n_clusters=8)\n",
    "hierarchical.fit(clustering_features_df)\n",
    "linkage = \"Ward\"\n",
    "plotting.plot_clusters_seperately(hierarchical.labels_, clustering_features_df.index.tolist(), depth_resist_curve_df_list, data_features_df, 'hierarchical')\n",
    "plotting.plot_pca(clustering_features_df, y_labels=hierarchical.labels_, num_pc=3, graph_title=\"hierachical\")\n"
   ]
  },
  {
   "cell_type": "markdown",
   "id": "87fc085f",
   "metadata": {},
   "source": [
    "# DBSCAN"
   ]
  },
  {
   "cell_type": "markdown",
   "id": "9b54fb4f",
   "metadata": {},
   "source": []
  },
  {
   "cell_type": "code",
   "execution_count": null,
   "id": "6c4315b0",
   "metadata": {},
   "outputs": [],
   "source": [
    "\n",
    "# eps=0.7, min_samples=3 works very well\n",
    "# dbscan = DBSCAN(eps=1.8, min_samples=10).fit(clustering_features_df)\n",
    "# cleaned_db_labels = [label if label != -1 else max(dbscan.labels_)+1 for label in dbscan.labels_]\n",
    "# # get_curve_idx_from_cluster_color(\"yellow\", cleaned_db_labels)\n",
    "# plotting.plot_pca(clustering_features_df, cleaned_db_labels, num_pc=3, graph_title='dbscan')\n",
    "# plotting.plot_clusters_seperately(cleaned_db_labels, clustering_features_df.index.to_list(), depth_resist_curve_df_list)"
   ]
  }
 ],
 "metadata": {
  "kernelspec": {
   "display_name": "env3.13",
   "language": "python",
   "name": "python3"
  },
  "language_info": {
   "codemirror_mode": {
    "name": "ipython",
    "version": 3
   },
   "file_extension": ".py",
   "mimetype": "text/x-python",
   "name": "python",
   "nbconvert_exporter": "python",
   "pygments_lexer": "ipython3",
   "version": "3.13.1"
  }
 },
 "nbformat": 4,
 "nbformat_minor": 5
}
